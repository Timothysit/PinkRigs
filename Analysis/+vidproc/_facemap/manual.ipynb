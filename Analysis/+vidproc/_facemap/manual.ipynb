{
 "cells": [
  {
   "cell_type": "code",
   "execution_count": 17,
   "metadata": {},
   "outputs": [
    {
     "name": "stdout",
     "output_type": "stream",
     "text": [
      "Running batch processing of pink rig videos...\n",
      "WARNING: video filename format is strange for \\\\znas.cortexlab.net\\Subjects\\FT008\\2021-01-15\\7, skipping\n",
      "Looks like all files are processed or being processed! Taking a break now...\n"
     ]
    }
   ],
   "source": [
    "from run_facemap import batch_process_facemap\n",
    "from Analysis.helpers.queryExp import queryCSV\n",
    "sessions = queryCSV(subject = 'FT008',expDate = '2021-01-15',expNum=7)\n",
    "\n",
    "batch_process_facemap(sessions=sessions,recompute_ONE=True)"
   ]
  },
  {
   "cell_type": "code",
   "execution_count": 18,
   "metadata": {},
   "outputs": [
    {
     "data": {
      "text/html": [
       "<div>\n",
       "<style scoped>\n",
       "    .dataframe tbody tr th:only-of-type {\n",
       "        vertical-align: middle;\n",
       "    }\n",
       "\n",
       "    .dataframe tbody tr th {\n",
       "        vertical-align: top;\n",
       "    }\n",
       "\n",
       "    .dataframe thead th {\n",
       "        text-align: right;\n",
       "    }\n",
       "</style>\n",
       "<table border=\"1\" class=\"dataframe\">\n",
       "  <thead>\n",
       "    <tr style=\"text-align: right;\">\n",
       "      <th></th>\n",
       "      <th>expDate</th>\n",
       "      <th>expNum</th>\n",
       "      <th>expDef</th>\n",
       "      <th>expDuration</th>\n",
       "      <th>rigName</th>\n",
       "      <th>existBlock</th>\n",
       "      <th>existTimeline</th>\n",
       "      <th>existFrontCam</th>\n",
       "      <th>existSideCam</th>\n",
       "      <th>existEyeCam</th>\n",
       "      <th>...</th>\n",
       "      <th>fMapSideCam</th>\n",
       "      <th>fMapEyeCam</th>\n",
       "      <th>issortedKS2</th>\n",
       "      <th>issortedPyKS</th>\n",
       "      <th>extractSpikes</th>\n",
       "      <th>extractEvents</th>\n",
       "      <th>expFolder</th>\n",
       "      <th>Subject</th>\n",
       "      <th>server_path</th>\n",
       "      <th>subject</th>\n",
       "    </tr>\n",
       "  </thead>\n",
       "  <tbody>\n",
       "    <tr>\n",
       "      <th>0</th>\n",
       "      <td>2021-01-15</td>\n",
       "      <td>7</td>\n",
       "      <td>AVPassive_spatialIntegrationFlora_with_ckecker...</td>\n",
       "      <td>2275</td>\n",
       "      <td>lilrig-stim</td>\n",
       "      <td>1</td>\n",
       "      <td>1</td>\n",
       "      <td>1</td>\n",
       "      <td>0</td>\n",
       "      <td>1</td>\n",
       "      <td>...</td>\n",
       "      <td>0</td>\n",
       "      <td>0</td>\n",
       "      <td>NaN</td>\n",
       "      <td>NaN</td>\n",
       "      <td>NaN</td>\n",
       "      <td>1</td>\n",
       "      <td>\\\\znas.cortexlab.net\\Subjects\\FT008\\2021-01-15\\7</td>\n",
       "      <td>FT008</td>\n",
       "      <td>\\\\znas.cortexlab.net\\Subjects</td>\n",
       "      <td>FT008</td>\n",
       "    </tr>\n",
       "  </tbody>\n",
       "</table>\n",
       "<p>1 rows × 29 columns</p>\n",
       "</div>"
      ],
      "text/plain": [
       "      expDate expNum                                             expDef  \\\n",
       "0  2021-01-15      7  AVPassive_spatialIntegrationFlora_with_ckecker...   \n",
       "\n",
       "  expDuration      rigName existBlock existTimeline existFrontCam  \\\n",
       "0        2275  lilrig-stim          1             1             1   \n",
       "\n",
       "  existSideCam existEyeCam  ... fMapSideCam fMapEyeCam issortedKS2  \\\n",
       "0            0           1  ...           0          0         NaN   \n",
       "\n",
       "  issortedPyKS extractSpikes extractEvents  \\\n",
       "0          NaN           NaN             1   \n",
       "\n",
       "                                          expFolder Subject  \\\n",
       "0  \\\\znas.cortexlab.net\\Subjects\\FT008\\2021-01-15\\7   FT008   \n",
       "\n",
       "                     server_path subject  \n",
       "0  \\\\znas.cortexlab.net\\Subjects   FT008  \n",
       "\n",
       "[1 rows x 29 columns]"
      ]
     },
     "execution_count": 18,
     "metadata": {},
     "output_type": "execute_result"
    }
   ],
   "source": [
    "sessions"
   ]
  },
  {
   "cell_type": "code",
   "execution_count": 19,
   "metadata": {},
   "outputs": [],
   "source": [
    "# of course this pipline is only developed for Dr. P Coen so why would it be accomodating for anyone except his data.\n",
    "from pathlib import Path\n",
    "from run_facemap import convert_facemap_output_to_ONE_format\n",
    "\n",
    "for _,exp in sessions.iterrows():\n",
    "    proc_camdat = list(Path(exp.expFolder).glob('*proc.npy'))\n",
    "    for camproc in proc_camdat: \n",
    "        convert_facemap_output_to_ONE_format(camproc.__str__())"
   ]
  },
  {
   "cell_type": "code",
   "execution_count": null,
   "metadata": {},
   "outputs": [],
   "source": []
  }
 ],
 "metadata": {
  "kernelspec": {
   "display_name": "Python 3.7.9 ('facemap')",
   "language": "python",
   "name": "python3"
  },
  "language_info": {
   "codemirror_mode": {
    "name": "ipython",
    "version": 3
   },
   "file_extension": ".py",
   "mimetype": "text/x-python",
   "name": "python",
   "nbconvert_exporter": "python",
   "pygments_lexer": "ipython3",
   "version": "3.7.13"
  },
  "orig_nbformat": 4,
  "vscode": {
   "interpreter": {
    "hash": "6839c96147f9b2454d31d1fafcb2d639c4756ffd3e4b99bd6c9f7e6bd582f54f"
   }
  }
 },
 "nbformat": 4,
 "nbformat_minor": 2
}
