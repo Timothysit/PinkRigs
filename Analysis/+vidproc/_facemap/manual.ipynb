{
 "cells": [
  {
   "cell_type": "code",
   "execution_count": 3,
   "metadata": {},
   "outputs": [
    {
     "name": "stdout",
     "output_type": "stream",
     "text": [
      "Running batch processing of pink rig videos...\n",
      "3 Candidate videos to look over\n",
      "\\\\zinu.cortexlab.net\\Subjects\\FT038\\2021-11-11\\1\\2021-11-11_1_FT038_eyeCam.mj2\n",
      "\\\\zinu.cortexlab.net\\Subjects\\FT038\\2021-11-11\\1\\2021-11-11_1_FT038_frontCam.mj2\n",
      "\\\\zinu.cortexlab.net\\Subjects\\FT038\\2021-11-11\\1\\2021-11-11_1_FT038_sideCam.mj2\n",
      "3 Candidate videos to look over\n",
      "\\\\zinu.cortexlab.net\\Subjects\\FT038\\2021-11-11\\4\\2021-11-11_4_FT038_eyeCam.mj2\n",
      "\\\\zinu.cortexlab.net\\Subjects\\FT038\\2021-11-11\\4\\2021-11-11_4_FT038_frontCam.mj2\n",
      "\\\\zinu.cortexlab.net\\Subjects\\FT038\\2021-11-11\\4\\2021-11-11_4_FT038_sideCam.mj2\n",
      "3 Candidate videos to look over\n",
      "\\\\zinu.cortexlab.net\\Subjects\\FT038\\2021-11-11\\5\\2021-11-11_5_FT038_eyeCam.mj2\n",
      "\\\\zinu.cortexlab.net\\Subjects\\FT038\\2021-11-11\\5\\2021-11-11_5_FT038_frontCam.mj2\n",
      "\\\\zinu.cortexlab.net\\Subjects\\FT038\\2021-11-11\\5\\2021-11-11_5_FT038_sideCam.mj2\n",
      "3 Candidate videos to look over\n",
      "\\\\zinu.cortexlab.net\\Subjects\\FT038\\2021-11-11\\6\\2021-11-11_6_FT038_eyeCam.mj2\n",
      "\\\\zinu.cortexlab.net\\Subjects\\FT038\\2021-11-11\\6\\2021-11-11_6_FT038_frontCam.mj2\n",
      "\\\\zinu.cortexlab.net\\Subjects\\FT038\\2021-11-11\\6\\2021-11-11_6_FT038_sideCam.mj2\n",
      "Looks like all files are processed or being processed! Taking a break now...\n"
     ]
    }
   ],
   "source": [
    "from run_facemap import batch_process_facemap\n",
    "from Analysis.helpers.queryExp import queryCSV\n",
    "sessions = queryCSV(subject = 'FT038',expDate = '2021-11-11')\n",
    "\n",
    "batch_process_facemap(sessions=sessions)"
   ]
  },
  {
   "cell_type": "code",
   "execution_count": null,
   "metadata": {},
   "outputs": [],
   "source": []
  }
 ],
 "metadata": {
  "kernelspec": {
   "display_name": "Python 3.7.9 ('facemap')",
   "language": "python",
   "name": "python3"
  },
  "language_info": {
   "codemirror_mode": {
    "name": "ipython",
    "version": 3
   },
   "file_extension": ".py",
   "mimetype": "text/x-python",
   "name": "python",
   "nbconvert_exporter": "python",
   "pygments_lexer": "ipython3",
   "version": "3.7.13"
  },
  "orig_nbformat": 4,
  "vscode": {
   "interpreter": {
    "hash": "6839c96147f9b2454d31d1fafcb2d639c4756ffd3e4b99bd6c9f7e6bd582f54f"
   }
  }
 },
 "nbformat": 4,
 "nbformat_minor": 2
}
