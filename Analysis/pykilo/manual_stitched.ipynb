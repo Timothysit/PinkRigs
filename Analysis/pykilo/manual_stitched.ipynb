{
 "cells": [
  {
   "cell_type": "code",
   "execution_count": null,
   "metadata": {},
   "outputs": [],
   "source": [
    "from pathlib import Path\n",
    "import re\n",
    "from pykilosort import run, add_default_handler, neuropixel_probe_from_metafile\n",
    "\n",
    "input_dirs = [\n",
    "\n",
    "r'//zinu.cortexlab.net/Subjects/AV008/2022-03-12/ephys/AV008_2022-03-12_SparseNoiseNaturalImages_g0/AV008_2022-03-12_SparseNoiseNaturalImages_g0_imec0/AV008_2022-03-12_SparseNoiseNaturalImages_g0_t0.imec0.ap.cbin',\n",
    "r'//zinu.cortexlab.net/Subjects/AV008/2022-03-13/ephys/AV008_2022-03-13_SparseNoiseNaturalImages_g0/AV008_2022-03-13_SparseNoiseNaturalImages_g0_imec0/AV008_2022-03-13_SparseNoiseNaturalImages_g0_t0.imec0.ap.cbin'\n",
    " ]\n",
    "\n",
    "input_dirs = [Path(ephysfilepath) for ephysfilepath in input_dirs]\n",
    "name = [re.split(r\"\\.\", ephyspath.name)[0][:-6] for ephyspath in input_dirs]\n",
    "name =''.join(name)\n",
    "channel_map = neuropixel_probe_from_metafile(input_dirs[0])\n",
    "\n",
    "# get the output path \n",
    "root = input_dirs[0].parents[4]\n",
    "output_dir= root / 'stitchedPyKS' / name\n",
    "output_dir.mkdir(parents=True, exist_ok=True)\n",
    "\n",
    "print('starting sorting ...')\n",
    "add_default_handler(level='INFO') # print output as the algorithm runs\n",
    "run(input_dirs, probe=channel_map, low_memory=False, dir_path=output_dir)"
   ]
  }
 ],
 "metadata": {
  "kernelspec": {
   "display_name": "Python 3.7.13 ('facemap')",
   "language": "python",
   "name": "python3"
  },
  "language_info": {
   "codemirror_mode": {
    "name": "ipython",
    "version": 3
   },
   "file_extension": ".py",
   "mimetype": "text/x-python",
   "name": "python",
   "nbconvert_exporter": "python",
   "pygments_lexer": "ipython3",
   "version": "3.7.13"
  },
  "orig_nbformat": 4,
  "vscode": {
   "interpreter": {
    "hash": "6839c96147f9b2454d31d1fafcb2d639c4756ffd3e4b99bd6c9f7e6bd582f54f"
   }
  }
 },
 "nbformat": 4,
 "nbformat_minor": 2
}
