{
 "cells": [
  {
   "cell_type": "code",
   "execution_count": 13,
   "metadata": {},
   "outputs": [],
   "source": [
    "\n",
    "import re\n",
    "import numpy as np\n",
    "import pandas as pd \n",
    "from pathlib import Path\n",
    "# pykilosort \n",
    "from readSGLX import readMeta\n",
    "from pykilosort import run, add_default_handler, np2_4shank_probe \n",
    "\n",
    "\n",
    "# get queue\n",
    "root = r'\\\\zserver.cortexlab.net\\Code\\AVrig'\n",
    "queue_csv_file = '%s\\pykilosort_queue.csv' % root\n",
    "queue_csv = pd.read_csv(queue_csv_file)\n",
    "channel_map = np2_4shank_probe()\n",
    "for _,rec in queue_csv.iterrows():\n",
    "    #check if recording is not being sorted already \n",
    "    if rec.sortedTag==0: \n",
    "\n",
    "        try:\n",
    "            input_dir = Path(rec.ephysName)\n",
    "            \n",
    "            # read the metadata and get the x- and ypos of channels \n",
    "            channel_data = re.findall(r\"\\d+:\\d+:\\d+:\\d+\",meta['snsShankMap'])\n",
    "            shank_idx = np.array([np.array(re.split(':',chandat)).astype('int')[0] for chandat in channel_data])\n",
    "            side_idx = np.array([np.array(re.split(':',chandat)).astype('int')[1] for chandat in channel_data])\n",
    "            channel_map.xc = ((shank_idx*250) + side_idx*32).astype('float64')\n",
    "            channel_map.yc = (np.array([np.array(re.split(':',chandat)).astype('int')[2] for chandat in channel_data])*15).astype('float64')\n",
    "            pass \n",
    "\n",
    "            output_dir = input_dir.parents[0] / 'pyKS'\n",
    "            output_dir.mkdir(parents=False, exist_ok=True)\n",
    "            \n",
    "            add_default_handler(level='INFO') # print output as the algorithm runs\n",
    "            # do something with the sortedTag\n",
    "            run(input_dir, probe=channel_map, low_memory=True, dir_path=output_dir)\n",
    "        except:"
   ]
  }
 ],
 "metadata": {
  "interpreter": {
   "hash": "c7f2cc8caa3424054656049bd6509de13514900a823639528084b6d10c1824ca"
  },
  "kernelspec": {
   "display_name": "Python 3.9.12 ('pyks2')",
   "language": "python",
   "name": "python3"
  },
  "language_info": {
   "codemirror_mode": {
    "name": "ipython",
    "version": 3
   },
   "file_extension": ".py",
   "mimetype": "text/x-python",
   "name": "python",
   "nbconvert_exporter": "python",
   "pygments_lexer": "ipython3",
   "version": "3.9.12"
  },
  "orig_nbformat": 4
 },
 "nbformat": 4,
 "nbformat_minor": 2
}
