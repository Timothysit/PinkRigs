{
 "cells": [
  {
   "cell_type": "code",
   "execution_count": 20,
   "metadata": {},
   "outputs": [
    {
     "ename": "AssertionError",
     "evalue": "File \\\\zinu.cortexlab.net\\Subjects\\AV009\\2022-03-09\\ephys\\AV009_2022-03-09_PassiveActive_day2_g0\\AV009_2022-03-09_PassiveActive_day2_g0_imec0\\AV009_2022-03-09_PassiveActive_day2_g0_t0.imec0.ap.bin not found",
     "output_type": "error",
     "traceback": [
      "\u001b[1;31m---------------------------------------------------------------------------\u001b[0m",
      "\u001b[1;31mAssertionError\u001b[0m                            Traceback (most recent call last)",
      "\u001b[1;32mc:\\Users\\Experiment\\Documents\\GitHub\\PinkRigs\\Analysis\\+kilo\\python_\\run_pyKS.ipynb Cell 1'\u001b[0m in \u001b[0;36m<cell line: 16>\u001b[1;34m()\u001b[0m\n\u001b[0;32m     <a href='vscode-notebook-cell:/c%3A/Users/Experiment/Documents/GitHub/PinkRigs/Analysis/%2Bkilo/python_/run_pyKS.ipynb#ch0000000?line=33'>34</a>\u001b[0m queue_csv\u001b[39m.\u001b[39mto_csv(queue_csv_file,index \u001b[39m=\u001b[39m \u001b[39mFalse\u001b[39;00m)\n\u001b[0;32m     <a href='vscode-notebook-cell:/c%3A/Users/Experiment/Documents/GitHub/PinkRigs/Analysis/%2Bkilo/python_/run_pyKS.ipynb#ch0000000?line=34'>35</a>\u001b[0m add_default_handler(level\u001b[39m=\u001b[39m\u001b[39m'\u001b[39m\u001b[39mINFO\u001b[39m\u001b[39m'\u001b[39m) \u001b[39m# print output as the algorithm runs\u001b[39;00m\n\u001b[1;32m---> <a href='vscode-notebook-cell:/c%3A/Users/Experiment/Documents/GitHub/PinkRigs/Analysis/%2Bkilo/python_/run_pyKS.ipynb#ch0000000?line=35'>36</a>\u001b[0m run(input_dir, probe\u001b[39m=\u001b[39;49mchannel_map, low_memory\u001b[39m=\u001b[39;49m\u001b[39mTrue\u001b[39;49;00m, dir_path\u001b[39m=\u001b[39;49moutput_dir)\n\u001b[0;32m     <a href='vscode-notebook-cell:/c%3A/Users/Experiment/Documents/GitHub/PinkRigs/Analysis/%2Bkilo/python_/run_pyKS.ipynb#ch0000000?line=36'>37</a>\u001b[0m queue_csv\u001b[39m.\u001b[39msortedTag\u001b[39m.\u001b[39miloc[idx]\u001b[39m=\u001b[39m \u001b[39m1\u001b[39m\n\u001b[0;32m     <a href='vscode-notebook-cell:/c%3A/Users/Experiment/Documents/GitHub/PinkRigs/Analysis/%2Bkilo/python_/run_pyKS.ipynb#ch0000000?line=37'>38</a>\u001b[0m queue_csv\u001b[39m.\u001b[39mto_csv(queue_csv_file,index \u001b[39m=\u001b[39m \u001b[39mFalse\u001b[39;00m)\n",
      "File \u001b[1;32m~\\Documents\\GitHub\\pykilosort\\pykilosort\\main.py:44\u001b[0m, in \u001b[0;36mrun\u001b[1;34m(dat_path, dir_path, output_dir, stop_after, clear_context, **params)\u001b[0m\n\u001b[0;32m     41\u001b[0m params \u001b[39m=\u001b[39m KilosortParams(\u001b[39m*\u001b[39m\u001b[39m*\u001b[39mparams \u001b[39mor\u001b[39;00m {})\n\u001b[0;32m     42\u001b[0m \u001b[39massert\u001b[39;00m params\n\u001b[1;32m---> 44\u001b[0m raw_data \u001b[39m=\u001b[39m RawDataLoader(dat_path, \u001b[39m*\u001b[39m\u001b[39m*\u001b[39mparams\u001b[39m.\u001b[39mephys_reader_args)\n\u001b[0;32m     46\u001b[0m \u001b[39m# dir path\u001b[39;00m\n\u001b[0;32m     47\u001b[0m \u001b[39mif\u001b[39;00m \u001b[39mtype\u001b[39m(dat_path) \u001b[39m==\u001b[39m \u001b[39mlist\u001b[39m:\n",
      "File \u001b[1;32m~\\Documents\\GitHub\\pykilosort\\pykilosort\\utils.py:274\u001b[0m, in \u001b[0;36mRawDataLoader.__init__\u001b[1;34m(self, data_path, **kwargs)\u001b[0m\n\u001b[0;32m    272\u001b[0m \u001b[39mself\u001b[39m\u001b[39m.\u001b[39mmultiple_datasets \u001b[39m=\u001b[39m \u001b[39mFalse\u001b[39;00m\n\u001b[0;32m    273\u001b[0m data_path \u001b[39m=\u001b[39m Path(data_path)\n\u001b[1;32m--> 274\u001b[0m \u001b[39massert\u001b[39;00m data_path\u001b[39m.\u001b[39mis_file(), \u001b[39mf\u001b[39m\u001b[39m'\u001b[39m\u001b[39mFile \u001b[39m\u001b[39m{\u001b[39;00mdata_path\u001b[39m}\u001b[39;00m\u001b[39m not found\u001b[39m\u001b[39m'\u001b[39m\n\u001b[0;32m    275\u001b[0m \u001b[39mself\u001b[39m\u001b[39m.\u001b[39mraw_data \u001b[39m=\u001b[39m get_ephys_reader(data_path, \u001b[39m*\u001b[39m\u001b[39m*\u001b[39mkwargs)\n\u001b[0;32m    276\u001b[0m \u001b[39mself\u001b[39m\u001b[39m.\u001b[39mn_samples, \u001b[39mself\u001b[39m\u001b[39m.\u001b[39mn_channels \u001b[39m=\u001b[39m \u001b[39mself\u001b[39m\u001b[39m.\u001b[39mraw_data\u001b[39m.\u001b[39mshape\n",
      "\u001b[1;31mAssertionError\u001b[0m: File \\\\zinu.cortexlab.net\\Subjects\\AV009\\2022-03-09\\ephys\\AV009_2022-03-09_PassiveActive_day2_g0\\AV009_2022-03-09_PassiveActive_day2_g0_imec0\\AV009_2022-03-09_PassiveActive_day2_g0_t0.imec0.ap.bin not found"
     ]
    }
   ],
   "source": [
    "\n",
    "import re\n",
    "import numpy as np\n",
    "import pandas as pd \n",
    "pd.options.mode.chained_assignment = None # we will overwrite some rows in the DataFrame\n",
    "from pathlib import Path\n",
    "# pykilosort \n",
    "from readSGLX import readMeta\n",
    "from pykilosort import run, add_default_handler, np2_4shank_probe \n",
    "\n",
    "\n",
    "# get queue\n",
    "root = r'\\\\zserver.cortexlab.net\\Code\\AVrig'\n",
    "queue_csv_file = '%s\\pykilosort_queue.csv' % root\n",
    "queue_csv = pd.read_csv(queue_csv_file)\n",
    "channel_map = np2_4shank_probe()\n",
    "for idx,rec in queue_csv.iterrows():\n",
    "    #check if recording is not being sorted already \n",
    "    if rec.sortedTag==0: \n",
    "\n",
    "        #try:\n",
    "        input_dir = Path(rec.ephysName)            \n",
    "        # read the metadata and get the x- and ypos of channels \n",
    "        meta = readMeta(input_dir)\n",
    "        channel_data = re.findall(r\"\\d+:\\d+:\\d+:\\d+\",meta['snsShankMap'])\n",
    "        shank_idx = np.array([np.array(re.split(':',chandat)).astype('int')[0] for chandat in channel_data])\n",
    "        side_idx = np.array([np.array(re.split(':',chandat)).astype('int')[1] for chandat in channel_data])\n",
    "        channel_map.xcoords = ((shank_idx*250) + side_idx*32).astype('float64')\n",
    "        channel_map.ycoords = (np.array([np.array(re.split(':',chandat)).astype('int')[2] for chandat in channel_data])*15).astype('float64')\n",
    "\n",
    "        output_dir = input_dir.parents[0] / 'pyKS'\n",
    "        output_dir.mkdir(parents=False, exist_ok=True)\n",
    "        \n",
    "        queue_csv.sortedTag.iloc[idx]= .5\n",
    "        queue_csv.to_csv(queue_csv_file,index = False)\n",
    "        add_default_handler(level='INFO') # print output as the algorithm runs\n",
    "        run(input_dir, probe=channel_map, low_memory=True, dir_path=output_dir)\n",
    "        queue_csv.sortedTag.iloc[idx]= 1\n",
    "        queue_csv.to_csv(queue_csv_file,index = False)\n",
    "        # except: \n",
    "        #     queue_csv.sortedTag.iloc[idx]= -1\n",
    "        #     queue_csv.to_csv(queue_csv_file,index = False)          \n",
    "\n"
   ]
  },
  {
   "cell_type": "code",
   "execution_count": 19,
   "metadata": {},
   "outputs": [
    {
     "ename": "AttributeError",
     "evalue": "'Probe' object has no attribute 'keys'",
     "output_type": "error",
     "traceback": [
      "\u001b[1;31m---------------------------------------------------------------------------\u001b[0m",
      "\u001b[1;31mAttributeError\u001b[0m                            Traceback (most recent call last)",
      "\u001b[1;32mc:\\Users\\Experiment\\Documents\\GitHub\\PinkRigs\\Analysis\\+kilo\\python_\\run_pyKS.ipynb Cell 2'\u001b[0m in \u001b[0;36m<cell line: 1>\u001b[1;34m()\u001b[0m\n\u001b[1;32m----> <a href='vscode-notebook-cell:/c%3A/Users/Experiment/Documents/GitHub/PinkRigs/Analysis/%2Bkilo/python_/run_pyKS.ipynb#ch0000001?line=0'>1</a>\u001b[0m channel_map\u001b[39m.\u001b[39;49mkeys()\n",
      "\u001b[1;31mAttributeError\u001b[0m: 'Probe' object has no attribute 'keys'"
     ]
    }
   ],
   "source": [
    "channel_map.keys()"
   ]
  }
 ],
 "metadata": {
  "kernelspec": {
   "display_name": "Python 3.9.12 ('pyks2')",
   "language": "python",
   "name": "python3"
  },
  "language_info": {
   "codemirror_mode": {
    "name": "ipython",
    "version": 3
   },
   "file_extension": ".py",
   "mimetype": "text/x-python",
   "name": "python",
   "nbconvert_exporter": "python",
   "pygments_lexer": "ipython3",
   "version": "3.9.12"
  },
  "orig_nbformat": 4,
  "vscode": {
   "interpreter": {
    "hash": "b6a2ed5a592b5e4333e5884be371d2ac28e1388dfe0b5deffbc70606bd29000f"
   }
  }
 },
 "nbformat": 4,
 "nbformat_minor": 2
}
