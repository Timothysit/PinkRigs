{
 "cells": [
  {
   "cell_type": "code",
   "execution_count": 25,
   "metadata": {},
   "outputs": [
    {
     "name": "stderr",
     "output_type": "stream",
     "text": [
      "\u001b[0m21:54:26.707 [I] utils:297            Loaded data with 385 channels, 57222342 samples\u001b[0m\n",
      "\u001b[0m21:54:26.707 [I] utils:297            Loaded data with 385 channels, 57222342 samples\u001b[0m\n",
      "\u001b[0m21:54:26.707 [I] utils:297            Loaded data with 385 channels, 57222342 samples\u001b[0m\n",
      "\u001b[0m21:54:26.707 [I] utils:297            Loaded data with 385 channels, 57222342 samples\u001b[0m\n",
      "\u001b[0m21:54:26.707 [I] utils:297            Loaded data with 385 channels, 57222342 samples\u001b[0m\n",
      "\u001b[0m21:54:26.707 [I] utils:297            Loaded data with 385 channels, 57222342 samples\u001b[0m\n",
      "\u001b[0m21:54:26.707 [I] utils:297            Loaded data with 385 channels, 57222342 samples\u001b[0m\n"
     ]
    },
    {
     "name": "stdout",
     "output_type": "stream",
     "text": [
      "starting sorting ...\n"
     ]
    },
    {
     "name": "stderr",
     "output_type": "stream",
     "text": [
      "\u001b[0m21:54:26.961 [I] utils:297            Loaded data with 385 channels, 54537241 samples\u001b[0m\n",
      "\u001b[0m21:54:26.961 [I] utils:297            Loaded data with 385 channels, 54537241 samples\u001b[0m\n",
      "\u001b[0m21:54:26.961 [I] utils:297            Loaded data with 385 channels, 54537241 samples\u001b[0m\n",
      "\u001b[0m21:54:26.961 [I] utils:297            Loaded data with 385 channels, 54537241 samples\u001b[0m\n",
      "\u001b[0m21:54:26.961 [I] utils:297            Loaded data with 385 channels, 54537241 samples\u001b[0m\n",
      "\u001b[0m21:54:26.961 [I] utils:297            Loaded data with 385 channels, 54537241 samples\u001b[0m\n",
      "\u001b[0m21:54:26.961 [I] utils:297            Loaded data with 385 channels, 54537241 samples\u001b[0m\n",
      "\u001b[0m21:54:27.053 [I] utils:592            Starting step whitening_matrix.\u001b[0m\n",
      "\u001b[0m21:54:27.053 [I] utils:592            Starting step whitening_matrix.\u001b[0m\n",
      "\u001b[0m21:54:27.053 [I] utils:592            Starting step whitening_matrix.\u001b[0m\n",
      "\u001b[0m21:54:27.053 [I] utils:592            Starting step whitening_matrix.\u001b[0m\n",
      "\u001b[0m21:54:27.053 [I] utils:592            Starting step whitening_matrix.\u001b[0m\n",
      "\u001b[0m21:54:27.053 [I] utils:592            Starting step whitening_matrix.\u001b[0m\n",
      "\u001b[0m21:54:27.053 [I] utils:592            Starting step whitening_matrix.\u001b[0m\n"
     ]
    },
    {
     "data": {
      "application/vnd.jupyter.widget-view+json": {
       "model_id": "ecdfcd24ed7942728461684f9632e5ec",
       "version_major": 2,
       "version_minor": 0
      },
      "text/plain": [
       "Computing the whitening matrix:   0%|          | 0/69 [00:00<?, ?it/s]"
      ]
     },
     "metadata": {},
     "output_type": "display_data"
    },
    {
     "name": "stderr",
     "output_type": "stream",
     "text": [
      "\u001b[0m21:57:39.057 [I] preprocess:244       Computed the whitening matrix.\u001b[0m\n",
      "\u001b[0m21:57:39.057 [I] preprocess:244       Computed the whitening matrix.\u001b[0m\n",
      "\u001b[0m21:57:39.057 [I] preprocess:244       Computed the whitening matrix.\u001b[0m\n",
      "\u001b[0m21:57:39.057 [I] preprocess:244       Computed the whitening matrix.\u001b[0m\n",
      "\u001b[0m21:57:39.057 [I] preprocess:244       Computed the whitening matrix.\u001b[0m\n",
      "\u001b[0m21:57:39.057 [I] preprocess:244       Computed the whitening matrix.\u001b[0m\n",
      "\u001b[0m21:57:39.057 [I] preprocess:244       Computed the whitening matrix.\u001b[0m\n",
      "\u001b[0m21:57:39.060 [I] utils:603            Step `whitening_matrix` took 192.00s.\u001b[0m\n",
      "\u001b[0m21:57:39.060 [I] utils:603            Step `whitening_matrix` took 192.00s.\u001b[0m\n",
      "\u001b[0m21:57:39.060 [I] utils:603            Step `whitening_matrix` took 192.00s.\u001b[0m\n",
      "\u001b[0m21:57:39.060 [I] utils:603            Step `whitening_matrix` took 192.00s.\u001b[0m\n",
      "\u001b[0m21:57:39.060 [I] utils:603            Step `whitening_matrix` took 192.00s.\u001b[0m\n",
      "\u001b[0m21:57:39.060 [I] utils:603            Step `whitening_matrix` took 192.00s.\u001b[0m\n",
      "\u001b[0m21:57:39.060 [I] utils:603            Step `whitening_matrix` took 192.00s.\u001b[0m\n",
      "\u001b[0m21:57:39.078 [I] utils:592            Starting step preprocess.\u001b[0m\n",
      "\u001b[0m21:57:39.078 [I] utils:592            Starting step preprocess.\u001b[0m\n",
      "\u001b[0m21:57:39.078 [I] utils:592            Starting step preprocess.\u001b[0m\n",
      "\u001b[0m21:57:39.078 [I] utils:592            Starting step preprocess.\u001b[0m\n",
      "\u001b[0m21:57:39.078 [I] utils:592            Starting step preprocess.\u001b[0m\n",
      "\u001b[0m21:57:39.078 [I] utils:592            Starting step preprocess.\u001b[0m\n",
      "\u001b[0m21:57:39.078 [I] utils:592            Starting step preprocess.\u001b[0m\n",
      "\u001b[0m21:57:39.080 [I] preprocess:403       Loading raw data and applying filters.\u001b[0m\n",
      "\u001b[0m21:57:39.080 [I] preprocess:403       Loading raw data and applying filters.\u001b[0m\n",
      "\u001b[0m21:57:39.080 [I] preprocess:403       Loading raw data and applying filters.\u001b[0m\n",
      "\u001b[0m21:57:39.080 [I] preprocess:403       Loading raw data and applying filters.\u001b[0m\n",
      "\u001b[0m21:57:39.080 [I] preprocess:403       Loading raw data and applying filters.\u001b[0m\n",
      "\u001b[0m21:57:39.080 [I] preprocess:403       Loading raw data and applying filters.\u001b[0m\n",
      "\u001b[0m21:57:39.080 [I] preprocess:403       Loading raw data and applying filters.\u001b[0m\n"
     ]
    },
    {
     "data": {
      "application/vnd.jupyter.widget-view+json": {
       "model_id": "5cedc4cf8ebe4198aca7fd0e644d4e81",
       "version_major": 2,
       "version_minor": 0
      },
      "text/plain": [
       "Preprocessing:   0%|          | 0/1704 [00:00<?, ?it/s]"
      ]
     },
     "metadata": {},
     "output_type": "display_data"
    }
   ],
   "source": [
    "from pathlib import Path\n",
    "import re\n",
    "from pykilosort import run, add_default_handler, neuropixel_probe_from_metafile\n",
    "\n",
    "input_dirs = [\n",
    "\n",
    "r'//zinu.cortexlab.net/Subjects/AV008/2022-03-12/ephys/AV008_2022-03-12_SparseNoiseNaturalImages_g0/AV008_2022-03-12_SparseNoiseNaturalImages_g0_imec0/AV008_2022-03-12_SparseNoiseNaturalImages_g0_t0.imec0.ap.cbin',\n",
    "r'//zinu.cortexlab.net/Subjects/AV008/2022-03-13/ephys/AV008_2022-03-13_SparseNoiseNaturalImages_g0/AV008_2022-03-13_SparseNoiseNaturalImages_g0_imec0/AV008_2022-03-13_SparseNoiseNaturalImages_g0_t0.imec0.ap.cbin'\n",
    " ]\n",
    "\n",
    "input_dirs = [Path(ephysfilepath) for ephysfilepath in input_dirs]\n",
    "name = [re.split(r\"\\.\", ephyspath.name)[0][:-6] for ephyspath in input_dirs]\n",
    "name =''.join(name)\n",
    "channel_map = neuropixel_probe_from_metafile(input_dirs[0])\n",
    "\n",
    "# get the output path \n",
    "root = input_dirs[0].parents[4]\n",
    "output_dir= root / 'stitchedPyKS' / name\n",
    "output_dir.mkdir(parents=True, exist_ok=True)\n",
    "\n",
    "print('starting sorting ...')\n",
    "add_default_handler(level='INFO') # print output as the algorithm runs\n",
    "run(input_dirs, probe=channel_map, low_memory=False, dir_path=output_dir)"
   ]
  }
 ],
 "metadata": {
  "kernelspec": {
   "display_name": "Python 3.9.12 ('pyks2')",
   "language": "python",
   "name": "python3"
  },
  "language_info": {
   "codemirror_mode": {
    "name": "ipython",
    "version": 3
   },
   "file_extension": ".py",
   "mimetype": "text/x-python",
   "name": "python",
   "nbconvert_exporter": "python",
   "pygments_lexer": "ipython3",
   "version": "3.9.12"
  },
  "orig_nbformat": 4,
  "vscode": {
   "interpreter": {
    "hash": "b6a2ed5a592b5e4333e5884be371d2ac28e1388dfe0b5deffbc70606bd29000f"
   }
  }
 },
 "nbformat": 4,
 "nbformat_minor": 2
}
