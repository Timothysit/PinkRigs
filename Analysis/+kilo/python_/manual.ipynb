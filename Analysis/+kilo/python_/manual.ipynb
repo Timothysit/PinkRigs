{
 "cells": [
  {
   "cell_type": "code",
   "execution_count": 3,
   "metadata": {},
   "outputs": [
    {
     "name": "stderr",
     "output_type": "stream",
     "text": [
      "\u001b[0m16:50:59.136 [I] utils:279            Loaded data with 385 channels, 145360206 samples\u001b[0m\n"
     ]
    },
    {
     "name": "stdout",
     "output_type": "stream",
     "text": [
      "\\\\zinu.cortexlab.net\\Subjects\\AV014\\2022-06-21\\ephys\\AV014_2022-06-21_ActivePassive_g0\\AV014_2022-06-21_ActivePassive_g0_imec0\\AV014_2022-06-21_ActivePassive_g0_t0.imec0.ap.meta\n"
     ]
    },
    {
     "name": "stderr",
     "output_type": "stream",
     "text": [
      "\u001b[0m16:50:59.141 [I] utils:567            Starting step whitening_matrix.\u001b[0m\n"
     ]
    },
    {
     "data": {
      "application/vnd.jupyter.widget-view+json": {
       "model_id": "6ac80afd5fb848a59c702d4a488e4b31",
       "version_major": 2,
       "version_minor": 0
      },
      "text/plain": [
       "Computing the whitening matrix:   0%|          | 0/89 [00:00<?, ?it/s]"
      ]
     },
     "metadata": {},
     "output_type": "display_data"
    },
    {
     "name": "stderr",
     "output_type": "stream",
     "text": [
      "\u001b[0m16:54:34.889 [I] preprocess:243       Computed the whitening matrix.\u001b[0m\n",
      "\u001b[0m16:54:34.891 [I] utils:578            Step `whitening_matrix` took 215.75s.\u001b[0m\n",
      "\u001b[0m16:54:35.033 [I] utils:567            Starting step preprocess.\u001b[0m\n",
      "\u001b[0m16:54:35.034 [I] preprocess:402       Loading raw data and applying filters.\u001b[0m\n"
     ]
    },
    {
     "data": {
      "application/vnd.jupyter.widget-view+json": {
       "model_id": "60d037133d69417f89c886d1ea8fd3fb",
       "version_major": 2,
       "version_minor": 0
      },
      "text/plain": [
       "Preprocessing:   0%|          | 0/2216 [00:00<?, ?it/s]"
      ]
     },
     "metadata": {},
     "output_type": "display_data"
    },
    {
     "name": "stderr",
     "output_type": "stream",
     "text": [
      "\u001b[0m17:16:16.593 [I] utils:578            Step `preprocess` took 1301.56s.\u001b[0m\n",
      "\u001b[0m17:16:16.680 [I] utils:567            Starting step learn.\u001b[0m\n"
     ]
    },
    {
     "data": {
      "application/vnd.jupyter.widget-view+json": {
       "model_id": "a3c4d58401474cd4892a68b3be2bd572",
       "version_major": 2,
       "version_minor": 0
      },
      "text/plain": [
       "Extracting templates:   0%|          | 0/444 [00:00<?, ?it/s]"
      ]
     },
     "metadata": {},
     "output_type": "display_data"
    },
    {
     "data": {
      "application/vnd.jupyter.widget-view+json": {
       "model_id": "ee3f8c9f443b4f2a980daee15f687faf",
       "version_major": 2,
       "version_minor": 0
      },
      "text/plain": [
       "Optimizing templates:   0%|          | 0/4434 [00:00<?, ?it/s]"
      ]
     },
     "metadata": {},
     "output_type": "display_data"
    },
    {
     "name": "stderr",
     "output_type": "stream",
     "text": [
      "\u001b[0m17:55:56.201 [I] learn:1267           Found 9522236 spikes.\u001b[0m\n",
      "\u001b[0m17:55:57.237 [I] utils:578            Step `learn` took 2380.56s.\u001b[0m\n",
      "\u001b[0m17:55:58.055 [I] utils:567            Starting step merge.\u001b[0m\n"
     ]
    },
    {
     "data": {
      "application/vnd.jupyter.widget-view+json": {
       "model_id": "ed3af5aa77b448f7bfea3fb8d1074e1d",
       "version_major": 2,
       "version_minor": 0
      },
      "text/plain": [
       "Finding merges:   0%|          | 0/93 [00:00<?, ?it/s]"
      ]
     },
     "metadata": {},
     "output_type": "display_data"
    },
    {
     "name": "stderr",
     "output_type": "stream",
     "text": [
      "\u001b[0m17:56:10.340 [I] utils:578            Step `merge` took 12.28s.\u001b[0m\n",
      "\u001b[0m17:56:10.415 [I] utils:567            Starting step split_1.\u001b[0m\n",
      "\u001b[0m17:58:39.419 [I] postprocess:836      Found 1 splits, checked 0/94 clusters, nccg 0\u001b[0m\n",
      "\u001b[0m18:00:02.281 [I] postprocess:836      Found 27 splits, checked 100/120 clusters, nccg 25\u001b[0m\n",
      "\u001b[0m18:00:09.824 [I] postprocess:1052     Finished splitting. Found 33 splits, checked 126/126 clusters, nccg 29\u001b[0m\n",
      "\u001b[0m18:00:10.632 [I] utils:578            Step `split_1` took 240.21s.\u001b[0m\n",
      "\u001b[0m18:00:10.673 [I] utils:567            Starting step cutoff.\u001b[0m\n"
     ]
    },
    {
     "data": {
      "application/vnd.jupyter.widget-view+json": {
       "model_id": "e3ea6197eed04da78edaa65325371dfd",
       "version_major": 2,
       "version_minor": 0
      },
      "text/plain": [
       "Setting cutoff:   0%|          | 0/126 [00:00<?, ?it/s]"
      ]
     },
     "metadata": {},
     "output_type": "display_data"
    },
    {
     "name": "stderr",
     "output_type": "stream",
     "text": [
      "\u001b[0m18:01:39.105 [I] utils:578            Step `cutoff` took 88.43s.\u001b[0m\n",
      "\u001b[0m18:01:39.145 [I] main:270             4921088 spikes after cutoff.\u001b[0m\n",
      "\u001b[0m18:01:39.147 [I] main:271             Found 45 good units.\u001b[0m\n",
      "\u001b[0m18:01:39.155 [I] main:274             Saving results to phy.\u001b[0m\n",
      "\u001b[0m18:01:39.155 [I] utils:567            Starting step output.\u001b[0m\n"
     ]
    },
    {
     "data": {
      "application/vnd.jupyter.widget-view+json": {
       "model_id": "885d743e111f44e28bc4e59342f95d46",
       "version_major": 2,
       "version_minor": 0
      },
      "text/plain": [
       "Computing templates:   0%|          | 0/126 [00:00<?, ?it/s]"
      ]
     },
     "metadata": {},
     "output_type": "display_data"
    },
    {
     "data": {
      "application/vnd.jupyter.widget-view+json": {
       "model_id": "b6ad5a6bb16442deb54d5cc01593e8a2",
       "version_major": 2,
       "version_minor": 0
      },
      "text/plain": [
       "Saving template and PC features:   0%|          | 0/96 [00:00<?, ?it/s]"
      ]
     },
     "metadata": {},
     "output_type": "display_data"
    },
    {
     "name": "stderr",
     "output_type": "stream",
     "text": [
      "\u001b[0m18:02:46.627 [I] utils:578            Step `output` took 67.47s.\u001b[0m\n",
      "\u001b[0m18:02:50.700 [I] utils:578            Step `whitening_matrix` took 215.75s.\u001b[0m\n",
      "\u001b[0m18:02:50.701 [I] utils:578            Step `preprocess` took 1301.56s.\u001b[0m\n",
      "\u001b[0m18:02:50.701 [I] utils:578            Step `learn` took 2380.56s.\u001b[0m\n",
      "\u001b[0m18:02:50.702 [I] utils:578            Step `merge` took 12.28s.\u001b[0m\n",
      "\u001b[0m18:02:50.702 [I] utils:578            Step `split_1` took 240.21s.\u001b[0m\n",
      "\u001b[0m18:02:50.703 [I] utils:578            Step `cutoff` took 88.43s.\u001b[0m\n",
      "\u001b[0m18:02:50.703 [I] utils:578            Step `output` took 67.47s.\u001b[0m\n",
      "\u001b[0m18:02:50.704 [I] utils:582            Total time taken was 4306.26s\u001b[0m\n"
     ]
    },
    {
     "name": "stdout",
     "output_type": "stream",
     "text": [
      "\\\\zinu.cortexlab.net\\Subjects\\AV014\\2022-06-21\\ephys\\AV014_2022-06-21_ActivePassive_g0\\AV014_2022-06-21_ActivePassive_g0_imec1\\AV014_2022-06-21_ActivePassive_g0_t0.imec1.ap.meta\n"
     ]
    },
    {
     "name": "stderr",
     "output_type": "stream",
     "text": [
      "\u001b[0m18:03:07.383 [I] utils:279            Loaded data with 385 channels, 145360206 samples\u001b[0m\n",
      "\u001b[0m18:03:07.383 [I] utils:279            Loaded data with 385 channels, 145360206 samples\u001b[0m\n",
      "\u001b[0m18:03:07.460 [I] utils:567            Starting step whitening_matrix.\u001b[0m\n",
      "\u001b[0m18:03:07.460 [I] utils:567            Starting step whitening_matrix.\u001b[0m\n"
     ]
    },
    {
     "data": {
      "application/vnd.jupyter.widget-view+json": {
       "model_id": "3e3c077954264a61857b7b8d3fbf1976",
       "version_major": 2,
       "version_minor": 0
      },
      "text/plain": [
       "Computing the whitening matrix:   0%|          | 0/89 [00:00<?, ?it/s]"
      ]
     },
     "metadata": {},
     "output_type": "display_data"
    },
    {
     "name": "stderr",
     "output_type": "stream",
     "text": [
      "\u001b[0m18:04:07.128 [I] preprocess:243       Computed the whitening matrix.\u001b[0m\n",
      "\u001b[0m18:04:07.128 [I] preprocess:243       Computed the whitening matrix.\u001b[0m\n",
      "\u001b[0m18:04:07.129 [I] utils:578            Step `whitening_matrix` took 59.67s.\u001b[0m\n",
      "\u001b[0m18:04:07.129 [I] utils:578            Step `whitening_matrix` took 59.67s.\u001b[0m\n",
      "\u001b[0m18:04:07.196 [I] utils:567            Starting step preprocess.\u001b[0m\n",
      "\u001b[0m18:04:07.196 [I] utils:567            Starting step preprocess.\u001b[0m\n",
      "\u001b[0m18:04:07.197 [I] preprocess:402       Loading raw data and applying filters.\u001b[0m\n",
      "\u001b[0m18:04:07.197 [I] preprocess:402       Loading raw data and applying filters.\u001b[0m\n"
     ]
    },
    {
     "data": {
      "application/vnd.jupyter.widget-view+json": {
       "model_id": "52bcb2dbefec4ae68965285a8d5680fd",
       "version_major": 2,
       "version_minor": 0
      },
      "text/plain": [
       "Preprocessing:   0%|          | 0/2216 [00:00<?, ?it/s]"
      ]
     },
     "metadata": {},
     "output_type": "display_data"
    },
    {
     "name": "stderr",
     "output_type": "stream",
     "text": [
      "\u001b[0m18:24:41.840 [I] utils:578            Step `preprocess` took 1234.64s.\u001b[0m\n",
      "\u001b[0m18:24:41.840 [I] utils:578            Step `preprocess` took 1234.64s.\u001b[0m\n",
      "\u001b[0m18:24:41.922 [I] utils:567            Starting step learn.\u001b[0m\n",
      "\u001b[0m18:24:41.922 [I] utils:567            Starting step learn.\u001b[0m\n"
     ]
    },
    {
     "data": {
      "application/vnd.jupyter.widget-view+json": {
       "model_id": "172a3327857447c394b040b647001813",
       "version_major": 2,
       "version_minor": 0
      },
      "text/plain": [
       "Extracting templates:   0%|          | 0/444 [00:00<?, ?it/s]"
      ]
     },
     "metadata": {},
     "output_type": "display_data"
    },
    {
     "data": {
      "application/vnd.jupyter.widget-view+json": {
       "model_id": "d67c8ad04d4d41018b2dc898c93e7a29",
       "version_major": 2,
       "version_minor": 0
      },
      "text/plain": [
       "Optimizing templates:   0%|          | 0/4434 [00:00<?, ?it/s]"
      ]
     },
     "metadata": {},
     "output_type": "display_data"
    },
    {
     "name": "stderr",
     "output_type": "stream",
     "text": [
      "\u001b[0m19:03:55.533 [I] learn:1267           Found 6998577 spikes.\u001b[0m\n",
      "\u001b[0m19:03:55.533 [I] learn:1267           Found 6998577 spikes.\u001b[0m\n",
      "\u001b[0m19:03:56.095 [I] utils:578            Step `learn` took 2354.17s.\u001b[0m\n",
      "\u001b[0m19:03:56.095 [I] utils:578            Step `learn` took 2354.17s.\u001b[0m\n",
      "\u001b[0m19:03:57.139 [I] utils:567            Starting step merge.\u001b[0m\n",
      "\u001b[0m19:03:57.139 [I] utils:567            Starting step merge.\u001b[0m\n"
     ]
    },
    {
     "data": {
      "application/vnd.jupyter.widget-view+json": {
       "model_id": "124a1ec833004b2683433a50028dc5c0",
       "version_major": 2,
       "version_minor": 0
      },
      "text/plain": [
       "Finding merges:   0%|          | 0/127 [00:00<?, ?it/s]"
      ]
     },
     "metadata": {},
     "output_type": "display_data"
    },
    {
     "name": "stderr",
     "output_type": "stream",
     "text": [
      "\u001b[0m19:04:04.158 [I] utils:578            Step `merge` took 7.02s.\u001b[0m\n",
      "\u001b[0m19:04:04.158 [I] utils:578            Step `merge` took 7.02s.\u001b[0m\n",
      "\u001b[0m19:04:04.295 [I] utils:567            Starting step split_1.\u001b[0m\n",
      "\u001b[0m19:04:04.295 [I] utils:567            Starting step split_1.\u001b[0m\n",
      "\u001b[0m19:04:04.846 [I] postprocess:836      Found 0 splits, checked 0/127 clusters, nccg 0\u001b[0m\n",
      "\u001b[0m19:04:04.846 [I] postprocess:836      Found 0 splits, checked 0/127 clusters, nccg 0\u001b[0m\n",
      "\u001b[0m19:04:57.534 [I] postprocess:836      Found 27 splits, checked 100/154 clusters, nccg 18\u001b[0m\n",
      "\u001b[0m19:04:57.534 [I] postprocess:836      Found 27 splits, checked 100/154 clusters, nccg 18\u001b[0m\n",
      "\u001b[0m19:04:57.988 [I] postprocess:836      Found 28 splits, checked 100/155 clusters, nccg 18\u001b[0m\n",
      "\u001b[0m19:04:57.988 [I] postprocess:836      Found 28 splits, checked 100/155 clusters, nccg 18\u001b[0m\n",
      "\u001b[0m19:05:27.892 [I] postprocess:1052     Finished splitting. Found 53 splits, checked 180/180 clusters, nccg 39\u001b[0m\n",
      "\u001b[0m19:05:27.892 [I] postprocess:1052     Finished splitting. Found 53 splits, checked 180/180 clusters, nccg 39\u001b[0m\n",
      "\u001b[0m19:05:28.700 [I] utils:578            Step `split_1` took 84.40s.\u001b[0m\n",
      "\u001b[0m19:05:28.700 [I] utils:578            Step `split_1` took 84.40s.\u001b[0m\n",
      "\u001b[0m19:05:28.753 [I] utils:567            Starting step cutoff.\u001b[0m\n",
      "\u001b[0m19:05:28.753 [I] utils:567            Starting step cutoff.\u001b[0m\n"
     ]
    },
    {
     "data": {
      "application/vnd.jupyter.widget-view+json": {
       "model_id": "5937275472654515bdde0b2d5b169eaf",
       "version_major": 2,
       "version_minor": 0
      },
      "text/plain": [
       "Setting cutoff:   0%|          | 0/180 [00:00<?, ?it/s]"
      ]
     },
     "metadata": {},
     "output_type": "display_data"
    },
    {
     "name": "stderr",
     "output_type": "stream",
     "text": [
      "\u001b[0m19:06:46.254 [I] utils:578            Step `cutoff` took 77.50s.\u001b[0m\n",
      "\u001b[0m19:06:46.254 [I] utils:578            Step `cutoff` took 77.50s.\u001b[0m\n",
      "\u001b[0m19:06:46.350 [I] main:270             3882313 spikes after cutoff.\u001b[0m\n",
      "\u001b[0m19:06:46.350 [I] main:270             3882313 spikes after cutoff.\u001b[0m\n",
      "\u001b[0m19:06:46.351 [I] main:271             Found 59 good units.\u001b[0m\n",
      "\u001b[0m19:06:46.351 [I] main:271             Found 59 good units.\u001b[0m\n",
      "\u001b[0m19:06:46.352 [I] main:274             Saving results to phy.\u001b[0m\n",
      "\u001b[0m19:06:46.352 [I] main:274             Saving results to phy.\u001b[0m\n",
      "\u001b[0m19:06:46.353 [I] utils:567            Starting step output.\u001b[0m\n",
      "\u001b[0m19:06:46.353 [I] utils:567            Starting step output.\u001b[0m\n"
     ]
    },
    {
     "data": {
      "application/vnd.jupyter.widget-view+json": {
       "model_id": "1f489275e82d478d876613c8834b8960",
       "version_major": 2,
       "version_minor": 0
      },
      "text/plain": [
       "Computing templates:   0%|          | 0/175 [00:00<?, ?it/s]"
      ]
     },
     "metadata": {},
     "output_type": "display_data"
    },
    {
     "data": {
      "application/vnd.jupyter.widget-view+json": {
       "model_id": "47c2449871da49fca5d358274515264e",
       "version_major": 2,
       "version_minor": 0
      },
      "text/plain": [
       "Saving template and PC features:   0%|          | 0/70 [00:00<?, ?it/s]"
      ]
     },
     "metadata": {},
     "output_type": "display_data"
    },
    {
     "name": "stderr",
     "output_type": "stream",
     "text": [
      "\u001b[0m19:07:46.113 [I] utils:578            Step `output` took 59.75s.\u001b[0m\n",
      "\u001b[0m19:07:46.113 [I] utils:578            Step `output` took 59.75s.\u001b[0m\n",
      "\u001b[0m19:07:50.021 [I] utils:578            Step `whitening_matrix` took 59.67s.\u001b[0m\n",
      "\u001b[0m19:07:50.021 [I] utils:578            Step `whitening_matrix` took 59.67s.\u001b[0m\n",
      "\u001b[0m19:07:50.027 [I] utils:578            Step `preprocess` took 1234.64s.\u001b[0m\n",
      "\u001b[0m19:07:50.027 [I] utils:578            Step `preprocess` took 1234.64s.\u001b[0m\n",
      "\u001b[0m19:07:50.028 [I] utils:578            Step `learn` took 2354.17s.\u001b[0m\n",
      "\u001b[0m19:07:50.028 [I] utils:578            Step `learn` took 2354.17s.\u001b[0m\n",
      "\u001b[0m19:07:50.029 [I] utils:578            Step `merge` took 7.02s.\u001b[0m\n",
      "\u001b[0m19:07:50.029 [I] utils:578            Step `merge` took 7.02s.\u001b[0m\n",
      "\u001b[0m19:07:50.031 [I] utils:578            Step `split_1` took 84.40s.\u001b[0m\n",
      "\u001b[0m19:07:50.031 [I] utils:578            Step `split_1` took 84.40s.\u001b[0m\n",
      "\u001b[0m19:07:50.032 [I] utils:578            Step `cutoff` took 77.50s.\u001b[0m\n",
      "\u001b[0m19:07:50.032 [I] utils:578            Step `cutoff` took 77.50s.\u001b[0m\n",
      "\u001b[0m19:07:50.033 [I] utils:578            Step `output` took 59.75s.\u001b[0m\n",
      "\u001b[0m19:07:50.033 [I] utils:578            Step `output` took 59.75s.\u001b[0m\n",
      "\u001b[0m19:07:50.034 [I] utils:582            Total time taken was 3877.15s\u001b[0m\n",
      "\u001b[0m19:07:50.034 [I] utils:582            Total time taken was 3877.15s\u001b[0m\n"
     ]
    },
    {
     "name": "stdout",
     "output_type": "stream",
     "text": [
      "\\\\zinu.cortexlab.net\\Subjects\\AV014\\2022-06-21\\ephys\\AV014_2022-06-21_NatImagesSparseNoise_g0\\AV014_2022-06-21_NatImagesSparseNoise_g0_imec0\\AV014_2022-06-21_NatImagesSparseNoise_g0_t0.imec0.ap.meta\n"
     ]
    },
    {
     "name": "stderr",
     "output_type": "stream",
     "text": [
      "\u001b[0m19:08:06.418 [I] utils:279            Loaded data with 385 channels, 58169440 samples\u001b[0m\n",
      "\u001b[0m19:08:06.418 [I] utils:279            Loaded data with 385 channels, 58169440 samples\u001b[0m\n",
      "\u001b[0m19:08:06.418 [I] utils:279            Loaded data with 385 channels, 58169440 samples\u001b[0m\n",
      "\u001b[0m19:08:06.455 [I] utils:567            Starting step whitening_matrix.\u001b[0m\n",
      "\u001b[0m19:08:06.455 [I] utils:567            Starting step whitening_matrix.\u001b[0m\n",
      "\u001b[0m19:08:06.455 [I] utils:567            Starting step whitening_matrix.\u001b[0m\n"
     ]
    },
    {
     "data": {
      "application/vnd.jupyter.widget-view+json": {
       "model_id": "7dc077fd20bb401b8f4a6cdd23b21860",
       "version_major": 2,
       "version_minor": 0
      },
      "text/plain": [
       "Computing the whitening matrix:   0%|          | 0/36 [00:00<?, ?it/s]"
      ]
     },
     "metadata": {},
     "output_type": "display_data"
    },
    {
     "name": "stderr",
     "output_type": "stream",
     "text": [
      "\u001b[0m19:08:30.012 [I] preprocess:243       Computed the whitening matrix.\u001b[0m\n",
      "\u001b[0m19:08:30.012 [I] preprocess:243       Computed the whitening matrix.\u001b[0m\n",
      "\u001b[0m19:08:30.012 [I] preprocess:243       Computed the whitening matrix.\u001b[0m\n",
      "\u001b[0m19:08:30.014 [I] utils:578            Step `whitening_matrix` took 23.56s.\u001b[0m\n",
      "\u001b[0m19:08:30.014 [I] utils:578            Step `whitening_matrix` took 23.56s.\u001b[0m\n",
      "\u001b[0m19:08:30.014 [I] utils:578            Step `whitening_matrix` took 23.56s.\u001b[0m\n",
      "\u001b[0m19:08:30.049 [I] utils:567            Starting step preprocess.\u001b[0m\n",
      "\u001b[0m19:08:30.049 [I] utils:567            Starting step preprocess.\u001b[0m\n",
      "\u001b[0m19:08:30.049 [I] utils:567            Starting step preprocess.\u001b[0m\n",
      "\u001b[0m19:08:30.050 [I] preprocess:402       Loading raw data and applying filters.\u001b[0m\n",
      "\u001b[0m19:08:30.050 [I] preprocess:402       Loading raw data and applying filters.\u001b[0m\n",
      "\u001b[0m19:08:30.050 [I] preprocess:402       Loading raw data and applying filters.\u001b[0m\n"
     ]
    },
    {
     "data": {
      "application/vnd.jupyter.widget-view+json": {
       "model_id": "41e2b6a393634508bbe9b96842cdf9b1",
       "version_major": 2,
       "version_minor": 0
      },
      "text/plain": [
       "Preprocessing:   0%|          | 0/887 [00:00<?, ?it/s]"
      ]
     },
     "metadata": {},
     "output_type": "display_data"
    },
    {
     "name": "stderr",
     "output_type": "stream",
     "text": [
      "\u001b[0m19:16:22.000 [I] utils:578            Step `preprocess` took 471.95s.\u001b[0m\n",
      "\u001b[0m19:16:22.000 [I] utils:578            Step `preprocess` took 471.95s.\u001b[0m\n",
      "\u001b[0m19:16:22.000 [I] utils:578            Step `preprocess` took 471.95s.\u001b[0m\n",
      "\u001b[0m19:16:22.155 [I] utils:567            Starting step learn.\u001b[0m\n",
      "\u001b[0m19:16:22.155 [I] utils:567            Starting step learn.\u001b[0m\n",
      "\u001b[0m19:16:22.155 [I] utils:567            Starting step learn.\u001b[0m\n"
     ]
    },
    {
     "data": {
      "application/vnd.jupyter.widget-view+json": {
       "model_id": "080be0d5fd3441e9815d4b7f8d4f42d8",
       "version_major": 2,
       "version_minor": 0
      },
      "text/plain": [
       "Extracting templates:   0%|          | 0/178 [00:00<?, ?it/s]"
      ]
     },
     "metadata": {},
     "output_type": "display_data"
    },
    {
     "data": {
      "application/vnd.jupyter.widget-view+json": {
       "model_id": "6754b135637c4f54ba78a7266ed7442a",
       "version_major": 2,
       "version_minor": 0
      },
      "text/plain": [
       "Optimizing templates:   0%|          | 0/1775 [00:00<?, ?it/s]"
      ]
     },
     "metadata": {},
     "output_type": "display_data"
    },
    {
     "name": "stderr",
     "output_type": "stream",
     "text": [
      "\u001b[0m19:28:37.967 [I] learn:1267           Found 3371769 spikes.\u001b[0m\n",
      "\u001b[0m19:28:37.967 [I] learn:1267           Found 3371769 spikes.\u001b[0m\n",
      "\u001b[0m19:28:37.967 [I] learn:1267           Found 3371769 spikes.\u001b[0m\n",
      "\u001b[0m19:28:38.010 [I] utils:578            Step `learn` took 735.85s.\u001b[0m\n",
      "\u001b[0m19:28:38.010 [I] utils:578            Step `learn` took 735.85s.\u001b[0m\n",
      "\u001b[0m19:28:38.010 [I] utils:578            Step `learn` took 735.85s.\u001b[0m\n",
      "\u001b[0m19:28:38.311 [I] utils:567            Starting step merge.\u001b[0m\n",
      "\u001b[0m19:28:38.311 [I] utils:567            Starting step merge.\u001b[0m\n",
      "\u001b[0m19:28:38.311 [I] utils:567            Starting step merge.\u001b[0m\n"
     ]
    },
    {
     "data": {
      "application/vnd.jupyter.widget-view+json": {
       "model_id": "8a15cc0ef66245968843080c695d7817",
       "version_major": 2,
       "version_minor": 0
      },
      "text/plain": [
       "Finding merges:   0%|          | 0/117 [00:00<?, ?it/s]"
      ]
     },
     "metadata": {},
     "output_type": "display_data"
    },
    {
     "name": "stderr",
     "output_type": "stream",
     "text": [
      "\u001b[0m19:28:45.437 [I] utils:578            Step `merge` took 7.12s.\u001b[0m\n",
      "\u001b[0m19:28:45.437 [I] utils:578            Step `merge` took 7.12s.\u001b[0m\n",
      "\u001b[0m19:28:45.437 [I] utils:578            Step `merge` took 7.12s.\u001b[0m\n",
      "\u001b[0m19:28:45.545 [I] utils:567            Starting step split_1.\u001b[0m\n",
      "\u001b[0m19:28:45.545 [I] utils:567            Starting step split_1.\u001b[0m\n",
      "\u001b[0m19:28:45.545 [I] utils:567            Starting step split_1.\u001b[0m\n",
      "\u001b[0m19:28:46.187 [I] postprocess:836      Found 0 splits, checked 0/117 clusters, nccg 1\u001b[0m\n",
      "\u001b[0m19:28:46.187 [I] postprocess:836      Found 0 splits, checked 0/117 clusters, nccg 1\u001b[0m\n",
      "\u001b[0m19:28:46.187 [I] postprocess:836      Found 0 splits, checked 0/117 clusters, nccg 1\u001b[0m\n",
      "\u001b[0m19:28:46.901 [I] postprocess:836      Found 1 splits, checked 0/118 clusters, nccg 1\u001b[0m\n",
      "\u001b[0m19:28:46.901 [I] postprocess:836      Found 1 splits, checked 0/118 clusters, nccg 1\u001b[0m\n",
      "\u001b[0m19:28:46.901 [I] postprocess:836      Found 1 splits, checked 0/118 clusters, nccg 1\u001b[0m\n",
      "\u001b[0m19:29:15.471 [I] postprocess:836      Found 7 splits, checked 100/124 clusters, nccg 7\u001b[0m\n",
      "\u001b[0m19:29:15.471 [I] postprocess:836      Found 7 splits, checked 100/124 clusters, nccg 7\u001b[0m\n",
      "\u001b[0m19:29:15.471 [I] postprocess:836      Found 7 splits, checked 100/124 clusters, nccg 7\u001b[0m\n",
      "\u001b[0m19:29:21.253 [I] postprocess:1052     Finished splitting. Found 8 splits, checked 125/125 clusters, nccg 7\u001b[0m\n",
      "\u001b[0m19:29:21.253 [I] postprocess:1052     Finished splitting. Found 8 splits, checked 125/125 clusters, nccg 7\u001b[0m\n",
      "\u001b[0m19:29:21.253 [I] postprocess:1052     Finished splitting. Found 8 splits, checked 125/125 clusters, nccg 7\u001b[0m\n",
      "\u001b[0m19:29:21.531 [I] utils:578            Step `split_1` took 35.97s.\u001b[0m\n",
      "\u001b[0m19:29:21.531 [I] utils:578            Step `split_1` took 35.97s.\u001b[0m\n",
      "\u001b[0m19:29:21.531 [I] utils:578            Step `split_1` took 35.97s.\u001b[0m\n",
      "\u001b[0m19:29:21.587 [I] utils:567            Starting step cutoff.\u001b[0m\n",
      "\u001b[0m19:29:21.587 [I] utils:567            Starting step cutoff.\u001b[0m\n",
      "\u001b[0m19:29:21.587 [I] utils:567            Starting step cutoff.\u001b[0m\n"
     ]
    },
    {
     "data": {
      "application/vnd.jupyter.widget-view+json": {
       "model_id": "2613fad6de7d4e6d80735552dc69aafe",
       "version_major": 2,
       "version_minor": 0
      },
      "text/plain": [
       "Setting cutoff:   0%|          | 0/125 [00:00<?, ?it/s]"
      ]
     },
     "metadata": {},
     "output_type": "display_data"
    },
    {
     "name": "stderr",
     "output_type": "stream",
     "text": [
      "\u001b[0m19:29:26.295 [I] utils:578            Step `cutoff` took 4.71s.\u001b[0m\n",
      "\u001b[0m19:29:26.295 [I] utils:578            Step `cutoff` took 4.71s.\u001b[0m\n",
      "\u001b[0m19:29:26.295 [I] utils:578            Step `cutoff` took 4.71s.\u001b[0m\n",
      "\u001b[0m19:29:26.325 [I] main:270             847559 spikes after cutoff.\u001b[0m\n",
      "\u001b[0m19:29:26.325 [I] main:270             847559 spikes after cutoff.\u001b[0m\n",
      "\u001b[0m19:29:26.325 [I] main:270             847559 spikes after cutoff.\u001b[0m\n",
      "\u001b[0m19:29:26.329 [I] main:271             Found 14 good units.\u001b[0m\n",
      "\u001b[0m19:29:26.329 [I] main:271             Found 14 good units.\u001b[0m\n",
      "\u001b[0m19:29:26.329 [I] main:271             Found 14 good units.\u001b[0m\n",
      "\u001b[0m19:29:26.331 [I] main:274             Saving results to phy.\u001b[0m\n",
      "\u001b[0m19:29:26.331 [I] main:274             Saving results to phy.\u001b[0m\n",
      "\u001b[0m19:29:26.331 [I] main:274             Saving results to phy.\u001b[0m\n",
      "\u001b[0m19:29:26.333 [I] utils:567            Starting step output.\u001b[0m\n",
      "\u001b[0m19:29:26.333 [I] utils:567            Starting step output.\u001b[0m\n",
      "\u001b[0m19:29:26.333 [I] utils:567            Starting step output.\u001b[0m\n"
     ]
    },
    {
     "data": {
      "application/vnd.jupyter.widget-view+json": {
       "model_id": "3bc6ebc009454b7f948617852f32181b",
       "version_major": 2,
       "version_minor": 0
      },
      "text/plain": [
       "Computing templates:   0%|          | 0/125 [00:00<?, ?it/s]"
      ]
     },
     "metadata": {},
     "output_type": "display_data"
    },
    {
     "data": {
      "application/vnd.jupyter.widget-view+json": {
       "model_id": "8285f6ef8e764fd885cb85ae9bb76fdd",
       "version_major": 2,
       "version_minor": 0
      },
      "text/plain": [
       "Saving template and PC features:   0%|          | 0/34 [00:00<?, ?it/s]"
      ]
     },
     "metadata": {},
     "output_type": "display_data"
    },
    {
     "name": "stderr",
     "output_type": "stream",
     "text": [
      "\u001b[0m19:29:54.266 [I] utils:578            Step `output` took 27.93s.\u001b[0m\n",
      "\u001b[0m19:29:54.266 [I] utils:578            Step `output` took 27.93s.\u001b[0m\n",
      "\u001b[0m19:29:54.266 [I] utils:578            Step `output` took 27.93s.\u001b[0m\n",
      "\u001b[0m19:29:56.623 [I] utils:578            Step `whitening_matrix` took 23.56s.\u001b[0m\n",
      "\u001b[0m19:29:56.623 [I] utils:578            Step `whitening_matrix` took 23.56s.\u001b[0m\n",
      "\u001b[0m19:29:56.623 [I] utils:578            Step `whitening_matrix` took 23.56s.\u001b[0m\n",
      "\u001b[0m19:29:56.624 [I] utils:578            Step `preprocess` took 471.95s.\u001b[0m\n",
      "\u001b[0m19:29:56.624 [I] utils:578            Step `preprocess` took 471.95s.\u001b[0m\n",
      "\u001b[0m19:29:56.624 [I] utils:578            Step `preprocess` took 471.95s.\u001b[0m\n",
      "\u001b[0m19:29:56.626 [I] utils:578            Step `learn` took 735.85s.\u001b[0m\n",
      "\u001b[0m19:29:56.626 [I] utils:578            Step `learn` took 735.85s.\u001b[0m\n",
      "\u001b[0m19:29:56.626 [I] utils:578            Step `learn` took 735.85s.\u001b[0m\n",
      "\u001b[0m19:29:56.627 [I] utils:578            Step `merge` took 7.12s.\u001b[0m\n",
      "\u001b[0m19:29:56.627 [I] utils:578            Step `merge` took 7.12s.\u001b[0m\n",
      "\u001b[0m19:29:56.627 [I] utils:578            Step `merge` took 7.12s.\u001b[0m\n",
      "\u001b[0m19:29:56.629 [I] utils:578            Step `split_1` took 35.97s.\u001b[0m\n",
      "\u001b[0m19:29:56.629 [I] utils:578            Step `split_1` took 35.97s.\u001b[0m\n",
      "\u001b[0m19:29:56.629 [I] utils:578            Step `split_1` took 35.97s.\u001b[0m\n",
      "\u001b[0m19:29:56.631 [I] utils:578            Step `cutoff` took 4.71s.\u001b[0m\n",
      "\u001b[0m19:29:56.631 [I] utils:578            Step `cutoff` took 4.71s.\u001b[0m\n",
      "\u001b[0m19:29:56.631 [I] utils:578            Step `cutoff` took 4.71s.\u001b[0m\n",
      "\u001b[0m19:29:56.632 [I] utils:578            Step `output` took 27.93s.\u001b[0m\n",
      "\u001b[0m19:29:56.632 [I] utils:578            Step `output` took 27.93s.\u001b[0m\n",
      "\u001b[0m19:29:56.632 [I] utils:578            Step `output` took 27.93s.\u001b[0m\n",
      "\u001b[0m19:29:56.634 [I] utils:582            Total time taken was 1307.10s\u001b[0m\n",
      "\u001b[0m19:29:56.634 [I] utils:582            Total time taken was 1307.10s\u001b[0m\n",
      "\u001b[0m19:29:56.634 [I] utils:582            Total time taken was 1307.10s\u001b[0m\n"
     ]
    },
    {
     "name": "stdout",
     "output_type": "stream",
     "text": [
      "\\\\zinu.cortexlab.net\\Subjects\\AV014\\2022-06-21\\ephys\\AV014_2022-06-21_NatImagesSparseNoise_g0\\AV014_2022-06-21_NatImagesSparseNoise_g0_imec1\\AV014_2022-06-21_NatImagesSparseNoise_g0_t0.imec1.ap.meta\n"
     ]
    },
    {
     "name": "stderr",
     "output_type": "stream",
     "text": [
      "\u001b[0m19:30:02.741 [I] utils:279            Loaded data with 385 channels, 58169439 samples\u001b[0m\n",
      "\u001b[0m19:30:02.741 [I] utils:279            Loaded data with 385 channels, 58169439 samples\u001b[0m\n",
      "\u001b[0m19:30:02.741 [I] utils:279            Loaded data with 385 channels, 58169439 samples\u001b[0m\n",
      "\u001b[0m19:30:02.741 [I] utils:279            Loaded data with 385 channels, 58169439 samples\u001b[0m\n",
      "\u001b[0m19:30:02.801 [I] utils:567            Starting step whitening_matrix.\u001b[0m\n",
      "\u001b[0m19:30:02.801 [I] utils:567            Starting step whitening_matrix.\u001b[0m\n",
      "\u001b[0m19:30:02.801 [I] utils:567            Starting step whitening_matrix.\u001b[0m\n",
      "\u001b[0m19:30:02.801 [I] utils:567            Starting step whitening_matrix.\u001b[0m\n"
     ]
    },
    {
     "data": {
      "application/vnd.jupyter.widget-view+json": {
       "model_id": "6cfa380aedcc4434b3224174ae5e7e0c",
       "version_major": 2,
       "version_minor": 0
      },
      "text/plain": [
       "Computing the whitening matrix:   0%|          | 0/36 [00:00<?, ?it/s]"
      ]
     },
     "metadata": {},
     "output_type": "display_data"
    },
    {
     "name": "stderr",
     "output_type": "stream",
     "text": [
      "\u001b[0m19:30:26.420 [I] preprocess:243       Computed the whitening matrix.\u001b[0m\n",
      "\u001b[0m19:30:26.420 [I] preprocess:243       Computed the whitening matrix.\u001b[0m\n",
      "\u001b[0m19:30:26.420 [I] preprocess:243       Computed the whitening matrix.\u001b[0m\n",
      "\u001b[0m19:30:26.420 [I] preprocess:243       Computed the whitening matrix.\u001b[0m\n",
      "\u001b[0m19:30:26.424 [I] utils:578            Step `whitening_matrix` took 23.62s.\u001b[0m\n",
      "\u001b[0m19:30:26.424 [I] utils:578            Step `whitening_matrix` took 23.62s.\u001b[0m\n",
      "\u001b[0m19:30:26.424 [I] utils:578            Step `whitening_matrix` took 23.62s.\u001b[0m\n",
      "\u001b[0m19:30:26.424 [I] utils:578            Step `whitening_matrix` took 23.62s.\u001b[0m\n",
      "\u001b[0m19:30:26.456 [I] utils:567            Starting step preprocess.\u001b[0m\n",
      "\u001b[0m19:30:26.456 [I] utils:567            Starting step preprocess.\u001b[0m\n",
      "\u001b[0m19:30:26.456 [I] utils:567            Starting step preprocess.\u001b[0m\n",
      "\u001b[0m19:30:26.456 [I] utils:567            Starting step preprocess.\u001b[0m\n",
      "\u001b[0m19:30:26.459 [I] preprocess:402       Loading raw data and applying filters.\u001b[0m\n",
      "\u001b[0m19:30:26.459 [I] preprocess:402       Loading raw data and applying filters.\u001b[0m\n",
      "\u001b[0m19:30:26.459 [I] preprocess:402       Loading raw data and applying filters.\u001b[0m\n",
      "\u001b[0m19:30:26.459 [I] preprocess:402       Loading raw data and applying filters.\u001b[0m\n"
     ]
    },
    {
     "data": {
      "application/vnd.jupyter.widget-view+json": {
       "model_id": "bea9397fd4cb4094b7db8cd5b0bbaffc",
       "version_major": 2,
       "version_minor": 0
      },
      "text/plain": [
       "Preprocessing:   0%|          | 0/887 [00:00<?, ?it/s]"
      ]
     },
     "metadata": {},
     "output_type": "display_data"
    },
    {
     "name": "stderr",
     "output_type": "stream",
     "text": [
      "\u001b[0m19:38:25.925 [I] utils:578            Step `preprocess` took 479.47s.\u001b[0m\n",
      "\u001b[0m19:38:25.925 [I] utils:578            Step `preprocess` took 479.47s.\u001b[0m\n",
      "\u001b[0m19:38:25.925 [I] utils:578            Step `preprocess` took 479.47s.\u001b[0m\n",
      "\u001b[0m19:38:25.925 [I] utils:578            Step `preprocess` took 479.47s.\u001b[0m\n",
      "\u001b[0m19:38:26.017 [I] utils:567            Starting step learn.\u001b[0m\n",
      "\u001b[0m19:38:26.017 [I] utils:567            Starting step learn.\u001b[0m\n",
      "\u001b[0m19:38:26.017 [I] utils:567            Starting step learn.\u001b[0m\n",
      "\u001b[0m19:38:26.017 [I] utils:567            Starting step learn.\u001b[0m\n"
     ]
    },
    {
     "data": {
      "application/vnd.jupyter.widget-view+json": {
       "model_id": "9444900bf13e40e8a3b5c5c86b0ed645",
       "version_major": 2,
       "version_minor": 0
      },
      "text/plain": [
       "Extracting templates:   0%|          | 0/178 [00:00<?, ?it/s]"
      ]
     },
     "metadata": {},
     "output_type": "display_data"
    },
    {
     "data": {
      "application/vnd.jupyter.widget-view+json": {
       "model_id": "f57bc28122554835a56c26192edb54fb",
       "version_major": 2,
       "version_minor": 0
      },
      "text/plain": [
       "Optimizing templates:   0%|          | 0/1775 [00:00<?, ?it/s]"
      ]
     },
     "metadata": {},
     "output_type": "display_data"
    },
    {
     "name": "stderr",
     "output_type": "stream",
     "text": [
      "\u001b[0m19:53:11.313 [I] learn:1267           Found 4015143 spikes.\u001b[0m\n",
      "\u001b[0m19:53:11.313 [I] learn:1267           Found 4015143 spikes.\u001b[0m\n",
      "\u001b[0m19:53:11.313 [I] learn:1267           Found 4015143 spikes.\u001b[0m\n",
      "\u001b[0m19:53:11.313 [I] learn:1267           Found 4015143 spikes.\u001b[0m\n",
      "\u001b[0m19:53:11.358 [I] utils:578            Step `learn` took 885.34s.\u001b[0m\n",
      "\u001b[0m19:53:11.358 [I] utils:578            Step `learn` took 885.34s.\u001b[0m\n",
      "\u001b[0m19:53:11.358 [I] utils:578            Step `learn` took 885.34s.\u001b[0m\n",
      "\u001b[0m19:53:11.358 [I] utils:578            Step `learn` took 885.34s.\u001b[0m\n",
      "\u001b[0m19:53:11.981 [I] utils:567            Starting step merge.\u001b[0m\n",
      "\u001b[0m19:53:11.981 [I] utils:567            Starting step merge.\u001b[0m\n",
      "\u001b[0m19:53:11.981 [I] utils:567            Starting step merge.\u001b[0m\n",
      "\u001b[0m19:53:11.981 [I] utils:567            Starting step merge.\u001b[0m\n"
     ]
    },
    {
     "data": {
      "application/vnd.jupyter.widget-view+json": {
       "model_id": "7a784e7e75a14f7bb3b0f47c3f4a5e1d",
       "version_major": 2,
       "version_minor": 0
      },
      "text/plain": [
       "Finding merges:   0%|          | 0/185 [00:00<?, ?it/s]"
      ]
     },
     "metadata": {},
     "output_type": "display_data"
    },
    {
     "name": "stderr",
     "output_type": "stream",
     "text": [
      "\u001b[0m19:53:22.716 [I] utils:578            Step `merge` took 10.73s.\u001b[0m\n",
      "\u001b[0m19:53:22.716 [I] utils:578            Step `merge` took 10.73s.\u001b[0m\n",
      "\u001b[0m19:53:22.716 [I] utils:578            Step `merge` took 10.73s.\u001b[0m\n",
      "\u001b[0m19:53:22.716 [I] utils:578            Step `merge` took 10.73s.\u001b[0m\n",
      "\u001b[0m19:53:22.847 [I] utils:567            Starting step split_1.\u001b[0m\n",
      "\u001b[0m19:53:22.847 [I] utils:567            Starting step split_1.\u001b[0m\n",
      "\u001b[0m19:53:22.847 [I] utils:567            Starting step split_1.\u001b[0m\n",
      "\u001b[0m19:53:22.847 [I] utils:567            Starting step split_1.\u001b[0m\n",
      "\u001b[0m19:53:23.252 [I] postprocess:836      Found 0 splits, checked 0/185 clusters, nccg 0\u001b[0m\n",
      "\u001b[0m19:53:23.252 [I] postprocess:836      Found 0 splits, checked 0/185 clusters, nccg 0\u001b[0m\n",
      "\u001b[0m19:53:23.252 [I] postprocess:836      Found 0 splits, checked 0/185 clusters, nccg 0\u001b[0m\n",
      "\u001b[0m19:53:23.252 [I] postprocess:836      Found 0 splits, checked 0/185 clusters, nccg 0\u001b[0m\n",
      "\u001b[0m19:53:53.227 [I] postprocess:836      Found 27 splits, checked 100/212 clusters, nccg 21\u001b[0m\n",
      "\u001b[0m19:53:53.227 [I] postprocess:836      Found 27 splits, checked 100/212 clusters, nccg 21\u001b[0m\n",
      "\u001b[0m19:53:53.227 [I] postprocess:836      Found 27 splits, checked 100/212 clusters, nccg 21\u001b[0m\n",
      "\u001b[0m19:53:53.227 [I] postprocess:836      Found 27 splits, checked 100/212 clusters, nccg 21\u001b[0m\n",
      "\u001b[0m19:53:53.964 [I] postprocess:836      Found 28 splits, checked 100/213 clusters, nccg 21\u001b[0m\n",
      "\u001b[0m19:53:53.964 [I] postprocess:836      Found 28 splits, checked 100/213 clusters, nccg 21\u001b[0m\n",
      "\u001b[0m19:53:53.964 [I] postprocess:836      Found 28 splits, checked 100/213 clusters, nccg 21\u001b[0m\n",
      "\u001b[0m19:53:53.964 [I] postprocess:836      Found 28 splits, checked 100/213 clusters, nccg 21\u001b[0m\n",
      "\u001b[0m19:54:24.219 [I] postprocess:836      Found 51 splits, checked 200/236 clusters, nccg 38\u001b[0m\n",
      "\u001b[0m19:54:24.219 [I] postprocess:836      Found 51 splits, checked 200/236 clusters, nccg 38\u001b[0m\n",
      "\u001b[0m19:54:24.219 [I] postprocess:836      Found 51 splits, checked 200/236 clusters, nccg 38\u001b[0m\n",
      "\u001b[0m19:54:24.219 [I] postprocess:836      Found 51 splits, checked 200/236 clusters, nccg 38\u001b[0m\n",
      "\u001b[0m19:54:32.864 [I] postprocess:1052     Finished splitting. Found 59 splits, checked 244/244 clusters, nccg 46\u001b[0m\n",
      "\u001b[0m19:54:32.864 [I] postprocess:1052     Finished splitting. Found 59 splits, checked 244/244 clusters, nccg 46\u001b[0m\n",
      "\u001b[0m19:54:32.864 [I] postprocess:1052     Finished splitting. Found 59 splits, checked 244/244 clusters, nccg 46\u001b[0m\n",
      "\u001b[0m19:54:32.864 [I] postprocess:1052     Finished splitting. Found 59 splits, checked 244/244 clusters, nccg 46\u001b[0m\n",
      "\u001b[0m19:54:33.293 [I] utils:578            Step `split_1` took 70.44s.\u001b[0m\n",
      "\u001b[0m19:54:33.293 [I] utils:578            Step `split_1` took 70.44s.\u001b[0m\n",
      "\u001b[0m19:54:33.293 [I] utils:578            Step `split_1` took 70.44s.\u001b[0m\n",
      "\u001b[0m19:54:33.293 [I] utils:578            Step `split_1` took 70.44s.\u001b[0m\n",
      "\u001b[0m19:54:33.356 [I] utils:567            Starting step cutoff.\u001b[0m\n",
      "\u001b[0m19:54:33.356 [I] utils:567            Starting step cutoff.\u001b[0m\n",
      "\u001b[0m19:54:33.356 [I] utils:567            Starting step cutoff.\u001b[0m\n",
      "\u001b[0m19:54:33.356 [I] utils:567            Starting step cutoff.\u001b[0m\n"
     ]
    },
    {
     "data": {
      "application/vnd.jupyter.widget-view+json": {
       "model_id": "01d2f59aa9d64d1a9d78fcbae5db587b",
       "version_major": 2,
       "version_minor": 0
      },
      "text/plain": [
       "Setting cutoff:   0%|          | 0/244 [00:00<?, ?it/s]"
      ]
     },
     "metadata": {},
     "output_type": "display_data"
    },
    {
     "name": "stderr",
     "output_type": "stream",
     "text": [
      "\u001b[0m19:54:47.582 [I] utils:578            Step `cutoff` took 14.22s.\u001b[0m\n",
      "\u001b[0m19:54:47.582 [I] utils:578            Step `cutoff` took 14.22s.\u001b[0m\n",
      "\u001b[0m19:54:47.582 [I] utils:578            Step `cutoff` took 14.22s.\u001b[0m\n",
      "\u001b[0m19:54:47.582 [I] utils:578            Step `cutoff` took 14.22s.\u001b[0m\n",
      "\u001b[0m19:54:47.644 [I] main:270             1842991 spikes after cutoff.\u001b[0m\n",
      "\u001b[0m19:54:47.644 [I] main:270             1842991 spikes after cutoff.\u001b[0m\n",
      "\u001b[0m19:54:47.644 [I] main:270             1842991 spikes after cutoff.\u001b[0m\n",
      "\u001b[0m19:54:47.644 [I] main:270             1842991 spikes after cutoff.\u001b[0m\n",
      "\u001b[0m19:54:47.647 [I] main:271             Found 93 good units.\u001b[0m\n",
      "\u001b[0m19:54:47.647 [I] main:271             Found 93 good units.\u001b[0m\n",
      "\u001b[0m19:54:47.647 [I] main:271             Found 93 good units.\u001b[0m\n",
      "\u001b[0m19:54:47.647 [I] main:271             Found 93 good units.\u001b[0m\n",
      "\u001b[0m19:54:47.649 [I] main:274             Saving results to phy.\u001b[0m\n",
      "\u001b[0m19:54:47.649 [I] main:274             Saving results to phy.\u001b[0m\n",
      "\u001b[0m19:54:47.649 [I] main:274             Saving results to phy.\u001b[0m\n",
      "\u001b[0m19:54:47.649 [I] main:274             Saving results to phy.\u001b[0m\n",
      "\u001b[0m19:54:47.651 [I] utils:567            Starting step output.\u001b[0m\n",
      "\u001b[0m19:54:47.651 [I] utils:567            Starting step output.\u001b[0m\n",
      "\u001b[0m19:54:47.651 [I] utils:567            Starting step output.\u001b[0m\n",
      "\u001b[0m19:54:47.651 [I] utils:567            Starting step output.\u001b[0m\n"
     ]
    },
    {
     "data": {
      "application/vnd.jupyter.widget-view+json": {
       "model_id": "7c46188774eb47e3bc5717f27b9f28ad",
       "version_major": 2,
       "version_minor": 0
      },
      "text/plain": [
       "Computing templates:   0%|          | 0/242 [00:00<?, ?it/s]"
      ]
     },
     "metadata": {},
     "output_type": "display_data"
    },
    {
     "data": {
      "application/vnd.jupyter.widget-view+json": {
       "model_id": "f812e68d0e474ea38ca3195f3992be2b",
       "version_major": 2,
       "version_minor": 0
      },
      "text/plain": [
       "Saving template and PC features:   0%|          | 0/41 [00:00<?, ?it/s]"
      ]
     },
     "metadata": {},
     "output_type": "display_data"
    },
    {
     "name": "stderr",
     "output_type": "stream",
     "text": [
      "\u001b[0m19:55:09.062 [I] utils:578            Step `output` took 21.41s.\u001b[0m\n",
      "\u001b[0m19:55:09.062 [I] utils:578            Step `output` took 21.41s.\u001b[0m\n",
      "\u001b[0m19:55:09.062 [I] utils:578            Step `output` took 21.41s.\u001b[0m\n",
      "\u001b[0m19:55:09.062 [I] utils:578            Step `output` took 21.41s.\u001b[0m\n",
      "\u001b[0m19:55:11.314 [I] utils:578            Step `whitening_matrix` took 23.62s.\u001b[0m\n",
      "\u001b[0m19:55:11.314 [I] utils:578            Step `whitening_matrix` took 23.62s.\u001b[0m\n",
      "\u001b[0m19:55:11.314 [I] utils:578            Step `whitening_matrix` took 23.62s.\u001b[0m\n",
      "\u001b[0m19:55:11.314 [I] utils:578            Step `whitening_matrix` took 23.62s.\u001b[0m\n",
      "\u001b[0m19:55:11.316 [I] utils:578            Step `preprocess` took 479.47s.\u001b[0m\n",
      "\u001b[0m19:55:11.316 [I] utils:578            Step `preprocess` took 479.47s.\u001b[0m\n",
      "\u001b[0m19:55:11.316 [I] utils:578            Step `preprocess` took 479.47s.\u001b[0m\n",
      "\u001b[0m19:55:11.316 [I] utils:578            Step `preprocess` took 479.47s.\u001b[0m\n",
      "\u001b[0m19:55:11.318 [I] utils:578            Step `learn` took 885.34s.\u001b[0m\n",
      "\u001b[0m19:55:11.318 [I] utils:578            Step `learn` took 885.34s.\u001b[0m\n",
      "\u001b[0m19:55:11.318 [I] utils:578            Step `learn` took 885.34s.\u001b[0m\n",
      "\u001b[0m19:55:11.318 [I] utils:578            Step `learn` took 885.34s.\u001b[0m\n",
      "\u001b[0m19:55:11.320 [I] utils:578            Step `merge` took 10.73s.\u001b[0m\n",
      "\u001b[0m19:55:11.320 [I] utils:578            Step `merge` took 10.73s.\u001b[0m\n",
      "\u001b[0m19:55:11.320 [I] utils:578            Step `merge` took 10.73s.\u001b[0m\n",
      "\u001b[0m19:55:11.320 [I] utils:578            Step `merge` took 10.73s.\u001b[0m\n",
      "\u001b[0m19:55:11.322 [I] utils:578            Step `split_1` took 70.44s.\u001b[0m\n",
      "\u001b[0m19:55:11.322 [I] utils:578            Step `split_1` took 70.44s.\u001b[0m\n",
      "\u001b[0m19:55:11.322 [I] utils:578            Step `split_1` took 70.44s.\u001b[0m\n",
      "\u001b[0m19:55:11.322 [I] utils:578            Step `split_1` took 70.44s.\u001b[0m\n",
      "\u001b[0m19:55:11.324 [I] utils:578            Step `cutoff` took 14.22s.\u001b[0m\n",
      "\u001b[0m19:55:11.324 [I] utils:578            Step `cutoff` took 14.22s.\u001b[0m\n",
      "\u001b[0m19:55:11.324 [I] utils:578            Step `cutoff` took 14.22s.\u001b[0m\n",
      "\u001b[0m19:55:11.324 [I] utils:578            Step `cutoff` took 14.22s.\u001b[0m\n",
      "\u001b[0m19:55:11.326 [I] utils:578            Step `output` took 21.41s.\u001b[0m\n",
      "\u001b[0m19:55:11.326 [I] utils:578            Step `output` took 21.41s.\u001b[0m\n",
      "\u001b[0m19:55:11.326 [I] utils:578            Step `output` took 21.41s.\u001b[0m\n",
      "\u001b[0m19:55:11.326 [I] utils:578            Step `output` took 21.41s.\u001b[0m\n",
      "\u001b[0m19:55:11.328 [I] utils:582            Total time taken was 1505.22s\u001b[0m\n",
      "\u001b[0m19:55:11.328 [I] utils:582            Total time taken was 1505.22s\u001b[0m\n",
      "\u001b[0m19:55:11.328 [I] utils:582            Total time taken was 1505.22s\u001b[0m\n",
      "\u001b[0m19:55:11.328 [I] utils:582            Total time taken was 1505.22s\u001b[0m\n"
     ]
    }
   ],
   "source": [
    "# import PinkRig ephys processng tools \n",
    "import glob,sys,json,shutil\n",
    "from pathlib import Path \n",
    "\n",
    "from pykilosort import run, add_default_handler, neuropixel_probe_from_metafile\n",
    "\n",
    "# I really wish I could shorten this line\n",
    "pinkRig_path= glob.glob(r'C:\\Users\\*\\Documents\\Github\\PinkRigs')\n",
    "pinkRig_path = Path(pinkRig_path[0])\n",
    "sys.path.insert(0, (pinkRig_path.__str__()))\n",
    "\n",
    "from Analysis.helpers.queryExp import queryExp\n",
    "\n",
    "\n",
    "# recomute should be able to take \n",
    "# err: files that errored \n",
    "\n",
    "sessions = queryExp(mice2check='AV014',days2check='2022-06-21')\n",
    "\n",
    "recompute_errored_sorting = True\n",
    "\n",
    "ephys_path = Path(sessions.iloc[0].expFolder).parent / 'ephys'\n",
    "ephys_recordings = list(ephys_path.glob('**\\*ap.meta'))\n",
    "\n",
    "# for each recording resort if not already sorted \n",
    "\n",
    "for rec in ephys_recordings: \n",
    "    is_sorted = (rec.parent / r'pyKS\\output\\cluster_group.tsv').is_file()\n",
    "    if not is_sorted: \n",
    "        # sort\n",
    "        input_dir = rec    \n",
    "        print(input_dir)  \n",
    "\n",
    "\n",
    "\n",
    "        # check if sorting was tried already\n",
    "        is_tried = (rec.parent / r'pyKS\\output\\.kilosort').is_dir()\n",
    "\n",
    "        if (is_tried & recompute_errored_sorting) or not is_tried: \n",
    "            try:             \n",
    "                # read the metadata and get the x- and ypos of channels                     \n",
    "\n",
    "                channel_map  = neuropixel_probe_from_metafile(list((input_dir.parent).glob('*.meta'))[0] )\n",
    "\n",
    "                output_dir = input_dir.parents[0] / 'pyKS'\n",
    "                output_dir.mkdir(parents=False, exist_ok=True)        \n",
    "\n",
    "                add_default_handler(level='INFO') # print output as the algorithm runs\n",
    "                # find the compressed file of the same name \n",
    "                input_dir = list((input_dir.parent).glob('*.cbin'))[0] \n",
    "                run(input_dir, probe=channel_map, low_memory=True, dir_path=output_dir)\n",
    "                # if there was a previous error message, remove it\n",
    "\n",
    "                err_message_file = rec.parent / r'pyKS\\pyKS_error.json'\n",
    "                \n",
    "                if err_message_file.is_file(): \n",
    "                    err_message_file.unlink()\n",
    "\n",
    "            except:\n",
    "                exc_type, exc_obj, exc_tb = sys.exc_info()\n",
    "        \n",
    "                errdict = {\n",
    "                    'err_type:': str(exc_type), \n",
    "                    'err_message': str(exc_obj),\n",
    "                    'traceback': str(exc_tb)\n",
    "                    }\n",
    "\n",
    "                errmessage = json.dumps(errdict)\n",
    "                \n",
    "                errfile = open(output_dir / 'pyKS_error.json',\"w\")\n",
    "                errfile.write(errmessage)\n",
    "                errfile.close()\n",
    "\n",
    "                # delete temp folders before Michael kicks me out\n",
    "                is_tried = (rec.parent / r'pyKS\\output\\.kilosort').is_dir()\n",
    "                if is_tried:\n",
    "                    shutil.rmtree(rec.parent / r'pyKS\\output\\.kilosort') \n",
    "\n"
   ]
  }
 ],
 "metadata": {
  "kernelspec": {
   "display_name": "Python 3.9.12 ('pyks2')",
   "language": "python",
   "name": "python3"
  },
  "language_info": {
   "codemirror_mode": {
    "name": "ipython",
    "version": 3
   },
   "file_extension": ".py",
   "mimetype": "text/x-python",
   "name": "python",
   "nbconvert_exporter": "python",
   "pygments_lexer": "ipython3",
   "version": "3.9.12"
  },
  "orig_nbformat": 4,
  "vscode": {
   "interpreter": {
    "hash": "b6a2ed5a592b5e4333e5884be371d2ac28e1388dfe0b5deffbc70606bd29000f"
   }
  }
 },
 "nbformat": 4,
 "nbformat_minor": 2
}
