{
 "cells": [
  {
   "cell_type": "code",
   "execution_count": 2,
   "metadata": {},
   "outputs": [
    {
     "name": "stdout",
     "output_type": "stream",
     "text": [
      "\\\\zaru.cortexlab.net\\Subjects\\AV020\\2022-08-05\\ephys\\AV020_2022-08-05_ActivePassive_g0\\AV020_2022-08-05_ActivePassive_g0_imec0\\AV020_2022-08-05_ActivePassive_g0_t0.imec0.ap.meta\n",
      "\\\\zaru.cortexlab.net\\Subjects\\AV020\\2022-08-05\\ephys\\AV020_2022-08-05_NatImagesSparseNoise_g0\\AV020_2022-08-05_NatImagesSparseNoise_g0_imec0\\AV020_2022-08-05_NatImagesSparseNoise_g0_t0.imec0.ap.meta\n"
     ]
    }
   ],
   "source": [
    "# import PinkRig ephys processng tools \n",
    "import glob,sys,json,shutil\n",
    "from pathlib import Path \n",
    "\n",
    "from pykilosort import run, add_default_handler, neuropixel_probe_from_metafile\n",
    "\n",
    "# I really wish I could shorten this line\n",
    "pinkRig_path= glob.glob(r'C:\\Users\\*\\Documents\\Github\\PinkRigs')\n",
    "pinkRig_path = Path(pinkRig_path[0])\n",
    "sys.path.insert(0, (pinkRig_path.__str__()))\n",
    "\n",
    "from Analysis.helpers.queryExp import queryCSV\n",
    "from run_pyKS import run_pyKS_single_file\n",
    "\n",
    "# recomute should be able to take \n",
    "# err: files that errored \n",
    "\n",
    "sessions = queryCSV(subject=['AV020','AV021'],expDate='2022-08-05')\n",
    "# get unique sessions - currently we sort everything within an ephys folder. \n",
    "sessions= sessions.drop_duplicates(subset=['Subject','expDate'])\n",
    "\n",
    "for session_of_the_day in sessions.iterrows():\n",
    "        ephys_path = Path(session_of_the_day.expFolder).parent / 'ephys'\n",
    "        ephys_recordings = list(ephys_path.glob('**\\*ap.meta'))\n",
    "\n",
    "        for rec in ephys_recordings: \n",
    "                s=run_pyKS_single_file(rec,recompute_errored_sorting = True,resort = True,bin_file_extension ='cbin')\n",
    "                print(rec)\n"
   ]
  }
 ],
 "metadata": {
  "kernelspec": {
   "display_name": "Python 3.9.12 ('pyks2')",
   "language": "python",
   "name": "python3"
  },
  "language_info": {
   "codemirror_mode": {
    "name": "ipython",
    "version": 3
   },
   "file_extension": ".py",
   "mimetype": "text/x-python",
   "name": "python",
   "nbconvert_exporter": "python",
   "pygments_lexer": "ipython3",
   "version": "3.9.12"
  },
  "orig_nbformat": 4,
  "vscode": {
   "interpreter": {
    "hash": "b6a2ed5a592b5e4333e5884be371d2ac28e1388dfe0b5deffbc70606bd29000f"
   }
  }
 },
 "nbformat": 4,
 "nbformat_minor": 2
}
