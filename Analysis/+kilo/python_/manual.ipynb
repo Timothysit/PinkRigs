{
 "cells": [
  {
   "cell_type": "code",
   "execution_count": 1,
   "metadata": {},
   "outputs": [
    {
     "name": "stderr",
     "output_type": "stream",
     "text": [
      "\u001b[0m00:50:25.397 [I] utils:280            Loaded data with 385 channels, 24299711 samples\u001b[0m\n",
      "\u001b[0m00:50:55.731 [I] utils:589            Starting step whitening_matrix.\u001b[0m\n"
     ]
    },
    {
     "data": {
      "application/vnd.jupyter.widget-view+json": {
       "model_id": "2c6c12d80b444f49be95532760b24ba3",
       "version_major": 2,
       "version_minor": 0
      },
      "text/plain": [
       "Computing the whitening matrix:   0%|          | 0/15 [00:00<?, ?it/s]"
      ]
     },
     "metadata": {},
     "output_type": "display_data"
    }
   ],
   "source": [
    "# import PinkRig ephys processng tools \n",
    "import glob,sys,json,shutil\n",
    "from pathlib import Path \n",
    "\n",
    "from pykilosort import run, add_default_handler, neuropixel_probe_from_metafile\n",
    "\n",
    "# I really wish I could shorten this line\n",
    "pinkRig_path= glob.glob(r'C:\\Users\\*\\Documents\\Github\\PinkRigs')\n",
    "pinkRig_path = Path(pinkRig_path[0])\n",
    "sys.path.insert(0, (pinkRig_path.__str__()))\n",
    "\n",
    "from Analysis.helpers.queryExp import queryExp\n",
    "from run_pyKS import run_pyKS_single_file\n",
    "\n",
    "# recomute should be able to take \n",
    "# err: files that errored \n",
    "\n",
    "sessions = queryExp(mice2check='AV020',days2check='2022-08-03')\n",
    "ephys_path = Path(sessions.iloc[0].expFolder).parent / 'ephys'\n",
    "ephys_recordings = list(ephys_path.glob('**\\*ap.meta'))\n",
    "\n",
    "\n",
    "for rec in ephys_recordings: \n",
    "    is_sorted = (rec.parent / r'pyKS\\output\\cluster_group.tsv').is_file()\n",
    "    if not is_sorted: \n",
    "        # sort\n",
    "        s=run_pyKS_single_file(rec,recompute_errored_sorting = True)\n",
    "        print(s)\n",
    "\n",
    "\n",
    "\n",
    "\n",
    "  \n",
    "\n",
    "\n",
    "\n"
   ]
  },
  {
   "cell_type": "code",
   "execution_count": 6,
   "metadata": {},
   "outputs": [
    {
     "data": {
      "text/plain": [
       "WindowsPath('//zaru.cortexlab.net/Subjects/AV020/2022-08-03/ephys/AV020_2022-08-03_Spontaneous_Part1_g0/AV020_2022-08-03_Spontaneous_Part1_g0_imec0/AV020_2022-08-03_Spontaneous_Part1_g0_t0.imec0.ap.meta')"
      ]
     },
     "execution_count": 6,
     "metadata": {},
     "output_type": "execute_result"
    }
   ],
   "source": [
    "rec"
   ]
  }
 ],
 "metadata": {
  "kernelspec": {
   "display_name": "Python 3.9.12 ('pyks2')",
   "language": "python",
   "name": "python3"
  },
  "language_info": {
   "codemirror_mode": {
    "name": "ipython",
    "version": 3
   },
   "file_extension": ".py",
   "mimetype": "text/x-python",
   "name": "python",
   "nbconvert_exporter": "python",
   "pygments_lexer": "ipython3",
   "version": "3.9.12"
  },
  "orig_nbformat": 4,
  "vscode": {
   "interpreter": {
    "hash": "b6a2ed5a592b5e4333e5884be371d2ac28e1388dfe0b5deffbc70606bd29000f"
   }
  }
 },
 "nbformat": 4,
 "nbformat_minor": 2
}
