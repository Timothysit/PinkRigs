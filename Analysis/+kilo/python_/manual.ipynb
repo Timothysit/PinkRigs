{
 "cells": [
  {
   "cell_type": "code",
   "execution_count": 1,
   "metadata": {},
   "outputs": [
    {
     "ename": "ModuleNotFoundError",
     "evalue": "No module named 'readSGLX'",
     "output_type": "error",
     "traceback": [
      "\u001b[1;31m---------------------------------------------------------------------------\u001b[0m",
      "\u001b[1;31mModuleNotFoundError\u001b[0m                       Traceback (most recent call last)",
      "\u001b[1;32mc:\\Users\\Flora\\Documents\\Github\\PinkRigs\\Analysis\\+kilo\\python_\\run_pyKS.ipynb Cell 1'\u001b[0m in \u001b[0;36m<cell line: 7>\u001b[1;34m()\u001b[0m\n\u001b[0;32m      <a href='vscode-notebook-cell:/c%3A/Users/Flora/Documents/Github/PinkRigs/Analysis/%2Bkilo/python_/run_pyKS.ipynb#ch0000000?line=4'>5</a>\u001b[0m \u001b[39mfrom\u001b[39;00m \u001b[39mpathlib\u001b[39;00m \u001b[39mimport\u001b[39;00m Path\n\u001b[0;32m      <a href='vscode-notebook-cell:/c%3A/Users/Flora/Documents/Github/PinkRigs/Analysis/%2Bkilo/python_/run_pyKS.ipynb#ch0000000?line=5'>6</a>\u001b[0m \u001b[39m# pykilosort \u001b[39;00m\n\u001b[1;32m----> <a href='vscode-notebook-cell:/c%3A/Users/Flora/Documents/Github/PinkRigs/Analysis/%2Bkilo/python_/run_pyKS.ipynb#ch0000000?line=6'>7</a>\u001b[0m \u001b[39mfrom\u001b[39;00m \u001b[39mreadSGLX\u001b[39;00m \u001b[39mimport\u001b[39;00m readMeta\n\u001b[0;32m      <a href='vscode-notebook-cell:/c%3A/Users/Flora/Documents/Github/PinkRigs/Analysis/%2Bkilo/python_/run_pyKS.ipynb#ch0000000?line=7'>8</a>\u001b[0m \u001b[39mfrom\u001b[39;00m \u001b[39mpykilosort\u001b[39;00m \u001b[39mimport\u001b[39;00m run, add_default_handler, np2_4shank_probe \n\u001b[0;32m     <a href='vscode-notebook-cell:/c%3A/Users/Flora/Documents/Github/PinkRigs/Analysis/%2Bkilo/python_/run_pyKS.ipynb#ch0000000?line=10'>11</a>\u001b[0m \u001b[39m# get queue\u001b[39;00m\n",
      "\u001b[1;31mModuleNotFoundError\u001b[0m: No module named 'readSGLX'"
     ]
    }
   ],
   "source": [
    "\n",
    "import re\n",
    "import numpy as np\n",
    "import pandas as pd \n",
    "pd.options.mode.chained_assignment = None # we will overwrite some rows in the DataFrame\n",
    "from pathlib import Path\n",
    "# pykilosort \n",
    "from readSGLX import readMeta\n",
    "from pykilosort import run, add_default_handler, np2_4shank_probe \n",
    "\n",
    "\n",
    "# get queue\n",
    "root = r'\\\\zserver.cortexlab.net\\Code\\AVrig'\n",
    "queue_csv_file = '%s\\pykilosort_queue.csv' % root\n",
    "queue_csv = pd.read_csv(queue_csv_file)\n",
    "channel_map = np2_4shank_probe()\n",
    "for idx,rec in queue_csv.iterrows():\n",
    "    #check if recording is not being sorted already \n",
    "    if rec.sortedTag==0: \n",
    "\n",
    "        #try:\n",
    "        input_dir = Path(rec.ephysName)            \n",
    "        # read the metadata and get the x- and ypos of channels \n",
    "        meta = readMeta(input_dir)\n",
    "        channel_data = re.findall(r\"\\d+:\\d+:\\d+:\\d+\",meta['snsShankMap'])\n",
    "        shank_idx = np.array([np.array(re.split(':',chandat)).astype('int')[0] for chandat in channel_data])\n",
    "        side_idx = np.array([np.array(re.split(':',chandat)).astype('int')[1] for chandat in channel_data])\n",
    "        channel_map.xcoords = ((shank_idx*250) + side_idx*32).astype('float64')\n",
    "        channel_map.ycoords = (np.array([np.array(re.split(':',chandat)).astype('int')[2] for chandat in channel_data])*15).astype('float64')\n",
    "\n",
    "        output_dir = input_dir.parents[0] / 'pyKS'\n",
    "        output_dir.mkdir(parents=False, exist_ok=True)\n",
    "        \n",
    "        queue_csv.sortedTag.iloc[idx]= .5\n",
    "        queue_csv.to_csv(queue_csv_file,index = False)\n",
    "        add_default_handler(level='INFO') # print output as the algorithm runs\n",
    "        run(input_dir, probe=channel_map, low_memory=True, dir_path=output_dir)\n",
    "        queue_csv.sortedTag.iloc[idx]= 1\n",
    "        queue_csv.to_csv(queue_csv_file,index = False)\n",
    "        # except: \n",
    "        #     queue_csv.sortedTag.iloc[idx]= -1\n",
    "        #     queue_csv.to_csv(queue_csv_file,index = False)          \n",
    "\n"
   ]
  },
  {
   "cell_type": "code",
   "execution_count": 3,
   "metadata": {},
   "outputs": [
    {
     "ename": "NameError",
     "evalue": "name 'np2_4shank_probe' is not defined",
     "output_type": "error",
     "traceback": [
      "\u001b[1;31m---------------------------------------------------------------------------\u001b[0m",
      "\u001b[1;31mNameError\u001b[0m                                 Traceback (most recent call last)",
      "\u001b[1;32mc:\\Users\\Flora\\Documents\\Github\\PinkRigs\\Analysis\\+kilo\\python_\\run_pyKS.ipynb Cell 2'\u001b[0m in \u001b[0;36m<cell line: 1>\u001b[1;34m()\u001b[0m\n\u001b[1;32m----> <a href='vscode-notebook-cell:/c%3A/Users/Flora/Documents/Github/PinkRigs/Analysis/%2Bkilo/python_/run_pyKS.ipynb#ch0000002?line=0'>1</a>\u001b[0m np2_4shank_probe\n",
      "\u001b[1;31mNameError\u001b[0m: name 'np2_4shank_probe' is not defined"
     ]
    }
   ],
   "source": [
    "np2_4shank_probe"
   ]
  },
  {
   "cell_type": "code",
   "execution_count": 2,
   "metadata": {},
   "outputs": [
    {
     "ename": "ImportError",
     "evalue": "cannot import name 'neuropixel_probe_from_metafile' from 'pykilosort' (C:\\Users\\Flora\\Documents\\Github\\pykilosort\\pykilosort\\__init__.py)",
     "output_type": "error",
     "traceback": [
      "\u001b[1;31m---------------------------------------------------------------------------\u001b[0m",
      "\u001b[1;31mImportError\u001b[0m                               Traceback (most recent call last)",
      "\u001b[1;32mc:\\Users\\Flora\\Documents\\Github\\PinkRigs\\Analysis\\+kilo\\python_\\run_pyKS.ipynb Cell 2'\u001b[0m in \u001b[0;36m<cell line: 1>\u001b[1;34m()\u001b[0m\n\u001b[1;32m----> <a href='vscode-notebook-cell:/c%3A/Users/Flora/Documents/Github/PinkRigs/Analysis/%2Bkilo/python_/run_pyKS.ipynb#ch0000001?line=0'>1</a>\u001b[0m \u001b[39mfrom\u001b[39;00m \u001b[39mpykilosort\u001b[39;00m \u001b[39mimport\u001b[39;00m neuropixel_probe_from_metafile\n",
      "\u001b[1;31mImportError\u001b[0m: cannot import name 'neuropixel_probe_from_metafile' from 'pykilosort' (C:\\Users\\Flora\\Documents\\Github\\pykilosort\\pykilosort\\__init__.py)"
     ]
    }
   ],
   "source": [
    "from pykilosort import neuropixel_probe_from_metafile\n"
   ]
  }
 ],
 "metadata": {
  "interpreter": {
   "hash": "c7f2cc8caa3424054656049bd6509de13514900a823639528084b6d10c1824ca"
  },
  "kernelspec": {
   "display_name": "Python 3.9.12 ('pyks2')",
   "language": "python",
   "name": "python3"
  },
  "language_info": {
   "codemirror_mode": {
    "name": "ipython",
    "version": 3
   },
   "file_extension": ".py",
   "mimetype": "text/x-python",
   "name": "python",
   "nbconvert_exporter": "python",
   "pygments_lexer": "ipython3",
   "version": "3.9.12"
  },
  "orig_nbformat": 4,
  "vscode": {
   "interpreter": {
    "hash": "b6a2ed5a592b5e4333e5884be371d2ac28e1388dfe0b5deffbc70606bd29000f"
   }
  }
 },
 "nbformat": 4,
 "nbformat_minor": 2
}
