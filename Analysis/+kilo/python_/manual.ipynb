{
 "cells": [
  {
   "cell_type": "code",
   "execution_count": 1,
   "metadata": {},
   "outputs": [
    {
     "name": "stderr",
     "output_type": "stream",
     "text": [
      "\u001b[0m00:08:09.088 [I] utils:279            Loaded data with 385 channels, 45404018 samples\u001b[0m\n",
      "\u001b[0m00:08:09.096 [I] utils:567            Starting step whitening_matrix.\u001b[0m\n"
     ]
    },
    {
     "data": {
      "application/vnd.jupyter.widget-view+json": {
       "model_id": "79f5c8c788c8461fa240e3ebb293c319",
       "version_major": 2,
       "version_minor": 0
      },
      "text/plain": [
       "Computing the whitening matrix:   0%|          | 0/28 [00:00<?, ?it/s]"
      ]
     },
     "metadata": {},
     "output_type": "display_data"
    },
    {
     "name": "stderr",
     "output_type": "stream",
     "text": [
      "\u001b[0m00:08:28.842 [I] preprocess:243       Computed the whitening matrix.\u001b[0m\n",
      "\u001b[0m00:08:28.843 [I] utils:578            Step `whitening_matrix` took 19.75s.\u001b[0m\n",
      "\u001b[0m00:08:28.859 [I] utils:567            Starting step preprocess.\u001b[0m\n",
      "\u001b[0m00:08:28.860 [I] preprocess:402       Loading raw data and applying filters.\u001b[0m\n"
     ]
    },
    {
     "data": {
      "application/vnd.jupyter.widget-view+json": {
       "model_id": "0d5d403e8b6741949c24a477908f3442",
       "version_major": 2,
       "version_minor": 0
      },
      "text/plain": [
       "Preprocessing:   0%|          | 0/693 [00:00<?, ?it/s]"
      ]
     },
     "metadata": {},
     "output_type": "display_data"
    },
    {
     "name": "stderr",
     "output_type": "stream",
     "text": [
      "\u001b[0m00:14:12.003 [I] utils:578            Step `preprocess` took 343.14s.\u001b[0m\n",
      "\u001b[0m00:14:12.442 [I] utils:567            Starting step learn.\u001b[0m\n"
     ]
    },
    {
     "data": {
      "application/vnd.jupyter.widget-view+json": {
       "model_id": "e692e65f20f24b0eb7ad3501dce3151f",
       "version_major": 2,
       "version_minor": 0
      },
      "text/plain": [
       "Extracting templates:   0%|          | 0/139 [00:00<?, ?it/s]"
      ]
     },
     "metadata": {},
     "output_type": "display_data"
    },
    {
     "data": {
      "application/vnd.jupyter.widget-view+json": {
       "model_id": "2578919f0dda441e8c5cffa0a854fd18",
       "version_major": 2,
       "version_minor": 0
      },
      "text/plain": [
       "Optimizing templates:   0%|          | 0/1387 [00:00<?, ?it/s]"
      ]
     },
     "metadata": {},
     "output_type": "display_data"
    }
   ],
   "source": [
    "# import PinkRig ephys processng tools \n",
    "import glob,sys,json,shutil\n",
    "from pathlib import Path \n",
    "\n",
    "from pykilosort import run, add_default_handler, neuropixel_probe_from_metafile\n",
    "\n",
    "# I really wish I could shorten this line\n",
    "pinkRig_path= glob.glob(r'C:\\Users\\*\\Documents\\Github\\PinkRigs')\n",
    "pinkRig_path = Path(pinkRig_path[0])\n",
    "sys.path.insert(0, (pinkRig_path.__str__()))\n",
    "\n",
    "from Analysis.helpers.queryExp import queryExp\n",
    "from run_pyKS import run_pyKS_single_file\n",
    "\n",
    "# recomute should be able to take \n",
    "# err: files that errored \n",
    "\n",
    "sessions = queryExp(mice2check='AV014',days2check='2022-06-30')\n",
    "ephys_path = Path(sessions.iloc[0].expFolder).parent / 'ephys'\n",
    "ephys_recordings = list(ephys_path.glob('**\\*ap.meta'))\n",
    "\n",
    "\n",
    "for rec in ephys_recordings: \n",
    "    is_sorted = (rec.parent / r'pyKS\\output\\cluster_group.tsv').is_file()\n",
    "    if not is_sorted: \n",
    "        # sort\n",
    "        s=run_pyKS_single_file(rec,recompute_errored_sorting = True)\n",
    "        print(s)\n",
    "\n",
    "\n",
    "\n",
    "\n",
    "  \n",
    "\n",
    "\n",
    "\n"
   ]
  }
 ],
 "metadata": {
  "kernelspec": {
   "display_name": "Python 3.9.12 ('pyks2')",
   "language": "python",
   "name": "python3"
  },
  "language_info": {
   "codemirror_mode": {
    "name": "ipython",
    "version": 3
   },
   "file_extension": ".py",
   "mimetype": "text/x-python",
   "name": "python",
   "nbconvert_exporter": "python",
   "pygments_lexer": "ipython3",
   "version": "3.9.12"
  },
  "orig_nbformat": 4,
  "vscode": {
   "interpreter": {
    "hash": "b6a2ed5a592b5e4333e5884be371d2ac28e1388dfe0b5deffbc70606bd29000f"
   }
  }
 },
 "nbformat": 4,
 "nbformat_minor": 2
}
