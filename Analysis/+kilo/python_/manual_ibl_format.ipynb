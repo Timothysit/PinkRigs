{
 "cells": [
  {
   "cell_type": "code",
   "execution_count": 5,
   "metadata": {},
   "outputs": [
    {
     "name": "stdout",
     "output_type": "stream",
     "text": [
      "converting data to IBL format ...\n"
     ]
    },
    {
     "name": "stderr",
     "output_type": "stream",
     "text": [
      "c:\\Users\\Flora\\anaconda3\\envs\\iblenv\\lib\\site-packages\\phylib\\io\\model.py:1053: RuntimeWarning: invalid value encountered in true_divide\n",
      "  spikes_depths[ispi] = (np.sum(np.transpose(ypos * features) /\n",
      "Converting to ALF:  16%|█▌        | 20/125 [00:00<00:02, 50.51it/s]c:\\Users\\Flora\\anaconda3\\envs\\iblenv\\lib\\site-packages\\phylib\\io\\model.py:1093: RuntimeWarning: invalid value encountered in true_divide\n",
      "  templates_amps_v = (np.bincount(self.spike_templates, weights=spike_amps) /\n",
      "Extracting waveforms: 100%|██████████| 2354.1712333333335/2354.1712333333335 [00:11<00:00, 196.50it/s]\n",
      "Converting to ALF:  84%|████████▍ | 105/125 [00:41<00:07,  2.58it/s]c:\\Users\\Flora\\anaconda3\\envs\\iblenv\\lib\\site-packages\\phylib\\io\\model.py:1053: RuntimeWarning: invalid value encountered in true_divide\n",
      "  spikes_depths[ispi] = (np.sum(np.transpose(ypos * features) /\n",
      "Converting to ALF: 145it [00:46,  3.10it/s]                         \n"
     ]
    },
    {
     "data": {
      "text/plain": [
       "WindowsPath('//znas.cortexlab.net/Subjects/FT009/2021-01-20/ephys/FT009_2021-01-20_AV_passive_botrow48_g0/FT009_2021-01-20_AV_passive_botrow48_g0_imec0/kilosort2/ibl_format')"
      ]
     },
     "execution_count": 5,
     "metadata": {},
     "output_type": "execute_result"
    }
   ],
   "source": [
    "import glob\n",
    "from pathlib import Path\n",
    "pinkRig_path= glob.glob(r'C:\\Users\\*\\Documents\\Github\\PinkRigs')\n",
    "pinkRig_path = Path(pinkRig_path[0])\n",
    "sys.path.insert(0, (pinkRig_path / 'Admin').__str__() )\n",
    "from convert_to_ibl_format import ks_to_ibl_format\n",
    "\n",
    "# Path to raw ephys data\n",
    "ephys_path = Path(r'\\\\znas.cortexlab.net\\Subjects\\FT009\\2021-01-20\\ephys\\FT009_2021-01-20_AV_passive_botrow48_g0\\FT009_2021-01-20_AV_passive_botrow48_g0_imec0')\n",
    "     \n",
    "ks_to_ibl_format(ephys_path,ks_folder='kilosort2',recompute=True)"
   ]
  },
  {
   "cell_type": "code",
   "execution_count": null,
   "metadata": {},
   "outputs": [],
   "source": []
  }
 ],
 "metadata": {
  "kernelspec": {
   "display_name": "Python 3.9.12 ('iblenv')",
   "language": "python",
   "name": "python3"
  },
  "language_info": {
   "codemirror_mode": {
    "name": "ipython",
    "version": 3
   },
   "file_extension": ".py",
   "mimetype": "text/x-python",
   "name": "python",
   "nbconvert_exporter": "python",
   "pygments_lexer": "ipython3",
   "version": "3.9.12"
  },
  "orig_nbformat": 4,
  "vscode": {
   "interpreter": {
    "hash": "8f93d2e22c46842035eaf451471a9368b8ad51fc8a4ba57c37c4e69e32446ecd"
   }
  }
 },
 "nbformat": 4,
 "nbformat_minor": 2
}
