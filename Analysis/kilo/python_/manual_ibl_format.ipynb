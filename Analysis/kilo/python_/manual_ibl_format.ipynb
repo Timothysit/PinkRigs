{
 "cells": [
  {
   "cell_type": "code",
   "execution_count": null,
   "metadata": {},
   "outputs": [],
   "source": [
    "import glob\n",
    "from pathlib import Path\n",
    "from convert_to_ibl_format import ks_to_ibl_format\n",
    "# Path to raw ephys data\n",
    "ephys_path = Path(r'\\\\znas.cortexlab.net\\Subjects\\FT009\\2021-01-20\\ephys\\FT009_2021-01-20_AV_passive_botrow48_g0\\FT009_2021-01-20_AV_passive_botrow48_g0_imec0')\n",
    "     \n",
    "ks_to_ibl_format(ephys_path,ks_folder='kilosort2',recompute=True)"
   ]
  }
 ],
 "metadata": {
  "kernelspec": {
   "display_name": "Python 3.9.12 ('iblenv')",
   "language": "python",
   "name": "python3"
  },
  "language_info": {
   "codemirror_mode": {
    "name": "ipython",
    "version": 3
   },
   "file_extension": ".py",
   "mimetype": "text/x-python",
   "name": "python",
   "nbconvert_exporter": "python",
   "pygments_lexer": "ipython3",
   "version": "3.9.12"
  },
  "orig_nbformat": 4,
  "vscode": {
   "interpreter": {
    "hash": "8f93d2e22c46842035eaf451471a9368b8ad51fc8a4ba57c37c4e69e32446ecd"
   }
  }
 },
 "nbformat": 4,
 "nbformat_minor": 2
}
