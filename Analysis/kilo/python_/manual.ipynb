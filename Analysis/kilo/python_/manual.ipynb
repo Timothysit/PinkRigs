{
 "cells": [
  {
   "cell_type": "code",
   "execution_count": null,
   "metadata": {},
   "outputs": [],
   "source": [
    "# import PinkRig ephys processng tools \n",
    "import glob,sys,json,shutil\n",
    "from pathlib import Path \n",
    "\n",
    "from pykilosort import run, add_default_handler, neuropixel_probe_from_metafile\n",
    "\n",
    "# I really wish I could shorten this line\n",
    "pinkRig_path= glob.glob(r'C:\\Users\\*\\Documents\\Github\\PinkRigs')\n",
    "pinkRig_path = Path(pinkRig_path[0])\n",
    "sys.path.insert(0, (pinkRig_path.__str__()))\n",
    "\n",
    "from Admin.csv_queryExp import queryCSV\n",
    "from run_pyKS import run_pyKS_single_file\n",
    "\n",
    "# recomute should be able to take \n",
    "# err: files that errored \n",
    "\n",
    "sessions = queryCSV(subject=['AV020','AV021'],expDate='2022-08-05')\n",
    "\n",
    "# get unique sessions - currently we sort everything within an ephys folder. \n",
    "sessions= sessions.drop_duplicates(subset=['Subject','expDate'])\n",
    "\n",
    "for session_of_the_day in sessions.iterrows():\n",
    "        ephys_path = Path(session_of_the_day.expFolder).parent / 'ephys'\n",
    "        ephys_recordings = list(ephys_path.glob('**\\*ap.meta'))\n",
    "\n",
    "        for rec in ephys_recordings: \n",
    "                s=run_pyKS_single_file(rec,recompute_errored_sorting = True,resort = True,bin_file_extension ='cbin')\n",
    "                print(rec)\n"
   ]
  }
 ],
 "metadata": {
  "kernelspec": {
   "display_name": "Python 3.9.12 ('iblenv')",
   "language": "python",
   "name": "python3"
  },
  "language_info": {
   "codemirror_mode": {
    "name": "ipython",
    "version": 3
   },
   "file_extension": ".py",
   "mimetype": "text/x-python",
   "name": "python",
   "nbconvert_exporter": "python",
   "pygments_lexer": "ipython3",
   "version": "3.9.12"
  },
  "orig_nbformat": 4,
  "vscode": {
   "interpreter": {
    "hash": "8f93d2e22c46842035eaf451471a9368b8ad51fc8a4ba57c37c4e69e32446ecd"
   }
  }
 },
 "nbformat": 4,
 "nbformat_minor": 2
}
