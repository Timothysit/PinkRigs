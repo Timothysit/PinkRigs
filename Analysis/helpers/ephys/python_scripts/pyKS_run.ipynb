{
 "cells": [
  {
   "cell_type": "code",
   "execution_count": 1,
   "metadata": {
    "scrolled": false
   },
   "outputs": [
    {
     "name": "stdout",
     "output_type": "stream",
     "text": [
      "\\\\zinu.cortexlab.net\\Subjects\\AV008\\2022-03-30\\ephys\\AV008_2022-03-30_ActivePassive_g0\\AV008_2022-03-30_ActivePassive_g0_imec0\\AV008_2022-03-30_ActivePassive_g0_t0.imec0.ap.bin\n"
     ]
    },
    {
     "name": "stderr",
     "output_type": "stream",
     "text": [
      "\u001b[0m12:14:48.971 [I] utils:277            Loaded data with 385 channels, 202108928 samples\u001b[0m\n",
      "\u001b[0m12:14:49.106 [I] utils:557            Starting step preprocess.\u001b[0m\n",
      "\u001b[0m12:14:49.245 [I] preprocess:397       Loading raw data and applying filters.\u001b[0m\n"
     ]
    },
    {
     "data": {
      "application/vnd.jupyter.widget-view+json": {
       "model_id": "49495bc755174206804d86d920010792",
       "version_major": 2,
       "version_minor": 0
      },
      "text/plain": [
       "Preprocessing:   0%|          | 0/3081 [00:00<?, ?it/s]"
      ]
     },
     "metadata": {},
     "output_type": "display_data"
    },
    {
     "name": "stderr",
     "output_type": "stream",
     "text": [
      "C:\\Users\\Flora\\Documents\\Github\\pykilosort\\pykilosort\\cptools.py:393: FutureWarning: Using a non-tuple sequence for multidimensional indexing is deprecated; use `arr[tuple(seq)]` instead of `arr[seq]`. In the future this will be interpreted as an array index, `arr[cupy.array(seq)]`, which will result either in an error or a different result.\n",
      "  return cp.mean(part[indexer], axis=axis)\n",
      "\u001b[0m13:40:31.801 [I] utils:568            Step `preprocess` took 5142.69s.\u001b[0m\n",
      "\u001b[0m13:40:31.884 [I] utils:557            Starting step drift_correction.\u001b[0m\n",
      "\u001b[0m13:40:31.892 [I] datashift2:618       pitch is 15.0 um\u001b[0m\n"
     ]
    },
    {
     "data": {
      "application/vnd.jupyter.widget-view+json": {
       "model_id": "458de397b856466cb41ccadd71a63e59",
       "version_major": 2,
       "version_minor": 0
      },
      "text/plain": [
       "Extracting templates:   0%|          | 0/617 [00:00<?, ?it/s]"
      ]
     },
     "metadata": {},
     "output_type": "display_data"
    },
    {
     "data": {
      "application/vnd.jupyter.widget-view+json": {
       "model_id": "2b849f4d80274d868698f787077552c5",
       "version_major": 2,
       "version_minor": 0
      },
      "text/plain": [
       "Detecting Spikes, 0 batches, 0 spikes:   0%|          | 0/3081 [00:00<?, ?it/s]"
      ]
     },
     "metadata": {},
     "output_type": "display_data"
    },
    {
     "data": {
      "application/vnd.jupyter.widget-view+json": {
       "model_id": "90efc82115c84663838b268cfce84e7f",
       "version_major": 2,
       "version_minor": 0
      },
      "text/plain": [
       "Shifting Data:   0%|          | 0/3081 [00:00<?, ?it/s]"
      ]
     },
     "metadata": {},
     "output_type": "display_data"
    },
    {
     "name": "stderr",
     "output_type": "stream",
     "text": [
      "\u001b[0m16:27:12.441 [I] datashift2:670       Shifted up/down 3081 batches\u001b[0m\n",
      "\u001b[0m16:27:12.463 [I] utils:568            Step `drift_correction` took 10002.36s.\u001b[0m\n",
      "\u001b[0m16:27:12.555 [I] utils:557            Starting step learn.\u001b[0m\n"
     ]
    },
    {
     "data": {
      "application/vnd.jupyter.widget-view+json": {
       "model_id": "2e9af20a7f814881a40b29a8d065b84a",
       "version_major": 2,
       "version_minor": 0
      },
      "text/plain": [
       "Extracting templates:   0%|          | 0/617 [00:00<?, ?it/s]"
      ]
     },
     "metadata": {},
     "output_type": "display_data"
    },
    {
     "data": {
      "application/vnd.jupyter.widget-view+json": {
       "model_id": "c3dafd23feca49cfa3b30740ecf8da43",
       "version_major": 2,
       "version_minor": 0
      },
      "text/plain": [
       "Optimizing templates:   0%|          | 0/6162 [00:00<?, ?it/s]"
      ]
     },
     "metadata": {},
     "output_type": "display_data"
    },
    {
     "name": "stderr",
     "output_type": "stream",
     "text": [
      "C:\\Users\\Flora\\Documents\\Github\\pykilosort\\pykilosort\\utils.py:75: FutureWarning: Using a non-tuple sequence for multidimensional indexing is deprecated; use `arr[tuple(seq)]` instead of `arr[seq]`. In the future this will be interpreted as an array index, `arr[cupy.array(seq)]`, which will result either in an error or a different result.\n",
      "  x[s] = val\n",
      "\u001b[0m19:40:59.790 [I] learn:1252           Found 19980376 spikes.\u001b[0m\n",
      "\u001b[0m19:41:19.526 [I] utils:568            Step `learn` took 11646.97s.\u001b[0m\n",
      "\u001b[0m19:41:39.485 [I] utils:557            Starting step merge.\u001b[0m\n"
     ]
    },
    {
     "data": {
      "application/vnd.jupyter.widget-view+json": {
       "model_id": "32feaa7bb3c04ecbabb7d44fd3efe5e1",
       "version_major": 2,
       "version_minor": 0
      },
      "text/plain": [
       "Finding merges:   0%|          | 0/335 [00:00<?, ?it/s]"
      ]
     },
     "metadata": {},
     "output_type": "display_data"
    },
    {
     "name": "stderr",
     "output_type": "stream",
     "text": [
      "\u001b[0m19:43:34.612 [I] utils:568            Step `merge` took 115.13s.\u001b[0m\n",
      "\u001b[0m19:43:34.635 [I] utils:557            Starting step split_1.\u001b[0m\n",
      "\u001b[0m19:43:42.642 [I] postprocess:836      Found 0 splits, checked 0/335 clusters, nccg 0\u001b[0m\n",
      "\u001b[0m19:45:08.735 [I] postprocess:836      Found 20 splits, checked 100/355 clusters, nccg 32\u001b[0m\n",
      "\u001b[0m19:46:21.951 [I] postprocess:836      Found 50 splits, checked 200/385 clusters, nccg 56\u001b[0m\n",
      "\u001b[0m19:47:26.116 [I] postprocess:836      Found 81 splits, checked 300/416 clusters, nccg 78\u001b[0m\n",
      "\u001b[0m19:48:21.928 [I] postprocess:836      Found 111 splits, checked 400/446 clusters, nccg 96\u001b[0m\n",
      "\u001b[0m19:48:52.716 [I] postprocess:1052     Finished splitting. Found 141 splits, checked 476/476 clusters, nccg 100\u001b[0m\n",
      "\u001b[0m19:50:51.614 [I] utils:568            Step `split_1` took 436.98s.\u001b[0m\n",
      "\u001b[0m19:50:51.927 [I] utils:557            Starting step cutoff.\u001b[0m\n"
     ]
    },
    {
     "data": {
      "application/vnd.jupyter.widget-view+json": {
       "model_id": "88012c6d4cc549088b6cf33650e89505",
       "version_major": 2,
       "version_minor": 0
      },
      "text/plain": [
       "Setting cutoff:   0%|          | 0/476 [00:00<?, ?it/s]"
      ]
     },
     "metadata": {},
     "output_type": "display_data"
    },
    {
     "name": "stderr",
     "output_type": "stream",
     "text": [
      "\u001b[0m19:56:47.494 [I] utils:568            Step `cutoff` took 355.57s.\u001b[0m\n",
      "\u001b[0m19:56:47.501 [I] main:284             11741751 spikes after cutoff.\u001b[0m\n",
      "\u001b[0m19:56:47.502 [I] main:285             Found 141 good units.\u001b[0m\n",
      "\u001b[0m19:56:47.502 [I] main:288             Saving results to phy.\u001b[0m\n",
      "\u001b[0m19:56:47.502 [I] utils:557            Starting step output.\u001b[0m\n"
     ]
    },
    {
     "data": {
      "application/vnd.jupyter.widget-view+json": {
       "model_id": "af573dd614b8409fa67b308fdc385f8b",
       "version_major": 2,
       "version_minor": 0
      },
      "text/plain": [
       "Computing templates:   0%|          | 0/450 [00:00<?, ?it/s]"
      ]
     },
     "metadata": {},
     "output_type": "display_data"
    },
    {
     "data": {
      "application/vnd.jupyter.widget-view+json": {
       "model_id": "734c1a83c12149748c703150b7cfb182",
       "version_major": 2,
       "version_minor": 0
      },
      "text/plain": [
       "Saving template and PC features:   0%|          | 0/200 [00:00<?, ?it/s]"
      ]
     },
     "metadata": {},
     "output_type": "display_data"
    },
    {
     "name": "stderr",
     "output_type": "stream",
     "text": [
      "\u001b[0m20:00:20.687 [I] utils:568            Step `output` took 213.18s.\u001b[0m\n",
      "\u001b[0m20:00:22.976 [I] utils:568            Step `whitening_matrix` took 39.71s.\u001b[0m\n",
      "\u001b[0m20:00:22.976 [I] utils:568            Step `preprocess` took 5142.69s.\u001b[0m\n",
      "\u001b[0m20:00:22.976 [I] utils:568            Step `drift_correction` took 10002.36s.\u001b[0m\n",
      "\u001b[0m20:00:22.977 [I] utils:568            Step `learn` took 11646.97s.\u001b[0m\n",
      "\u001b[0m20:00:22.977 [I] utils:568            Step `merge` took 115.13s.\u001b[0m\n",
      "\u001b[0m20:00:22.978 [I] utils:568            Step `split_1` took 436.98s.\u001b[0m\n",
      "\u001b[0m20:00:22.978 [I] utils:568            Step `cutoff` took 355.57s.\u001b[0m\n",
      "\u001b[0m20:00:22.978 [I] utils:568            Step `output` took 213.18s.\u001b[0m\n",
      "\u001b[0m20:00:22.979 [I] utils:572            Total time taken was 27952.58s\u001b[0m\n",
      "\u001b[0m20:00:23.279 [I] utils:277            Loaded data with 385 channels, 202108928 samples\u001b[0m\n"
     ]
    },
    {
     "name": "stdout",
     "output_type": "stream",
     "text": [
      "\\\\zinu.cortexlab.net\\Subjects\\AV008\\2022-03-30\\ephys\\AV008_2022-03-30_ActivePassive_g0\\AV008_2022-03-30_ActivePassive_g0_imec1\\AV008_2022-03-30_ActivePassive_g0_t0.imec1.ap.bin\n"
     ]
    },
    {
     "name": "stderr",
     "output_type": "stream",
     "text": [
      "\u001b[0m20:00:23.279 [I] utils:277            Loaded data with 385 channels, 202108928 samples\u001b[0m\n",
      "\u001b[0m20:00:23.336 [I] utils:557            Starting step whitening_matrix.\u001b[0m\n",
      "\u001b[0m20:00:23.336 [I] utils:557            Starting step whitening_matrix.\u001b[0m\n"
     ]
    },
    {
     "data": {
      "application/vnd.jupyter.widget-view+json": {
       "model_id": "31f2f1deed01421f9dfd5e826edd16a5",
       "version_major": 2,
       "version_minor": 0
      },
      "text/plain": [
       "Computing the whitening matrix:   0%|          | 0/124 [00:00<?, ?it/s]"
      ]
     },
     "metadata": {},
     "output_type": "display_data"
    },
    {
     "name": "stderr",
     "output_type": "stream",
     "text": [
      "C:\\Users\\Flora\\Documents\\Github\\pykilosort\\pykilosort\\cptools.py:393: FutureWarning: Using a non-tuple sequence for multidimensional indexing is deprecated; use `arr[tuple(seq)]` instead of `arr[seq]`. In the future this will be interpreted as an array index, `arr[cupy.array(seq)]`, which will result either in an error or a different result.\n",
      "  return cp.mean(part[indexer], axis=axis)\n",
      "\u001b[0m20:00:58.292 [I] preprocess:237       Computed the whitening matrix.\u001b[0m\n",
      "\u001b[0m20:00:58.292 [I] preprocess:237       Computed the whitening matrix.\u001b[0m\n",
      "\u001b[0m20:00:58.294 [I] utils:568            Step `whitening_matrix` took 34.96s.\u001b[0m\n",
      "\u001b[0m20:00:58.294 [I] utils:568            Step `whitening_matrix` took 34.96s.\u001b[0m\n",
      "\u001b[0m20:00:58.326 [I] utils:557            Starting step preprocess.\u001b[0m\n",
      "\u001b[0m20:00:58.326 [I] utils:557            Starting step preprocess.\u001b[0m\n",
      "\u001b[0m20:00:58.327 [I] preprocess:397       Loading raw data and applying filters.\u001b[0m\n",
      "\u001b[0m20:00:58.327 [I] preprocess:397       Loading raw data and applying filters.\u001b[0m\n"
     ]
    },
    {
     "data": {
      "application/vnd.jupyter.widget-view+json": {
       "model_id": "cecf1c4351514b49b877b24ea9fe8e7e",
       "version_major": 2,
       "version_minor": 0
      },
      "text/plain": [
       "Preprocessing:   0%|          | 0/3081 [00:00<?, ?it/s]"
      ]
     },
     "metadata": {},
     "output_type": "display_data"
    },
    {
     "name": "stderr",
     "output_type": "stream",
     "text": [
      "\u001b[0m21:29:02.740 [I] utils:568            Step `preprocess` took 5284.41s.\u001b[0m\n",
      "\u001b[0m21:29:02.740 [I] utils:568            Step `preprocess` took 5284.41s.\u001b[0m\n",
      "\u001b[0m21:29:02.992 [I] utils:557            Starting step drift_correction.\u001b[0m\n",
      "\u001b[0m21:29:02.992 [I] utils:557            Starting step drift_correction.\u001b[0m\n",
      "\u001b[0m21:29:02.999 [I] datashift2:618       pitch is 15.0 um\u001b[0m\n",
      "\u001b[0m21:29:02.999 [I] datashift2:618       pitch is 15.0 um\u001b[0m\n"
     ]
    },
    {
     "data": {
      "application/vnd.jupyter.widget-view+json": {
       "model_id": "fa44065e3bb24fe89f466bdd251edb9e",
       "version_major": 2,
       "version_minor": 0
      },
      "text/plain": [
       "Extracting templates:   0%|          | 0/617 [00:00<?, ?it/s]"
      ]
     },
     "metadata": {},
     "output_type": "display_data"
    },
    {
     "data": {
      "application/vnd.jupyter.widget-view+json": {
       "model_id": "a0ca3f28b4594807811fa228c3f49c0e",
       "version_major": 2,
       "version_minor": 0
      },
      "text/plain": [
       "Detecting Spikes, 0 batches, 0 spikes:   0%|          | 0/3081 [00:00<?, ?it/s]"
      ]
     },
     "metadata": {},
     "output_type": "display_data"
    },
    {
     "data": {
      "application/vnd.jupyter.widget-view+json": {
       "model_id": "bf0e65fe4fc748baa9ebd99c61b409c6",
       "version_major": 2,
       "version_minor": 0
      },
      "text/plain": [
       "Shifting Data:   0%|          | 0/3081 [00:00<?, ?it/s]"
      ]
     },
     "metadata": {},
     "output_type": "display_data"
    },
    {
     "name": "stderr",
     "output_type": "stream",
     "text": [
      "\u001b[0m00:00:31.808 [I] datashift2:670       Shifted up/down 3081 batches\u001b[0m\n",
      "\u001b[0m00:00:31.808 [I] datashift2:670       Shifted up/down 3081 batches\u001b[0m\n",
      "\u001b[0m00:00:31.831 [I] utils:568            Step `drift_correction` took 9088.84s.\u001b[0m\n",
      "\u001b[0m00:00:31.831 [I] utils:568            Step `drift_correction` took 9088.84s.\u001b[0m\n",
      "\u001b[0m00:00:32.097 [I] utils:557            Starting step learn.\u001b[0m\n",
      "\u001b[0m00:00:32.097 [I] utils:557            Starting step learn.\u001b[0m\n"
     ]
    },
    {
     "data": {
      "application/vnd.jupyter.widget-view+json": {
       "model_id": "9de352bb12cb4418a593af2db83dc129",
       "version_major": 2,
       "version_minor": 0
      },
      "text/plain": [
       "Extracting templates:   0%|          | 0/617 [00:00<?, ?it/s]"
      ]
     },
     "metadata": {},
     "output_type": "display_data"
    },
    {
     "data": {
      "application/vnd.jupyter.widget-view+json": {
       "model_id": "123ea15b42e8416b822386f4c79824ac",
       "version_major": 2,
       "version_minor": 0
      },
      "text/plain": [
       "Optimizing templates:   0%|          | 0/6162 [00:00<?, ?it/s]"
      ]
     },
     "metadata": {},
     "output_type": "display_data"
    },
    {
     "name": "stderr",
     "output_type": "stream",
     "text": [
      "C:\\Users\\Flora\\Documents\\Github\\pykilosort\\pykilosort\\utils.py:75: FutureWarning: Using a non-tuple sequence for multidimensional indexing is deprecated; use `arr[tuple(seq)]` instead of `arr[seq]`. In the future this will be interpreted as an array index, `arr[cupy.array(seq)]`, which will result either in an error or a different result.\n",
      "  x[s] = val\n",
      "\u001b[0m05:18:12.776 [I] learn:1252           Found 46884050 spikes.\u001b[0m\n",
      "\u001b[0m05:18:12.776 [I] learn:1252           Found 46884050 spikes.\u001b[0m\n",
      "\u001b[0m05:19:18.372 [I] utils:568            Step `learn` took 19126.27s.\u001b[0m\n",
      "\u001b[0m05:19:18.372 [I] utils:568            Step `learn` took 19126.27s.\u001b[0m\n",
      "\u001b[0m05:20:23.713 [I] utils:557            Starting step merge.\u001b[0m\n",
      "\u001b[0m05:20:23.713 [I] utils:557            Starting step merge.\u001b[0m\n"
     ]
    },
    {
     "data": {
      "application/vnd.jupyter.widget-view+json": {
       "model_id": "830a167844df49ef9716cdc908a972b8",
       "version_major": 2,
       "version_minor": 0
      },
      "text/plain": [
       "Finding merges:   0%|          | 0/513 [00:00<?, ?it/s]"
      ]
     },
     "metadata": {},
     "output_type": "display_data"
    },
    {
     "name": "stderr",
     "output_type": "stream",
     "text": [
      "\u001b[0m05:29:41.268 [I] utils:568            Step `merge` took 557.55s.\u001b[0m\n",
      "\u001b[0m05:29:41.268 [I] utils:568            Step `merge` took 557.55s.\u001b[0m\n",
      "\u001b[0m05:29:41.295 [I] utils:557            Starting step split_1.\u001b[0m\n",
      "\u001b[0m05:29:41.295 [I] utils:557            Starting step split_1.\u001b[0m\n",
      "\u001b[0m05:29:43.192 [I] postprocess:836      Found 0 splits, checked 0/513 clusters, nccg 0\u001b[0m\n",
      "\u001b[0m05:29:43.192 [I] postprocess:836      Found 0 splits, checked 0/513 clusters, nccg 0\u001b[0m\n",
      "\u001b[0m05:31:46.223 [I] postprocess:836      Found 17 splits, checked 100/530 clusters, nccg 24\u001b[0m\n",
      "\u001b[0m05:31:46.223 [I] postprocess:836      Found 17 splits, checked 100/530 clusters, nccg 24\u001b[0m\n",
      "\u001b[0m05:33:27.788 [I] postprocess:836      Found 38 splits, checked 200/551 clusters, nccg 41\u001b[0m\n",
      "\u001b[0m05:33:27.788 [I] postprocess:836      Found 38 splits, checked 200/551 clusters, nccg 41\u001b[0m\n",
      "\u001b[0m05:33:29.671 [I] postprocess:836      Found 39 splits, checked 200/552 clusters, nccg 41\u001b[0m\n",
      "\u001b[0m05:33:29.671 [I] postprocess:836      Found 39 splits, checked 200/552 clusters, nccg 41\u001b[0m\n",
      "\u001b[0m05:33:30.063 [I] postprocess:836      Found 40 splits, checked 200/553 clusters, nccg 41\u001b[0m\n",
      "\u001b[0m05:33:30.063 [I] postprocess:836      Found 40 splits, checked 200/553 clusters, nccg 41\u001b[0m\n",
      "\u001b[0m05:36:33.836 [I] postprocess:836      Found 77 splits, checked 300/590 clusters, nccg 71\u001b[0m\n",
      "\u001b[0m05:36:33.836 [I] postprocess:836      Found 77 splits, checked 300/590 clusters, nccg 71\u001b[0m\n",
      "\u001b[0m05:38:31.907 [I] postprocess:836      Found 96 splits, checked 400/609 clusters, nccg 102\u001b[0m\n",
      "\u001b[0m05:38:31.907 [I] postprocess:836      Found 96 splits, checked 400/609 clusters, nccg 102\u001b[0m\n",
      "\u001b[0m05:38:32.354 [I] postprocess:836      Found 97 splits, checked 400/610 clusters, nccg 102\u001b[0m\n",
      "\u001b[0m05:38:32.354 [I] postprocess:836      Found 97 splits, checked 400/610 clusters, nccg 102\u001b[0m\n",
      "\u001b[0m05:38:33.044 [I] postprocess:836      Found 98 splits, checked 400/611 clusters, nccg 102\u001b[0m\n",
      "\u001b[0m05:38:33.044 [I] postprocess:836      Found 98 splits, checked 400/611 clusters, nccg 102\u001b[0m\n",
      "\u001b[0m05:40:33.933 [I] postprocess:836      Found 134 splits, checked 500/647 clusters, nccg 128\u001b[0m\n",
      "\u001b[0m05:40:33.933 [I] postprocess:836      Found 134 splits, checked 500/647 clusters, nccg 128\u001b[0m\n",
      "\u001b[0m05:42:44.444 [I] postprocess:836      Found 185 splits, checked 600/698 clusters, nccg 151\u001b[0m\n",
      "\u001b[0m05:42:44.444 [I] postprocess:836      Found 185 splits, checked 600/698 clusters, nccg 151\u001b[0m\n",
      "\u001b[0m05:43:53.848 [I] postprocess:836      Found 228 splits, checked 700/741 clusters, nccg 176\u001b[0m\n",
      "\u001b[0m05:43:53.848 [I] postprocess:836      Found 228 splits, checked 700/741 clusters, nccg 176\u001b[0m\n",
      "\u001b[0m05:43:54.247 [I] postprocess:836      Found 229 splits, checked 700/742 clusters, nccg 176\u001b[0m\n",
      "\u001b[0m05:43:54.247 [I] postprocess:836      Found 229 splits, checked 700/742 clusters, nccg 176\u001b[0m\n",
      "\u001b[0m05:44:29.039 [I] postprocess:1052     Finished splitting. Found 252 splits, checked 765/765 clusters, nccg 182\u001b[0m\n",
      "\u001b[0m05:44:29.039 [I] postprocess:1052     Finished splitting. Found 252 splits, checked 765/765 clusters, nccg 182\u001b[0m\n",
      "\u001b[0m05:51:22.656 [I] utils:568            Step `split_1` took 1301.36s.\u001b[0m\n",
      "\u001b[0m05:51:22.656 [I] utils:568            Step `split_1` took 1301.36s.\u001b[0m\n",
      "\u001b[0m05:51:22.673 [I] utils:557            Starting step cutoff.\u001b[0m\n",
      "\u001b[0m05:51:22.673 [I] utils:557            Starting step cutoff.\u001b[0m\n"
     ]
    },
    {
     "data": {
      "application/vnd.jupyter.widget-view+json": {
       "model_id": "f2d4376813a44f65ad4f37e6386fe7e0",
       "version_major": 2,
       "version_minor": 0
      },
      "text/plain": [
       "Setting cutoff:   0%|          | 0/765 [00:00<?, ?it/s]"
      ]
     },
     "metadata": {},
     "output_type": "display_data"
    },
    {
     "name": "stderr",
     "output_type": "stream",
     "text": [
      "\u001b[0m06:05:45.848 [I] utils:568            Step `cutoff` took 863.18s.\u001b[0m\n",
      "\u001b[0m06:05:45.848 [I] utils:568            Step `cutoff` took 863.18s.\u001b[0m\n",
      "\u001b[0m06:05:45.876 [I] main:284             24181629 spikes after cutoff.\u001b[0m\n",
      "\u001b[0m06:05:45.876 [I] main:284             24181629 spikes after cutoff.\u001b[0m\n",
      "\u001b[0m06:05:45.876 [I] main:285             Found 235 good units.\u001b[0m\n",
      "\u001b[0m06:05:45.876 [I] main:285             Found 235 good units.\u001b[0m\n",
      "\u001b[0m06:05:45.877 [I] main:288             Saving results to phy.\u001b[0m\n",
      "\u001b[0m06:05:45.877 [I] main:288             Saving results to phy.\u001b[0m\n",
      "\u001b[0m06:05:45.878 [I] utils:557            Starting step output.\u001b[0m\n",
      "\u001b[0m06:05:45.878 [I] utils:557            Starting step output.\u001b[0m\n"
     ]
    },
    {
     "data": {
      "application/vnd.jupyter.widget-view+json": {
       "model_id": "97651e2228b549379456d4dfbff1a757",
       "version_major": 2,
       "version_minor": 0
      },
      "text/plain": [
       "Computing templates:   0%|          | 0/665 [00:00<?, ?it/s]"
      ]
     },
     "metadata": {},
     "output_type": "display_data"
    },
    {
     "data": {
      "application/vnd.jupyter.widget-view+json": {
       "model_id": "260ee4b8c3074785875bde71a4c773d9",
       "version_major": 2,
       "version_minor": 0
      },
      "text/plain": [
       "Saving template and PC features:   0%|          | 0/469 [00:00<?, ?it/s]"
      ]
     },
     "metadata": {},
     "output_type": "display_data"
    },
    {
     "name": "stderr",
     "output_type": "stream",
     "text": [
      "\u001b[0m06:14:07.475 [I] utils:568            Step `output` took 501.60s.\u001b[0m\n",
      "\u001b[0m06:14:07.475 [I] utils:568            Step `output` took 501.60s.\u001b[0m\n",
      "\u001b[0m06:14:10.269 [I] utils:568            Step `whitening_matrix` took 34.96s.\u001b[0m\n",
      "\u001b[0m06:14:10.269 [I] utils:568            Step `whitening_matrix` took 34.96s.\u001b[0m\n",
      "\u001b[0m06:14:10.271 [I] utils:568            Step `preprocess` took 5284.41s.\u001b[0m\n",
      "\u001b[0m06:14:10.271 [I] utils:568            Step `preprocess` took 5284.41s.\u001b[0m\n",
      "\u001b[0m06:14:10.271 [I] utils:568            Step `drift_correction` took 9088.84s.\u001b[0m\n",
      "\u001b[0m06:14:10.271 [I] utils:568            Step `drift_correction` took 9088.84s.\u001b[0m\n",
      "\u001b[0m06:14:10.273 [I] utils:568            Step `learn` took 19126.27s.\u001b[0m\n",
      "\u001b[0m06:14:10.273 [I] utils:568            Step `learn` took 19126.27s.\u001b[0m\n",
      "\u001b[0m06:14:10.273 [I] utils:568            Step `merge` took 557.55s.\u001b[0m\n",
      "\u001b[0m06:14:10.273 [I] utils:568            Step `merge` took 557.55s.\u001b[0m\n",
      "\u001b[0m06:14:10.274 [I] utils:568            Step `split_1` took 1301.36s.\u001b[0m\n",
      "\u001b[0m06:14:10.274 [I] utils:568            Step `split_1` took 1301.36s.\u001b[0m\n",
      "\u001b[0m06:14:10.275 [I] utils:568            Step `cutoff` took 863.18s.\u001b[0m\n",
      "\u001b[0m06:14:10.275 [I] utils:568            Step `cutoff` took 863.18s.\u001b[0m\n",
      "\u001b[0m06:14:10.275 [I] utils:568            Step `output` took 501.60s.\u001b[0m\n",
      "\u001b[0m06:14:10.275 [I] utils:568            Step `output` took 501.60s.\u001b[0m\n",
      "\u001b[0m06:14:10.276 [I] utils:572            Total time taken was 36758.17s\u001b[0m\n",
      "\u001b[0m06:14:10.276 [I] utils:572            Total time taken was 36758.17s\u001b[0m\n"
     ]
    }
   ],
   "source": [
    "from pathlib import Path\n",
    "from pykilosort import run, add_default_handler, np2_4shank_probe \n",
    "import glob\n",
    "import numpy as np\n",
    "\n",
    "server = '\\\\\\\\zinu.cortexlab.net\\Subjects'\n",
    "subject = 'AV008'\n",
    "dates =['2022-03-30']\n",
    "\n",
    "path = [r'%s\\%s\\%s\\ephys\\**\\*Active*ap.bin' % (server,subject,date) for date in dates]\n",
    "data_paths = [glob.glob(path[i],recursive=True) for i in range(len(path))]\n",
    "data_paths = list(np.concatenate(data_paths)) # just flatten the nested list\n",
    "for recording in data_paths:\n",
    "    input_dir = Path(recording)\n",
    "    output_dir = input_dir.parents[0] / 'pyKS'\n",
    "    output_dir.mkdir(parents=False, exist_ok=True)\n",
    "    \n",
    "    add_default_handler(level='INFO') # print output as the algorithm runs\n",
    "    print(input_dir)\n",
    "    run(input_dir, probe=np2_4shank_probe(), low_memory=True, dir_path=output_dir)"
   ]
  },
  {
   "cell_type": "code",
   "execution_count": null,
   "metadata": {},
   "outputs": [
    {
     "name": "stderr",
     "output_type": "stream",
     "text": [
      "\u001b[0m19:02:18.792 [I] utils:294            Loaded data with 385 channels, 248831668 samples\u001b[0m\n",
      "\u001b[0m19:02:18.792 [I] utils:294            Loaded data with 385 channels, 248831668 samples\u001b[0m\n",
      "\u001b[0m19:02:18.956 [I] utils:294            Loaded data with 385 channels, 222748934 samples\u001b[0m\n",
      "\u001b[0m19:02:18.956 [I] utils:294            Loaded data with 385 channels, 222748934 samples\u001b[0m\n",
      "\u001b[0m19:02:18.960 [I] utils:557            Starting step whitening_matrix.\u001b[0m\n",
      "\u001b[0m19:02:18.960 [I] utils:557            Starting step whitening_matrix.\u001b[0m\n"
     ]
    },
    {
     "data": {
      "application/vnd.jupyter.widget-view+json": {
       "model_id": "b8bded3fdb48455fa9697e84e6354c15",
       "version_major": 2,
       "version_minor": 0
      },
      "text/plain": [
       "Computing the whitening matrix:   0%|          | 0/288 [00:00<?, ?it/s]"
      ]
     },
     "metadata": {},
     "output_type": "display_data"
    },
    {
     "name": "stderr",
     "output_type": "stream",
     "text": [
      "C:\\Users\\Flora\\Documents\\Github\\pykilosort\\pykilosort\\cptools.py:393: FutureWarning: Using a non-tuple sequence for multidimensional indexing is deprecated; use `arr[tuple(seq)]` instead of `arr[seq]`. In the future this will be interpreted as an array index, `arr[cupy.array(seq)]`, which will result either in an error or a different result.\n",
      "  return cp.mean(part[indexer], axis=axis)\n"
     ]
    }
   ],
   "source": [
    "# to run the stitched recording \n",
    "\n",
    "from pathlib import Path\n",
    "from pykilosort import run, add_default_handler, np2_4shank_probe \n",
    "import glob\n",
    "import numpy as np\n",
    "\n",
    "server = '\\\\\\\\zinu.cortexlab.net\\Subjects'\n",
    "subject = 'AV008'\n",
    "dates =['2022-03-11','2022-03-20']\n",
    "probe = 'imec0'\n",
    "\n",
    "path = [r'%s\\%s\\%s\\ephys\\**\\*%s*\\*Active*ap.bin' % (server,subject,date,probe) for date in dates]\n",
    "data_paths = [glob.glob(path[i],recursive=True) for i in range(len(path))]\n",
    "data_paths = list(np.concatenate(data_paths)) # just flatten the nested list\n",
    "data_paths = [Path(d) for d in data_paths]\n",
    "\n",
    "\n",
    "dir_path = Path(r'D:\\pyKS_stitched') #be sure to have a big disk!\n",
    "datestring = '_'.join(dates)\n",
    "filename = '%s_%s_%s' % (subject,datestring,probe)\n",
    "dir_path = dir_path / filename\n",
    "dir_path.mkdir(parents=False, exist_ok=True)\n",
    "\n",
    "add_default_handler(level='INFO')\n",
    "run(data_paths, dir_path=dir_path, probe=np2_4shank_probe(), low_memory=True)"
   ]
  }
 ],
 "metadata": {
  "interpreter": {
   "hash": "129f23dfe0c2b46813022c4e48f02233f387c2e3daa40e4dff0fb0eec0b06625"
  },
  "kernelspec": {
   "display_name": "Python 3 (ipykernel)",
   "language": "python",
   "name": "python3"
  },
  "language_info": {
   "codemirror_mode": {
    "name": "ipython",
    "version": 3
   },
   "file_extension": ".py",
   "mimetype": "text/x-python",
   "name": "python",
   "nbconvert_exporter": "python",
   "pygments_lexer": "ipython3",
   "version": "3.9.12"
  }
 },
 "nbformat": 4,
 "nbformat_minor": 2
}
