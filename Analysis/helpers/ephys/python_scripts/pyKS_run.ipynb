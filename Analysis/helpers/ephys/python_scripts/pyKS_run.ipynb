{
 "cells": [
  {
   "cell_type": "code",
   "execution_count": 42,
   "metadata": {
    "scrolled": false
   },
   "outputs": [],
   "source": [
    "from pathlib import Path\n",
    "from pykilosort import run, add_default_handler, np1_probe, np2_4shank_probe \n",
    "import glob\n",
    "import numpy as np\n",
    "\n",
    "server = '\\\\\\\\zinu.cortexlab.net\\Subjects'\n",
    "subject = 'AV008'\n",
    "dates =['2022-03-20']\n",
    "path = [r'%s\\%s\\%s\\ephys\\**\\shank*ap.bin' % (server,subject,date) for date in dates]\n",
    "data_paths = [glob.glob(path[i],recursive=True) for i in range(len(path))]\n",
    "data_paths = list(np.concatenate(data_paths)) # just flatten the nested list\n",
    "for recording in data_paths:\n",
    "    input_dir = Path(recording)\n",
    "    output_dir = input_dir.parents[0] / 'pyKS'\n",
    "    output_dir.mkdir(parents=False, exist_ok=True)\n",
    "    \n",
    "    add_default_handler(level='INFO') # print output as the algorithm runs\n",
    "    print(input_dir)\n",
    "    run(input_dir, probe=np1_probe(), low_memory=True, dir_path=output_dir)"
   ]
  },
  {
   "cell_type": "code",
   "execution_count": 6,
   "metadata": {},
   "outputs": [
    {
     "name": "stderr",
     "output_type": "stream",
     "text": [
      "\u001b[0m11:40:57.891 [I] utils:294            Loaded data with 385 channels, 61838961 samples\u001b[0m\n",
      "\u001b[0m11:40:57.891 [I] utils:294            Loaded data with 385 channels, 61838961 samples\u001b[0m\n",
      "\u001b[0m11:40:57.940 [I] utils:294            Loaded data with 385 channels, 55355844 samples\u001b[0m\n",
      "\u001b[0m11:40:57.940 [I] utils:294            Loaded data with 385 channels, 55355844 samples\u001b[0m\n",
      "\u001b[0m11:40:57.955 [I] utils:557            Starting step drift_correction.\u001b[0m\n",
      "\u001b[0m11:40:57.955 [I] utils:557            Starting step drift_correction.\u001b[0m\n",
      "\u001b[0m11:40:57.956 [I] datashift2:618       pitch is 15.0 um\u001b[0m\n",
      "\u001b[0m11:40:57.956 [I] datashift2:618       pitch is 15.0 um\u001b[0m\n"
     ]
    },
    {
     "data": {
      "application/vnd.jupyter.widget-view+json": {
       "model_id": "904638fdf6d3489a9d8b6b6a44ee74ba",
       "version_major": 2,
       "version_minor": 0
      },
      "text/plain": [
       "Extracting templates:   0%|          | 0/358 [00:00<?, ?it/s]"
      ]
     },
     "metadata": {},
     "output_type": "display_data"
    },
    {
     "data": {
      "application/vnd.jupyter.widget-view+json": {
       "model_id": "2a826eb4268e454c941eea029f692802",
       "version_major": 2,
       "version_minor": 0
      },
      "text/plain": [
       "Detecting Spikes, 0 batches, 0 spikes:   0%|          | 0/1787 [00:00<?, ?it/s]"
      ]
     },
     "metadata": {},
     "output_type": "display_data"
    },
    {
     "ename": "CUDARuntimeError",
     "evalue": "cudaErrorIllegalAddress: an illegal memory access was encountered",
     "output_type": "error",
     "traceback": [
      "\u001b[1;31m---------------------------------------------------------------------------\u001b[0m",
      "\u001b[1;31mCUDARuntimeError\u001b[0m                          Traceback (most recent call last)",
      "Input \u001b[1;32mIn [6]\u001b[0m, in \u001b[0;36m<cell line: 26>\u001b[1;34m()\u001b[0m\n\u001b[0;32m     23\u001b[0m dir_path\u001b[38;5;241m.\u001b[39mmkdir(parents\u001b[38;5;241m=\u001b[39m\u001b[38;5;28;01mFalse\u001b[39;00m, exist_ok\u001b[38;5;241m=\u001b[39m\u001b[38;5;28;01mTrue\u001b[39;00m)\n\u001b[0;32m     25\u001b[0m add_default_handler(level\u001b[38;5;241m=\u001b[39m\u001b[38;5;124m'\u001b[39m\u001b[38;5;124mINFO\u001b[39m\u001b[38;5;124m'\u001b[39m)\n\u001b[1;32m---> 26\u001b[0m \u001b[43mrun\u001b[49m\u001b[43m(\u001b[49m\u001b[43mdata_paths\u001b[49m\u001b[43m,\u001b[49m\u001b[43m \u001b[49m\u001b[43mdir_path\u001b[49m\u001b[38;5;241;43m=\u001b[39;49m\u001b[43mdir_path\u001b[49m\u001b[43m,\u001b[49m\u001b[43m \u001b[49m\u001b[43mprobe\u001b[49m\u001b[38;5;241;43m=\u001b[39;49m\u001b[43mnp2_4_sh2\u001b[49m\u001b[43m,\u001b[49m\u001b[43m \u001b[49m\u001b[43mlow_memory\u001b[49m\u001b[38;5;241;43m=\u001b[39;49m\u001b[38;5;28;43;01mTrue\u001b[39;49;00m\u001b[43m)\u001b[49m\n",
      "File \u001b[1;32m~\\Documents\\Github\\pykilosort\\pykilosort\\main.py:175\u001b[0m, in \u001b[0;36mrun\u001b[1;34m(dat_path, dir_path, output_dir, probe, stop_after, clear_context, **params)\u001b[0m\n\u001b[0;32m    173\u001b[0m     \u001b[38;5;28;01mif\u001b[39;00m \u001b[38;5;124m\"\u001b[39m\u001b[38;5;124mdrift_correction\u001b[39m\u001b[38;5;124m\"\u001b[39m \u001b[38;5;129;01mnot\u001b[39;00m \u001b[38;5;129;01min\u001b[39;00m ctx\u001b[38;5;241m.\u001b[39mtimer\u001b[38;5;241m.\u001b[39mkeys():\n\u001b[0;32m    174\u001b[0m         \u001b[38;5;28;01mwith\u001b[39;00m ctx\u001b[38;5;241m.\u001b[39mtime(\u001b[38;5;124m\"\u001b[39m\u001b[38;5;124mdrift_correction\u001b[39m\u001b[38;5;124m\"\u001b[39m):\n\u001b[1;32m--> 175\u001b[0m             out \u001b[38;5;241m=\u001b[39m \u001b[43mdatashift2\u001b[49m\u001b[43m(\u001b[49m\u001b[43mctx\u001b[49m\u001b[43m)\u001b[49m\n\u001b[0;32m    176\u001b[0m         ctx\u001b[38;5;241m.\u001b[39msave(\u001b[38;5;241m*\u001b[39m\u001b[38;5;241m*\u001b[39mout)\n\u001b[0;32m    177\u001b[0m \u001b[38;5;28;01melse\u001b[39;00m:\n",
      "File \u001b[1;32m~\\Documents\\Github\\pykilosort\\pykilosort\\datashift2.py:641\u001b[0m, in \u001b[0;36mdatashift2\u001b[1;34m(ctx)\u001b[0m\n\u001b[0;32m    635\u001b[0m wTEMP, wPCA \u001b[38;5;241m=\u001b[39m extractTemplatesfromSnippets(\n\u001b[0;32m    636\u001b[0m     data_loader\u001b[38;5;241m=\u001b[39mir\u001b[38;5;241m.\u001b[39mdata_loader, probe\u001b[38;5;241m=\u001b[39mprobe, params\u001b[38;5;241m=\u001b[39mparams, Nbatch\u001b[38;5;241m=\u001b[39mNbatch\n\u001b[0;32m    637\u001b[0m )\n\u001b[0;32m    639\u001b[0m \u001b[38;5;66;03m# Extract all the spikes across the recording that are captured by the\u001b[39;00m\n\u001b[0;32m    640\u001b[0m \u001b[38;5;66;03m# generic templates. Very few real spikes are missed in this way.\u001b[39;00m\n\u001b[1;32m--> 641\u001b[0m spikes \u001b[38;5;241m=\u001b[39m \u001b[43mstandalone_detector\u001b[49m\u001b[43m(\u001b[49m\n\u001b[0;32m    642\u001b[0m \u001b[43m    \u001b[49m\u001b[43mwTEMP\u001b[49m\u001b[43m,\u001b[49m\u001b[43m \u001b[49m\u001b[43mwPCA\u001b[49m\u001b[43m,\u001b[49m\u001b[43m \u001b[49m\u001b[43mparams\u001b[49m\u001b[38;5;241;43m.\u001b[39;49m\u001b[43mnPCs\u001b[49m\u001b[43m,\u001b[49m\u001b[43m \u001b[49m\u001b[43myup\u001b[49m\u001b[43m,\u001b[49m\u001b[43m \u001b[49m\u001b[43mxup\u001b[49m\u001b[43m,\u001b[49m\u001b[43m \u001b[49m\u001b[43mNbatch\u001b[49m\u001b[43m,\u001b[49m\u001b[43m \u001b[49m\u001b[43mir\u001b[49m\u001b[38;5;241;43m.\u001b[39;49m\u001b[43mdata_loader\u001b[49m\u001b[43m,\u001b[49m\u001b[43m \u001b[49m\u001b[43mprobe\u001b[49m\u001b[43m,\u001b[49m\u001b[43m \u001b[49m\u001b[43mparams\u001b[49m\n\u001b[0;32m    643\u001b[0m \u001b[43m\u001b[49m\u001b[43m)\u001b[49m\n\u001b[0;32m    645\u001b[0m \u001b[38;5;28;01mif\u001b[39;00m params\u001b[38;5;241m.\u001b[39msave_drift_spike_detections:\n\u001b[0;32m    646\u001b[0m     drift_path \u001b[38;5;241m=\u001b[39m ctx\u001b[38;5;241m.\u001b[39mcontext_path \u001b[38;5;241m/\u001b[39m \u001b[38;5;124m'\u001b[39m\u001b[38;5;124mdrift\u001b[39m\u001b[38;5;124m'\u001b[39m\n",
      "File \u001b[1;32m~\\Documents\\Github\\pykilosort\\pykilosort\\datashift2.py:496\u001b[0m, in \u001b[0;36mstandalone_detector\u001b[1;34m(wTEMP, wPCA, NrankPC, yup, xup, Nbatch, data_loader, probe, params)\u001b[0m\n\u001b[0;32m    493\u001b[0m dataRAW \u001b[38;5;241m=\u001b[39m data_loader\u001b[38;5;241m.\u001b[39mload_batch(ibatch)\n\u001b[0;32m    495\u001b[0m \u001b[38;5;66;03m# run the CUDA function on this batch\u001b[39;00m\n\u001b[1;32m--> 496\u001b[0m dat, kkmax, st, cF \u001b[38;5;241m=\u001b[39m \u001b[43mspikedetector3\u001b[49m\u001b[43m(\u001b[49m\n\u001b[0;32m    497\u001b[0m \u001b[43m    \u001b[49m\u001b[43mParams\u001b[49m\u001b[43m,\u001b[49m\u001b[43m \u001b[49m\u001b[43mdataRAW\u001b[49m\u001b[43m,\u001b[49m\u001b[43m \u001b[49m\u001b[43mwTEMP\u001b[49m\u001b[43m,\u001b[49m\u001b[43m \u001b[49m\u001b[43miC\u001b[49m\u001b[43m,\u001b[49m\u001b[43m \u001b[49m\u001b[43mdist\u001b[49m\u001b[43m,\u001b[49m\u001b[43m \u001b[49m\u001b[43mv2\u001b[49m\u001b[43m,\u001b[49m\u001b[43m \u001b[49m\u001b[43miC2\u001b[49m\u001b[43m,\u001b[49m\u001b[43m \u001b[49m\u001b[43mdist2\u001b[49m\n\u001b[0;32m    498\u001b[0m \u001b[43m\u001b[49m\u001b[43m)\u001b[49m\n\u001b[0;32m    499\u001b[0m \u001b[38;5;66;03m# upsample the y position using the center of mass of template products\u001b[39;00m\n\u001b[0;32m    500\u001b[0m \u001b[38;5;66;03m# coming out of the CUDA function.\u001b[39;00m\n\u001b[0;32m    501\u001b[0m ys \u001b[38;5;241m=\u001b[39m probe\u001b[38;5;241m.\u001b[39myc[cp\u001b[38;5;241m.\u001b[39masnumpy(iC)]\n",
      "File \u001b[1;32m~\\Documents\\Github\\pykilosort\\pykilosort\\datashift2.py:134\u001b[0m, in \u001b[0;36mspikedetector3\u001b[1;34m(Params, drez, wTEMP, iC, dist, v2, iC2, dist2)\u001b[0m\n\u001b[0;32m    116\u001b[0m maxChannels \u001b[38;5;241m=\u001b[39m cp\u001b[38;5;241m.\u001b[39mRawKernel(code, \u001b[38;5;124m\"\u001b[39m\u001b[38;5;124mmaxChannels\u001b[39m\u001b[38;5;124m\"\u001b[39m)\n\u001b[0;32m    117\u001b[0m maxChannels(\n\u001b[0;32m    118\u001b[0m     tpP,\n\u001b[0;32m    119\u001b[0m     (Nthreads,),\n\u001b[1;32m   (...)\u001b[0m\n\u001b[0;32m    132\u001b[0m     ),\n\u001b[0;32m    133\u001b[0m )\n\u001b[1;32m--> 134\u001b[0m counter \u001b[38;5;241m=\u001b[39m \u001b[43mcp\u001b[49m\u001b[38;5;241;43m.\u001b[39;49m\u001b[43masnumpy\u001b[49m\u001b[43m(\u001b[49m\u001b[43md_counter\u001b[49m\u001b[43m)\u001b[49m[\u001b[38;5;241m0\u001b[39m]\n\u001b[0;32m    136\u001b[0m minSize \u001b[38;5;241m=\u001b[39m \u001b[38;5;28mmin\u001b[39m(maxFR, counter)\n\u001b[0;32m    137\u001b[0m d_sto \u001b[38;5;241m=\u001b[39m d_st[: \u001b[38;5;241m4\u001b[39m \u001b[38;5;241m*\u001b[39m minSize]\u001b[38;5;241m.\u001b[39mreshape((\u001b[38;5;241m4\u001b[39m, minSize), order\u001b[38;5;241m=\u001b[39m\u001b[38;5;124m\"\u001b[39m\u001b[38;5;124mF\u001b[39m\u001b[38;5;124m\"\u001b[39m)\n",
      "File \u001b[1;32m~\\anaconda3\\envs\\pyks2\\lib\\site-packages\\cupy\\__init__.py:779\u001b[0m, in \u001b[0;36masnumpy\u001b[1;34m(a, stream, order, out)\u001b[0m\n\u001b[0;32m    760\u001b[0m \u001b[38;5;124;03m\"\"\"Returns an array on the host memory from an arbitrary source array.\u001b[39;00m\n\u001b[0;32m    761\u001b[0m \n\u001b[0;32m    762\u001b[0m \u001b[38;5;124;03mArgs:\u001b[39;00m\n\u001b[1;32m   (...)\u001b[0m\n\u001b[0;32m    776\u001b[0m \n\u001b[0;32m    777\u001b[0m \u001b[38;5;124;03m\"\"\"\u001b[39;00m\n\u001b[0;32m    778\u001b[0m \u001b[38;5;28;01mif\u001b[39;00m \u001b[38;5;28misinstance\u001b[39m(a, ndarray):\n\u001b[1;32m--> 779\u001b[0m     \u001b[38;5;28;01mreturn\u001b[39;00m \u001b[43ma\u001b[49m\u001b[38;5;241;43m.\u001b[39;49m\u001b[43mget\u001b[49m\u001b[43m(\u001b[49m\u001b[43mstream\u001b[49m\u001b[38;5;241;43m=\u001b[39;49m\u001b[43mstream\u001b[49m\u001b[43m,\u001b[49m\u001b[43m \u001b[49m\u001b[43morder\u001b[49m\u001b[38;5;241;43m=\u001b[39;49m\u001b[43morder\u001b[49m\u001b[43m,\u001b[49m\u001b[43m \u001b[49m\u001b[43mout\u001b[49m\u001b[38;5;241;43m=\u001b[39;49m\u001b[43mout\u001b[49m\u001b[43m)\u001b[49m\n\u001b[0;32m    780\u001b[0m \u001b[38;5;28;01melif\u001b[39;00m \u001b[38;5;28mhasattr\u001b[39m(a, \u001b[38;5;124m\"\u001b[39m\u001b[38;5;124m__cuda_array_interface__\u001b[39m\u001b[38;5;124m\"\u001b[39m):\n\u001b[0;32m    781\u001b[0m     \u001b[38;5;28;01mreturn\u001b[39;00m array(a)\u001b[38;5;241m.\u001b[39mget(stream\u001b[38;5;241m=\u001b[39mstream, order\u001b[38;5;241m=\u001b[39morder, out\u001b[38;5;241m=\u001b[39mout)\n",
      "File \u001b[1;32mcupy\\_core\\core.pyx:1667\u001b[0m, in \u001b[0;36mcupy._core.core.ndarray.get\u001b[1;34m()\u001b[0m\n",
      "File \u001b[1;32mcupy\\_core\\core.pyx:1752\u001b[0m, in \u001b[0;36mcupy._core.core.ndarray.get\u001b[1;34m()\u001b[0m\n",
      "File \u001b[1;32mcupy\\cuda\\memory.pyx:533\u001b[0m, in \u001b[0;36mcupy.cuda.memory.MemoryPointer.copy_to_host\u001b[1;34m()\u001b[0m\n",
      "File \u001b[1;32mcupy_backends\\cuda\\api\\runtime.pyx:552\u001b[0m, in \u001b[0;36mcupy_backends.cuda.api.runtime.memcpy\u001b[1;34m()\u001b[0m\n",
      "File \u001b[1;32mcupy_backends\\cuda\\api\\runtime.pyx:132\u001b[0m, in \u001b[0;36mcupy_backends.cuda.api.runtime.check_status\u001b[1;34m()\u001b[0m\n",
      "\u001b[1;31mCUDARuntimeError\u001b[0m: cudaErrorIllegalAddress: an illegal memory access was encountered"
     ]
    }
   ],
   "source": [
    "# to run the stitched recording \n",
    "\n",
    "from pathlib import Path\n",
    "from pykilosort import run, add_default_handler, np2_4shank_probe \n",
    "import glob\n",
    "import numpy as np\n",
    "\n",
    "server = '\\\\\\\\zinu.cortexlab.net\\Subjects'\n",
    "subject = 'AV008'\n",
    "dates =['2022-03-11','2022-03-20']\n",
    "probe = 'imec0'\n",
    "\n",
    "path = [r'%s\\%s\\%s\\ephys\\**\\*%s*\\shank_2.ap.bin' % (server,subject,date,probe) for date in dates]\n",
    "data_paths = [glob.glob(path[i],recursive=True) for i in range(len(path))]\n",
    "data_paths = list(np.concatenate(data_paths)) # just flatten the nested list\n",
    "data_paths = [Path(d) for d in data_paths]\n",
    "\n",
    "\n",
    "dir_path = Path(r'D:\\pyKS_stitched') #be sure to have a big disk!\n",
    "datestring = '_'.join(dates)\n",
    "filename = '%s_%s_%s_Shank2_t' % (subject,datestring,probe)\n",
    "dir_path = dir_path / filename\n",
    "dir_path.mkdir(parents=False, exist_ok=True)\n",
    "\n",
    "add_default_handler(level='INFO')\n",
    "run(data_paths, dir_path=dir_path, probe=np2_4_sh2, low_memory=True)"
   ]
  },
  {
   "cell_type": "code",
   "execution_count": 3,
   "metadata": {},
   "outputs": [],
   "source": [
    "np2_4_sh2 = np2_4shank_probe()"
   ]
  },
  {
   "cell_type": "code",
   "execution_count": 4,
   "metadata": {},
   "outputs": [],
   "source": [
    "np2_4_sh2['NchanTOT']=96\n",
    "np2_4_sh2['chanMap']=np2_4_sh2['chanMap'][:96]\n",
    "np2_4_sh2['yc']= np2_4_sh2['yc'][:96]\n",
    "np2_4_sh2['xc']=np.ravel(np.array([np2_4_sh2['xc'][:48],np2_4_sh2['xc'][:48]]))\n",
    "np2_4_sh2['kcoords']=np2_4_sh2['kcoords'][:96]\n"
   ]
  },
  {
   "cell_type": "code",
   "execution_count": 5,
   "metadata": {},
   "outputs": [
    {
     "data": {
      "text/plain": [
       "{'NchanTOT': 96,\n",
       " 'chanMap': array([ 0,  1,  2,  3,  4,  5,  6,  7,  8,  9, 10, 11, 12, 13, 14, 15, 16,\n",
       "        17, 18, 19, 20, 21, 22, 23, 24, 25, 26, 27, 28, 29, 30, 31, 32, 33,\n",
       "        34, 35, 36, 37, 38, 39, 40, 41, 42, 43, 44, 45, 46, 47, 48, 49, 50,\n",
       "        51, 52, 53, 54, 55, 56, 57, 58, 59, 60, 61, 62, 63, 64, 65, 66, 67,\n",
       "        68, 69, 70, 71, 72, 73, 74, 75, 76, 77, 78, 79, 80, 81, 82, 83, 84,\n",
       "        85, 86, 87, 88, 89, 90, 91, 92, 93, 94, 95]),\n",
       " 'kcoords': array([0., 0., 0., 0., 0., 0., 0., 0., 0., 0., 0., 0., 0., 0., 0., 0., 0.,\n",
       "        0., 0., 0., 0., 0., 0., 0., 0., 0., 0., 0., 0., 0., 0., 0., 0., 0.,\n",
       "        0., 0., 0., 0., 0., 0., 0., 0., 0., 0., 0., 0., 0., 0., 0., 0., 0.,\n",
       "        0., 0., 0., 0., 0., 0., 0., 0., 0., 0., 0., 0., 0., 0., 0., 0., 0.,\n",
       "        0., 0., 0., 0., 0., 0., 0., 0., 0., 0., 0., 0., 0., 0., 0., 0., 0.,\n",
       "        0., 0., 0., 0., 0., 0., 0., 0., 0., 0., 0.]),\n",
       " 'xc': array([ 0., 32.,  0., 32.,  0., 32.,  0., 32.,  0., 32.,  0., 32.,  0.,\n",
       "        32.,  0., 32.,  0., 32.,  0., 32.,  0., 32.,  0., 32.,  0., 32.,\n",
       "         0., 32.,  0., 32.,  0., 32.,  0., 32.,  0., 32.,  0., 32.,  0.,\n",
       "        32.,  0., 32.,  0., 32.,  0., 32.,  0., 32.,  0., 32.,  0., 32.,\n",
       "         0., 32.,  0., 32.,  0., 32.,  0., 32.,  0., 32.,  0., 32.,  0.,\n",
       "        32.,  0., 32.,  0., 32.,  0., 32.,  0., 32.,  0., 32.,  0., 32.,\n",
       "         0., 32.,  0., 32.,  0., 32.,  0., 32.,  0., 32.,  0., 32.,  0.,\n",
       "        32.,  0., 32.,  0., 32.]),\n",
       " 'yc': array([2880., 2880., 2895., 2895., 2910., 2910., 2925., 2925., 2940.,\n",
       "        2940., 2955., 2955., 2970., 2970., 2985., 2985., 3000., 3000.,\n",
       "        3015., 3015., 3030., 3030., 3045., 3045., 3060., 3060., 3075.,\n",
       "        3075., 3090., 3090., 3105., 3105., 3120., 3120., 3135., 3135.,\n",
       "        3150., 3150., 3165., 3165., 3180., 3180., 3195., 3195., 3210.,\n",
       "        3210., 3225., 3225., 2880., 2880., 2895., 2895., 2910., 2910.,\n",
       "        2925., 2925., 2940., 2940., 2955., 2955., 2970., 2970., 2985.,\n",
       "        2985., 3000., 3000., 3015., 3015., 3030., 3030., 3045., 3045.,\n",
       "        3060., 3060., 3075., 3075., 3090., 3090., 3105., 3105., 3120.,\n",
       "        3120., 3135., 3135., 3150., 3150., 3165., 3165., 3180., 3180.,\n",
       "        3195., 3195., 3210., 3210., 3225., 3225.])}"
      ]
     },
     "execution_count": 5,
     "metadata": {},
     "output_type": "execute_result"
    }
   ],
   "source": [
    "np2_4_sh2"
   ]
  }
 ],
 "metadata": {
  "interpreter": {
   "hash": "129f23dfe0c2b46813022c4e48f02233f387c2e3daa40e4dff0fb0eec0b06625"
  },
  "kernelspec": {
   "display_name": "Python 3 (ipykernel)",
   "language": "python",
   "name": "python3"
  },
  "language_info": {
   "codemirror_mode": {
    "name": "ipython",
    "version": 3
   },
   "file_extension": ".py",
   "mimetype": "text/x-python",
   "name": "python",
   "nbconvert_exporter": "python",
   "pygments_lexer": "ipython3",
   "version": "3.9.12"
  }
 },
 "nbformat": 4,
 "nbformat_minor": 2
}
