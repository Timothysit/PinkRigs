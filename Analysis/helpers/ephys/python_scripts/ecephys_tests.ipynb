{
 "cells": [
  {
   "cell_type": "code",
   "execution_count": 6,
   "metadata": {},
   "outputs": [],
   "source": [
    "import sys\n",
    "\n",
    "sys.path.insert(0, r\"C:\\Users\\Flora\\Documents\\Github\\ecephys_spike_sorting\")\n",
    "\n",
    "from ecephys_spike_sorting.scripts.create_input_json import createInputJson"
   ]
  },
  {
   "cell_type": "code",
   "execution_count": 8,
   "metadata": {},
   "outputs": [
    {
     "data": {
      "text/plain": [
       "{'directories': {'extracted_data_directory': 'Z:\\\\AV008\\\\2022-03-15\\\\ephys\\\\AV008_2022-03-15_ActivePassiveSparseNoiseSpontaneous_g0\\\\AV008_2022-03-15_ActivePassiveSparseNoiseSpontaneous_g0_imec0\\\\ecephys_test',\n",
       "  'kilosort_output_directory': 'Z:\\\\AV008\\\\2022-03-15\\\\ephys\\\\AV008_2022-03-15_ActivePassiveSparseNoiseSpontaneous_g0\\\\AV008_2022-03-15_ActivePassiveSparseNoiseSpontaneous_g0_imec0\\\\ecephys_test',\n",
       "  'kilosort_output_tmp': 'C:\\\\data\\\\kilosort'},\n",
       " 'common_files': {'settings_json': None, 'probe_json': None},\n",
       " 'waveform_metrics': {'waveform_metrics_file': 'Z:\\\\AV008\\\\2022-03-15\\\\ephys\\\\AV008_2022-03-15_ActivePassiveSparseNoiseSpontaneous_g0\\\\AV008_2022-03-15_ActivePassiveSparseNoiseSpontaneous_g0_imec0\\\\ecephys_test\\\\waveform_metrics.csv'},\n",
       " 'ephys_params': {'sample_rate': 30000,\n",
       "  'lfp_sample_rate': 2500,\n",
       "  'bit_volts': 0.195,\n",
       "  'num_channels': 384,\n",
       "  'reference_channels': [191],\n",
       "  'vertical_site_spacing': 1e-05,\n",
       "  'ap_band_file': 'Z:\\\\AV008\\\\2022-03-15\\\\ephys\\\\AV008_2022-03-15_ActivePassiveSparseNoiseSpontaneous_g0\\\\AV008_2022-03-15_ActivePassiveSparseNoiseSpontaneous_g0_imec0\\\\ecephys_test\\\\continuous.dat',\n",
       "  'lfp_band_file': 'Z:\\\\AV008\\\\2022-03-15\\\\ephys\\\\AV008_2022-03-15_ActivePassiveSparseNoiseSpontaneous_g0\\\\AV008_2022-03-15_ActivePassiveSparseNoiseSpontaneous_g0_imec0\\\\ecephys_test\\\\continuous\\\\Neuropix-PXI-100.1\\\\continuous.dat',\n",
       "  'reorder_lfp_channels': False,\n",
       "  'cluster_group_file_name': 'cluster_group.tsv.v2'},\n",
       " 'extract_from_npx_params': {'npx_directory': None,\n",
       "  'settings_xml': None,\n",
       "  'npx_extractor_executable': 'C:\\\\Users\\\\svc_neuropix\\\\Documents\\\\GitHub\\\\npxextractor\\\\Release\\\\NpxExtractor.exe',\n",
       "  'npx_extractor_repo': 'C:\\\\Users\\\\svc_neuropix\\\\Documents\\\\GitHub\\\\npxextractor'},\n",
       " 'depth_estimation_params': {'hi_noise_thresh': 50.0,\n",
       "  'lo_noise_thresh': 3.0,\n",
       "  'save_figure': 1,\n",
       "  'figure_location': 'Z:\\\\AV008\\\\2022-03-15\\\\ephys\\\\AV008_2022-03-15_ActivePassiveSparseNoiseSpontaneous_g0\\\\AV008_2022-03-15_ActivePassiveSparseNoiseSpontaneous_g0_imec0\\\\ecephys_test\\\\probe_depth.png',\n",
       "  'smoothing_amount': 5,\n",
       "  'power_thresh': 2.5,\n",
       "  'diff_thresh': -0.06,\n",
       "  'freq_range': [0, 10],\n",
       "  'max_freq': 150,\n",
       "  'channel_range': [374, 384],\n",
       "  'n_passes': 10,\n",
       "  'air_gap': 25,\n",
       "  'time_interval': 5,\n",
       "  'skip_s_per_pass': 10,\n",
       "  'start_time': 10},\n",
       " 'median_subtraction_params': {'median_subtraction_executable': 'C:\\\\Users\\\\svc_neuropix\\\\Documents\\\\GitHub\\\\spikebandmediansubtraction\\\\Builds\\\\VisualStudio2013\\\\Release\\\\SpikeBandMedianSubtraction.exe',\n",
       "  'median_subtraction_repo': 'C:\\\\Users\\\\svc_neuropix\\\\Documents\\\\GitHub\\\\spikebandmediansubtraction\\\\'},\n",
       " 'kilosort_helper_params': {'matlab_home_directory': 'C:\\\\Users\\\\svc_neuropix\\\\Documents\\\\MATLAB',\n",
       "  'kilosort_repository': 'C:\\\\Users\\\\svc_neuropix\\\\Documents\\\\GitHub\\\\kilosort2',\n",
       "  'kilosort_version': 2,\n",
       "  'surface_channel_buffer': 15,\n",
       "  'kilosort2_params': {'chanMap': \"'chanMap.mat'\",\n",
       "   'fshigh': 150,\n",
       "   'minfr_goodchannels': 0.1,\n",
       "   'Th': '[10 4]',\n",
       "   'lam': 10,\n",
       "   'AUCsplit': 0.9,\n",
       "   'minFR': 0.02,\n",
       "   'momentum': '[20 400]',\n",
       "   'sigmaMask': 30,\n",
       "   'ThPre': 8},\n",
       "  'kilosort3_params': {'chanMap': \"'chanMap.mat'\",\n",
       "   'fshigh': 300,\n",
       "   'minfr_goodchannels': 0.1,\n",
       "   'Th': '[9 9]',\n",
       "   'lam': 10,\n",
       "   'AUCsplit': 0.8,\n",
       "   'minFR': 0.02,\n",
       "   'momentum': '[20 400]',\n",
       "   'sigmaMask': 30,\n",
       "   'ThPre': 8,\n",
       "   'sig': 20,\n",
       "   'nblocks': 5}},\n",
       " 'ks_postprocessing_params': {'within_unit_overlap_window': 0.000166,\n",
       "  'between_unit_overlap_window': 0.000166,\n",
       "  'between_unit_overlap_distance': 5},\n",
       " 'mean_waveform_params': {'mean_waveforms_file': 'Z:\\\\AV008\\\\2022-03-15\\\\ephys\\\\AV008_2022-03-15_ActivePassiveSparseNoiseSpontaneous_g0\\\\AV008_2022-03-15_ActivePassiveSparseNoiseSpontaneous_g0_imec0\\\\ecephys_test\\\\mean_waveforms.npy',\n",
       "  'samples_per_spike': 82,\n",
       "  'pre_samples': 20,\n",
       "  'num_epochs': 1,\n",
       "  'spikes_per_epoch': 1000,\n",
       "  'spread_threshold': 0.12,\n",
       "  'site_range': 16},\n",
       " 'noise_waveform_params': {'classifier_path': 'c:\\\\Users\\\\Flora\\\\Documents\\\\Github\\\\PinkRigs\\\\Analysis\\\\helpers\\\\ephys\\\\python_scripts\\\\ecephys_spike_sorting\\\\modules\\\\noise_templates\\\\rf_classifier.pkl',\n",
       "  'multiprocessing_worker_count': 10},\n",
       " 'quality_metrics_params': {'isi_threshold': 0.0015,\n",
       "  'min_isi': 0.000166,\n",
       "  'num_channels_to_compare': 7,\n",
       "  'max_spikes_for_unit': 500,\n",
       "  'max_spikes_for_nn': 10000,\n",
       "  'n_neighbors': 4,\n",
       "  'n_silhouette': 10000,\n",
       "  'quality_metrics_output_file': 'Z:\\\\AV008\\\\2022-03-15\\\\ephys\\\\AV008_2022-03-15_ActivePassiveSparseNoiseSpontaneous_g0\\\\AV008_2022-03-15_ActivePassiveSparseNoiseSpontaneous_g0_imec0\\\\ecephys_test\\\\metrics_test.csv',\n",
       "  'drift_metrics_interval_s': 51,\n",
       "  'drift_metrics_min_spikes_per_interval': 10,\n",
       "  'include_pc_metrics': True}}"
      ]
     },
     "execution_count": 8,
     "metadata": {},
     "output_type": "execute_result"
    }
   ],
   "source": [
    "createInputJson(r'Z:\\AV008\\2022-03-15\\ephys\\AV008_2022-03-15_ActivePassiveSparseNoiseSpontaneous_g0\\AV008_2022-03-15_ActivePassiveSparseNoiseSpontaneous_g0_imec0\\ecephys_test\\test.json', \n",
    "                    npx_directory=None, \n",
    "                    continuous_file = None,\n",
    "                    extracted_data_directory=None,\n",
    "                    kilosort_output_directory=r'Z:\\AV008\\2022-03-15\\ephys\\AV008_2022-03-15_ActivePassiveSparseNoiseSpontaneous_g0\\AV008_2022-03-15_ActivePassiveSparseNoiseSpontaneous_g0_imec0\\ecephys_test', \n",
    "                    kilosort_output_tmp=None, \n",
    "                    probe_type='3B')"
   ]
  },
  {
   "cell_type": "code",
   "execution_count": 9,
   "metadata": {},
   "outputs": [
    {
     "name": "stderr",
     "output_type": "stream",
     "text": [
      "C:\\Users\\Flora\\anaconda3\\envs\\PinkRigs\\python.exe: Error while finding module specification for 'ecephys_spike_sorting.modules.kilosort_postprocessing' (ModuleNotFoundError: No module named 'ecephys_spike_sorting')\n"
     ]
    }
   ],
   "source": [
    "!python -m ecephys_spike_sorting.modules.kilosort_postprocessing --input_json Z:\\AV008\\2022-03-15\\ephys\\AV008_2022-03-15_ActivePassiveSparseNoiseSpontaneous_g0\\AV008_2022-03-15_ActivePassiveSparseNoiseSpontaneous_g0_imec0\\ecephys_test\\test.json --output_json r'Z:\\AV008\\2022-03-15\\ephys\\AV008_2022-03-15_ActivePassiveSparseNoiseSpontaneous_g0\\AV008_2022-03-15_ActivePassiveSparseNoiseSpontaneous_g0_imec0\\ecephys_test\\test_out.json'\n"
   ]
  },
  {
   "cell_type": "code",
   "execution_count": null,
   "metadata": {},
   "outputs": [],
   "source": []
  }
 ],
 "metadata": {
  "interpreter": {
   "hash": "9d975a4de3ad678d83d2f360d65f6ffc1147f73f6986e2bc0e41f46186513666"
  },
  "kernelspec": {
   "display_name": "Python 3.8.12 ('AV')",
   "language": "python",
   "name": "python3"
  },
  "language_info": {
   "codemirror_mode": {
    "name": "ipython",
    "version": 3
   },
   "file_extension": ".py",
   "mimetype": "text/x-python",
   "name": "python",
   "nbconvert_exporter": "python",
   "pygments_lexer": "ipython3",
   "version": "3.7.13"
  },
  "orig_nbformat": 4
 },
 "nbformat": 4,
 "nbformat_minor": 2
}
