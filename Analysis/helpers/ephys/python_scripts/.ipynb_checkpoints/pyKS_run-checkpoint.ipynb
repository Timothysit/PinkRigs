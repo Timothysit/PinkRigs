{
 "cells": [
  {
   "cell_type": "code",
   "execution_count": 1,
   "metadata": {},
   "outputs": [
    {
     "name": "stdout",
     "output_type": "stream",
     "text": [
      "[WindowsPath('//128.40.198.18/Subjects/CB020/2021-12-08/ephys/2021-12-08_CB020_VR/2021-12-08_CB020_g0_imec0/2021-12-08_CB020_g0_t0.imec0.ap.bin'), WindowsPath('//128.40.198.18/Subjects/CB020/2021-12-09/ephys/2021-12-09_CB020_VR/2021-12-09_CB020_g0_imec0/2021-12-09_CB020_g0_t0.imec0.ap.bin'), WindowsPath('//128.40.198.18/Subjects/CB020/2021-12-10/ephys/2021-12-10_CB020_VR/2021-12-10_CB020_g0_imec0/2021-12-10_CB020_g0_t0.imec0.ap.bin'), WindowsPath('//128.40.198.18/Subjects/CB020/2021-12-13/ephys/2021-12-13_CB020_VR/2021-12-13_CB020_g0_imec0/2021-12-13_CB020_g0_t0.imec0.ap.bin'), WindowsPath('//128.40.198.18/Subjects/CB020/2021-12-14/ephys/2021-12-14_CB020_VR/2021-12-14_CB020_g0_imec0/2021-12-14_CB020_g0_t0.imec0.ap.bin'), WindowsPath('//128.40.198.18/Subjects/CB020/2021-12-15/ephys/2021-12-15_CB020_VR/2021-12-15_CB020_g0_imec0/2021-12-15_CB020_g0_t0.imec0.ap.bin'), WindowsPath('//128.40.198.18/Subjects/CB020/2021-12-16/ephys/2021-12-16_CB020_VR/2021-12-16_CB020_g0_imec0/2021-12-16_CB020_g0_t0.imec0.ap.bin'), WindowsPath('//128.40.198.18/Subjects/CB020/2021-12-17/ephys/2021-12-17_CB020_VR/2021-12-17_CB020_g0_imec0/2021-12-17_CB020_g0_t0.imec0.ap.bin')]\n"
     ]
    }
   ],
   "source": [
    "from pathlib import Path\n",
    "from pykilosort import run, add_default_handler, np2_4shank_probe \n",
    "\n",
    "\n",
    "InputDir = '//128.40.198.18/Subjects/'\n",
    "OutputDir = 'D:/tmpdata/'\n",
    "mouse = 'CB020'\n",
    "dateopt = ['2021-12-08','2021-12-09','2021-12-10','2021-12-13','2021-12-14','2021-12-15','2021-12-16','2021-12-17']\n",
    "ProbeID = '0'\n",
    "# Run standard ks2.5 algorithm for a np1 probe\n",
    "OutputDir = OutputDir+mouse\n",
    "OutputDir = Path(OutputDir)\n",
    "data_paths = list()\n",
    "for datethis in dateopt:\n",
    " tmpdatapath = f'{InputDir}{mouse}/{datethis}/ephys/{datethis}_{mouse}_VR/{datethis}_{mouse}_g0_imec{ProbeID}/{datethis}_{mouse}_g0_t0.imec{ProbeID}.ap.bin'\n",
    " data_paths.append(Path(tmpdatapath))\n",
    "print(data_paths)"
   ]
  }
 ],
 "metadata": {
  "interpreter": {
   "hash": "129f23dfe0c2b46813022c4e48f02233f387c2e3daa40e4dff0fb0eec0b06625"
  },
  "kernelspec": {
   "display_name": "Python 3 (ipykernel)",
   "language": "python",
   "name": "python3"
  },
  "language_info": {
   "codemirror_mode": {
    "name": "ipython",
    "version": 3
   },
   "file_extension": ".py",
   "mimetype": "text/x-python",
   "name": "python",
   "nbconvert_exporter": "python",
   "pygments_lexer": "ipython3",
   "version": "3.9.12"
  }
 },
 "nbformat": 4,
 "nbformat_minor": 2
}
