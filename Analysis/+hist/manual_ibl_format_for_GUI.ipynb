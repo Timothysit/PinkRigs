{
 "cells": [
  {
   "cell_type": "code",
   "execution_count": 45,
   "id": "c7474bab",
   "metadata": {},
   "outputs": [],
   "source": [
    "import glob,sys\n",
    "from pathlib import Path\n",
    "pinkRig_path= glob.glob(r'C:\\Users\\*\\Documents\\Github\\PinkRigs')\n",
    "pinkRig_path = Path(pinkRig_path[0])\n",
    "sys.path.insert(0, (pinkRig_path.__str__()))\n",
    "kilofolder = __import__(\"Analysis.+kilo.python_.convert_to_ibl_format\") # this is necessary because some wise people decided to write a package with python and matlab in it. #wisdom.\n",
    "kilo = getattr(kilofolder, \"+kilo\")\n",
    "add_anat_to_ibl_format = kilo.python_.convert_to_ibl_format.add_anat_to_ibl_format\n",
    "\n",
    "# Path to raw ephys data\n",
    "#ephys_path = Path(r'Z:\\AV014\\2022-07-07\\ephys\\AV014_2022-07-07_NatImagesSparseNoise_g0\\AV014_2022-07-07_NatImagesSparseNoise_g0_imec0')\n",
    "     \n",
    "#add_anat_to_ibl_format(ephys_path,ks_folder='pyKS',recompute=True)"
   ]
  },
  {
   "cell_type": "code",
   "execution_count": null,
   "id": "0da624da",
   "metadata": {},
   "outputs": [],
   "source": [
    "# add a func to loop over SC recordings (selected somehow by Flora, what a shame we cannot pay for someone competent.)\n",
    "\n",
    "import pandas as pd \n",
    "from Admin.csv_pyhandlers import get_server_location\n",
    "from Analysis.helpers.queryExp import load_data\n",
    "\n",
    "prPath = get_server_location()\n",
    "session_list = pd.read_csv(prPath / 'Helpers/sc_selected_recordings.csv')\n",
    "\n",
    "\n",
    "for _,r in session_list.iterrows():\n",
    "    recdat = load_data(subject = r.Subject,expDate=r.expDate, expNum = r.expNum)\n",
    "    # now I will try to convert all files that were already converted to ibl format\n",
    "    ephys_path = Path(recdat.iloc[0].expFolder).parent / 'ephys'\n",
    "    ephys_recordings = list(ephys_path.glob('**\\pyKS\\output\\ibl_format\\channels.localCoordinates.npy'))\n",
    "\n",
    "    for rec in ephys_recordings: \n",
    "            s=add_anat_to_ibl_format(rec.parents[3],recompute= True)\n",
    "            print(rec)"
   ]
  }
 ],
 "metadata": {
  "kernelspec": {
   "display_name": "iblenv",
   "language": "python",
   "name": "python3"
  },
  "language_info": {
   "codemirror_mode": {
    "name": "ipython",
    "version": 3
   },
   "file_extension": ".py",
   "mimetype": "text/x-python",
   "name": "python",
   "nbconvert_exporter": "python",
   "pygments_lexer": "ipython3",
   "version": "3.9.12"
  },
  "vscode": {
   "interpreter": {
    "hash": "21ed3f0e654da5893f6854f4cece759776472a211c99c6c57a6819993f76b2d5"
   }
  }
 },
 "nbformat": 4,
 "nbformat_minor": 5
}
