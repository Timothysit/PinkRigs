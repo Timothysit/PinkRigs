{
 "cells": [
  {
   "cell_type": "code",
   "execution_count": 2,
   "id": "c7474bab",
   "metadata": {},
   "outputs": [
    {
     "name": "stdout",
     "output_type": "stream",
     "text": [
      "converting data to IBL format ...\n"
     ]
    },
    {
     "name": "stderr",
     "output_type": "stream",
     "text": [
      "c:\\Users\\Flora\\anaconda3\\envs\\iblenv\\lib\\site-packages\\phylib\\io\\model.py:1053: RuntimeWarning: invalid value encountered in true_divide\n",
      "  spikes_depths[ispi] = (np.sum(np.transpose(ypos * features) /\n",
      "Extracting waveforms: 100%|██████████| 1671.0704/1671.0704 [00:07<00:00, 220.54it/s]\n",
      "Converting to ALF:  84%|████████▍ | 105/125 [00:10<00:02,  9.39it/s]c:\\Users\\Flora\\anaconda3\\envs\\iblenv\\lib\\site-packages\\phylib\\io\\model.py:1053: RuntimeWarning: invalid value encountered in true_divide\n",
      "  spikes_depths[ispi] = (np.sum(np.transpose(ypos * features) /\n",
      "Converting to ALF: 145it [00:12, 12.06it/s]                         \n",
      "\u001b[36m2022-07-28 22:38:11.830 INFO     [extract_files.py:82] Computing QC for Z:\\AV014\\2022-07-07\\ephys\\AV014_2022-07-07_NatImagesSparseNoise_g0\\AV014_2022-07-07_NatImagesSparseNoise_g0_imec0\\AV014_2022-07-07_NatImagesSparseNoise_g0_t0.imec0.ap.cbin\u001b[0m\n"
     ]
    },
    {
     "name": "stdout",
     "output_type": "stream",
     "text": [
      " |████████████----------------------------------------------------------------------------------------| 12.0% \r"
     ]
    }
   ],
   "source": [
    "import glob\n",
    "from pathlib import Path\n",
    "pinkRig_path= glob.glob(r'C:\\Users\\*\\Documents\\Github\\PinkRigs')\n",
    "pinkRig_path = Path(pinkRig_path[0])\n",
    "sys.path.insert(0, (pinkRig_path / 'Admin').__str__() )\n",
    "from convert_to_ibl_format import add_anat_to_ibl_format\n",
    "\n",
    "# Path to raw ephys data\n",
    "ephys_path = Path(r'Z:\\AV014\\2022-07-07\\ephys\\AV014_2022-07-07_NatImagesSparseNoise_g0\\AV014_2022-07-07_NatImagesSparseNoise_g0_imec0')\n",
    "     \n",
    "add_anat_to_ibl_format(ephys_path,ks_folder='pyKS',recompute=True)"
   ]
  }
 ],
 "metadata": {
  "kernelspec": {
   "display_name": "Python 3.9.12 ('pyks2')",
   "language": "python",
   "name": "python3"
  },
  "language_info": {
   "codemirror_mode": {
    "name": "ipython",
    "version": 3
   },
   "file_extension": ".py",
   "mimetype": "text/x-python",
   "name": "python",
   "nbconvert_exporter": "python",
   "pygments_lexer": "ipython3",
   "version": "3.9.12"
  },
  "vscode": {
   "interpreter": {
    "hash": "b6a2ed5a592b5e4333e5884be371d2ac28e1388dfe0b5deffbc70606bd29000f"
   }
  }
 },
 "nbformat": 4,
 "nbformat_minor": 5
}
