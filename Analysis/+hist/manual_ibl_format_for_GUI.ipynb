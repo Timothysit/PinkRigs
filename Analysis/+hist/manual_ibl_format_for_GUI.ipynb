{
 "cells": [
  {
   "cell_type": "code",
   "execution_count": 1,
   "id": "c7474bab",
   "metadata": {},
   "outputs": [],
   "source": [
    "import glob,sys\n",
    "from pathlib import Path\n",
    "pinkRig_path= glob.glob(r'C:\\Users\\*\\Documents\\Github\\PinkRigs')\n",
    "pinkRig_path = Path(pinkRig_path[0])\n",
    "sys.path.insert(0, (pinkRig_path.__str__()))\n",
    "kilofolder = __import__(\"Analysis.+kilo.python_.convert_to_ibl_format\") # this is necessary because some wise people decided to write a package with python and matlab in it. #wisdom.\n",
    "kilo = getattr(kilofolder, \"+kilo\")\n",
    "add_anat_to_ibl_format = kilo.python_.convert_to_ibl_format.add_anat_to_ibl_format\n",
    "\n",
    "# Path to raw ephys data\n",
    "#ephys_path = Path(r'Z:\\AV014\\2022-07-07\\ephys\\AV014_2022-07-07_NatImagesSparseNoise_g0\\AV014_2022-07-07_NatImagesSparseNoise_g0_imec0')\n",
    "     \n",
    "#add_anat_to_ibl_format(ephys_path,ks_folder='pyKS',recompute=True)"
   ]
  },
  {
   "cell_type": "code",
   "execution_count": 4,
   "id": "0da624da",
   "metadata": {},
   "outputs": [
    {
     "name": "stdout",
     "output_type": "stream",
     "text": [
      "\\\\zaru.cortexlab.net\\Subjects\\AV025\\2022-11-07\\ephys\\AV025_2022-11-07_SparseNoise_Part1_g0\\AV025_2022-11-07_SparseNoise_Part1_g0_imec0\n",
      "converting data to IBL format ...\n"
     ]
    },
    {
     "name": "stderr",
     "output_type": "stream",
     "text": [
      "c:\\Users\\Experiment\\anaconda3\\envs\\iblenv\\lib\\site-packages\\phylib\\io\\model.py:1053: RuntimeWarning: invalid value encountered in true_divide\n",
      "  spikes_depths[ispi] = (np.sum(np.transpose(ypos * features) /\n",
      "Extracting waveforms: 100%|██████████| 655.4470333333334/655.4470333333334 [00:36<00:00, 17.75it/s]\n",
      "Converting to ALF:  84%|████████▍ | 105/125 [00:41<00:09,  2.08it/s]c:\\Users\\Experiment\\anaconda3\\envs\\iblenv\\lib\\site-packages\\phylib\\io\\model.py:1053: RuntimeWarning: invalid value encountered in true_divide\n",
      "  spikes_depths[ispi] = (np.sum(np.transpose(ypos * features) /\n",
      "Converting to ALF: 145it [00:47,  3.03it/s]                         \n",
      "\u001b[36m2023-01-13 00:11:49.867 INFO     [extract_files.py:82] Computing QC for \\\\zaru.cortexlab.net\\Subjects\\AV025\\2022-11-07\\ephys\\AV025_2022-11-07_SparseNoise_Part1_g0\\AV025_2022-11-07_SparseNoise_Part1_g0_imec0\\AV025_2022-11-07_SparseNoise_Part1_g0_t0.imec0.ap.bin\u001b[0m\n"
     ]
    },
    {
     "name": "stdout",
     "output_type": "stream",
     "text": [
      "the probe/shank IDs do not match.████████████████████████████████████████████████████████████████████-| 99.3% \n",
      "\\\\zaru.cortexlab.net\\Subjects\\AV025\\2022-11-07\\ephys\\AV025_2022-11-07_SparseNoise_Part1_g0\\AV025_2022-11-07_SparseNoise_Part1_g0_imec1\n",
      "converting data to IBL format ...\n"
     ]
    },
    {
     "name": "stderr",
     "output_type": "stream",
     "text": [
      "Extracting waveforms: 100%|██████████| 655.4470333333334/655.4470333333334 [00:30<00:00, 21.20it/s]\n",
      "Converting to ALF: 145it [00:39,  3.66it/s]                         \n",
      "\u001b[36m2023-01-13 00:18:15.819 INFO     [extract_files.py:82] Computing QC for \\\\zaru.cortexlab.net\\Subjects\\AV025\\2022-11-07\\ephys\\AV025_2022-11-07_SparseNoise_Part1_g0\\AV025_2022-11-07_SparseNoise_Part1_g0_imec1\\AV025_2022-11-07_SparseNoise_Part1_g0_t0.imec1.ap.bin\u001b[0m\n"
     ]
    },
    {
     "name": "stdout",
     "output_type": "stream",
     "text": [
      "the probe/shank IDs do not match.████████████████████████████████████████████████████████████████████-| 99.3% \n",
      "\\\\zaru.cortexlab.net\\Subjects\\AV025\\2022-11-07\\ephys\\AV025_2022-11-07_SparseNoise_Part2_g0\\AV025_2022-11-07_SparseNoise_Part2_g0_imec0\n",
      "converting data to IBL format ...\n"
     ]
    },
    {
     "name": "stderr",
     "output_type": "stream",
     "text": [
      "c:\\Users\\Experiment\\anaconda3\\envs\\iblenv\\lib\\site-packages\\phylib\\io\\model.py:1053: RuntimeWarning: invalid value encountered in true_divide\n",
      "  spikes_depths[ispi] = (np.sum(np.transpose(ypos * features) /\n",
      "Extracting waveforms: 100%|██████████| 744.6115333333333/744.6115333333333 [00:10<00:00, 74.04it/s]\n",
      "Converting to ALF:  84%|████████▍ | 105/125 [00:54<00:09,  2.04it/s]c:\\Users\\Experiment\\anaconda3\\envs\\iblenv\\lib\\site-packages\\phylib\\io\\model.py:1053: RuntimeWarning: invalid value encountered in true_divide\n",
      "  spikes_depths[ispi] = (np.sum(np.transpose(ypos * features) /\n",
      "Converting to ALF: 145it [00:58,  2.49it/s]                         \n",
      "\u001b[36m2023-01-13 00:24:58.786 INFO     [extract_files.py:82] Computing QC for \\\\zaru.cortexlab.net\\Subjects\\AV025\\2022-11-07\\ephys\\AV025_2022-11-07_SparseNoise_Part2_g0\\AV025_2022-11-07_SparseNoise_Part2_g0_imec0\\AV025_2022-11-07_SparseNoise_Part2_g0_t0.imec0.ap.cbin\u001b[0m\n"
     ]
    },
    {
     "name": "stdout",
     "output_type": "stream",
     "text": [
      " |████████████████████████████████████████████████████████████████████████████████████████████████████| 100.0% \n",
      "the probe/shank IDs do not match.\n",
      "\\\\zaru.cortexlab.net\\Subjects\\AV025\\2022-11-07\\ephys\\AV025_2022-11-07_SparseNoise_Part2_g0\\AV025_2022-11-07_SparseNoise_Part2_g0_imec1\n",
      "converting data to IBL format ...\n"
     ]
    },
    {
     "name": "stderr",
     "output_type": "stream",
     "text": [
      "Extracting waveforms: 100%|██████████| 744.6114666666666/744.6114666666666 [00:07<00:00, 95.80it/s]\n",
      "Converting to ALF:  84%|████████▍ | 105/125 [00:21<00:04,  4.87it/s]c:\\Users\\Experiment\\anaconda3\\envs\\iblenv\\lib\\site-packages\\phylib\\io\\model.py:1053: RuntimeWarning: invalid value encountered in true_divide\n",
      "  spikes_depths[ispi] = (np.sum(np.transpose(ypos * features) /\n",
      "Converting to ALF: 145it [00:23,  6.19it/s]                         \n",
      "\u001b[36m2023-01-13 00:32:43.225 INFO     [extract_files.py:82] Computing QC for \\\\zaru.cortexlab.net\\Subjects\\AV025\\2022-11-07\\ephys\\AV025_2022-11-07_SparseNoise_Part2_g0\\AV025_2022-11-07_SparseNoise_Part2_g0_imec1\\AV025_2022-11-07_SparseNoise_Part2_g0_t0.imec1.ap.cbin\u001b[0m\n"
     ]
    },
    {
     "name": "stdout",
     "output_type": "stream",
     "text": [
      " |████████████████████████████████████████████████████████████████████████████████████████████████████| 100.0% \n",
      "the probe/shank IDs do not match.\n",
      "\\\\zaru.cortexlab.net\\Subjects\\AV025\\2022-11-07\\ephys\\AV025_2022-11-07_SparseNoise_Part3_g0\\AV025_2022-11-07_SparseNoise_Part3_g0_imec0\n",
      "converting data to IBL format ...\n"
     ]
    },
    {
     "name": "stderr",
     "output_type": "stream",
     "text": [
      "Extracting waveforms: 100%|██████████| 797.8714333333334/797.8714333333334 [00:08<00:00, 94.72it/s]\n",
      "Converting to ALF:  84%|████████▍ | 105/125 [00:13<00:02,  6.91it/s]c:\\Users\\Experiment\\anaconda3\\envs\\iblenv\\lib\\site-packages\\phylib\\io\\model.py:1053: RuntimeWarning: invalid value encountered in true_divide\n",
      "  spikes_depths[ispi] = (np.sum(np.transpose(ypos * features) /\n",
      "Converting to ALF: 145it [00:16,  9.03it/s]                         \n",
      "\u001b[36m2023-01-13 00:40:22.67 INFO     [extract_files.py:82] Computing QC for \\\\zaru.cortexlab.net\\Subjects\\AV025\\2022-11-07\\ephys\\AV025_2022-11-07_SparseNoise_Part3_g0\\AV025_2022-11-07_SparseNoise_Part3_g0_imec0\\AV025_2022-11-07_SparseNoise_Part3_g0_t0.imec0.ap.cbin\u001b[0m\n"
     ]
    },
    {
     "name": "stdout",
     "output_type": "stream",
     "text": [
      " |████████████████████████████████████████████████████████████████████████████████████████████████████| 100.0% \n",
      "the probe/shank IDs do not match.\n",
      "\\\\zaru.cortexlab.net\\Subjects\\AV025\\2022-11-07\\ephys\\AV025_2022-11-07_SparseNoise_Part3_g0\\AV025_2022-11-07_SparseNoise_Part3_g0_imec1\n",
      "converting data to IBL format ...\n"
     ]
    },
    {
     "name": "stderr",
     "output_type": "stream",
     "text": [
      "Extracting waveforms: 100%|██████████| 797.869/797.869 [00:07<00:00, 100.18it/s]\n",
      "Converting to ALF:  84%|████████▍ | 105/125 [00:16<00:03,  5.86it/s]c:\\Users\\Experiment\\anaconda3\\envs\\iblenv\\lib\\site-packages\\phylib\\io\\model.py:1053: RuntimeWarning: invalid value encountered in true_divide\n",
      "  spikes_depths[ispi] = (np.sum(np.transpose(ypos * features) /\n",
      "Converting to ALF: 145it [00:19,  7.56it/s]                         \n",
      "\u001b[36m2023-01-13 00:48:39.419 INFO     [extract_files.py:82] Computing QC for \\\\zaru.cortexlab.net\\Subjects\\AV025\\2022-11-07\\ephys\\AV025_2022-11-07_SparseNoise_Part3_g0\\AV025_2022-11-07_SparseNoise_Part3_g0_imec1\\AV025_2022-11-07_SparseNoise_Part3_g0_t0.imec1.ap.cbin\u001b[0m\n"
     ]
    },
    {
     "name": "stdout",
     "output_type": "stream",
     "text": [
      " |████████████████████████████████████████████████████████████████████████████████████████████████████| 100.0% \n",
      "the probe/shank IDs do not match.\n",
      "\\\\zaru.cortexlab.net\\Subjects\\AV025\\2022-11-07\\ephys\\AV025_2022-11-07_SparseNoise_Part4_g0\\AV025_2022-11-07_SparseNoise_Part4_g0_imec0\n",
      "converting data to IBL format ...\n"
     ]
    },
    {
     "name": "stderr",
     "output_type": "stream",
     "text": [
      "Extracting waveforms: 100%|██████████| 668.1401333333333/668.1401333333333 [00:10<00:00, 66.39it/s]\n",
      "Converting to ALF:  84%|████████▍ | 105/125 [00:30<00:05,  3.47it/s]c:\\Users\\Experiment\\anaconda3\\envs\\iblenv\\lib\\site-packages\\phylib\\io\\model.py:1053: RuntimeWarning: invalid value encountered in true_divide\n",
      "  spikes_depths[ispi] = (np.sum(np.transpose(ypos * features) /\n",
      "Converting to ALF: 145it [00:32,  4.42it/s]                         \n",
      "\u001b[36m2023-01-13 00:56:57.862 INFO     [extract_files.py:82] Computing QC for \\\\zaru.cortexlab.net\\Subjects\\AV025\\2022-11-07\\ephys\\AV025_2022-11-07_SparseNoise_Part4_g0\\AV025_2022-11-07_SparseNoise_Part4_g0_imec0\\AV025_2022-11-07_SparseNoise_Part4_g0_t0.imec0.ap.cbin\u001b[0m\n"
     ]
    },
    {
     "name": "stdout",
     "output_type": "stream",
     "text": [
      " |████████████████████████████████████████████████████████████████████████████████████████████████████| 100.0% \n",
      "the probe/shank IDs do not match.\n",
      "\\\\zaru.cortexlab.net\\Subjects\\AV025\\2022-11-07\\ephys\\AV025_2022-11-07_SparseNoise_Part4_g0\\AV025_2022-11-07_SparseNoise_Part4_g0_imec1\n",
      "converting data to IBL format ...\n"
     ]
    },
    {
     "name": "stderr",
     "output_type": "stream",
     "text": [
      "Extracting waveforms: 100%|██████████| 668.1401/668.1401 [00:08<00:00, 78.90it/s]\n",
      "Converting to ALF:  84%|████████▍ | 105/125 [00:15<00:03,  6.35it/s]c:\\Users\\Experiment\\anaconda3\\envs\\iblenv\\lib\\site-packages\\phylib\\io\\model.py:1053: RuntimeWarning: invalid value encountered in true_divide\n",
      "  spikes_depths[ispi] = (np.sum(np.transpose(ypos * features) /\n",
      "Converting to ALF: 145it [00:20,  7.24it/s]                         \n",
      "\u001b[36m2023-01-13 01:03:57.578 INFO     [extract_files.py:82] Computing QC for \\\\zaru.cortexlab.net\\Subjects\\AV025\\2022-11-07\\ephys\\AV025_2022-11-07_SparseNoise_Part4_g0\\AV025_2022-11-07_SparseNoise_Part4_g0_imec1\\AV025_2022-11-07_SparseNoise_Part4_g0_t0.imec1.ap.cbin\u001b[0m\n"
     ]
    },
    {
     "name": "stdout",
     "output_type": "stream",
     "text": [
      " |████████████████████████████████████████████████████████████████████████████████████████████████████| 100.0% \n",
      "the probe/shank IDs do not match.\n",
      "\\\\zaru.cortexlab.net\\Subjects\\AV025\\2022-11-08\\ephys\\AV025_2022-11-08_SparseNoise_Part3_g0\\AV025_2022-11-08_SparseNoise_Part3_g0_imec0\n",
      "converting data to IBL format ...\n"
     ]
    },
    {
     "name": "stderr",
     "output_type": "stream",
     "text": [
      "Extracting waveforms: 100%|██████████| 706.0456333333333/706.0456333333333 [00:09<00:00, 72.04it/s]\n",
      "Converting to ALF:  84%|████████▍ | 105/125 [00:15<00:03,  5.99it/s]c:\\Users\\Experiment\\anaconda3\\envs\\iblenv\\lib\\site-packages\\phylib\\io\\model.py:1053: RuntimeWarning: invalid value encountered in true_divide\n",
      "  spikes_depths[ispi] = (np.sum(np.transpose(ypos * features) /\n",
      "Converting to ALF: 145it [00:18,  7.89it/s]                         \n",
      "\u001b[36m2023-01-13 01:10:31.366 INFO     [extract_files.py:82] Computing QC for \\\\zaru.cortexlab.net\\Subjects\\AV025\\2022-11-08\\ephys\\AV025_2022-11-08_SparseNoise_Part3_g0\\AV025_2022-11-08_SparseNoise_Part3_g0_imec0\\AV025_2022-11-08_SparseNoise_Part3_g0_t0.imec0.ap.cbin\u001b[0m\n"
     ]
    },
    {
     "name": "stdout",
     "output_type": "stream",
     "text": [
      "the probe/shank IDs do not match.████████████████████████████████████████████████████████████████████-| 99.4% \n",
      "\\\\zaru.cortexlab.net\\Subjects\\AV025\\2022-11-08\\ephys\\AV025_2022-11-08_SparseNoise_Part3_g0\\AV025_2022-11-08_SparseNoise_Part3_g0_imec1\n",
      "converting data to IBL format ...\n"
     ]
    },
    {
     "name": "stderr",
     "output_type": "stream",
     "text": [
      "Extracting waveforms: 100%|██████████| 706.0456333333333/706.0456333333333 [00:06<00:00, 103.25it/s]\n",
      "Converting to ALF:  84%|████████▍ | 105/125 [00:08<00:01, 10.62it/s]c:\\Users\\Experiment\\anaconda3\\envs\\iblenv\\lib\\site-packages\\phylib\\io\\model.py:1053: RuntimeWarning: invalid value encountered in true_divide\n",
      "  spikes_depths[ispi] = (np.sum(np.transpose(ypos * features) /\n",
      "Converting to ALF: 145it [00:10, 14.39it/s]                         \n",
      "\u001b[36m2023-01-13 01:17:43.565 INFO     [extract_files.py:82] Computing QC for \\\\zaru.cortexlab.net\\Subjects\\AV025\\2022-11-08\\ephys\\AV025_2022-11-08_SparseNoise_Part3_g0\\AV025_2022-11-08_SparseNoise_Part3_g0_imec1\\AV025_2022-11-08_SparseNoise_Part3_g0_t0.imec1.ap.cbin\u001b[0m\n"
     ]
    },
    {
     "name": "stdout",
     "output_type": "stream",
     "text": [
      "the probe/shank IDs do not match.████████████████████████████████████████████████████████████████████-| 99.4% \n",
      "\\\\zaru.cortexlab.net\\Subjects\\AV025\\2022-11-08\\ephys\\AV025_2022-11-08_SparseNoise_Part4_g0\\AV025_2022-11-08_SparseNoise_Part4_g0_imec0\n",
      "converting data to IBL format ...\n"
     ]
    },
    {
     "name": "stderr",
     "output_type": "stream",
     "text": [
      "Extracting waveforms: 100%|██████████| 718.6297333333333/718.6297333333333 [00:13<00:00, 53.15it/s]\n",
      "Converting to ALF:  84%|████████▍ | 105/125 [00:30<00:06,  3.29it/s]c:\\Users\\Experiment\\anaconda3\\envs\\iblenv\\lib\\site-packages\\phylib\\io\\model.py:1053: RuntimeWarning: invalid value encountered in true_divide\n",
      "  spikes_depths[ispi] = (np.sum(np.transpose(ypos * features) /\n",
      "Converting to ALF: 145it [00:34,  4.20it/s]                         \n",
      "\u001b[36m2023-01-13 01:25:28.573 INFO     [extract_files.py:82] Computing QC for \\\\zaru.cortexlab.net\\Subjects\\AV025\\2022-11-08\\ephys\\AV025_2022-11-08_SparseNoise_Part4_g0\\AV025_2022-11-08_SparseNoise_Part4_g0_imec0\\AV025_2022-11-08_SparseNoise_Part4_g0_t0.imec0.ap.cbin\u001b[0m\n"
     ]
    },
    {
     "name": "stdout",
     "output_type": "stream",
     "text": [
      " |████████████████████████████████████████████████████████████████████████████████████████████████████| 100.0% \n",
      "the probe/shank IDs do not match.\n",
      "\\\\zaru.cortexlab.net\\Subjects\\AV025\\2022-11-08\\ephys\\AV025_2022-11-08_SparseNoise_Part4_g0\\AV025_2022-11-08_SparseNoise_Part4_g0_imec1\n",
      "converting data to IBL format ...\n"
     ]
    },
    {
     "name": "stderr",
     "output_type": "stream",
     "text": [
      "Extracting waveforms: 100%|██████████| 718.6298333333333/718.6298333333333 [00:02<00:00, 270.66it/s]\n",
      "Converting to ALF:  84%|████████▍ | 105/125 [00:03<00:00, 25.74it/s]c:\\Users\\Experiment\\anaconda3\\envs\\iblenv\\lib\\site-packages\\phylib\\io\\model.py:1053: RuntimeWarning: invalid value encountered in true_divide\n",
      "  spikes_depths[ispi] = (np.sum(np.transpose(ypos * features) /\n",
      "Converting to ALF: 145it [00:04, 29.86it/s]                         \n",
      "\u001b[36m2023-01-13 01:32:49.180 INFO     [extract_files.py:82] Computing QC for \\\\zaru.cortexlab.net\\Subjects\\AV025\\2022-11-08\\ephys\\AV025_2022-11-08_SparseNoise_Part4_g0\\AV025_2022-11-08_SparseNoise_Part4_g0_imec1\\AV025_2022-11-08_SparseNoise_Part4_g0_t0.imec1.ap.cbin\u001b[0m\n"
     ]
    },
    {
     "name": "stdout",
     "output_type": "stream",
     "text": [
      " |████████████████████████████████████████████████████████████████████████████████████████████████████| 100.0% \n",
      "the probe/shank IDs do not match.\n",
      "\\\\zaru.cortexlab.net\\Subjects\\AV025\\2022-11-09\\ephys\\AV025_2022-11-09_ActivePassiveSparseNoise_g0\\AV025_2022-11-09_ActivePassiveSparseNoise_g0_imec0\n",
      "converting data to IBL format ...\n"
     ]
    },
    {
     "name": "stderr",
     "output_type": "stream",
     "text": [
      "Extracting waveforms: 100%|██████████| 7900.0568/7900.0568 [00:10<00:00, 756.30it/s]\n",
      "Converting to ALF: 145it [00:29,  4.97it/s]                         \n",
      "\u001b[36m2023-01-13 01:41:14.796 INFO     [extract_files.py:82] Computing QC for \\\\zaru.cortexlab.net\\Subjects\\AV025\\2022-11-09\\ephys\\AV025_2022-11-09_ActivePassiveSparseNoise_g0\\AV025_2022-11-09_ActivePassiveSparseNoise_g0_imec0\\AV025_2022-11-09_ActivePassiveSparseNoise_g0_t0.imec0.ap.cbin\u001b[0m\n"
     ]
    },
    {
     "name": "stdout",
     "output_type": "stream",
     "text": [
      "the probe/shank IDs do not match.████████████████████████████████████████████████████████████████████-| 99.6% \n",
      "the probe/shank IDs do not match.\n",
      "the probe/shank IDs do not match.\n",
      "the probe/shank IDs do not match.\n",
      "\\\\zaru.cortexlab.net\\Subjects\\AV025\\2022-11-09\\ephys\\AV025_2022-11-09_ActivePassiveSparseNoise_g0\\AV025_2022-11-09_ActivePassiveSparseNoise_g0_imec1\n",
      "converting data to IBL format ...\n"
     ]
    },
    {
     "name": "stderr",
     "output_type": "stream",
     "text": [
      "Extracting waveforms: 100%|██████████| 7900.0568/7900.0568 [00:06<00:00, 1229.28it/s]\n",
      "Converting to ALF: 145it [00:12, 12.07it/s]                         \n",
      "\u001b[36m2023-01-13 02:59:19.588 INFO     [extract_files.py:82] Computing QC for \\\\zaru.cortexlab.net\\Subjects\\AV025\\2022-11-09\\ephys\\AV025_2022-11-09_ActivePassiveSparseNoise_g0\\AV025_2022-11-09_ActivePassiveSparseNoise_g0_imec1\\AV025_2022-11-09_ActivePassiveSparseNoise_g0_t0.imec1.ap.cbin\u001b[0m\n"
     ]
    },
    {
     "name": "stdout",
     "output_type": "stream",
     "text": [
      "the probe/shank IDs do not match.████████████████████████████████████████████████████████████████████-| 99.6% \n",
      "the probe/shank IDs do not match.\n",
      "the probe/shank IDs do not match.\n",
      "the probe/shank IDs do not match.\n",
      "\\\\zaru.cortexlab.net\\Subjects\\AV025\\2022-11-10\\ephys\\AV025_2022-11-10_ActivePassiveSparseNoise_g0\\AV025_2022-11-10_ActivePassiveSparseNoise_g0_imec0\n",
      "converting data to IBL format ...\n"
     ]
    },
    {
     "name": "stderr",
     "output_type": "stream",
     "text": [
      "Extracting waveforms: 100%|██████████| 7088.9337/7088.9337 [00:10<00:00, 687.71it/s]\n",
      "Converting to ALF: 145it [00:22,  6.37it/s]                         \n",
      "\u001b[36m2023-01-13 04:16:34.446 INFO     [extract_files.py:82] Computing QC for \\\\zaru.cortexlab.net\\Subjects\\AV025\\2022-11-10\\ephys\\AV025_2022-11-10_ActivePassiveSparseNoise_g0\\AV025_2022-11-10_ActivePassiveSparseNoise_g0_imec0\\AV025_2022-11-10_ActivePassiveSparseNoise_g0_t0.imec0.ap.cbin\u001b[0m\n"
     ]
    },
    {
     "name": "stdout",
     "output_type": "stream",
     "text": [
      "the probe/shank IDs do not match.████████████████████████████████████████████████████████████████████-| 99.9% \n",
      "the probe/shank IDs do not match.\n",
      "the probe/shank IDs do not match.\n",
      "the probe/shank IDs do not match.\n",
      "\\\\zaru.cortexlab.net\\Subjects\\AV025\\2022-11-10\\ephys\\AV025_2022-11-10_ActivePassiveSparseNoise_g0\\AV025_2022-11-10_ActivePassiveSparseNoise_g0_imec1\n",
      "converting data to IBL format ...\n"
     ]
    },
    {
     "name": "stderr",
     "output_type": "stream",
     "text": [
      "Extracting waveforms: 100%|██████████| 7088.933733333333/7088.933733333333 [00:06<00:00, 1117.68it/s]\n",
      "Converting to ALF: 145it [00:11, 12.42it/s]                         \n",
      "\u001b[36m2023-01-13 05:27:28.0 INFO     [extract_files.py:82] Computing QC for \\\\zaru.cortexlab.net\\Subjects\\AV025\\2022-11-10\\ephys\\AV025_2022-11-10_ActivePassiveSparseNoise_g0\\AV025_2022-11-10_ActivePassiveSparseNoise_g0_imec1\\AV025_2022-11-10_ActivePassiveSparseNoise_g0_t0.imec1.ap.cbin\u001b[0m\n"
     ]
    },
    {
     "name": "stdout",
     "output_type": "stream",
     "text": [
      "the probe/shank IDs do not match.████████████████████████████████████████████████████████████████████-| 99.9% \n",
      "the probe/shank IDs do not match.\n",
      "the probe/shank IDs do not match.\n",
      "the probe/shank IDs do not match.\n",
      "\\\\zaru.cortexlab.net\\Subjects\\AV025\\2022-11-11\\ephys\\AV025_2022-11-11_SparseNoise1_g0\\AV025_2022-11-11_SparseNoise1_g0_imec0\n",
      "converting data to IBL format ...\n"
     ]
    },
    {
     "name": "stderr",
     "output_type": "stream",
     "text": [
      "Extracting waveforms: 100%|██████████| 706.6005/706.6005 [00:08<00:00, 88.04it/s]\n",
      "Converting to ALF: 145it [00:15,  9.58it/s]                         \n",
      "\u001b[36m2023-01-13 06:37:14.74 INFO     [extract_files.py:82] Computing QC for \\\\zaru.cortexlab.net\\Subjects\\AV025\\2022-11-11\\ephys\\AV025_2022-11-11_SparseNoise1_g0\\AV025_2022-11-11_SparseNoise1_g0_imec0\\AV025_2022-11-11_SparseNoise1_g0_t0.imec0.ap.cbin\u001b[0m\n"
     ]
    },
    {
     "name": "stdout",
     "output_type": "stream",
     "text": [
      "the probe/shank IDs do not match.████████████████████████████████████████████████████████████████████-| 99.4% \n",
      "the probe/shank IDs do not match.\n",
      "the probe/shank IDs do not match.\n",
      "the probe/shank IDs do not match.\n",
      "\\\\zaru.cortexlab.net\\Subjects\\AV025\\2022-11-11\\ephys\\AV025_2022-11-11_SparseNoise1_g0\\AV025_2022-11-11_SparseNoise1_g0_imec1\n",
      "converting data to IBL format ...\n"
     ]
    },
    {
     "name": "stderr",
     "output_type": "stream",
     "text": [
      "Extracting waveforms: 100%|██████████| 706.6005/706.6005 [00:04<00:00, 156.45it/s]\n",
      "Converting to ALF: 145it [00:06, 20.99it/s]                         \n",
      "\u001b[36m2023-01-13 06:44:24.558 INFO     [extract_files.py:82] Computing QC for \\\\zaru.cortexlab.net\\Subjects\\AV025\\2022-11-11\\ephys\\AV025_2022-11-11_SparseNoise1_g0\\AV025_2022-11-11_SparseNoise1_g0_imec1\\AV025_2022-11-11_SparseNoise1_g0_t0.imec1.ap.cbin\u001b[0m\n"
     ]
    },
    {
     "name": "stdout",
     "output_type": "stream",
     "text": [
      "the probe/shank IDs do not match.████████████████████████████████████████████████████████████████████-| 99.4% \n",
      "the probe/shank IDs do not match.\n",
      "the probe/shank IDs do not match.\n",
      "the probe/shank IDs do not match.\n",
      "\\\\zaru.cortexlab.net\\Subjects\\AV025\\2022-11-11\\ephys\\AV025_2022-11-11_SparseNoise1_g1\\AV025_2022-11-11_SparseNoise1_g1_imec0\n",
      "converting data to IBL format ...\n"
     ]
    },
    {
     "name": "stderr",
     "output_type": "stream",
     "text": [
      "Extracting waveforms: 100%|██████████| 649.8645666666666/649.8645666666666 [00:06<00:00, 99.76it/s]\n",
      "Converting to ALF: 145it [00:12, 11.67it/s]                         \n",
      "\u001b[36m2023-01-13 06:51:40.822 INFO     [extract_files.py:82] Computing QC for \\\\zaru.cortexlab.net\\Subjects\\AV025\\2022-11-11\\ephys\\AV025_2022-11-11_SparseNoise1_g1\\AV025_2022-11-11_SparseNoise1_g1_imec0\\AV025_2022-11-11_SparseNoise1_g1_t0.imec0.ap.cbin\u001b[0m\n"
     ]
    },
    {
     "name": "stdout",
     "output_type": "stream",
     "text": [
      " |████████████████████████████████████████████████████████████████████████████████████████████████████| 100.0% \n",
      "the probe/shank IDs do not match.\n",
      "\\\\zaru.cortexlab.net\\Subjects\\AV025\\2022-11-11\\ephys\\AV025_2022-11-11_SparseNoise1_g1\\AV025_2022-11-11_SparseNoise1_g1_imec1\n",
      "converting data to IBL format ...\n"
     ]
    },
    {
     "name": "stderr",
     "output_type": "stream",
     "text": [
      "Extracting waveforms: 100%|██████████| 649.863/649.863 [00:04<00:00, 139.70it/s]\n",
      "Converting to ALF: 145it [00:06, 21.25it/s]                         \n",
      "\u001b[36m2023-01-13 06:57:44.356 INFO     [extract_files.py:82] Computing QC for \\\\zaru.cortexlab.net\\Subjects\\AV025\\2022-11-11\\ephys\\AV025_2022-11-11_SparseNoise1_g1\\AV025_2022-11-11_SparseNoise1_g1_imec1\\AV025_2022-11-11_SparseNoise1_g1_t0.imec1.ap.cbin\u001b[0m\n"
     ]
    },
    {
     "name": "stdout",
     "output_type": "stream",
     "text": [
      " |████████████████████████████████████████████████████████████████████████████████████████████████████| 100.0% \n",
      "the probe/shank IDs do not match.\n",
      "\\\\zaru.cortexlab.net\\Subjects\\AV025\\2022-11-11\\ephys\\AV025_2022-11-11_SparseNoise2_g0\\AV025_2022-11-11_SparseNoise2_g0_imec0\n",
      "converting data to IBL format ...\n"
     ]
    },
    {
     "name": "stderr",
     "output_type": "stream",
     "text": [
      "c:\\Users\\Experiment\\anaconda3\\envs\\iblenv\\lib\\site-packages\\phylib\\io\\model.py:1053: RuntimeWarning: invalid value encountered in true_divide\n",
      "  spikes_depths[ispi] = (np.sum(np.transpose(ypos * features) /\n",
      "Extracting waveforms: 100%|██████████| 649.6756/649.6756 [00:06<00:00, 105.09it/s]\n",
      "Converting to ALF:  84%|████████▍ | 105/125 [00:08<00:01, 10.27it/s]c:\\Users\\Experiment\\anaconda3\\envs\\iblenv\\lib\\site-packages\\phylib\\io\\model.py:1053: RuntimeWarning: invalid value encountered in true_divide\n",
      "  spikes_depths[ispi] = (np.sum(np.transpose(ypos * features) /\n",
      "Converting to ALF: 145it [00:10, 13.63it/s]                         \n",
      "\u001b[36m2023-01-13 07:04:10.242 INFO     [extract_files.py:82] Computing QC for \\\\zaru.cortexlab.net\\Subjects\\AV025\\2022-11-11\\ephys\\AV025_2022-11-11_SparseNoise2_g0\\AV025_2022-11-11_SparseNoise2_g0_imec0\\AV025_2022-11-11_SparseNoise2_g0_t0.imec0.ap.cbin\u001b[0m\n"
     ]
    },
    {
     "name": "stdout",
     "output_type": "stream",
     "text": [
      " |████████████████████████████████████████████████████████████████████████████████████████████████████| 100.0% \n",
      "the probe/shank IDs do not match.\n",
      "\\\\zaru.cortexlab.net\\Subjects\\AV025\\2022-11-11\\ephys\\AV025_2022-11-11_SparseNoise2_g0\\AV025_2022-11-11_SparseNoise2_g0_imec1\n",
      "converting data to IBL format ...\n"
     ]
    },
    {
     "name": "stderr",
     "output_type": "stream",
     "text": [
      "Extracting waveforms: 100%|██████████| 649.6756333333333/649.6756333333333 [00:05<00:00, 117.59it/s]\n",
      "Converting to ALF: 145it [00:09, 15.85it/s]                         \n",
      "\u001b[36m2023-01-13 07:10:34.432 INFO     [extract_files.py:82] Computing QC for \\\\zaru.cortexlab.net\\Subjects\\AV025\\2022-11-11\\ephys\\AV025_2022-11-11_SparseNoise2_g0\\AV025_2022-11-11_SparseNoise2_g0_imec1\\AV025_2022-11-11_SparseNoise2_g0_t0.imec1.ap.cbin\u001b[0m\n"
     ]
    },
    {
     "name": "stdout",
     "output_type": "stream",
     "text": [
      " |████████████████████████████████████████████████████████████████████████████████████████████████████| 100.0% \n",
      "the probe/shank IDs do not match.\n",
      "\\\\zaru.cortexlab.net\\Subjects\\AV025\\2022-11-11\\ephys\\AV025_2022-11-11_SparseNoise3_g0\\AV025_2022-11-11_SparseNoise3_g0_imec0\n",
      "converting data to IBL format ...\n"
     ]
    },
    {
     "name": "stderr",
     "output_type": "stream",
     "text": [
      "Extracting waveforms: 100%|██████████| 637.2177333333333/637.2177333333333 [00:08<00:00, 75.76it/s]\n",
      "Converting to ALF: 145it [00:15,  9.16it/s]                         \n",
      "\u001b[36m2023-01-13 07:17:17.206 INFO     [extract_files.py:82] Computing QC for \\\\zaru.cortexlab.net\\Subjects\\AV025\\2022-11-11\\ephys\\AV025_2022-11-11_SparseNoise3_g0\\AV025_2022-11-11_SparseNoise3_g0_imec0\\AV025_2022-11-11_SparseNoise3_g0_t0.imec0.ap.cbin\u001b[0m\n"
     ]
    },
    {
     "name": "stdout",
     "output_type": "stream",
     "text": [
      " |████████████████████████████████████████████████████████████████████████████████████████████████████| 100.0% \n",
      "the probe/shank IDs do not match.\n",
      "\\\\zaru.cortexlab.net\\Subjects\\AV025\\2022-11-11\\ephys\\AV025_2022-11-11_SparseNoise3_g0\\AV025_2022-11-11_SparseNoise3_g0_imec1\n",
      "converting data to IBL format ...\n"
     ]
    },
    {
     "name": "stderr",
     "output_type": "stream",
     "text": [
      "Extracting waveforms: 100%|██████████| 637.2161666666667/637.2161666666667 [00:04<00:00, 142.54it/s]\n",
      "Converting to ALF: 145it [00:07, 20.22it/s]                         \n",
      "\u001b[36m2023-01-13 07:23:43.256 INFO     [extract_files.py:82] Computing QC for \\\\zaru.cortexlab.net\\Subjects\\AV025\\2022-11-11\\ephys\\AV025_2022-11-11_SparseNoise3_g0\\AV025_2022-11-11_SparseNoise3_g0_imec1\\AV025_2022-11-11_SparseNoise3_g0_t0.imec1.ap.cbin\u001b[0m\n"
     ]
    },
    {
     "name": "stdout",
     "output_type": "stream",
     "text": [
      " |████████████████████████████████████████████████████████████████████████████████████████████████████| 100.0% \n",
      "the probe/shank IDs do not match.\n",
      "\\\\zaru.cortexlab.net\\Subjects\\AV025\\2022-11-11\\ephys\\AV025_2022-11-11_SparseNoise3_g1\\AV025_2022-11-11_SparseNoise3_g1_imec0\n",
      "converting data to IBL format ...\n"
     ]
    },
    {
     "name": "stderr",
     "output_type": "stream",
     "text": [
      "c:\\Users\\Experiment\\anaconda3\\envs\\iblenv\\lib\\site-packages\\phylib\\io\\model.py:1053: RuntimeWarning: invalid value encountered in true_divide\n",
      "  spikes_depths[ispi] = (np.sum(np.transpose(ypos * features) /\n",
      "Extracting waveforms: 100%|██████████| 763.6817333333333/763.6817333333333 [00:06<00:00, 110.97it/s]\n",
      "Converting to ALF:  84%|████████▍ | 105/125 [00:12<00:02,  7.60it/s]c:\\Users\\Experiment\\anaconda3\\envs\\iblenv\\lib\\site-packages\\phylib\\io\\model.py:1053: RuntimeWarning: invalid value encountered in true_divide\n",
      "  spikes_depths[ispi] = (np.sum(np.transpose(ypos * features) /\n",
      "Converting to ALF: 145it [00:14,  9.95it/s]                         \n",
      "\u001b[36m2023-01-13 07:30:19.288 INFO     [extract_files.py:82] Computing QC for \\\\zaru.cortexlab.net\\Subjects\\AV025\\2022-11-11\\ephys\\AV025_2022-11-11_SparseNoise3_g1\\AV025_2022-11-11_SparseNoise3_g1_imec0\\AV025_2022-11-11_SparseNoise3_g1_t0.imec0.ap.cbin\u001b[0m\n"
     ]
    },
    {
     "name": "stdout",
     "output_type": "stream",
     "text": [
      " |████████████████████████████████████████████████████████████████████████████████████████████████████| 100.0% \n",
      "the probe/shank IDs do not match.\n",
      "\\\\zaru.cortexlab.net\\Subjects\\AV025\\2022-11-11\\ephys\\AV025_2022-11-11_SparseNoise3_g1\\AV025_2022-11-11_SparseNoise3_g1_imec1\n",
      "converting data to IBL format ...\n"
     ]
    },
    {
     "name": "stderr",
     "output_type": "stream",
     "text": [
      "Extracting waveforms: 100%|██████████| 763.6793666666666/763.6793666666666 [00:04<00:00, 169.99it/s]\n",
      "Converting to ALF: 145it [00:06, 21.05it/s]                         \n",
      "\u001b[36m2023-01-13 07:37:57.423 INFO     [extract_files.py:82] Computing QC for \\\\zaru.cortexlab.net\\Subjects\\AV025\\2022-11-11\\ephys\\AV025_2022-11-11_SparseNoise3_g1\\AV025_2022-11-11_SparseNoise3_g1_imec1\\AV025_2022-11-11_SparseNoise3_g1_t0.imec1.ap.cbin\u001b[0m\n"
     ]
    },
    {
     "name": "stdout",
     "output_type": "stream",
     "text": [
      " |████████████████████████████████████████████████████████████████████████████████████████████████████| 100.0% \n",
      "the probe/shank IDs do not match.\n",
      "\\\\zaru.cortexlab.net\\Subjects\\AV025\\2022-11-14\\ephys\\AV025_2022-11-14_NatImagesSparseNoise_g0\\AV025_2022-11-14_NatImagesSparseNoise_g0_imec0\n",
      "converting data to IBL format ...\n"
     ]
    },
    {
     "name": "stderr",
     "output_type": "stream",
     "text": [
      "Extracting waveforms: 100%|██████████| 1702.0475666666666/1702.0475666666666 [00:06<00:00, 249.85it/s]\n",
      "Converting to ALF: 145it [00:11, 12.66it/s]                         \n",
      "\u001b[36m2023-01-13 07:45:41.61 INFO     [extract_files.py:82] Computing QC for \\\\zaru.cortexlab.net\\Subjects\\AV025\\2022-11-14\\ephys\\AV025_2022-11-14_NatImagesSparseNoise_g0\\AV025_2022-11-14_NatImagesSparseNoise_g0_imec0\\AV025_2022-11-14_NatImagesSparseNoise_g0_t0.imec0.ap.cbin\u001b[0m\n"
     ]
    },
    {
     "name": "stdout",
     "output_type": "stream",
     "text": [
      "the probe/shank IDs do not match.███████████████████████████████████████████████████████████████████--| 99.0% \n",
      "the probe/shank IDs do not match.\n",
      "the probe/shank IDs do not match.\n",
      "the probe/shank IDs do not match.\n",
      "\\\\zaru.cortexlab.net\\Subjects\\AV025\\2022-11-14\\ephys\\AV025_2022-11-14_NatImagesSparseNoise_g0\\AV025_2022-11-14_NatImagesSparseNoise_g0_imec1\n",
      "converting data to IBL format ...\n"
     ]
    },
    {
     "name": "stderr",
     "output_type": "stream",
     "text": [
      "Extracting waveforms: 100%|██████████| 1702.0452333333333/1702.0452333333333 [00:04<00:00, 352.03it/s]\n",
      "Converting to ALF: 145it [00:06, 21.05it/s]                         \n",
      "\u001b[36m2023-01-13 08:02:21.286 INFO     [extract_files.py:82] Computing QC for \\\\zaru.cortexlab.net\\Subjects\\AV025\\2022-11-14\\ephys\\AV025_2022-11-14_NatImagesSparseNoise_g0\\AV025_2022-11-14_NatImagesSparseNoise_g0_imec1\\AV025_2022-11-14_NatImagesSparseNoise_g0_t0.imec1.ap.cbin\u001b[0m\n"
     ]
    },
    {
     "name": "stdout",
     "output_type": "stream",
     "text": [
      "the probe/shank IDs do not match.███████████████████████████████████████████████████████████████████--| 99.0% \n",
      "the probe/shank IDs do not match.\n",
      "the probe/shank IDs do not match.\n",
      "the probe/shank IDs do not match.\n",
      "\\\\zaru.cortexlab.net\\Subjects\\AV025\\2022-11-14\\ephys\\AV025_2022-11-14_SparseNoise_Part1_g1\\AV025_2022-11-14_SparseNoise_Part1_g1_imec0\n",
      "converting data to IBL format ...\n"
     ]
    },
    {
     "name": "stderr",
     "output_type": "stream",
     "text": [
      "c:\\Users\\Experiment\\anaconda3\\envs\\iblenv\\lib\\site-packages\\phylib\\io\\model.py:1053: RuntimeWarning: invalid value encountered in true_divide\n",
      "  spikes_depths[ispi] = (np.sum(np.transpose(ypos * features) /\n",
      "Extracting waveforms: 100%|██████████| 637.9758333333333/637.9758333333333 [00:08<00:00, 78.69it/s]\n",
      "Converting to ALF:  84%|████████▍ | 105/125 [00:12<00:02,  7.64it/s]c:\\Users\\Experiment\\anaconda3\\envs\\iblenv\\lib\\site-packages\\phylib\\io\\model.py:1053: RuntimeWarning: invalid value encountered in true_divide\n",
      "  spikes_depths[ispi] = (np.sum(np.transpose(ypos * features) /\n",
      "Converting to ALF: 145it [00:14, 10.21it/s]                         \n",
      "\u001b[36m2023-01-13 08:18:32.749 INFO     [extract_files.py:82] Computing QC for \\\\zaru.cortexlab.net\\Subjects\\AV025\\2022-11-14\\ephys\\AV025_2022-11-14_SparseNoise_Part1_g1\\AV025_2022-11-14_SparseNoise_Part1_g1_imec0\\AV025_2022-11-14_SparseNoise_Part1_g1_t0.imec0.ap.cbin\u001b[0m\n"
     ]
    },
    {
     "name": "stdout",
     "output_type": "stream",
     "text": [
      " |████████████████████████████████████████████████████████████████████████████████████████████████████| 100.0% \n",
      "the probe/shank IDs do not match.\n",
      "\\\\zaru.cortexlab.net\\Subjects\\AV025\\2022-11-14\\ephys\\AV025_2022-11-14_SparseNoise_Part1_g1\\AV025_2022-11-14_SparseNoise_Part1_g1_imec1\n",
      "converting data to IBL format ...\n"
     ]
    },
    {
     "name": "stderr",
     "output_type": "stream",
     "text": [
      "Extracting waveforms: 100%|██████████| 637.9734666666667/637.9734666666667 [00:04<00:00, 136.27it/s]\n",
      "Converting to ALF: 145it [00:06, 21.44it/s]                         \n",
      "\u001b[36m2023-01-13 08:24:28.194 INFO     [extract_files.py:82] Computing QC for \\\\zaru.cortexlab.net\\Subjects\\AV025\\2022-11-14\\ephys\\AV025_2022-11-14_SparseNoise_Part1_g1\\AV025_2022-11-14_SparseNoise_Part1_g1_imec1\\AV025_2022-11-14_SparseNoise_Part1_g1_t0.imec1.ap.cbin\u001b[0m\n"
     ]
    },
    {
     "name": "stdout",
     "output_type": "stream",
     "text": [
      " |████████████████████████████████████████████████████████████████████████████████████████████████████| 100.0% \n",
      "the probe/shank IDs do not match.\n",
      "the probe/shank IDs do not match.\n",
      "the probe/shank IDs do not match.\n",
      "the probe/shank IDs do not match.\n",
      "\\\\zaru.cortexlab.net\\Subjects\\AV025\\2022-11-14\\ephys\\AV025_2022-11-14_SparseNoise_Part2_g0\\AV025_2022-11-14_SparseNoise_Part2_g0_imec0\n",
      "converting data to IBL format ...\n"
     ]
    },
    {
     "name": "stderr",
     "output_type": "stream",
     "text": [
      "c:\\Users\\Experiment\\anaconda3\\envs\\iblenv\\lib\\site-packages\\phylib\\io\\model.py:1053: RuntimeWarning: invalid value encountered in true_divide\n",
      "  spikes_depths[ispi] = (np.sum(np.transpose(ypos * features) /\n",
      "Extracting waveforms: 100%|██████████| 640.7819/640.7819 [00:06<00:00, 106.21it/s]\n",
      "Converting to ALF:  84%|████████▍ | 105/125 [00:07<00:01, 12.06it/s]c:\\Users\\Experiment\\anaconda3\\envs\\iblenv\\lib\\site-packages\\phylib\\io\\model.py:1053: RuntimeWarning: invalid value encountered in true_divide\n",
      "  spikes_depths[ispi] = (np.sum(np.transpose(ypos * features) /\n",
      "Converting to ALF: 145it [00:08, 16.18it/s]                         \n",
      "\u001b[36m2023-01-13 08:30:51.633 INFO     [extract_files.py:82] Computing QC for \\\\zaru.cortexlab.net\\Subjects\\AV025\\2022-11-14\\ephys\\AV025_2022-11-14_SparseNoise_Part2_g0\\AV025_2022-11-14_SparseNoise_Part2_g0_imec0\\AV025_2022-11-14_SparseNoise_Part2_g0_t0.imec0.ap.cbin\u001b[0m\n"
     ]
    },
    {
     "name": "stdout",
     "output_type": "stream",
     "text": [
      " |████████████████████████████████████████████████████████████████████████████████████████████████████| 100.0% \n",
      "the probe/shank IDs do not match.\n",
      "\\\\zaru.cortexlab.net\\Subjects\\AV025\\2022-11-14\\ephys\\AV025_2022-11-14_SparseNoise_Part2_g0\\AV025_2022-11-14_SparseNoise_Part2_g0_imec1\n",
      "converting data to IBL format ...\n"
     ]
    },
    {
     "name": "stderr",
     "output_type": "stream",
     "text": [
      "Extracting waveforms: 100%|██████████| 640.7795333333333/640.7795333333333 [00:06<00:00, 97.32it/s]\n",
      "Converting to ALF: 145it [00:11, 12.29it/s]                         \n",
      "\u001b[36m2023-01-13 08:37:23.826 INFO     [extract_files.py:82] Computing QC for \\\\zaru.cortexlab.net\\Subjects\\AV025\\2022-11-14\\ephys\\AV025_2022-11-14_SparseNoise_Part2_g0\\AV025_2022-11-14_SparseNoise_Part2_g0_imec1\\AV025_2022-11-14_SparseNoise_Part2_g0_t0.imec1.ap.cbin\u001b[0m\n"
     ]
    },
    {
     "name": "stdout",
     "output_type": "stream",
     "text": [
      " |████████████████████████████████████████████████████████████████████████████████████████████████████| 100.0% \n",
      "the probe/shank IDs do not match.\n",
      "\\\\zaru.cortexlab.net\\Subjects\\AV025\\2022-11-14\\ephys\\AV025_2022-11-14_SparseNoise_Part3_g0\\AV025_2022-11-14_SparseNoise_Part3_g0_imec0\n",
      "converting data to IBL format ...\n"
     ]
    },
    {
     "name": "stderr",
     "output_type": "stream",
     "text": [
      "Extracting waveforms: 100%|██████████| 751.0699/751.0699 [00:06<00:00, 115.16it/s]\n",
      "Converting to ALF: 145it [00:11, 13.01it/s]                         \n",
      "\u001b[36m2023-01-13 08:43:25.628 INFO     [extract_files.py:82] Computing QC for \\\\zaru.cortexlab.net\\Subjects\\AV025\\2022-11-14\\ephys\\AV025_2022-11-14_SparseNoise_Part3_g0\\AV025_2022-11-14_SparseNoise_Part3_g0_imec0\\AV025_2022-11-14_SparseNoise_Part3_g0_t0.imec0.ap.cbin\u001b[0m\n"
     ]
    },
    {
     "name": "stdout",
     "output_type": "stream",
     "text": [
      "the probe/shank IDs do not match.████████████████████████████████████████████████████████████████████-| 99.4% \n",
      "\\\\zaru.cortexlab.net\\Subjects\\AV025\\2022-11-14\\ephys\\AV025_2022-11-14_SparseNoise_Part3_g0\\AV025_2022-11-14_SparseNoise_Part3_g0_imec1\n",
      "converting data to IBL format ...\n"
     ]
    },
    {
     "name": "stderr",
     "output_type": "stream",
     "text": [
      "Extracting waveforms: 100%|██████████| 751.0675333333334/751.0675333333334 [00:04<00:00, 156.12it/s]\n",
      "Converting to ALF: 145it [00:07, 20.46it/s]                         \n",
      "\u001b[36m2023-01-13 08:50:24.9 INFO     [extract_files.py:82] Computing QC for \\\\zaru.cortexlab.net\\Subjects\\AV025\\2022-11-14\\ephys\\AV025_2022-11-14_SparseNoise_Part3_g0\\AV025_2022-11-14_SparseNoise_Part3_g0_imec1\\AV025_2022-11-14_SparseNoise_Part3_g0_t0.imec1.ap.cbin\u001b[0m\n"
     ]
    },
    {
     "name": "stdout",
     "output_type": "stream",
     "text": [
      " |█████████████████████████████████████████████████████████████████████-------------------------------| 69.2% \r"
     ]
    }
   ],
   "source": [
    "# add a func to loop over SC recordings (selected somehow by Flora)\n",
    "import json\n",
    "import pandas as pd \n",
    "from Admin.csv_pyhandlers import get_server_location\n",
    "from Analysis.helpers.queryExp import load_data\n",
    "\n",
    "prPath = get_server_location()\n",
    "session_list = pd.read_csv(prPath / 'Helpers/sc_selected_recordings.csv')\n",
    "\n",
    "\n",
    "for _,r in session_list.iterrows():\n",
    "    # read corresponding ephys files \n",
    "    corresponding_ephys_json= list((Path(r.expFolder)).glob('ONE_preproc\\probe*\\_av_rawephys.path*.json'))\n",
    "\n",
    "    for rec_path in corresponding_ephys_json: \n",
    "            # open json to get the actual path\n",
    "            rec = open(rec_path,)\n",
    "            rec = json.load(rec)\n",
    "            rec = Path(rec)\n",
    "            print(rec.parents[2])\n",
    "            s=add_anat_to_ibl_format(rec.parents[2],recompute=False)\n"
   ]
  }
 ],
 "metadata": {
  "kernelspec": {
   "display_name": "iblenv",
   "language": "python",
   "name": "python3"
  },
  "language_info": {
   "codemirror_mode": {
    "name": "ipython",
    "version": 3
   },
   "file_extension": ".py",
   "mimetype": "text/x-python",
   "name": "python",
   "nbconvert_exporter": "python",
   "pygments_lexer": "ipython3",
   "version": "3.9.12"
  },
  "vscode": {
   "interpreter": {
    "hash": "21ed3f0e654da5893f6854f4cece759776472a211c99c6c57a6819993f76b2d5"
   }
  }
 },
 "nbformat": 4,
 "nbformat_minor": 5
}
