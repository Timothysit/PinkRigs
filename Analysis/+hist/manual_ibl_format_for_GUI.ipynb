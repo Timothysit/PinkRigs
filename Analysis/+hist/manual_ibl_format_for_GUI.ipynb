{
 "cells": [
  {
   "cell_type": "code",
   "execution_count": 3,
   "id": "17a7b2f0",
   "metadata": {},
   "outputs": [],
   "source": [
    "import sys,re,json\n",
    "import numpy as np\n",
    "from pathlib import Path\n",
    "\n",
    "# import IBL packages \n",
    "from atlaselectrophysiology.extract_files import extract_data\n",
    "from ibllib.atlas import AllenAtlas\n",
    "atlas = AllenAtlas(25) # always register to the 25 um atlas \n",
    "\n",
    "# import PinkRig ephys processng tools \n",
    "sys.path.insert(0, r\"C:\\Users\\Experiment\\Documents\\Github\\PinkRigs\\Analysis\\+kilo\\python_\")\n",
    "from ReadSGLXData.readSGLX import readMeta\n",
    "\n",
    "def ks_to_ibl_format(ephys_path,ks_folder='pyKS',recompute=False):\n",
    "    # Path to KS output\n",
    "    if 'pyKS' in ks_folder: \n",
    "        ks_folder = r'pyKS\\output'\n",
    "        \n",
    "    ks_path = ephys_path / ks_folder\n",
    "    # Save path\n",
    "    out_path = ks_path / 'ibl_format'\n",
    "    out_path.mkdir(parents=False, exist_ok=True) # make directory if it does not exist\n",
    "\n",
    "    # extract the data to ibl_format if it has not been done already.\n",
    "    if not (out_path / 'cluster_matrics.tsv').is_file() or recompute:\n",
    "        print('converting data to IBL format ...')\n",
    "        extract_data(ks_path, ephys_path, out_path) \n",
    "\n",
    "    # get the probe tracks if they exist.\n",
    "    subject_path = ephys_path.parents[3]\n",
    "    brainreg_path = subject_path / r'histology\\registration\\brainreg_output\\manual_segmentation\\standard_space\\tracks'\n",
    "    if brainreg_path.is_dir():\n",
    "        # get some information from meta file \n",
    "        meta = readMeta(list(ephys_path.glob('*.ap.cbin'))[0])\n",
    "\n",
    "        # serial number\n",
    "        probe_sn = meta['imDatPrb_sn']\n",
    "\n",
    "        # shanks that have been recorded. \n",
    "        imro = meta['snsShankMap']\n",
    "        channel_data = re.findall(r\"\\d+:\\d+:\\d+:\\d+\",imro)\n",
    "        shank_idx = np.array([np.array(re.split(':',chandat)).astype('int')[0] for chandat in channel_data])\n",
    "        recorded_shanks = np.unique(shank_idx).astype('str')\n",
    "            # get the xyz_picks if the histology exist.\n",
    "\n",
    "        for shank in recorded_shanks:\n",
    "            shank_file_name = 'SN%s_shank%s.npy' % (probe_sn,shank)\n",
    "            shank_anat_path = brainreg_path / shank_file_name\n",
    "\n",
    "            if shank_anat_path.is_file():\n",
    "                # Load in coordinates of track in CCF space (order - apdvml, origin - top, left, front voxel\n",
    "                xyz_apdvml = np.load(shank_anat_path)\n",
    "                # Convert to IBL space (order - mlapdv, origin - bregma)\n",
    "                xyz_mlapdv = atlas.ccf2xyz(xyz_apdvml, ccf_order='apdvml') * 1e6\n",
    "                xyz_picks = {'xyz_picks': xyz_mlapdv.tolist()}\n",
    "\n",
    "                # save file the ibl_format output path - the format is following the curernt requirements of the GUI, i.e. \n",
    "                # xyz_picks.json if single shank recording\n",
    "                # else xyz_picks_shank0.json \n",
    "                if recorded_shanks.size==1:\n",
    "                    with open(Path(out_path, 'xyz_picks.json'), \"w\") as f:\n",
    "                        json.dump(xyz_picks, f, indent=2)\n",
    "                else:\n",
    "                    with open(Path(out_path, 'xyz_picks_shank%s.json' % shank), \"w\") as f:\n",
    "                        json.dump(xyz_picks, f, indent=2)\n",
    "            else: \n",
    "                print('the probe/shank IDs do not match.')                \n",
    "    else: \n",
    "        print('the histology does not seem to have been done. ')\n",
    "        \n",
    "   "
   ]
  },
  {
   "cell_type": "code",
   "execution_count": null,
   "id": "c7474bab",
   "metadata": {},
   "outputs": [
    {
     "name": "stdout",
     "output_type": "stream",
     "text": [
      "converting data to IBL format ...\n"
     ]
    },
    {
     "name": "stderr",
     "output_type": "stream",
     "text": [
      "C:\\Users\\Experiment\\anaconda3\\envs\\iblenv\\lib\\site-packages\\phylib\\io\\model.py:1053: RuntimeWarning: invalid value encountered in true_divide\n",
      "  spikes_depths[ispi] = (np.sum(np.transpose(ypos * features) /\n",
      "Converting to ALF:  44%|███████████████████████████▎                                  | 55/125 [00:02<00:02, 26.26it/s]\n",
      "Extracting waveforms:   0%|                                                              | 0/1671.0704 [00:00<?, ?it/s]\u001b[A\n",
      "Extracting waveforms:   1%|▌                                                  | 19.0/1671.0704 [00:00<00:31, 51.95it/s]\u001b[A\n",
      "Extracting waveforms:   6%|██▉                                               | 99.0/1671.0704 [00:00<00:07, 200.74it/s]\u001b[A\n",
      "Extracting waveforms:  11%|█████▏                                           | 179.0/1671.0704 [00:00<00:05, 257.97it/s]\u001b[A\n",
      "Extracting waveforms:  16%|███████▉                                         | 269.0/1671.0704 [00:01<00:07, 177.47it/s]\u001b[A\n",
      "Extracting waveforms:  21%|██████████▏                                      | 349.0/1671.0704 [00:01<00:06, 211.60it/s]\u001b[A\n",
      "Extracting waveforms:  26%|████████████▊                                    | 439.0/1671.0704 [00:02<00:06, 196.60it/s]\u001b[A\n",
      "Extracting waveforms:  31%|███████████████▏                                 | 519.0/1671.0704 [00:02<00:05, 201.85it/s]\u001b[A\n",
      "Extracting waveforms:  36%|█████████████████▌                               | 599.0/1671.0704 [00:02<00:04, 227.09it/s]\u001b[A\n",
      "Extracting waveforms:  41%|████████████████████▏                            | 689.0/1671.0704 [00:03<00:05, 164.45it/s]\u001b[A\n",
      "Extracting waveforms:  46%|██████████████████████▌                          | 769.0/1671.0704 [00:04<00:05, 159.01it/s]\u001b[A\n",
      "Extracting waveforms:  51%|█████████████████████████▏                       | 859.0/1671.0704 [00:04<00:04, 197.05it/s]\u001b[A\n",
      "Extracting waveforms:  56%|███████████████████████████▌                     | 939.0/1671.0704 [00:04<00:03, 217.52it/s]\u001b[A\n",
      "Extracting waveforms:  61%|█████████████████████████████▎                  | 1019.0/1671.0704 [00:05<00:02, 239.16it/s]\u001b[A\n",
      "Extracting waveforms:  66%|███████████████████████████████▊                | 1109.0/1671.0704 [00:05<00:03, 170.04it/s]\u001b[A\n",
      "Extracting waveforms:  71%|██████████████████████████████████▏             | 1189.0/1671.0704 [00:06<00:03, 155.97it/s]\u001b[A\n",
      "Extracting waveforms:  77%|████████████████████████████████████▋           | 1279.0/1671.0704 [00:07<00:03, 130.26it/s]\u001b[A\n",
      "Extracting waveforms:  81%|███████████████████████████████████████         | 1359.0/1671.0704 [00:07<00:02, 137.49it/s]\u001b[A\n",
      "Extracting waveforms:  86%|█████████████████████████████████████████▎      | 1439.0/1671.0704 [00:08<00:01, 151.59it/s]\u001b[A\n",
      "Extracting waveforms:  91%|███████████████████████████████████████████▉    | 1529.0/1671.0704 [00:08<00:00, 182.86it/s]\u001b[A\n",
      "Extracting waveforms: 100%|█████████████████████████████████████████████| 1671.0704/1671.0704 [00:09<00:00, 182.28it/s]\u001b[A\n",
      "Converting to ALF:  84%|███████████████████████████████████████████████████▏         | 105/125 [00:11<00:02,  8.04it/s]C:\\Users\\Experiment\\anaconda3\\envs\\iblenv\\lib\\site-packages\\phylib\\io\\model.py:1053: RuntimeWarning: invalid value encountered in true_divide\n",
      "  spikes_depths[ispi] = (np.sum(np.transpose(ypos * features) /\n",
      "Converting to ALF: 145it [00:13, 11.11it/s]                                                                            \n",
      "\u001b[36m2022-07-27 16:56:46.788 INFO     [extract_files.py:82] Computing QC for Z:\\AV014\\2022-07-07\\ephys\\AV014_2022-07-07_NatImagesSparseNoise_g0\\AV014_2022-07-07_NatImagesSparseNoise_g0_imec0\\AV014_2022-07-07_NatImagesSparseNoise_g0_t0.imec0.ap.cbin\u001b[0m\n"
     ]
    },
    {
     "name": "stdout",
     "output_type": "stream",
     "text": [
      "\r",
      " |----------------------------------------------------------------------------------------------------| 0.3% \r"
     ]
    }
   ],
   "source": [
    "\n",
    "# Path to raw ephys data\n",
    "ephys_path = Path(r'Z:\\AV014\\2022-07-07\\ephys\\AV014_2022-07-07_NatImagesSparseNoise_g0\\AV014_2022-07-07_NatImagesSparseNoise_g0_imec0')\n",
    "     \n",
    "ks_to_ibl_format(ephys_path,recompute=False)"
   ]
  }
 ],
 "metadata": {
  "kernelspec": {
   "display_name": "Python 3 (ipykernel)",
   "language": "python",
   "name": "python3"
  },
  "language_info": {
   "codemirror_mode": {
    "name": "ipython",
    "version": 3
   },
   "file_extension": ".py",
   "mimetype": "text/x-python",
   "name": "python",
   "nbconvert_exporter": "python",
   "pygments_lexer": "ipython3",
   "version": "3.9.12"
  }
 },
 "nbformat": 4,
 "nbformat_minor": 5
}
