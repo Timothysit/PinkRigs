{
 "cells": [
  {
   "cell_type": "code",
   "execution_count": 45,
   "id": "c7474bab",
   "metadata": {},
   "outputs": [],
   "source": [
    "import glob,sys\n",
    "from pathlib import Path\n",
    "pinkRig_path= glob.glob(r'C:\\Users\\*\\Documents\\Github\\PinkRigs')\n",
    "pinkRig_path = Path(pinkRig_path[0])\n",
    "sys.path.insert(0, (pinkRig_path.__str__()))\n",
    "kilofolder = __import__(\"Analysis.+kilo.python_.convert_to_ibl_format\") # this is necessary because some wise people decided to write a package with python and matlab in it. #wisdom.\n",
    "kilo = getattr(kilofolder, \"+kilo\")\n",
    "add_anat_to_ibl_format = kilo.python_.convert_to_ibl_format.add_anat_to_ibl_format\n",
    "\n",
    "# Path to raw ephys data\n",
    "#ephys_path = Path(r'Z:\\AV014\\2022-07-07\\ephys\\AV014_2022-07-07_NatImagesSparseNoise_g0\\AV014_2022-07-07_NatImagesSparseNoise_g0_imec0')\n",
    "     \n",
    "#add_anat_to_ibl_format(ephys_path,ks_folder='pyKS',recompute=True)"
   ]
  },
  {
   "cell_type": "code",
   "execution_count": 48,
   "id": "0da624da",
   "metadata": {},
   "outputs": [
    {
     "name": "stdout",
     "output_type": "stream",
     "text": [
      "converting data to IBL format ...\n"
     ]
    },
    {
     "name": "stderr",
     "output_type": "stream",
     "text": [
      "c:\\Users\\Experiment\\anaconda3\\envs\\iblenv\\lib\\site-packages\\phylib\\io\\model.py:1053: RuntimeWarning: invalid value encountered in true_divide\n",
      "  spikes_depths[ispi] = (np.sum(np.transpose(ypos * features) /\n",
      "Extracting waveforms: 100%|██████████| 4806.6568/4806.6568 [00:13<00:00, 368.31it/s]\n",
      "Converting to ALF:  84%|████████▍ | 105/125 [00:18<00:04,  4.72it/s]c:\\Users\\Experiment\\anaconda3\\envs\\iblenv\\lib\\site-packages\\phylib\\io\\model.py:1053: RuntimeWarning: invalid value encountered in true_divide\n",
      "  spikes_depths[ispi] = (np.sum(np.transpose(ypos * features) /\n",
      "Converting to ALF: 145it [00:26,  5.57it/s]                         \n",
      "\u001b[36m2023-01-11 17:48:56.751 INFO     [extract_files.py:82] Computing QC for \\\\zinu.cortexlab.net\\Subjects\\AV005\\2022-05-27\\ephys\\AV005_2022-05-27_ActivePassive_g0\\AV005_2022-05-27_ActivePassive_g0_imec0\\AV005_2022-05-27_ActivePassive_g0_t0.imec0.ap.cbin\u001b[0m\n"
     ]
    },
    {
     "name": "stdout",
     "output_type": "stream",
     "text": [
      "the probe/shank IDs do not match.████████████████████████████████████████████████████████████████████-| 99.3% \n",
      "the probe/shank IDs do not match.\n",
      "the probe/shank IDs do not match.\n",
      "the probe/shank IDs do not match.\n",
      "\\\\zinu.cortexlab.net\\Subjects\\AV005\\2022-05-27\\ephys\\AV005_2022-05-27_ActivePassive_g0\\AV005_2022-05-27_ActivePassive_g0_imec0\\pyKS\\output\\ibl_format\\channels.localCoordinates.npy\n",
      "converting data to IBL format ...\n"
     ]
    },
    {
     "name": "stderr",
     "output_type": "stream",
     "text": [
      "Extracting waveforms: 100%|██████████| 1790.7910333333334/1790.7910333333334 [00:06<00:00, 266.11it/s]\n",
      "Converting to ALF: 145it [00:08, 16.67it/s]                         \n",
      "\u001b[36m2023-01-11 18:37:22.324 INFO     [extract_files.py:82] Computing QC for \\\\zinu.cortexlab.net\\Subjects\\AV005\\2022-05-27\\ephys\\AV005_2022-05-27_NatImagesSparseNoise_g0\\AV005_2022-05-27_NatImagesSparseNoise_g0_imec0\\AV005_2022-05-27_NatImagesSparseNoise_g0_t0.imec0.ap.cbin\u001b[0m\n"
     ]
    },
    {
     "name": "stdout",
     "output_type": "stream",
     "text": [
      "the probe/shank IDs do not match.████████████████████████████████████████████████████████████████████-| 99.0% \n",
      "the probe/shank IDs do not match.\n",
      "the probe/shank IDs do not match.\n",
      "the probe/shank IDs do not match.\n",
      "\\\\zinu.cortexlab.net\\Subjects\\AV005\\2022-05-27\\ephys\\AV005_2022-05-27_NatImagesSparseNoise_g0\\AV005_2022-05-27_NatImagesSparseNoise_g0_imec0\\pyKS\\output\\ibl_format\\channels.localCoordinates.npy\n",
      "converting data to IBL format ...\n"
     ]
    },
    {
     "name": "stderr",
     "output_type": "stream",
     "text": [
      "Extracting waveforms: 100%|██████████| 4625.491433333334/4625.491433333334 [00:08<00:00, 568.18it/s]\n",
      "Converting to ALF: 145it [00:16,  8.74it/s]                         \n",
      "\u001b[36m2023-01-11 18:56:13.376 INFO     [extract_files.py:82] Computing QC for \\\\zinu.cortexlab.net\\Subjects\\AV005\\2022-05-16\\ephys\\AV005_2022-05-16_ActivePassive_g0\\AV005_2022-05-16_ActivePassive_g0_imec0\\AV005_2022-05-16_ActivePassive_g0_t0.imec0.ap.cbin\u001b[0m\n"
     ]
    },
    {
     "name": "stdout",
     "output_type": "stream",
     "text": [
      "the probe/shank IDs do not match.████████████████████████████████████████████████████████████████████-| 99.2% \n",
      "the probe/shank IDs do not match.\n",
      "the probe/shank IDs do not match.\n",
      "the probe/shank IDs do not match.\n",
      "\\\\zinu.cortexlab.net\\Subjects\\AV005\\2022-05-16\\ephys\\AV005_2022-05-16_ActivePassive_g0\\AV005_2022-05-16_ActivePassive_g0_imec0\\pyKS\\output\\ibl_format\\channels.localCoordinates.npy\n",
      "converting data to IBL format ...\n"
     ]
    },
    {
     "name": "stderr",
     "output_type": "stream",
     "text": [
      "c:\\Users\\Experiment\\anaconda3\\envs\\iblenv\\lib\\site-packages\\phylib\\io\\model.py:1053: RuntimeWarning: invalid value encountered in true_divide\n",
      "  spikes_depths[ispi] = (np.sum(np.transpose(ypos * features) /\n",
      "Extracting waveforms: 100%|██████████| 1692.3917666666666/1692.3917666666666 [00:07<00:00, 227.10it/s]\n",
      "Converting to ALF:  84%|████████▍ | 105/125 [00:11<00:02,  7.89it/s]c:\\Users\\Experiment\\anaconda3\\envs\\iblenv\\lib\\site-packages\\phylib\\io\\model.py:1053: RuntimeWarning: invalid value encountered in true_divide\n",
      "  spikes_depths[ispi] = (np.sum(np.transpose(ypos * features) /\n",
      "Converting to ALF: 145it [00:13, 11.00it/s]                         \n",
      "\u001b[36m2023-01-11 19:43:00.365 INFO     [extract_files.py:82] Computing QC for \\\\zinu.cortexlab.net\\Subjects\\AV005\\2022-05-16\\ephys\\AV005_2022-05-16_NatImagesSparseNoise_g0\\AV005_2022-05-16_NatImagesSparseNoise_g0_imec0\\AV005_2022-05-16_NatImagesSparseNoise_g0_t0.imec0.ap.cbin\u001b[0m\n"
     ]
    },
    {
     "name": "stdout",
     "output_type": "stream",
     "text": [
      "the probe/shank IDs do not match.████████████████████████████████████████████████████████████████████-| 99.5% \n",
      "the probe/shank IDs do not match.\n",
      "the probe/shank IDs do not match.\n",
      "the probe/shank IDs do not match.\n",
      "\\\\zinu.cortexlab.net\\Subjects\\AV005\\2022-05-16\\ephys\\AV005_2022-05-16_NatImagesSparseNoise_g0\\AV005_2022-05-16_NatImagesSparseNoise_g0_imec0\\pyKS\\output\\ibl_format\\channels.localCoordinates.npy\n",
      "converting data to IBL format ...\n"
     ]
    },
    {
     "name": "stderr",
     "output_type": "stream",
     "text": [
      "Extracting waveforms: 100%|██████████| 767.9278333333333/767.9278333333333 [00:09<00:00, 78.45it/s]\n",
      "Converting to ALF: 145it [00:14,  9.79it/s]                         \n",
      "\u001b[36m2023-01-11 20:00:16.480 INFO     [extract_files.py:82] Computing QC for \\\\zinu.cortexlab.net\\Subjects\\AV005\\2022-05-16\\ephys\\AV005_2022-05-16_Spontaneous_part1_g0\\AV005_2022-05-16_Spontaneous_part1_g0_imec0\\AV005_2022-05-16_Spontaneous_part1_g0_t0.imec0.ap.cbin\u001b[0m\n"
     ]
    },
    {
     "name": "stdout",
     "output_type": "stream",
     "text": [
      "the probe/shank IDs do not match.████████████████████████████████████████████████████████████████████-| 99.4% \n",
      "\\\\zinu.cortexlab.net\\Subjects\\AV005\\2022-05-16\\ephys\\AV005_2022-05-16_Spontaneous_part1_g0\\AV005_2022-05-16_Spontaneous_part1_g0_imec0\\pyKS\\output\\ibl_format\\channels.localCoordinates.npy\n",
      "converting data to IBL format ...\n"
     ]
    },
    {
     "name": "stderr",
     "output_type": "stream",
     "text": [
      "c:\\Users\\Experiment\\anaconda3\\envs\\iblenv\\lib\\site-packages\\phylib\\io\\model.py:1053: RuntimeWarning: invalid value encountered in true_divide\n",
      "  spikes_depths[ispi] = (np.sum(np.transpose(ypos * features) /\n",
      "Extracting waveforms: 100%|██████████| 666.4819666666667/666.4819666666667 [00:09<00:00, 68.03it/s]\n",
      "Converting to ALF:  84%|████████▍ | 105/125 [00:11<00:02,  7.80it/s]c:\\Users\\Experiment\\anaconda3\\envs\\iblenv\\lib\\site-packages\\phylib\\io\\model.py:1053: RuntimeWarning: invalid value encountered in true_divide\n",
      "  spikes_depths[ispi] = (np.sum(np.transpose(ypos * features) /\n",
      "Converting to ALF: 145it [00:13, 10.93it/s]                         \n",
      "\u001b[36m2023-01-11 20:08:26.238 INFO     [extract_files.py:82] Computing QC for \\\\zinu.cortexlab.net\\Subjects\\AV005\\2022-05-16\\ephys\\AV005_2022-05-16_Spontaneous_part2_g0\\AV005_2022-05-16_Spontaneous_part2_g0_imec0\\AV005_2022-05-16_Spontaneous_part2_g0_t0.imec0.ap.cbin\u001b[0m\n"
     ]
    },
    {
     "name": "stdout",
     "output_type": "stream",
     "text": [
      " |████████████████████████████████████████████████████████████████████████████████████████████████████| 100.0% \n",
      "the probe/shank IDs do not match.\n",
      "\\\\zinu.cortexlab.net\\Subjects\\AV005\\2022-05-16\\ephys\\AV005_2022-05-16_Spontaneous_part2_g0\\AV005_2022-05-16_Spontaneous_part2_g0_imec0\\pyKS\\output\\ibl_format\\channels.localCoordinates.npy\n",
      "converting data to IBL format ...\n"
     ]
    },
    {
     "name": "stderr",
     "output_type": "stream",
     "text": [
      "Extracting waveforms: 100%|██████████| 710.8711666666667/710.8711666666667 [00:10<00:00, 67.39it/s]\n",
      "Converting to ALF:  84%|████████▍ | 105/125 [00:14<00:03,  6.37it/s]c:\\Users\\Experiment\\anaconda3\\envs\\iblenv\\lib\\site-packages\\phylib\\io\\model.py:1053: RuntimeWarning: invalid value encountered in true_divide\n",
      "  spikes_depths[ispi] = (np.sum(np.transpose(ypos * features) /\n",
      "Converting to ALF: 145it [00:15,  9.11it/s]                         \n",
      "\u001b[36m2023-01-11 20:15:36.22 INFO     [extract_files.py:82] Computing QC for \\\\zinu.cortexlab.net\\Subjects\\AV005\\2022-05-16\\ephys\\AV005_2022-05-16_Spontaneous_part3_g0\\AV005_2022-05-16_Spontaneous_part3_g0_imec0\\AV005_2022-05-16_Spontaneous_part3_g0_t0.imec0.ap.cbin\u001b[0m\n"
     ]
    },
    {
     "name": "stdout",
     "output_type": "stream",
     "text": [
      " |████████████████████████████████████████████████████████████████████████████████████████████████████| 100.0% \n",
      "the probe/shank IDs do not match.\n",
      "\\\\zinu.cortexlab.net\\Subjects\\AV005\\2022-05-16\\ephys\\AV005_2022-05-16_Spontaneous_part3_g0\\AV005_2022-05-16_Spontaneous_part3_g0_imec0\\pyKS\\output\\ibl_format\\channels.localCoordinates.npy\n",
      "converting data to IBL format ...\n"
     ]
    },
    {
     "name": "stderr",
     "output_type": "stream",
     "text": [
      "Extracting waveforms: 100%|██████████| 649.2557/649.2557 [00:09<00:00, 69.70it/s]\n",
      "Converting to ALF:  84%|████████▍ | 105/125 [00:13<00:02,  7.32it/s]c:\\Users\\Experiment\\anaconda3\\envs\\iblenv\\lib\\site-packages\\phylib\\io\\model.py:1053: RuntimeWarning: invalid value encountered in true_divide\n",
      "  spikes_depths[ispi] = (np.sum(np.transpose(ypos * features) /\n",
      "Converting to ALF: 145it [00:14,  9.92it/s]                         \n",
      "\u001b[36m2023-01-11 20:23:10.615 INFO     [extract_files.py:82] Computing QC for \\\\zinu.cortexlab.net\\Subjects\\AV005\\2022-05-16\\ephys\\AV005_2022-05-16_Spontaneous_part4_g0\\AV005_2022-05-16_Spontaneous_part4_g0_imec0\\AV005_2022-05-16_Spontaneous_part4_g0_t0.imec0.ap.cbin\u001b[0m\n"
     ]
    },
    {
     "name": "stdout",
     "output_type": "stream",
     "text": [
      " |████████████████████████████████████████████████████████████████████████████████████████████████████| 100.0% \n",
      "the probe/shank IDs do not match.\n",
      "\\\\zinu.cortexlab.net\\Subjects\\AV005\\2022-05-16\\ephys\\AV005_2022-05-16_Spontaneous_part4_g0\\AV005_2022-05-16_Spontaneous_part4_g0_imec0\\pyKS\\output\\ibl_format\\channels.localCoordinates.npy\n",
      "converting data to IBL format ...\n"
     ]
    },
    {
     "name": "stderr",
     "output_type": "stream",
     "text": [
      "c:\\Users\\Experiment\\anaconda3\\envs\\iblenv\\lib\\site-packages\\phylib\\io\\model.py:1053: RuntimeWarning: invalid value encountered in true_divide\n",
      "  spikes_depths[ispi] = (np.sum(np.transpose(ypos * features) /\n",
      "Extracting waveforms: 100%|██████████| 7294.461666666667/7294.461666666667 [00:10<00:00, 675.38it/s]\n",
      "Converting to ALF:  84%|████████▍ | 105/125 [00:25<00:05,  3.89it/s]c:\\Users\\Experiment\\anaconda3\\envs\\iblenv\\lib\\site-packages\\phylib\\io\\model.py:1053: RuntimeWarning: invalid value encountered in true_divide\n",
      "  spikes_depths[ispi] = (np.sum(np.transpose(ypos * features) /\n",
      "Converting to ALF: 145it [00:32,  4.51it/s]                         \n",
      "\u001b[36m2023-01-11 20:31:07.755 INFO     [extract_files.py:82] Computing QC for \\\\zinu.cortexlab.net\\Subjects\\AV005\\2022-05-12\\ephys\\AV005_2022-05-12_ActivePassive2_g0\\AV005_2022-05-12_ActivePassive2_g0_imec0\\AV005_2022-05-12_ActivePassive2_g0_t0.imec0.ap.cbin\u001b[0m\n"
     ]
    },
    {
     "name": "stdout",
     "output_type": "stream",
     "text": [
      "the probe/shank IDs do not match.████████████████████████████████████████████████████████████████████-| 99.5% \n",
      "the probe/shank IDs do not match.\n",
      "the probe/shank IDs do not match.\n",
      "the probe/shank IDs do not match.\n",
      "\\\\zinu.cortexlab.net\\Subjects\\AV005\\2022-05-12\\ephys\\AV005_2022-05-12_ActivePassive2_g0\\AV005_2022-05-12_ActivePassive2_g0_imec0\\pyKS\\output\\ibl_format\\channels.localCoordinates.npy\n",
      "converting data to IBL format ...\n"
     ]
    },
    {
     "name": "stderr",
     "output_type": "stream",
     "text": [
      "Extracting waveforms: 100%|██████████| 2174.7085/2174.7085 [00:10<00:00, 206.29it/s]\n",
      "Converting to ALF:  84%|████████▍ | 105/125 [00:22<00:04,  4.39it/s]c:\\Users\\Experiment\\anaconda3\\envs\\iblenv\\lib\\site-packages\\phylib\\io\\model.py:1053: RuntimeWarning: invalid value encountered in true_divide\n",
      "  spikes_depths[ispi] = (np.sum(np.transpose(ypos * features) /\n",
      "Converting to ALF: 145it [00:24,  5.86it/s]                         \n",
      "\u001b[36m2023-01-11 21:45:24.317 INFO     [extract_files.py:82] Computing QC for \\\\zinu.cortexlab.net\\Subjects\\AV005\\2022-05-12\\ephys\\AV005_2022-05-12_ActivePassive_g0\\AV005_2022-05-12_ActivePassive_g0_imec0\\AV005_2022-05-12_ActivePassive_g0_t0.imec0.ap.cbin\u001b[0m\n"
     ]
    },
    {
     "name": "stdout",
     "output_type": "stream",
     "text": [
      "the probe/shank IDs do not match.███████████████████████████████████████████████████████████████████--| 99.0% \n",
      "the probe/shank IDs do not match.\n",
      "the probe/shank IDs do not match.\n",
      "the probe/shank IDs do not match.\n",
      "\\\\zinu.cortexlab.net\\Subjects\\AV005\\2022-05-12\\ephys\\AV005_2022-05-12_ActivePassive_g0\\AV005_2022-05-12_ActivePassive_g0_imec0\\pyKS\\output\\ibl_format\\channels.localCoordinates.npy\n",
      "converting data to IBL format ...\n"
     ]
    },
    {
     "name": "stderr",
     "output_type": "stream",
     "text": [
      "Extracting waveforms: 100%|██████████| 744.3019666666667/744.3019666666667 [00:07<00:00, 96.79it/s]\n",
      "Converting to ALF:  84%|████████▍ | 105/125 [00:10<00:02,  9.21it/s]c:\\Users\\Experiment\\anaconda3\\envs\\iblenv\\lib\\site-packages\\phylib\\io\\model.py:1053: RuntimeWarning: invalid value encountered in true_divide\n",
      "  spikes_depths[ispi] = (np.sum(np.transpose(ypos * features) /\n",
      "Converting to ALF: 145it [00:11, 12.58it/s]                         \n",
      "\u001b[36m2023-01-11 22:06:32.35 INFO     [extract_files.py:82] Computing QC for \\\\zinu.cortexlab.net\\Subjects\\AV005\\2022-05-12\\ephys\\AV005_2022-05-12_Spontaneous_Part1_g0\\AV005_2022-05-12_Spontaneous_Part1_g0_imec0\\AV005_2022-05-12_Spontaneous_Part1_g0_t0.imec0.ap.cbin\u001b[0m\n"
     ]
    },
    {
     "name": "stdout",
     "output_type": "stream",
     "text": [
      " |████████████████████████████████████████████████████████████████████████████████████████████████████| 100.0% \n",
      "the probe/shank IDs do not match.\n",
      "\\\\zinu.cortexlab.net\\Subjects\\AV005\\2022-05-12\\ephys\\AV005_2022-05-12_Spontaneous_Part1_g0\\AV005_2022-05-12_Spontaneous_Part1_g0_imec0\\pyKS\\output\\ibl_format\\channels.localCoordinates.npy\n",
      "converting data to IBL format ...\n"
     ]
    },
    {
     "name": "stderr",
     "output_type": "stream",
     "text": [
      "Extracting waveforms: 100%|██████████| 663.9727666666666/663.9727666666666 [00:08<00:00, 76.45it/s]\n",
      "Converting to ALF:  84%|████████▍ | 105/125 [00:11<00:02,  8.04it/s]c:\\Users\\Experiment\\anaconda3\\envs\\iblenv\\lib\\site-packages\\phylib\\io\\model.py:1053: RuntimeWarning: invalid value encountered in true_divide\n",
      "  spikes_depths[ispi] = (np.sum(np.transpose(ypos * features) /\n",
      "Converting to ALF: 145it [00:13, 11.12it/s]                         \n",
      "\u001b[36m2023-01-11 22:14:17.405 INFO     [extract_files.py:82] Computing QC for \\\\zinu.cortexlab.net\\Subjects\\AV005\\2022-05-12\\ephys\\AV005_2022-05-12_Spontaneous_Part2_g0\\AV005_2022-05-12_Spontaneous_Part2_g0_imec0\\AV005_2022-05-12_Spontaneous_Part2_g0_t0.imec0.ap.cbin\u001b[0m\n"
     ]
    },
    {
     "name": "stdout",
     "output_type": "stream",
     "text": [
      "the probe/shank IDs do not match.████████████████████████████████████████████████████████████████████-| 99.3% \n",
      "\\\\zinu.cortexlab.net\\Subjects\\AV005\\2022-05-12\\ephys\\AV005_2022-05-12_Spontaneous_Part2_g0\\AV005_2022-05-12_Spontaneous_Part2_g0_imec0\\pyKS\\output\\ibl_format\\channels.localCoordinates.npy\n",
      "converting data to IBL format ...\n"
     ]
    },
    {
     "name": "stderr",
     "output_type": "stream",
     "text": [
      "Extracting waveforms: 100%|██████████| 929.8904333333334/929.8904333333334 [00:11<00:00, 78.84it/s]\n",
      "Converting to ALF:  84%|████████▍ | 105/125 [00:17<00:03,  5.24it/s]c:\\Users\\Experiment\\anaconda3\\envs\\iblenv\\lib\\site-packages\\phylib\\io\\model.py:1053: RuntimeWarning: invalid value encountered in true_divide\n",
      "  spikes_depths[ispi] = (np.sum(np.transpose(ypos * features) /\n",
      "Converting to ALF: 145it [00:20,  7.19it/s]                         \n",
      "\u001b[36m2023-01-11 22:21:28.489 INFO     [extract_files.py:82] Computing QC for \\\\zinu.cortexlab.net\\Subjects\\AV005\\2022-05-12\\ephys\\AV005_2022-05-12_Spontaneous_Part3_g0\\AV005_2022-05-12_Spontaneous_Part3_g0_imec0\\AV005_2022-05-12_Spontaneous_Part3_g0_t0.imec0.ap.cbin\u001b[0m\n"
     ]
    },
    {
     "name": "stdout",
     "output_type": "stream",
     "text": [
      " |████████████████████████████████████████████████████████████████████████████████████████████████████| 100.0% \n",
      "the probe/shank IDs do not match.\n",
      "\\\\zinu.cortexlab.net\\Subjects\\AV005\\2022-05-12\\ephys\\AV005_2022-05-12_Spontaneous_Part3_g0\\AV005_2022-05-12_Spontaneous_Part3_g0_imec0\\pyKS\\output\\ibl_format\\channels.localCoordinates.npy\n",
      "converting data to IBL format ...\n"
     ]
    },
    {
     "name": "stderr",
     "output_type": "stream",
     "text": [
      "Extracting waveforms: 100%|██████████| 745.5411333333333/745.5411333333333 [00:10<00:00, 73.33it/s]\n",
      "Converting to ALF:  84%|████████▍ | 105/125 [00:13<00:02,  7.06it/s]c:\\Users\\Experiment\\anaconda3\\envs\\iblenv\\lib\\site-packages\\phylib\\io\\model.py:1053: RuntimeWarning: invalid value encountered in true_divide\n",
      "  spikes_depths[ispi] = (np.sum(np.transpose(ypos * features) /\n",
      "Converting to ALF: 145it [00:14,  9.71it/s]                         \n",
      "\u001b[36m2023-01-11 22:30:57.892 INFO     [extract_files.py:82] Computing QC for \\\\zinu.cortexlab.net\\Subjects\\AV005\\2022-05-12\\ephys\\AV005_2022-05-12_Spontaneous_Part4_g0\\AV005_2022-05-12_Spontaneous_Part4_g0_imec0\\AV005_2022-05-12_Spontaneous_Part4_g0_t0.imec0.ap.cbin\u001b[0m\n"
     ]
    },
    {
     "name": "stdout",
     "output_type": "stream",
     "text": [
      " |████████████████████████████████████████████████████████████████████████████████████████████████████| 100.0% \n",
      "the probe/shank IDs do not match.\n",
      "\\\\zinu.cortexlab.net\\Subjects\\AV005\\2022-05-12\\ephys\\AV005_2022-05-12_Spontaneous_Part4_g0\\AV005_2022-05-12_Spontaneous_Part4_g0_imec0\\pyKS\\output\\ibl_format\\channels.localCoordinates.npy\n",
      "converting data to IBL format ...\n"
     ]
    },
    {
     "name": "stderr",
     "output_type": "stream",
     "text": [
      "c:\\Users\\Experiment\\anaconda3\\envs\\iblenv\\lib\\site-packages\\phylib\\io\\model.py:1053: RuntimeWarning: invalid value encountered in true_divide\n",
      "  spikes_depths[ispi] = (np.sum(np.transpose(ypos * features) /\n",
      "Extracting waveforms: 100%|██████████| 5956.501666666667/5956.501666666667 [00:09<00:00, 607.34it/s]\n",
      "Converting to ALF:  84%|████████▍ | 105/125 [00:13<00:03,  6.66it/s]c:\\Users\\Experiment\\anaconda3\\envs\\iblenv\\lib\\site-packages\\phylib\\io\\model.py:1053: RuntimeWarning: invalid value encountered in true_divide\n",
      "  spikes_depths[ispi] = (np.sum(np.transpose(ypos * features) /\n",
      "Converting to ALF: 145it [00:16,  8.60it/s]                         \n",
      "\u001b[36m2023-01-11 22:39:18.40 INFO     [extract_files.py:82] Computing QC for \\\\zinu.cortexlab.net\\Subjects\\AV006\\2022-03-28\\ephys\\AV006_2022-03-28_ActivePassive_g0\\AV006_2022-03-28_ActivePassive_g0_imec0\\AV006_2022-03-28_ActivePassive_g0_t0.imec0.ap.cbin\u001b[0m\n"
     ]
    },
    {
     "name": "stdout",
     "output_type": "stream",
     "text": [
      " |███████████████████████████████████████████████████████████████████████-----------------------------| 71.3% \r"
     ]
    }
   ],
   "source": [
    "# add a func to loop over SC recordings (selected somehow by Flora, what a shame we cannot pay for someone competent.)\n",
    "\n",
    "import pandas as pd \n",
    "from Admin.csv_pyhandlers import get_server_location\n",
    "from Analysis.helpers.queryExp import load_data\n",
    "\n",
    "prPath = get_server_location()\n",
    "session_list = pd.read_csv(prPath / 'Helpers/sc_selected_recordings.csv')\n",
    "\n",
    "\n",
    "for _,r in session_list.iterrows():\n",
    "    recdat = load_data(subject = r.Subject,expDate=r.expDate, expNum = r.expNum)\n",
    "    # now I will try to convert all files that were already converted to ibl format\n",
    "    ephys_path = Path(recdat.iloc[0].expFolder).parent / 'ephys'\n",
    "    ephys_recordings = list(ephys_path.glob('**\\pyKS\\output\\ibl_format\\channels.localCoordinates.npy'))\n",
    "\n",
    "    for rec in ephys_recordings: \n",
    "            s=add_anat_to_ibl_format(rec.parents[3],recompute= True)\n",
    "            print(rec)"
   ]
  }
 ],
 "metadata": {
  "kernelspec": {
   "display_name": "iblenv",
   "language": "python",
   "name": "python3"
  },
  "language_info": {
   "codemirror_mode": {
    "name": "ipython",
    "version": 3
   },
   "file_extension": ".py",
   "mimetype": "text/x-python",
   "name": "python",
   "nbconvert_exporter": "python",
   "pygments_lexer": "ipython3",
   "version": "3.9.12"
  },
  "vscode": {
   "interpreter": {
    "hash": "21ed3f0e654da5893f6854f4cece759776472a211c99c6c57a6819993f76b2d5"
   }
  }
 },
 "nbformat": 4,
 "nbformat_minor": 5
}
