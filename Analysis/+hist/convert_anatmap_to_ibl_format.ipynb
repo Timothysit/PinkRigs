{
 "cells": [
  {
   "cell_type": "code",
   "execution_count": 1,
   "id": "17a7b2f0",
   "metadata": {},
   "outputs": [
    {
     "name": "stdout",
     "output_type": "stream",
     "text": [
      "converting data to IBL format ...\n"
     ]
    },
    {
     "name": "stderr",
     "output_type": "stream",
     "text": [
      "C:\\Users\\Experiment\\anaconda3\\envs\\iblenv\\lib\\site-packages\\phylib\\io\\model.py:1053: RuntimeWarning: invalid value encountered in true_divide\n",
      "  spikes_depths[ispi] = (np.sum(np.transpose(ypos * features) /\n",
      "Converting to ALF:  16%|█████████▊                                                   | 20/125 [00:00<00:00, 122.58it/s]C:\\Users\\Experiment\\anaconda3\\envs\\iblenv\\lib\\site-packages\\phylib\\io\\model.py:1093: RuntimeWarning: invalid value encountered in true_divide\n",
      "  templates_amps_v = (np.bincount(self.spike_templates, weights=spike_amps) /\n",
      "Converting to ALF:  44%|███████████████████████████▎                                  | 55/125 [00:07<00:11,  6.34it/s]\n",
      "Extracting waveforms:   0%|                                                      | 0/709.0350666666667 [00:00<?, ?it/s]\u001b[A\n",
      "Extracting waveforms:   3%|█▏                                         | 19.0/709.0350666666667 [00:01<00:44, 15.53it/s]\u001b[A\n",
      "Extracting waveforms:   7%|██▉                                        | 49.0/709.0350666666667 [00:02<00:25, 26.28it/s]\u001b[A\n",
      "Extracting waveforms:  13%|█████▍                                     | 89.0/709.0350666666667 [00:02<00:17, 35.39it/s]\u001b[A\n",
      "Extracting waveforms:  17%|███████                                   | 119.0/709.0350666666667 [00:03<00:16, 35.61it/s]\u001b[A\n",
      "Extracting waveforms:  22%|█████████▍                                | 159.0/709.0350666666667 [00:04<00:15, 35.52it/s]\u001b[A\n",
      "Extracting waveforms:  28%|███████████▊                              | 199.0/709.0350666666667 [00:05<00:13, 37.15it/s]\u001b[A\n",
      "Extracting waveforms:  32%|█████████████▌                            | 229.0/709.0350666666667 [00:06<00:13, 36.28it/s]\u001b[A\n",
      "Extracting waveforms:  38%|███████████████▉                          | 269.0/709.0350666666667 [00:07<00:11, 38.61it/s]\u001b[A\n",
      "Extracting waveforms:  42%|█████████████████▋                        | 299.0/709.0350666666667 [00:08<00:10, 38.94it/s]\u001b[A\n",
      "Converting to ALF:  44%|███████████████████████████▎                                  | 55/125 [00:20<00:11,  6.34it/s]\u001b[A\n",
      "Extracting waveforms:  53%|██████████████████████▍                   | 379.0/709.0350666666667 [00:09<00:07, 46.35it/s]\u001b[A\n",
      "Extracting waveforms:  58%|████████████████████████▏                 | 409.0/709.0350666666667 [00:10<00:06, 46.71it/s]\u001b[A\n",
      "Extracting waveforms:  63%|██████████████████████████▌               | 449.0/709.0350666666667 [00:11<00:05, 51.01it/s]\u001b[A\n",
      "Extracting waveforms:  68%|████████████████████████████▎             | 479.0/709.0350666666667 [00:11<00:04, 48.75it/s]\u001b[A\n",
      "Extracting waveforms:  73%|██████████████████████████████▋           | 519.0/709.0350666666667 [00:12<00:03, 54.92it/s]\u001b[A\n",
      "Extracting waveforms:  79%|█████████████████████████████████         | 559.0/709.0350666666667 [00:12<00:02, 60.87it/s]\u001b[A\n",
      "Extracting waveforms:  83%|██████████████████████████████████▉       | 589.0/709.0350666666667 [00:13<00:02, 47.61it/s]\u001b[A\n",
      "Extracting waveforms:  89%|█████████████████████████████████████▎    | 629.0/709.0350666666667 [00:14<00:01, 49.01it/s]\u001b[A\n",
      "Extracting waveforms:  93%|███████████████████████████████████████   | 659.0/709.0350666666667 [00:15<00:01, 46.21it/s]\u001b[A\n",
      "Extracting waveforms: 100%|██████████████████████████████| 709.0350666666667/709.0350666666667 [00:16<00:00, 42.99it/s]\u001b[A\n",
      "Converting to ALF:  84%|███████████████████████████████████████████████████▏         | 105/125 [00:27<00:05,  3.41it/s]C:\\Users\\Experiment\\anaconda3\\envs\\iblenv\\lib\\site-packages\\phylib\\io\\model.py:1053: RuntimeWarning: invalid value encountered in true_divide\n",
      "  spikes_depths[ispi] = (np.sum(np.transpose(ypos * features) /\n",
      "Converting to ALF: 145it [00:30,  4.76it/s]                                                                            \n",
      "\u001b[36m2022-07-27 12:54:01.285 INFO     [extract_files.py:82] Computing QC for Z:\\AV008\\2022-03-09\\ephys\\AV008_2022-03-09_sparseNoise_Part1_g0\\AV008_2022-03-09_sparseNoise_Part1_g0_imec0\\AV008_2022-03-09_sparseNoise_Part1_g0_t0.imec0.ap.cbin\u001b[0m\n"
     ]
    },
    {
     "name": "stdout",
     "output_type": "stream",
     "text": [
      " |████████████████████████████████████████████████████████████████████████████████████████████████████| 100.0% \n"
     ]
    }
   ],
   "source": [
    "import sys,re,json\n",
    "import numpy as np\n",
    "from pathlib import Path\n",
    "\n",
    "# import IBL packages \n",
    "from atlaselectrophysiology.extract_files import extract_data\n",
    "from ibllib.atlas import AllenAtlas\n",
    "atlas = AllenAtlas(25) # always register to the 25 um atlas \n",
    "\n",
    "# import PinkRig ephys processng tools \n",
    "sys.path.insert(0, r\"C:\\Users\\Experiment\\Documents\\Github\\PinkRigs\\Analysis\\+kilo\\python_\")\n",
    "from ReadSGLXData.readSGLX import readMeta\n",
    "\n",
    "recompute = False\n",
    "# Path to raw ephys data\n",
    "ephys_path = Path(r'Z:\\AV008\\2022-03-09\\ephys\\AV008_2022-03-09_sparseNoise_Part1_g0\\AV008_2022-03-09_sparseNoise_Part1_g0_imec0')\n",
    "\n",
    "# Path to KS output\n",
    "ks_path = ephys_path / 'kilosort2'\n",
    "# Save path\n",
    "out_path = ks_path / 'ibl_format'\n",
    "out_path.mkdir(parents=False, exist_ok=True) # make directory if it does not exist\n",
    "\n",
    "# extract the data to ibl_format if it has not been done already.\n",
    "if not (out_path / 'cluster_matrics.tsv').is_file() or recompute:\n",
    "    print('converting data to IBL format ...')\n",
    "    extract_data(ks_path, ephys_path, out_path) \n",
    "    \n",
    "# get the probe tracks if they exist.\n",
    "subject_path = ephys_path.parents[3]\n",
    "brainreg_path = subject_path / r'histology\\registration\\brainreg_output\\manual_segmentation\\standard_space\\tracks'\n",
    "if brainreg_path.is_dir():\n",
    "    # get some information from meta file \n",
    "    meta = readMeta(list(ephys_path.glob('*.ap.cbin'))[0])\n",
    "\n",
    "    # serial number\n",
    "    probe_sn = meta['imDatPrb_sn']\n",
    "\n",
    "    # shanks that have been recorded. \n",
    "    imro = meta['snsShankMap']\n",
    "    channel_data = re.findall(r\"\\d+:\\d+:\\d+:\\d+\",imro)\n",
    "    shank_idx = np.array([np.array(re.split(':',chandat)).astype('int')[0] for chandat in channel_data])\n",
    "    recorded_shanks = np.unique(shank_idx).astype('str')\n",
    "        # get the xyz_picks if the histology exist.\n",
    "\n",
    "    for shank in recorded_shanks:\n",
    "        shank_file_name = 'SN%s_shank%s.npy' % (probe_sn,shank)\n",
    "        shank_anat_path = brainreg_path / shank_file_name\n",
    "        \n",
    "        if shank_anat_path.is_file():\n",
    "            # Load in coordinates of track in CCF space (order - apdvml, origin - top, left, front voxel\n",
    "            xyz_apdvml = np.load(shank_anat_path)\n",
    "            # Convert to IBL space (order - mlapdv, origin - bregma)\n",
    "            xyz_mlapdv = atlas.ccf2xyz(xyz_apdvml, ccf_order='apdvml') * 1e6\n",
    "            xyz_picks = {'xyz_picks': xyz_mlapdv.tolist()}\n",
    "\n",
    "            # save file the ibl_format output path - the format is following the curernt requirements of the GUI, i.e. \n",
    "            # xyz_picks.json if single shank recording\n",
    "            # else xyz_picks_shank0.json \n",
    "            if recorded_shanks.size==1:\n",
    "                with open(Path(out_path, 'xyz_picks.json'), \"w\") as f:\n",
    "                    json.dump(xyz_picks, f, indent=2)\n",
    "            else:\n",
    "                with open(Path(out_path, 'xyz_picks_shank%s.json' % shank), \"w\") as f:\n",
    "                    json.dump(xyz_picks, f, indent=2)\n",
    "        else: \n",
    "            print('the probe/shank IDs do not match.')                \n",
    "else: \n",
    "    print('the histology does not seem to have been done. ')"
   ]
  },
  {
   "cell_type": "code",
   "execution_count": 61,
   "id": "298e2bb0",
   "metadata": {},
   "outputs": [
    {
     "data": {
      "text/plain": [
       "True"
      ]
     },
     "execution_count": 61,
     "metadata": {},
     "output_type": "execute_result"
    }
   ],
   "source": [
    "not "
   ]
  }
 ],
 "metadata": {
  "kernelspec": {
   "display_name": "Python 3 (ipykernel)",
   "language": "python",
   "name": "python3"
  },
  "language_info": {
   "codemirror_mode": {
    "name": "ipython",
    "version": 3
   },
   "file_extension": ".py",
   "mimetype": "text/x-python",
   "name": "python",
   "nbconvert_exporter": "python",
   "pygments_lexer": "ipython3",
   "version": "3.9.12"
  }
 },
 "nbformat": 4,
 "nbformat_minor": 5
}
