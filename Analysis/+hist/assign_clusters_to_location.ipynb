{
 "cells": [
  {
   "cell_type": "code",
   "execution_count": 7,
   "id": "fb1b0f24",
   "metadata": {},
   "outputs": [],
   "source": [
    "# \n",
    "import json\n",
    "import numpy as np\n",
    "from pathlib import Path\n",
    "\n",
    "root  = Path(r'Z:\\FT022\\2021-07-20\\ephys\\FT022_2021-07-20_full_g0\\FT022_2021-07-20_full_g0_imec0\\kilosort2\\ibl_format')\n",
    "\n",
    "from ibllib.atlas import AllenAtlas\n",
    "atlas = AllenAtlas(25)\n",
    "\n",
    "# contains the ID of each channel where the waveform is the maximal, I believe \n",
    "clus_channels = np.load(root / 'clusters.channels.npy')\n",
    "# the channel locations file \n",
    "f = open(root / 'channel_locations.json',)\n",
    "channel_locations = json.load(f)\n",
    "\n",
    "allenx  = [channel_locations['channel_%s' % ch]['x'] for ch in clus_channels] \n",
    "alleny  = [channel_locations['channel_%s' % ch]['y'] for ch in clus_channels] \n",
    "allenz  = [channel_locations['channel_%s' % ch]['z'] for ch in clus_channels] \n",
    "regionID = [channel_locations['channel_%s' % ch]['brain_region_id'] for ch in clus_channels] \n",
    "region_acronym = [channel_locations['channel_%s' % ch]['brain_region'] for ch in clus_channels]\n",
    "                  \n",
    "allencoords_xyz=np.array([allenx,alleny,allenz]).T\n",
    "allencoords_ccf_apdvml = atlas.xyz2ccf(allencoords_xyz/1e6,ccf_order='apdvml') \n",
    "allencoords_ccf_mlapdv = allencoords_ccf_apdvml[:,[2,0,1]]                  \n",
    "# save the output\n",
    "np.save(root / 'clusters.brainLocationIds_ccf_2017.npy',regionID)\n",
    "np.save(root / 'clusters.brainLocationAcronyms_ccf_2017.npy',region_acronym)\n",
    "np.save(root / 'clusters.mlapdv.npy',region_acronym)\n",
    "\n"
   ]
  }
 ],
 "metadata": {
  "kernelspec": {
   "display_name": "Python 3.9.13 ('pyks2')",
   "language": "python",
   "name": "python3"
  },
  "language_info": {
   "codemirror_mode": {
    "name": "ipython",
    "version": 3
   },
   "file_extension": ".py",
   "mimetype": "text/x-python",
   "name": "python",
   "nbconvert_exporter": "python",
   "pygments_lexer": "ipython3",
   "version": "3.9.13"
  },
  "vscode": {
   "interpreter": {
    "hash": "c7f2cc8caa3424054656049bd6509de13514900a823639528084b6d10c1824ca"
   }
  }
 },
 "nbformat": 4,
 "nbformat_minor": 5
}
