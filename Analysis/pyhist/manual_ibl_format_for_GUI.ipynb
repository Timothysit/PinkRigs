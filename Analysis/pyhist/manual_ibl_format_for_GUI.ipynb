{
 "cells": [
  {
   "cell_type": "code",
   "execution_count": null,
   "id": "0da624da",
   "metadata": {},
   "outputs": [],
   "source": [
    "# add a func to loop over SC recordings (selected somehow by Flora)\n",
    "import json\n",
    "import pandas as pd \n",
    "import glob,sys\n",
    "from pathlib import Path\n",
    "pinkRig_path= glob.glob(r'C:\\Users\\*\\Documents\\Github\\PinkRigs')\n",
    "pinkRig_path = Path(pinkRig_path[0])\n",
    "sys.path.insert(0, (pinkRig_path.__str__()))\n",
    "from Analysis.pykilo.convert_to_ibl_format import add_anat_to_ibl_format\n",
    "from Admin.csv_queryExp import get_server_location,queryCSV\n",
    "\n",
    "prPath = get_server_location()\n",
    "#session_list = pd.read_csv(prPath / 'Helpers/sc_selected_recordings.csv')\n",
    "session_list = queryCSV(subject='AV025',expDate='2022-11-08',expDef='sparseNoise')\n",
    "\n",
    "for _,r in session_list.iterrows():\n",
    "    # read corresponding ephys files \n",
    "    corresponding_ephys_json= list((Path(r.expFolder)).glob('ONE_preproc\\probe*\\_av_rawephys.path*.json'))\n",
    "\n",
    "    for rec_path in corresponding_ephys_json: \n",
    "            # open json to get the actual path\n",
    "            rec = open(rec_path,)\n",
    "            rec = json.load(rec)\n",
    "            rec = Path(rec)\n",
    "            print(rec.parents[2])\n",
    "            s=add_anat_to_ibl_format(rec.parents[2],recompute=False)\n"
   ]
  }
 ],
 "metadata": {
  "kernelspec": {
   "display_name": "Python 3.9.12 ('iblenv')",
   "language": "python",
   "name": "python3"
  },
  "language_info": {
   "codemirror_mode": {
    "name": "ipython",
    "version": 3
   },
   "file_extension": ".py",
   "mimetype": "text/x-python",
   "name": "python",
   "nbconvert_exporter": "python",
   "pygments_lexer": "ipython3",
   "version": "3.9.12"
  },
  "vscode": {
   "interpreter": {
    "hash": "8f93d2e22c46842035eaf451471a9368b8ad51fc8a4ba57c37c4e69e32446ecd"
   }
  }
 },
 "nbformat": 4,
 "nbformat_minor": 5
}
