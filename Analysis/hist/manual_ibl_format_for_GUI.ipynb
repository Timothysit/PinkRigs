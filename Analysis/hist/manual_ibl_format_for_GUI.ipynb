{
 "cells": [
  {
   "cell_type": "code",
   "execution_count": 2,
   "id": "c7474bab",
   "metadata": {},
   "outputs": [
    {
     "ename": "ModuleNotFoundError",
     "evalue": "No module named 'ReadSGLXData'",
     "output_type": "error",
     "traceback": [
      "\u001b[1;31m---------------------------------------------------------------------------\u001b[0m",
      "\u001b[1;31mModuleNotFoundError\u001b[0m                       Traceback (most recent call last)",
      "\u001b[1;32mc:\\Users\\Flora\\Documents\\Github\\PinkRigs\\Analysis\\+hist\\manual_ibl_format_for_GUI.ipynb Cell 1\u001b[0m in \u001b[0;36m<cell line: 6>\u001b[1;34m()\u001b[0m\n\u001b[0;32m      <a href='vscode-notebook-cell:/c%3A/Users/Flora/Documents/Github/PinkRigs/Analysis/%2Bhist/manual_ibl_format_for_GUI.ipynb#W1sZmlsZQ%3D%3D?line=3'>4</a>\u001b[0m pinkRig_path \u001b[39m=\u001b[39m Path(pinkRig_path[\u001b[39m0\u001b[39m])\n\u001b[0;32m      <a href='vscode-notebook-cell:/c%3A/Users/Flora/Documents/Github/PinkRigs/Analysis/%2Bhist/manual_ibl_format_for_GUI.ipynb#W1sZmlsZQ%3D%3D?line=4'>5</a>\u001b[0m sys\u001b[39m.\u001b[39mpath\u001b[39m.\u001b[39minsert(\u001b[39m0\u001b[39m, (pinkRig_path\u001b[39m.\u001b[39m\u001b[39m__str__\u001b[39m()))\n\u001b[1;32m----> <a href='vscode-notebook-cell:/c%3A/Users/Flora/Documents/Github/PinkRigs/Analysis/%2Bhist/manual_ibl_format_for_GUI.ipynb#W1sZmlsZQ%3D%3D?line=5'>6</a>\u001b[0m kilofolder \u001b[39m=\u001b[39m \u001b[39m__import__\u001b[39;49m(\u001b[39m\"\u001b[39;49m\u001b[39mAnalysis.+kilo.python_.convert_to_ibl_format\u001b[39;49m\u001b[39m\"\u001b[39;49m) \u001b[39m# this is necessary because some wise people decided to write a package with python and matlab in it. #wisdom.\u001b[39;00m\n\u001b[0;32m      <a href='vscode-notebook-cell:/c%3A/Users/Flora/Documents/Github/PinkRigs/Analysis/%2Bhist/manual_ibl_format_for_GUI.ipynb#W1sZmlsZQ%3D%3D?line=6'>7</a>\u001b[0m kilo \u001b[39m=\u001b[39m \u001b[39mgetattr\u001b[39m(kilofolder, \u001b[39m\"\u001b[39m\u001b[39m+kilo\u001b[39m\u001b[39m\"\u001b[39m)\n\u001b[0;32m      <a href='vscode-notebook-cell:/c%3A/Users/Flora/Documents/Github/PinkRigs/Analysis/%2Bhist/manual_ibl_format_for_GUI.ipynb#W1sZmlsZQ%3D%3D?line=7'>8</a>\u001b[0m add_anat_to_ibl_format \u001b[39m=\u001b[39m kilo\u001b[39m.\u001b[39mpython_\u001b[39m.\u001b[39mconvert_to_ibl_format\u001b[39m.\u001b[39madd_anat_to_ibl_format\n",
      "File \u001b[1;32m~\\Documents\\Github\\PinkRigs\\Analysis\\+kilo\\python_\\convert_to_ibl_format.py:22\u001b[0m, in \u001b[0;36m<module>\u001b[1;34m\u001b[0m\n\u001b[0;32m     20\u001b[0m \u001b[39mfrom\u001b[39;00m \u001b[39mAdmin\u001b[39;00m\u001b[39m.\u001b[39;00m\u001b[39mcsv_queryExp\u001b[39;00m \u001b[39mimport\u001b[39;00m get_server_location, check_date_selection\n\u001b[0;32m     21\u001b[0m \u001b[39mfrom\u001b[39;00m \u001b[39mpyhelpers\u001b[39;00m \u001b[39mimport\u001b[39;00m save_error_message\n\u001b[1;32m---> 22\u001b[0m \u001b[39mfrom\u001b[39;00m \u001b[39mReadSGLXData\u001b[39;00m\u001b[39m.\u001b[39;00m\u001b[39mreadSGLX\u001b[39;00m \u001b[39mimport\u001b[39;00m readMeta\n\u001b[0;32m     24\u001b[0m \u001b[39mdef\u001b[39;00m \u001b[39mstage_queue\u001b[39m(mouse_selection\u001b[39m=\u001b[39m\u001b[39m'\u001b[39m\u001b[39m'\u001b[39m,ks_folder\u001b[39m=\u001b[39m\u001b[39m'\u001b[39m\u001b[39mpyKS\u001b[39m\u001b[39m'\u001b[39m, date_selection\u001b[39m=\u001b[39m\u001b[39m'\u001b[39m\u001b[39mlast3\u001b[39m\u001b[39m'\u001b[39m):\n\u001b[0;32m     25\u001b[0m     \u001b[39m# the function will have a kwarg input structure where you can overwrite MasterMouseList with\u001b[39;00m\n\u001b[0;32m     26\u001b[0m     \u001b[39m# which mice to sort -- FT or FT032\u001b[39;00m\n\u001b[0;32m     27\u001b[0m     \u001b[39m# what dates to sort -- last10 from today or a range (2021-12-13:2021-12-20)\u001b[39;00m\n\u001b[0;32m     28\u001b[0m     \u001b[39m# check\u001b[39;00m\n\u001b[0;32m     30\u001b[0m     \u001b[39mprint\u001b[39m(mouse_selection)\n",
      "\u001b[1;31mModuleNotFoundError\u001b[0m: No module named 'ReadSGLXData'"
     ]
    }
   ],
   "source": [
    "import glob,sys\n",
    "from pathlib import Path\n",
    "pinkRig_path= glob.glob(r'C:\\Users\\*\\Documents\\Github\\PinkRigs')\n",
    "pinkRig_path = Path(pinkRig_path[0])\n",
    "sys.path.insert(0, (pinkRig_path.__str__()))\n",
    "kilofolder = __import__(\"Analysis.+kilo.python_.convert_to_ibl_format\") \n",
    "kilo = getattr(kilofolder, \"+kilo\")\n",
    "add_anat_to_ibl_format = kilo.python_.convert_to_ibl_format.add_anat_to_ibl_format\n",
    "\n",
    "# Path to raw ephys data\n",
    "ephys_path = Path(r'Y:\\AV025\\2022-11-07\\ephys\\AV025_2022-11-07_SparseNoise_Part1_g0\\AV025_2022-11-07_SparseNoise_Part1_g0_imec0')\n",
    "     \n",
    "add_anat_to_ibl_format(ephys_path,ks_folder='pyKS',recompute=False)"
   ]
  },
  {
   "cell_type": "code",
   "execution_count": null,
   "id": "0da624da",
   "metadata": {},
   "outputs": [],
   "source": [
    "# add a func to loop over SC recordings (selected somehow by Flora)\n",
    "import json\n",
    "import pandas as pd \n",
    "from Admin.csv_queryExp import get_server_location,load_data\n",
    "\n",
    "prPath = get_server_location()\n",
    "session_list = pd.read_csv(prPath / 'Helpers/sc_selected_recordings.csv')\n",
    "\n",
    "\n",
    "for _,r in session_list.iterrows():\n",
    "    # read corresponding ephys files \n",
    "    corresponding_ephys_json= list((Path(r.expFolder)).glob('ONE_preproc\\probe*\\_av_rawephys.path*.json'))\n",
    "\n",
    "    for rec_path in corresponding_ephys_json: \n",
    "            # open json to get the actual path\n",
    "            rec = open(rec_path,)\n",
    "            rec = json.load(rec)\n",
    "            rec = Path(rec)\n",
    "            print(rec.parents[2])\n",
    "            s=add_anat_to_ibl_format(rec.parents[2],recompute=False)\n"
   ]
  }
 ],
 "metadata": {
  "kernelspec": {
   "display_name": "Python 3.9.12 ('iblenv')",
   "language": "python",
   "name": "python3"
  },
  "language_info": {
   "codemirror_mode": {
    "name": "ipython",
    "version": 3
   },
   "file_extension": ".py",
   "mimetype": "text/x-python",
   "name": "python",
   "nbconvert_exporter": "python",
   "pygments_lexer": "ipython3",
   "version": "3.9.12"
  },
  "vscode": {
   "interpreter": {
    "hash": "8f93d2e22c46842035eaf451471a9368b8ad51fc8a4ba57c37c4e69e32446ecd"
   }
  }
 },
 "nbformat": 4,
 "nbformat_minor": 5
}
