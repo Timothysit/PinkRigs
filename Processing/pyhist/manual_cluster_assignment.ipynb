{
 "cells": [
  {
   "cell_type": "code",
   "execution_count": 1,
   "id": "fb1b0f24",
   "metadata": {},
   "outputs": [],
   "source": [
    "from pathlib import Path\n",
    "from assign_clusters_to_atlas import save_out_cluster_location\n",
    "\n",
    "ibl_format_path = Path(r'\\\\znas.cortexlab.net\\Subjects\\FT009\\2021-01-20\\ephys\\FT009_2021-01-20_AV_passive_botrow48_g0\\FT009_2021-01-20_AV_passive_botrow48_g0_imec0\\kilosort2\\ibl_format')\n",
    "anatmap_paths = [\n",
    "    Path(r'\\\\znas.cortexlab.net\\Subjects\\FT009\\2021-01-20\\ephys\\FT009_2021-01-20_RFmap2_shank0_g0\\FT009_2021-01-20_RFmap2_shank0_g0_imec0\\kilosort2\\ibl_format'),\n",
    "    Path(r'\\\\znas.cortexlab.net\\Subjects\\FT009\\2021-01-20\\ephys\\FT009_2021-01-20_RFmap_shank1_g0\\FT009_2021-01-20_RFmap_shank1_g0_imec0\\kilosort2\\ibl_format'), \n",
    "    Path(r'\\\\znas.cortexlab.net\\Subjects\\FT009\\2021-01-20\\ephys\\FT009_2021-01-20_RFmap_shank2_g0\\FT009_2021-01-20_RFmap_shank2_g0_imec0\\kilosort2\\ibl_format'),\n",
    "    Path(r'\\\\znas.cortexlab.net\\Subjects\\FT009\\2021-01-20\\ephys\\FT009_2021-01-20_RFmap_shank3_g0\\FT009_2021-01-20_RFmap_shank3_g0_imec0\\kilosort2\\ibl_format')\n",
    "]\n",
    "\n",
    "save_out_cluster_location(ibl_format_path,anatmap_paths=anatmap_paths)\n"
   ]
  }
 ],
 "metadata": {
  "kernelspec": {
   "display_name": "Python 3.7.11 ('PinkRIgs')",
   "language": "python",
   "name": "python3"
  },
  "language_info": {
   "codemirror_mode": {
    "name": "ipython",
    "version": 3
   },
   "file_extension": ".py",
   "mimetype": "text/x-python",
   "name": "python",
   "nbconvert_exporter": "python",
   "pygments_lexer": "ipython3",
   "version": "3.7.11"
  },
  "vscode": {
   "interpreter": {
    "hash": "c9d4b5261469c541c04c65b969001cbb716e47f4fec1a35951cf1e75b56ebbf8"
   }
  }
 },
 "nbformat": 4,
 "nbformat_minor": 5
}
