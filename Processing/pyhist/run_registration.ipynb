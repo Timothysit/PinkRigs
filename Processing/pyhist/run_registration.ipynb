{
 "cells": [
  {
   "cell_type": "code",
   "execution_count": null,
   "metadata": {},
   "outputs": [],
   "source": [
    "import glob\n",
    "import os \n",
    "from skimage import io\n",
    "\n",
    "## this code needs to be executed an environment with brainreg installed\n",
    "# determine paths \n",
    "mname='AV020'\n",
    "size=25 # atm I don't know how to input from here to terminal\n",
    " \n",
    "path=r'\\\\zinu.cortexlab.net\\Subjects\\%s\\histology\\downsampled_stacks\\0%.0d_micron\\*.tif' % (mname,size)\n",
    "#path=r'C:\\Users\\Flora\\Documents\\Processed data\\passiveAV_project\\%s\\histology\\downsampled_stacks\\0%.0d_micron\\*.tif' % (mname,size)\n",
    "saveroot=r'\\\\zinu.cortexlab.net\\Subjects\\%s\\histology\\registration' % (mname)\n",
    "#saveroot=r'C:\\Users\\Flora\\Documents\\Processed data\\passiveAV_project\\%s\\histology\\registration' % (mname)\n",
    "if not os.path.exists(saveroot):\n",
    "    os.mkdir(saveroot)\n",
    "# determine channel names\n",
    "channels=glob.glob(path)\n",
    "#process each channel\n",
    "\n",
    "for _,ch in enumerate(channels):\n",
    "    chname=ch.split('_')[-1].split('.')[0] #split the string name to name the image sequence\n",
    "\n",
    "    # create folder for image sequence\n",
    "    savepath=r'%s\\%s' % (saveroot,chname)\n",
    "\n",
    "    if not os.path.exists(savepath):\n",
    "        os.mkdir(savepath)\n",
    "\n",
    "    #read in stack \n",
    "    stack=io.imread(ch)\n",
    "\n",
    "    for im in range(stack.shape[0]): \n",
    "        io.imsave(r'%s\\image_%.4d.tif' % (savepath,im),stack[im],check_contrast=False) # I think this ought to work. \n",
    "        \n",
    "# run the registration in terminal \n",
    "os.chdir(saveroot)\n",
    "!brainreg red brainreg_output --downsample green -v 25 25 25 --orientation psl --atlas allen_mouse_25um"
   ]
  }
 ],
 "metadata": {
  "kernelspec": {
   "display_name": "Python 3.8.8 ('napari-env')",
   "language": "python",
   "name": "python3"
  },
  "language_info": {
   "codemirror_mode": {
    "name": "ipython",
    "version": 3
   },
   "file_extension": ".py",
   "mimetype": "text/x-python",
   "name": "python",
   "nbconvert_exporter": "python",
   "pygments_lexer": "ipython3",
   "version": "3.8.8"
  },
  "vscode": {
   "interpreter": {
    "hash": "581956ccf711d0968b21ad3224145dccaf3e0164e59bd0a19905456f82ee7be7"
   }
  }
 },
 "nbformat": 4,
 "nbformat_minor": 4
}
