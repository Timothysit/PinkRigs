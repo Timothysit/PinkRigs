{
 "cells": [
  {
   "cell_type": "code",
   "execution_count": 4,
   "metadata": {},
   "outputs": [
    {
     "name": "stdout",
     "output_type": "stream",
     "text": [
      "Running batch processing of pink rig videos...\n",
      "WARNING: video filename format is strange for \\\\znas.cortexlab.net\\Subjects\\FT009\\2021-01-20\\8, skipping\n",
      "Looks like all files are processed or being processed! Taking a break now...\n"
     ]
    }
   ],
   "source": [
    "from run_facemap import batch_process_facemap\n",
    "from Admin.csv_queryExp import queryCSV\n",
    "sessions = queryCSV(subject = 'FT009',expDate = '2021-01-20',expNum=8)\n",
    "batch_process_facemap(sessions=sessions,recompute_ONE=True)"
   ]
  },
  {
   "cell_type": "code",
   "execution_count": 7,
   "metadata": {},
   "outputs": [
    {
     "name": "stdout",
     "output_type": "stream",
     "text": [
      "Backend agg is non-interactive backend. Turning interactive mode off.\n"
     ]
    }
   ],
   "source": [
    "from pathlib import Path\n",
    "from run_facemap import convert_facemap_output_to_ONE_format\n",
    "\n",
    "for _,exp in sessions.iterrows():\n",
    "    proc_camdat = list(Path(exp.expFolder).glob('*proc.npy'))\n",
    "    for camproc in proc_camdat: \n",
    "        convert_facemap_output_to_ONE_format(camproc.__str__())"
   ]
  }
 ],
 "metadata": {
  "kernelspec": {
   "display_name": "Python 3.7.9 ('facemap')",
   "language": "python",
   "name": "python3"
  },
  "language_info": {
   "codemirror_mode": {
    "name": "ipython",
    "version": 3
   },
   "file_extension": ".py",
   "mimetype": "text/x-python",
   "name": "python",
   "nbconvert_exporter": "python",
   "pygments_lexer": "ipython3",
   "version": "3.7.13"
  },
  "orig_nbformat": 4,
  "vscode": {
   "interpreter": {
    "hash": "6839c96147f9b2454d31d1fafcb2d639c4756ffd3e4b99bd6c9f7e6bd582f54f"
   }
  }
 },
 "nbformat": 4,
 "nbformat_minor": 2
}
