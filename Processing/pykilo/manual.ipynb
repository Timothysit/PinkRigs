{
 "cells": [
  {
   "cell_type": "code",
   "execution_count": 27,
   "metadata": {},
   "outputs": [
    {
     "name": "stdout",
     "output_type": "stream",
     "text": [
      "\\\\zaru.cortexlab.net\\Subjects\\AV025\\2022-11-08\\ephys\\AV025_2022-11-08_SparseNoise_Part1_g0\\AV025_2022-11-08_SparseNoise_Part1_g0_imec0\\AV025_2022-11-08_SparseNoise_Part1_g0_t0.imec0.ap.meta\n",
      "\\\\zaru.cortexlab.net\\Subjects\\AV025\\2022-11-08\\ephys\\AV025_2022-11-08_SparseNoise_Part2_g0\\AV025_2022-11-08_SparseNoise_Part2_g0_imec0\\AV025_2022-11-08_SparseNoise_Part2_g0_t0.imec0.ap.meta\n",
      "\\\\zaru.cortexlab.net\\Subjects\\AV025\\2022-11-08\\ephys\\AV025_2022-11-08_SparseNoise_Part3_g0\\AV025_2022-11-08_SparseNoise_Part3_g0_imec0\\AV025_2022-11-08_SparseNoise_Part3_g0_t0.imec0.ap.meta\n",
      "\\\\zaru.cortexlab.net\\Subjects\\AV025\\2022-11-08\\ephys\\AV025_2022-11-08_SparseNoise_Part4_g0\\AV025_2022-11-08_SparseNoise_Part4_g0_imec0\\AV025_2022-11-08_SparseNoise_Part4_g0_t0.imec0.ap.meta\n",
      "\\\\zaru.cortexlab.net\\Subjects\\AV025\\2022-11-08\\ephys\\AV025_2022-11-08_SparseNoise_Part1_g0\\AV025_2022-11-08_SparseNoise_Part1_g0_imec1\\AV025_2022-11-08_SparseNoise_Part1_g0_t0.imec1.ap.meta\n",
      "\\\\zaru.cortexlab.net\\Subjects\\AV025\\2022-11-08\\ephys\\AV025_2022-11-08_SparseNoise_Part2_g0\\AV025_2022-11-08_SparseNoise_Part2_g0_imec1\\AV025_2022-11-08_SparseNoise_Part2_g0_t0.imec1.ap.meta\n",
      "\\\\zaru.cortexlab.net\\Subjects\\AV025\\2022-11-08\\ephys\\AV025_2022-11-08_SparseNoise_Part3_g0\\AV025_2022-11-08_SparseNoise_Part3_g0_imec1\\AV025_2022-11-08_SparseNoise_Part3_g0_t0.imec1.ap.meta\n",
      "\\\\zaru.cortexlab.net\\Subjects\\AV025\\2022-11-08\\ephys\\AV025_2022-11-08_SparseNoise_Part4_g0\\AV025_2022-11-08_SparseNoise_Part4_g0_imec1\\AV025_2022-11-08_SparseNoise_Part4_g0_t0.imec1.ap.meta\n"
     ]
    }
   ],
   "source": [
    "# import PinkRig ephys processng tools \n",
    "import glob,sys,json,shutil\n",
    "from pathlib import Path \n",
    "\n",
    "\n",
    "# I really wish I could shorten this line\n",
    "pinkRig_path= glob.glob(r'C:\\Users\\*\\Documents\\Github\\PinkRigs')\n",
    "pinkRig_path = Path(pinkRig_path[0])\n",
    "sys.path.insert(0, (pinkRig_path.__str__()))\n",
    "\n",
    "from Admin.csv_queryExp import queryCSV\n",
    "from run_pyKS import run_pyKS_single_file\n",
    "\n",
    "# recomute should be able to take \n",
    "# err: files that errored \n",
    "\n",
    "to_process = None\n",
    "\n",
    "sessions = queryCSV(subject=['AV025'],expDate='2022-11-08')\n",
    "\n",
    "ephys_paths = sessions.ephysPathProbe0.dropna().to_list() + sessions.ephysPathProbe1.dropna().to_list()\n",
    "\n",
    "for ephys_rec in ephys_paths:\n",
    "        from pykilosort import run, add_default_handler, neuropixel_probe_from_metafile\n",
    "        ephys_path = Path(ephys_rec)        \n",
    "        rec = list(ephys_path.glob('**\\*ap.meta'))[0] \n",
    "        s=run_pyKS_single_file(rec,recompute_errored_sorting = True,resort = False,bin_file_extension ='bin')"
   ]
  },
  {
   "cell_type": "code",
   "execution_count": 12,
   "metadata": {},
   "outputs": [
    {
     "data": {
      "text/plain": [
       "['\\\\\\\\zaru.cortexlab.net\\\\Subjects\\\\AV025\\\\2022-11-08\\\\ephys\\\\AV025_2022-11-08_SparseNoise_Part1_g0\\\\AV025_2022-11-08_SparseNoise_Part1_g0_imec0',\n",
       " '\\\\\\\\zaru.cortexlab.net\\\\Subjects\\\\AV025\\\\2022-11-08\\\\ephys\\\\AV025_2022-11-08_SparseNoise_Part2_g0\\\\AV025_2022-11-08_SparseNoise_Part2_g0_imec0',\n",
       " '\\\\\\\\zaru.cortexlab.net\\\\Subjects\\\\AV025\\\\2022-11-08\\\\ephys\\\\AV025_2022-11-08_SparseNoise_Part3_g0\\\\AV025_2022-11-08_SparseNoise_Part3_g0_imec0',\n",
       " '\\\\\\\\zaru.cortexlab.net\\\\Subjects\\\\AV025\\\\2022-11-08\\\\ephys\\\\AV025_2022-11-08_SparseNoise_Part4_g0\\\\AV025_2022-11-08_SparseNoise_Part4_g0_imec0']"
      ]
     },
     "execution_count": 12,
     "metadata": {},
     "output_type": "execute_result"
    }
   ],
   "source": [
    "sessions.ephysPathProbe0.dropna().to_list()"
   ]
  },
  {
   "cell_type": "code",
   "execution_count": 15,
   "metadata": {},
   "outputs": [],
   "source": [
    "ephys_recs"
   ]
  },
  {
   "cell_type": "code",
   "execution_count": 24,
   "metadata": {},
   "outputs": [
    {
     "data": {
      "text/plain": [
       "['\\\\\\\\zaru.cortexlab.net\\\\Subjects\\\\AV025\\\\2022-11-08\\\\ephys\\\\AV025_2022-11-08_SparseNoise_Part1_g0\\\\AV025_2022-11-08_SparseNoise_Part1_g0_imec0',\n",
       " '\\\\\\\\zaru.cortexlab.net\\\\Subjects\\\\AV025\\\\2022-11-08\\\\ephys\\\\AV025_2022-11-08_SparseNoise_Part2_g0\\\\AV025_2022-11-08_SparseNoise_Part2_g0_imec0',\n",
       " '\\\\\\\\zaru.cortexlab.net\\\\Subjects\\\\AV025\\\\2022-11-08\\\\ephys\\\\AV025_2022-11-08_SparseNoise_Part3_g0\\\\AV025_2022-11-08_SparseNoise_Part3_g0_imec0',\n",
       " '\\\\\\\\zaru.cortexlab.net\\\\Subjects\\\\AV025\\\\2022-11-08\\\\ephys\\\\AV025_2022-11-08_SparseNoise_Part4_g0\\\\AV025_2022-11-08_SparseNoise_Part4_g0_imec0',\n",
       " '\\\\\\\\zaru.cortexlab.net\\\\Subjects\\\\AV025\\\\2022-11-08\\\\ephys\\\\AV025_2022-11-08_SparseNoise_Part1_g0\\\\AV025_2022-11-08_SparseNoise_Part1_g0_imec1',\n",
       " '\\\\\\\\zaru.cortexlab.net\\\\Subjects\\\\AV025\\\\2022-11-08\\\\ephys\\\\AV025_2022-11-08_SparseNoise_Part2_g0\\\\AV025_2022-11-08_SparseNoise_Part2_g0_imec1',\n",
       " '\\\\\\\\zaru.cortexlab.net\\\\Subjects\\\\AV025\\\\2022-11-08\\\\ephys\\\\AV025_2022-11-08_SparseNoise_Part3_g0\\\\AV025_2022-11-08_SparseNoise_Part3_g0_imec1',\n",
       " '\\\\\\\\zaru.cortexlab.net\\\\Subjects\\\\AV025\\\\2022-11-08\\\\ephys\\\\AV025_2022-11-08_SparseNoise_Part4_g0\\\\AV025_2022-11-08_SparseNoise_Part4_g0_imec1']"
      ]
     },
     "execution_count": 24,
     "metadata": {},
     "output_type": "execute_result"
    }
   ],
   "source": []
  },
  {
   "cell_type": "code",
   "execution_count": 23,
   "metadata": {},
   "outputs": [],
   "source": [
    "ephys_recs"
   ]
  },
  {
   "cell_type": "code",
   "execution_count": null,
   "metadata": {},
   "outputs": [],
   "source": []
  }
 ],
 "metadata": {
  "kernelspec": {
   "display_name": "Python 3.9.13 ('pyks2')",
   "language": "python",
   "name": "python3"
  },
  "language_info": {
   "codemirror_mode": {
    "name": "ipython",
    "version": 3
   },
   "file_extension": ".py",
   "mimetype": "text/x-python",
   "name": "python",
   "nbconvert_exporter": "python",
   "pygments_lexer": "ipython3",
   "version": "3.9.13"
  },
  "orig_nbformat": 4,
  "vscode": {
   "interpreter": {
    "hash": "c7f2cc8caa3424054656049bd6509de13514900a823639528084b6d10c1824ca"
   }
  }
 },
 "nbformat": 4,
 "nbformat_minor": 2
}
