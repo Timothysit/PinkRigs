{
 "cells": [
  {
   "cell_type": "code",
   "execution_count": 1,
   "metadata": {},
   "outputs": [
    {
     "name": "stdout",
     "output_type": "stream",
     "text": [
      "converting data to IBL format ...\n"
     ]
    },
    {
     "name": "stderr",
     "output_type": "stream",
     "text": [
      "c:\\Users\\Flora\\anaconda3\\envs\\iblenv\\lib\\site-packages\\phylib\\io\\model.py:1053: RuntimeWarning: invalid value encountered in true_divide\n",
      "  spikes_depths[ispi] = (np.sum(np.transpose(ypos * features) /\n",
      "Extracting waveforms: 100%|██████████| 8411.2224/8411.2224 [00:15<00:00, 547.15it/s]\n",
      "Converting to ALF: 145it [00:54,  2.65it/s]                         \n"
     ]
    }
   ],
   "source": [
    "from main_ephys import preproc_ephys\n",
    "\n",
    "preproc_ephys(func='ibl',subject='FT025',expDate = '2021-07-19',expNum=4)"
   ]
  }
 ],
 "metadata": {
  "kernelspec": {
   "display_name": "Python 3.9.12 ('iblenv')",
   "language": "python",
   "name": "python3"
  },
  "language_info": {
   "codemirror_mode": {
    "name": "ipython",
    "version": 3
   },
   "file_extension": ".py",
   "mimetype": "text/x-python",
   "name": "python",
   "nbconvert_exporter": "python",
   "pygments_lexer": "ipython3",
   "version": "3.9.12"
  },
  "orig_nbformat": 4,
  "vscode": {
   "interpreter": {
    "hash": "8f93d2e22c46842035eaf451471a9368b8ad51fc8a4ba57c37c4e69e32446ecd"
   }
  }
 },
 "nbformat": 4,
 "nbformat_minor": 2
}
