{
 "cells": [
  {
   "cell_type": "code",
   "execution_count": 2,
   "metadata": {},
   "outputs": [
    {
     "name": "stdout",
     "output_type": "stream",
     "text": [
      "converting data to IBL format ...\n"
     ]
    },
    {
     "ename": "KeyboardInterrupt",
     "evalue": "",
     "output_type": "error",
     "traceback": [
      "\u001b[1;31m---------------------------------------------------------------------------\u001b[0m",
      "\u001b[1;31mKeyboardInterrupt\u001b[0m                         Traceback (most recent call last)",
      "\u001b[1;32mc:\\Users\\Flora\\Documents\\Github\\PinkRigs\\Analysis\\kilo\\python_\\manual_ibl_format.ipynb Cell 1\u001b[0m in \u001b[0;36m<cell line: 7>\u001b[1;34m()\u001b[0m\n\u001b[0;32m      <a href='vscode-notebook-cell:/c%3A/Users/Flora/Documents/Github/PinkRigs/Analysis/kilo/python_/manual_ibl_format.ipynb#W0sZmlsZQ%3D%3D?line=3'>4</a>\u001b[0m \u001b[39m# Path to raw ephys data\u001b[39;00m\n\u001b[0;32m      <a href='vscode-notebook-cell:/c%3A/Users/Flora/Documents/Github/PinkRigs/Analysis/kilo/python_/manual_ibl_format.ipynb#W0sZmlsZQ%3D%3D?line=4'>5</a>\u001b[0m ephys_path \u001b[39m=\u001b[39m Path(\u001b[39mr\u001b[39m\u001b[39m'\u001b[39m\u001b[39m\\\\\u001b[39;00m\u001b[39mznas.cortexlab.net\u001b[39m\u001b[39m\\\u001b[39m\u001b[39mSubjects\u001b[39m\u001b[39m\\\u001b[39m\u001b[39mFT009\u001b[39m\u001b[39m\\\u001b[39m\u001b[39m2021-01-20\u001b[39m\u001b[39m\\\u001b[39m\u001b[39mephys\u001b[39m\u001b[39m\\\u001b[39m\u001b[39mFT009_2021-01-20_AV_passive_botrow48_g0\u001b[39m\u001b[39m\\\u001b[39m\u001b[39mFT009_2021-01-20_AV_passive_botrow48_g0_imec0\u001b[39m\u001b[39m'\u001b[39m)\n\u001b[1;32m----> <a href='vscode-notebook-cell:/c%3A/Users/Flora/Documents/Github/PinkRigs/Analysis/kilo/python_/manual_ibl_format.ipynb#W0sZmlsZQ%3D%3D?line=6'>7</a>\u001b[0m ks_to_ibl_format(ephys_path,ks_folder\u001b[39m=\u001b[39;49m\u001b[39m'\u001b[39;49m\u001b[39mkilosort2\u001b[39;49m\u001b[39m'\u001b[39;49m,recompute\u001b[39m=\u001b[39;49m\u001b[39mTrue\u001b[39;49;00m)\n",
      "File \u001b[1;32mc:\\Users\\Flora\\Documents\\Github\\PinkRigs\\Analysis\\kilo\\python_\\convert_to_ibl_format.py:151\u001b[0m, in \u001b[0;36mks_to_ibl_format\u001b[1;34m(ephys_path, ks_folder, recompute)\u001b[0m\n\u001b[0;32m    149\u001b[0m \u001b[39mif\u001b[39;00m \u001b[39mnot\u001b[39;00m (out_path \u001b[39m/\u001b[39m \u001b[39m'\u001b[39m\u001b[39mcluster_matrics.tsv\u001b[39m\u001b[39m'\u001b[39m)\u001b[39m.\u001b[39mis_file() \u001b[39mor\u001b[39;00m recompute:\n\u001b[0;32m    150\u001b[0m     \u001b[39mprint\u001b[39m(\u001b[39m'\u001b[39m\u001b[39mconverting data to IBL format ...\u001b[39m\u001b[39m'\u001b[39m)\n\u001b[1;32m--> 151\u001b[0m     extract_data_PinkRigs(ks_path, ephys_path, out_path,do_raw_files\u001b[39m=\u001b[39;49m\u001b[39mFalse\u001b[39;49;00m) \n\u001b[0;32m    153\u001b[0m \u001b[39mreturn\u001b[39;00m out_path\n",
      "File \u001b[1;32mc:\\Users\\Flora\\Documents\\Github\\PinkRigs\\Analysis\\kilo\\python_\\convert_to_ibl_format.py:124\u001b[0m, in \u001b[0;36mextract_data_PinkRigs\u001b[1;34m(ks_path, ephys_path, out_path, do_raw_files)\u001b[0m\n\u001b[0;32m    123\u001b[0m \u001b[39mdef\u001b[39;00m \u001b[39mextract_data_PinkRigs\u001b[39m(ks_path, ephys_path, out_path,do_raw_files\u001b[39m=\u001b[39m\u001b[39mFalse\u001b[39;00m):\n\u001b[1;32m--> 124\u001b[0m     efiles \u001b[39m=\u001b[39m spikeglx\u001b[39m.\u001b[39;49mglob_ephys_files(ephys_path)\n\u001b[0;32m    126\u001b[0m     \u001b[39mfor\u001b[39;00m efile \u001b[39min\u001b[39;00m efiles:\n\u001b[0;32m    127\u001b[0m         \u001b[39mif\u001b[39;00m efile\u001b[39m.\u001b[39mget(\u001b[39m'\u001b[39m\u001b[39map\u001b[39m\u001b[39m'\u001b[39m) \u001b[39mand\u001b[39;00m efile\u001b[39m.\u001b[39map\u001b[39m.\u001b[39mexists():\n",
      "File \u001b[1;32mc:\\Users\\Flora\\anaconda3\\envs\\iblenv\\lib\\site-packages\\spikeglx.py:705\u001b[0m, in \u001b[0;36mglob_ephys_files\u001b[1;34m(session_path, suffix, ext, recursive, bin_exists)\u001b[0m\n\u001b[0;32m    703\u001b[0m recurse \u001b[39m=\u001b[39m \u001b[39m'\u001b[39m\u001b[39m**/\u001b[39m\u001b[39m'\u001b[39m \u001b[39mif\u001b[39;00m recursive \u001b[39melse\u001b[39;00m \u001b[39m'\u001b[39m\u001b[39m'\u001b[39m\n\u001b[0;32m    704\u001b[0m ephys_files \u001b[39m=\u001b[39m []\n\u001b[1;32m--> 705\u001b[0m \u001b[39mfor\u001b[39;00m raw_ephys_file \u001b[39min\u001b[39;00m Path(session_path)\u001b[39m.\u001b[39mglob(\u001b[39mf\u001b[39m\u001b[39m'\u001b[39m\u001b[39m{\u001b[39;00mrecurse\u001b[39m}\u001b[39;00m\u001b[39m*.ap*\u001b[39m\u001b[39m{\u001b[39;00msuffix\u001b[39m}\u001b[39;00m\u001b[39m'\u001b[39m):\n\u001b[0;32m    706\u001b[0m     raw_ephys_apfile \u001b[39m=\u001b[39m \u001b[39mnext\u001b[39m(raw_ephys_file\u001b[39m.\u001b[39mparent\u001b[39m.\u001b[39mglob(raw_ephys_file\u001b[39m.\u001b[39mstem \u001b[39m+\u001b[39m \u001b[39mf\u001b[39m\u001b[39m'\u001b[39m\u001b[39m.*\u001b[39m\u001b[39m{\u001b[39;00mext\u001b[39m}\u001b[39;00m\u001b[39m'\u001b[39m), \u001b[39mNone\u001b[39;00m)\n\u001b[0;32m    707\u001b[0m     \u001b[39mif\u001b[39;00m \u001b[39mnot\u001b[39;00m raw_ephys_apfile \u001b[39mand\u001b[39;00m bin_exists:\n",
      "File \u001b[1;32mc:\\Users\\Flora\\anaconda3\\envs\\iblenv\\lib\\pathlib.py:1177\u001b[0m, in \u001b[0;36mPath.glob\u001b[1;34m(self, pattern)\u001b[0m\n\u001b[0;32m   1175\u001b[0m     \u001b[39mraise\u001b[39;00m \u001b[39mNotImplementedError\u001b[39;00m(\u001b[39m\"\u001b[39m\u001b[39mNon-relative patterns are unsupported\u001b[39m\u001b[39m\"\u001b[39m)\n\u001b[0;32m   1176\u001b[0m selector \u001b[39m=\u001b[39m _make_selector(\u001b[39mtuple\u001b[39m(pattern_parts), \u001b[39mself\u001b[39m\u001b[39m.\u001b[39m_flavour)\n\u001b[1;32m-> 1177\u001b[0m \u001b[39mfor\u001b[39;00m p \u001b[39min\u001b[39;00m selector\u001b[39m.\u001b[39mselect_from(\u001b[39mself\u001b[39m):\n\u001b[0;32m   1178\u001b[0m     \u001b[39myield\u001b[39;00m p\n",
      "File \u001b[1;32mc:\\Users\\Flora\\anaconda3\\envs\\iblenv\\lib\\pathlib.py:611\u001b[0m, in \u001b[0;36m_RecursiveWildcardSelector._select_from\u001b[1;34m(self, parent_path, is_dir, exists, scandir)\u001b[0m\n\u001b[0;32m    609\u001b[0m successor_select \u001b[39m=\u001b[39m \u001b[39mself\u001b[39m\u001b[39m.\u001b[39msuccessor\u001b[39m.\u001b[39m_select_from\n\u001b[0;32m    610\u001b[0m \u001b[39mfor\u001b[39;00m starting_point \u001b[39min\u001b[39;00m \u001b[39mself\u001b[39m\u001b[39m.\u001b[39m_iterate_directories(parent_path, is_dir, scandir):\n\u001b[1;32m--> 611\u001b[0m     \u001b[39mfor\u001b[39;00m p \u001b[39min\u001b[39;00m successor_select(starting_point, is_dir, exists, scandir):\n\u001b[0;32m    612\u001b[0m         \u001b[39mif\u001b[39;00m p \u001b[39mnot\u001b[39;00m \u001b[39min\u001b[39;00m yielded:\n\u001b[0;32m    613\u001b[0m             \u001b[39myield\u001b[39;00m p\n",
      "File \u001b[1;32mc:\\Users\\Flora\\anaconda3\\envs\\iblenv\\lib\\pathlib.py:558\u001b[0m, in \u001b[0;36m_WildcardSelector._select_from\u001b[1;34m(self, parent_path, is_dir, exists, scandir)\u001b[0m\n\u001b[0;32m    556\u001b[0m \u001b[39mdef\u001b[39;00m \u001b[39m_select_from\u001b[39m(\u001b[39mself\u001b[39m, parent_path, is_dir, exists, scandir):\n\u001b[0;32m    557\u001b[0m     \u001b[39mtry\u001b[39;00m:\n\u001b[1;32m--> 558\u001b[0m         \u001b[39mwith\u001b[39;00m scandir(parent_path) \u001b[39mas\u001b[39;00m scandir_it:\n\u001b[0;32m    559\u001b[0m             entries \u001b[39m=\u001b[39m \u001b[39mlist\u001b[39m(scandir_it)\n\u001b[0;32m    560\u001b[0m         \u001b[39mfor\u001b[39;00m entry \u001b[39min\u001b[39;00m entries:\n",
      "\u001b[1;31mKeyboardInterrupt\u001b[0m: "
     ]
    }
   ],
   "source": [
    "import glob\n",
    "from pathlib import Path\n",
    "from convert_to_ibl_format import ks_to_ibl_format\n",
    "# Path to raw ephys data\n",
    "ephys_path = Path(r'\\\\znas.cortexlab.net\\Subjects\\FT009\\2021-01-20\\ephys\\FT009_2021-01-20_AV_passive_botrow48_g0\\FT009_2021-01-20_AV_passive_botrow48_g0_imec0')\n",
    "     \n",
    "ks_to_ibl_format(ephys_path,ks_folder='kilosort2',recompute=True)"
   ]
  }
 ],
 "metadata": {
  "kernelspec": {
   "display_name": "Python 3.9.12 ('iblenv')",
   "language": "python",
   "name": "python3"
  },
  "language_info": {
   "codemirror_mode": {
    "name": "ipython",
    "version": 3
   },
   "file_extension": ".py",
   "mimetype": "text/x-python",
   "name": "python",
   "nbconvert_exporter": "python",
   "pygments_lexer": "ipython3",
   "version": "3.9.12"
  },
  "orig_nbformat": 4,
  "vscode": {
   "interpreter": {
    "hash": "8f93d2e22c46842035eaf451471a9368b8ad51fc8a4ba57c37c4e69e32446ecd"
   }
  }
 },
 "nbformat": 4,
 "nbformat_minor": 2
}
