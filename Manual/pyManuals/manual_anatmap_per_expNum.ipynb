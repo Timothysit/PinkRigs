{
 "cells": [
  {
   "cell_type": "code",
   "execution_count": 2,
   "metadata": {},
   "outputs": [
    {
     "name": "stdout",
     "output_type": "stream",
     "text": [
      "subject         FT008\n",
      "expDate    2021-01-15\n",
      "expNum              5\n",
      "probe          probe0\n",
      "Name: 0, dtype: object\n",
      "subject         FT008\n",
      "expDate    2021-01-15\n",
      "expNum              5\n",
      "probe          probe1\n",
      "Name: 1, dtype: object\n",
      "subject         FT009\n",
      "expDate    2021-01-20\n",
      "expNum              8\n",
      "probe          probe0\n",
      "Name: 2, dtype: object\n",
      "subject         FT010\n",
      "expDate    2021-03-16\n",
      "expNum              7\n",
      "probe          probe0\n",
      "Name: 3, dtype: object\n",
      "subject         FT010\n",
      "expDate    2021-03-16\n",
      "expNum              7\n",
      "probe          probe1\n",
      "Name: 4, dtype: object\n",
      "subject         FT010\n",
      "expDate    2021-03-16\n",
      "expNum              8\n",
      "probe          probe0\n",
      "Name: 5, dtype: object\n",
      "subject         FT010\n",
      "expDate    2021-03-16\n",
      "expNum              8\n",
      "probe          probe1\n",
      "Name: 6, dtype: object\n",
      "subject         FT022\n",
      "expDate    2021-07-20\n",
      "expNum              1\n",
      "probe          probe0\n",
      "Name: 7, dtype: object\n",
      "subject         FT019\n",
      "expDate    2021-07-07\n",
      "expNum              2\n",
      "probe          probe0\n",
      "Name: 8, dtype: object\n",
      "subject         FT025\n",
      "expDate    2021-07-19\n",
      "expNum              4\n",
      "probe          probe0\n",
      "Name: 9, dtype: object\n",
      "subject         FT027\n",
      "expDate    2021-09-13\n",
      "expNum              1\n",
      "probe          probe0\n",
      "Name: 10, dtype: object\n"
     ]
    }
   ],
   "source": [
    "# some test code to \n",
    "#  assign clusters to anat in the ONE folder \n",
    "#  assign them to atas \n",
    "import sys,glob\n",
    "from pathlib import Path\n",
    "pinkRig_path= glob.glob(r'C:\\Users\\*\\Documents\\Github\\PinkRigs')\n",
    "pinkRig_path = Path(pinkRig_path[0])\n",
    "sys.path.insert(0, (pinkRig_path.__str__()))\n",
    "\n",
    "from Admin.csv_queryExp import load_data\n",
    "\n",
    "\n",
    "from Analysis.pyutils.batch_data import get_data_bunch\n",
    "sets = get_data_bunch(namekey='naive-allen')\n",
    "\n",
    "for _,a in sets.iterrows():\n",
    "    print(a)\n",
    "    r = load_data(\n",
    "        data_name_dict={\n",
    "            'probe0':{'clusters':'all'},\n",
    "            'probe1':{'clusters':'all'}\n",
    "            },\n",
    "        subject = a.subject,\n",
    "        expDate = a.expDate,\n",
    "        expNum = a.expNum\n",
    "        )\n",
    "\n",
    "    from Processing.pyhist.assign_clusters_to_atlas import save_out_cluster_location,get_anatmap_path_same_day\n",
    "\n",
    "    rec = r.iloc[0]\n",
    "    probe = a.probe\n",
    "    if 'mlapdv' not in list(rec[probe].clusters.keys()):\n",
    "        one_path = Path(rec.expFolder)  / 'ONE_preproc' / probe\n",
    "        anatPaths =get_anatmap_path_same_day(one_path)\n",
    "        save_out_cluster_location(one_path,anatmap_paths=anatPaths)"
   ]
  }
 ],
 "metadata": {
  "kernelspec": {
   "display_name": "Python 3.7.11 ('PinkRIgs')",
   "language": "python",
   "name": "python3"
  },
  "language_info": {
   "codemirror_mode": {
    "name": "ipython",
    "version": 3
   },
   "file_extension": ".py",
   "mimetype": "text/x-python",
   "name": "python",
   "nbconvert_exporter": "python",
   "pygments_lexer": "ipython3",
   "version": "3.7.11"
  },
  "orig_nbformat": 4,
  "vscode": {
   "interpreter": {
    "hash": "c9d4b5261469c541c04c65b969001cbb716e47f4fec1a35951cf1e75b56ebbf8"
   }
  }
 },
 "nbformat": 4,
 "nbformat_minor": 2
}
