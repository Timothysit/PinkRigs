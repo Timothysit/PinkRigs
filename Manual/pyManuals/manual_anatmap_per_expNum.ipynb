{
 "cells": [
  {
   "cell_type": "code",
   "execution_count": 2,
   "metadata": {},
   "outputs": [],
   "source": [
    "# some test code to \n",
    "#  assign clusters to anat in the ONE folder \n",
    "#  assign them to atas \n",
    "import sys,glob\n",
    "from pathlib import Path\n",
    "pinkRig_path= glob.glob(r'C:\\Users\\*\\Documents\\Github\\PinkRigs')\n",
    "pinkRig_path = Path(pinkRig_path[0])\n",
    "sys.path.insert(0, (pinkRig_path.__str__()))\n",
    "\n",
    "from Admin.csv_queryExp import load_data\n",
    "\n",
    "r = load_data(\n",
    "    data_name_dict={\n",
    "        'probe0':{'clusters':'channels'},\n",
    "        'probe1':{'clusters':'channels'}\n",
    "        },\n",
    "    subject = 'FT008',\n",
    "    expDate = '2021-01-15',\n",
    "    expNum = 5\n",
    "    )\n",
    "\n",
    "from Processing.pyhist.assign_clusters_to_atlas import save_out_cluster_location,get_anatmap_path_same_day\n",
    "\n",
    "rec = r.iloc[0]\n",
    "probe = 'probe1'\n",
    "\n",
    "one_path = Path(rec.expFolder)  / 'ONE_preproc' / probe\n",
    "anatPaths =get_anatmap_path_same_day(one_path)\n",
    "save_out_cluster_location(one_path,anatmap_paths=anatPaths)"
   ]
  }
 ],
 "metadata": {
  "kernelspec": {
   "display_name": "Python 3.7.11 ('PinkRIgs')",
   "language": "python",
   "name": "python3"
  },
  "language_info": {
   "codemirror_mode": {
    "name": "ipython",
    "version": 3
   },
   "file_extension": ".py",
   "mimetype": "text/x-python",
   "name": "python",
   "nbconvert_exporter": "python",
   "pygments_lexer": "ipython3",
   "version": "3.7.11"
  },
  "orig_nbformat": 4,
  "vscode": {
   "interpreter": {
    "hash": "c9d4b5261469c541c04c65b969001cbb716e47f4fec1a35951cf1e75b56ebbf8"
   }
  }
 },
 "nbformat": 4,
 "nbformat_minor": 2
}
