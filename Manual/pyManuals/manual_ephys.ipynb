{
 "cells": [
  {
   "cell_type": "code",
   "execution_count": 1,
   "metadata": {},
   "outputs": [
    {
     "ename": "ModuleNotFoundError",
     "evalue": "No module named 'pykilosort'",
     "output_type": "error",
     "traceback": [
      "\u001b[1;31m---------------------------------------------------------------------------\u001b[0m",
      "\u001b[1;31mModuleNotFoundError\u001b[0m                       Traceback (most recent call last)",
      "\u001b[1;32mc:\\Users\\Flora\\Documents\\Github\\PinkRigs\\Manual\\pyManuals\\manual_ephys.ipynb Cell 1\u001b[0m in \u001b[0;36m<cell line: 8>\u001b[1;34m()\u001b[0m\n\u001b[0;32m      <a href='vscode-notebook-cell:/c%3A/Users/Flora/Documents/Github/PinkRigs/Manual/pyManuals/manual_ephys.ipynb#W0sZmlsZQ%3D%3D?line=4'>5</a>\u001b[0m sys\u001b[39m.\u001b[39mpath\u001b[39m.\u001b[39minsert(\u001b[39m0\u001b[39m, (pinkRig_path\u001b[39m.\u001b[39m\u001b[39m__str__\u001b[39m()))\n\u001b[0;32m      <a href='vscode-notebook-cell:/c%3A/Users/Flora/Documents/Github/PinkRigs/Manual/pyManuals/manual_ephys.ipynb#W0sZmlsZQ%3D%3D?line=6'>7</a>\u001b[0m \u001b[39mfrom\u001b[39;00m \u001b[39mProcessing\u001b[39;00m\u001b[39m.\u001b[39;00m\u001b[39mpykilo\u001b[39;00m\u001b[39m.\u001b[39;00m\u001b[39mmain_ephys\u001b[39;00m \u001b[39mimport\u001b[39;00m preproc_ephys\n\u001b[1;32m----> <a href='vscode-notebook-cell:/c%3A/Users/Flora/Documents/Github/PinkRigs/Manual/pyManuals/manual_ephys.ipynb#W0sZmlsZQ%3D%3D?line=7'>8</a>\u001b[0m preproc_ephys(func\u001b[39m=\u001b[39;49m\u001b[39m'\u001b[39;49m\u001b[39mkilo\u001b[39;49m\u001b[39m'\u001b[39;49m,subject\u001b[39m=\u001b[39;49m\u001b[39m'\u001b[39;49m\u001b[39mAV024\u001b[39;49m\u001b[39m'\u001b[39;49m, expDate\u001b[39m=\u001b[39;49m\u001b[39m'\u001b[39;49m\u001b[39mall\u001b[39;49m\u001b[39m'\u001b[39;49m,checkIsSortedPyKS\u001b[39m=\u001b[39;49m\u001b[39m'\u001b[39;49m\u001b[39m2\u001b[39;49m\u001b[39m'\u001b[39;49m)\n",
      "File \u001b[1;32m~\\Documents\\Github\\PinkRigs\\Processing\\pykilo\\main_ephys.py:80\u001b[0m, in \u001b[0;36mpreproc_ephys\u001b[1;34m(func, funckwargs, **kwargs)\u001b[0m\n\u001b[0;32m     77\u001b[0m     ks_to_ibl_format(rec,ks_folder\u001b[39m=\u001b[39m\u001b[39m'\u001b[39m\u001b[39mpyKS\u001b[39m\u001b[39m'\u001b[39m,recompute\u001b[39m=\u001b[39m\u001b[39mTrue\u001b[39;00m)\n\u001b[0;32m     79\u001b[0m \u001b[39melif\u001b[39;00m \u001b[39m'\u001b[39m\u001b[39mkilo\u001b[39m\u001b[39m'\u001b[39m \u001b[39min\u001b[39;00m func:\n\u001b[1;32m---> 80\u001b[0m     \u001b[39mfrom\u001b[39;00m \u001b[39mProcessing\u001b[39;00m\u001b[39m.\u001b[39;00m\u001b[39mpykilo\u001b[39;00m\u001b[39m.\u001b[39;00m\u001b[39mrun_pyKS\u001b[39;00m \u001b[39mimport\u001b[39;00m run_pyKS_single_file\n\u001b[0;32m     81\u001b[0m     \u001b[39mif\u001b[39;00m \u001b[39mnot\u001b[39;00m funckwargs:\n\u001b[0;32m     82\u001b[0m         run_pyKS_single_file(compressed_path[\u001b[39m0\u001b[39m],recompute_errored_sorting \u001b[39m=\u001b[39m \u001b[39mTrue\u001b[39;00m,resort \u001b[39m=\u001b[39m \u001b[39mFalse\u001b[39;00m,bin_file_extension \u001b[39m=\u001b[39m\u001b[39m'\u001b[39m\u001b[39mcbin\u001b[39m\u001b[39m'\u001b[39m)\n",
      "File \u001b[1;32m~\\Documents\\Github\\PinkRigs\\Processing\\pykilo\\run_pyKS.py:16\u001b[0m, in \u001b[0;36m<module>\u001b[1;34m\u001b[0m\n\u001b[0;32m     13\u001b[0m \u001b[39mimport\u001b[39;00m \u001b[39msys\u001b[39;00m\u001b[39m,\u001b[39m\u001b[39mshutil\u001b[39;00m\u001b[39m,\u001b[39m\u001b[39mglob\u001b[39;00m\n\u001b[0;32m     15\u001b[0m \u001b[39m# pykilosort \u001b[39;00m\n\u001b[1;32m---> 16\u001b[0m \u001b[39mfrom\u001b[39;00m \u001b[39mpykilosort\u001b[39;00m \u001b[39mimport\u001b[39;00m run, add_default_handler, neuropixel_probe_from_metafile\n\u001b[0;32m     18\u001b[0m \u001b[39m# PinkRig specific helpers \u001b[39;00m\n\u001b[0;32m     19\u001b[0m pinkRig_path\u001b[39m=\u001b[39m glob\u001b[39m.\u001b[39mglob(\u001b[39mr\u001b[39m\u001b[39m'\u001b[39m\u001b[39mC:\u001b[39m\u001b[39m\\\u001b[39m\u001b[39mUsers\u001b[39m\u001b[39m\\\u001b[39m\u001b[39m*\u001b[39m\u001b[39m\\\u001b[39m\u001b[39mDocuments\u001b[39m\u001b[39m\\\u001b[39m\u001b[39mGithub\u001b[39m\u001b[39m\\\u001b[39m\u001b[39mPinkRigs\u001b[39m\u001b[39m'\u001b[39m)\n",
      "\u001b[1;31mModuleNotFoundError\u001b[0m: No module named 'pykilosort'"
     ]
    }
   ],
   "source": [
    "import sys,glob\n",
    "from pathlib import Path\n",
    "pinkRig_path= glob.glob(r'C:\\Users\\*\\Documents\\Github\\PinkRigs')\n",
    "pinkRig_path = Path(pinkRig_path[0])\n",
    "sys.path.insert(0, (pinkRig_path.__str__()))\n",
    "\n",
    "from Processing.pykilo.main_ephys import preproc_ephys\n",
    "preproc_ephys(func='kilo',subject='AV024', expDate='all',checkIsSortedPyKS='2')"
   ]
  }
 ],
 "metadata": {
  "kernelspec": {
   "display_name": "Python 3 (ipykernel)",
   "language": "python",
   "name": "python3"
  },
  "language_info": {
   "codemirror_mode": {
    "name": "ipython",
    "version": 3
   },
   "file_extension": ".py",
   "mimetype": "text/x-python",
   "name": "python",
   "nbconvert_exporter": "python",
   "pygments_lexer": "ipython3",
   "version": "3.9.12"
  },
  "vscode": {
   "interpreter": {
    "hash": "8f93d2e22c46842035eaf451471a9368b8ad51fc8a4ba57c37c4e69e32446ecd"
   }
  }
 },
 "nbformat": 4,
 "nbformat_minor": 2
}
