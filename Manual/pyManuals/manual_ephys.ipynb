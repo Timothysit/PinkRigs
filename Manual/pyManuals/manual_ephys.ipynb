{
 "cells": [
  {
   "cell_type": "code",
   "execution_count": 1,
   "metadata": {},
   "outputs": [
    {
     "name": "stdout",
     "output_type": "stream",
     "text": [
      "[WindowsPath('//zaru.cortexlab.net/Subjects/AV025/2022-11-07/ephys/AV025_2022-11-07_SparseNoise_Part1_g1/AV025_2022-11-07_SparseNoise_Part1_g1_imec0/AV025_2022-11-07_SparseNoise_Part1_g1_t0.imec0.ap.cbin')]\n",
      "compressing ...\n"
     ]
    },
    {
     "name": "stderr",
     "output_type": "stream",
     "text": [
      "Decompressing: 100%|██████████| 211/211 [03:55<00:00,  1.12s/it]\n",
      "INFO:mtscomp:Wrote \\\\zaru.cortexlab.net\\Subjects\\AV025\\2022-11-07\\ephys\\AV025_2022-11-07_SparseNoise_Part1_g1\\AV025_2022-11-07_SparseNoise_Part1_g1_imec0\\AV025_2022-11-07_SparseNoise_Part1_g1_t0.imec0.ap.bin (72.4 GB).\n",
      "Checking: 100%|██████████| 3364/3364 [12:17<00:00,  4.56it/s]\n"
     ]
    },
    {
     "name": "stdout",
     "output_type": "stream",
     "text": [
      "[WindowsPath('//zaru.cortexlab.net/Subjects/AV025/2022-11-07/ephys/AV025_2022-11-07_SparseNoise_Part1_g1/AV025_2022-11-07_SparseNoise_Part1_g1_imec1/AV025_2022-11-07_SparseNoise_Part1_g1_t0.imec1.ap.cbin')]\n",
      "compressing ...\n"
     ]
    },
    {
     "name": "stderr",
     "output_type": "stream",
     "text": [
      "Decompressing: 100%|██████████| 645/645 [12:53<00:00,  1.20s/it]\n",
      "INFO:mtscomp:Wrote \\\\zaru.cortexlab.net\\Subjects\\AV025\\2022-11-07\\ephys\\AV025_2022-11-07_SparseNoise_Part1_g1\\AV025_2022-11-07_SparseNoise_Part1_g1_imec1\\AV025_2022-11-07_SparseNoise_Part1_g1_t0.imec1.ap.bin (221.9 GB).\n",
      "Checking: 100%|██████████| 10314/10314 [35:11<00:00,  4.89it/s] \n"
     ]
    }
   ],
   "source": [
    "import sys,glob\n",
    "from pathlib import Path\n",
    "pinkRig_path= glob.glob(r'C:\\Users\\*\\Documents\\Github\\PinkRigs')\n",
    "pinkRig_path = Path(pinkRig_path[0])\n",
    "sys.path.insert(0, (pinkRig_path.__str__()))\n",
    "\n",
    "from Processing.pykilo.main_ephys import preproc_ephys\n",
    "#funckwargs = {'recompute_errored_sorting':True,'resort': False,'bin_file_extension': 'cbin'}\n",
    "preproc_ephys(func='decompress',subject='AV025', expDate='2022-11-07',expNum=4)"
   ]
  }
 ],
 "metadata": {
  "kernelspec": {
   "display_name": "Python 3 (ipykernel)",
   "language": "python",
   "name": "python3"
  },
  "language_info": {
   "codemirror_mode": {
    "name": "ipython",
    "version": 3
   },
   "file_extension": ".py",
   "mimetype": "text/x-python",
   "name": "python",
   "nbconvert_exporter": "python",
   "pygments_lexer": "ipython3",
   "version": "3.9.13"
  },
  "vscode": {
   "interpreter": {
    "hash": "8f93d2e22c46842035eaf451471a9368b8ad51fc8a4ba57c37c4e69e32446ecd"
   }
  }
 },
 "nbformat": 4,
 "nbformat_minor": 2
}
