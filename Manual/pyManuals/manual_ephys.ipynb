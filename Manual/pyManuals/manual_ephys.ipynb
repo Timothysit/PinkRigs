{
 "cells": [
  {
   "cell_type": "code",
   "execution_count": 2,
   "metadata": {},
   "outputs": [
    {
     "name": "stdout",
     "output_type": "stream",
     "text": [
      "[WindowsPath('//zinu.cortexlab.net/Subjects/EB014/2022-05-11/ephys/EB014_2022-05-11_NatImages_g0/EB014_2022-05-11_NatImages_g0_imec0/EB014_2022-05-11_NatImages_g0_t0.imec0.ap.cbin')]\n"
     ]
    },
    {
     "name": "stderr",
     "output_type": "stream",
     "text": [
      "\u001b[0m20:26:24.827 [I] utils:280            Loaded data with 385 channels, 25595642 samples\u001b[0m\n",
      "\u001b[0m20:26:24.846 [I] utils:592            Starting step whitening_matrix.\u001b[0m\n"
     ]
    },
    {
     "data": {
      "application/vnd.jupyter.widget-view+json": {
       "model_id": "2c60862087ca4c3cb6561db82586c671",
       "version_major": 2,
       "version_minor": 0
      },
      "text/plain": [
       "Computing the whitening matrix:   0%|          | 0/16 [00:00<?, ?it/s]"
      ]
     },
     "metadata": {},
     "output_type": "display_data"
    },
    {
     "name": "stderr",
     "output_type": "stream",
     "text": [
      "\u001b[0m20:26:39.371 [I] preprocess:244       Computed the whitening matrix.\u001b[0m\n",
      "\u001b[0m20:26:39.373 [I] utils:603            Step `whitening_matrix` took 14.53s.\u001b[0m\n",
      "\u001b[0m20:26:39.379 [I] utils:592            Starting step preprocess.\u001b[0m\n",
      "\u001b[0m20:26:39.379 [I] preprocess:403       Loading raw data and applying filters.\u001b[0m\n"
     ]
    },
    {
     "data": {
      "application/vnd.jupyter.widget-view+json": {
       "model_id": "e94e5b0627b1437686fa2106ab310b39",
       "version_major": 2,
       "version_minor": 0
      },
      "text/plain": [
       "Preprocessing:   0%|          | 0/391 [00:00<?, ?it/s]"
      ]
     },
     "metadata": {},
     "output_type": "display_data"
    }
   ],
   "source": [
    "import sys,glob\n",
    "from pathlib import Path\n",
    "pinkRig_path= glob.glob(r'C:\\Users\\*\\Documents\\Github\\PinkRigs')\n",
    "pinkRig_path = Path(pinkRig_path[0])\n",
    "sys.path.insert(0, (pinkRig_path.__str__()))\n",
    "\n",
    "from Processing.pykilo.main_ephys import preproc_ephys\n",
    "funckwargs = {'recompute_errored_sorting':True,'resort': False,'bin_file_extension': 'cbin'}\n",
    "preproc_ephys(func='kilo',subject='EB014', expDate='all',checkIsSortedPyKS='0')"
   ]
  }
 ],
 "metadata": {
  "kernelspec": {
   "display_name": "Python 3 (ipykernel)",
   "language": "python",
   "name": "python3"
  },
  "language_info": {
   "codemirror_mode": {
    "name": "ipython",
    "version": 3
   },
   "file_extension": ".py",
   "mimetype": "text/x-python",
   "name": "python",
   "nbconvert_exporter": "python",
   "pygments_lexer": "ipython3",
   "version": "3.9.12"
  },
  "vscode": {
   "interpreter": {
    "hash": "8f93d2e22c46842035eaf451471a9368b8ad51fc8a4ba57c37c4e69e32446ecd"
   }
  }
 },
 "nbformat": 4,
 "nbformat_minor": 2
}
