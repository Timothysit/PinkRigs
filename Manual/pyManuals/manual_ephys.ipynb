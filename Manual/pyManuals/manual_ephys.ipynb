{
 "cells": [
  {
   "cell_type": "code",
   "execution_count": 14,
   "metadata": {},
   "outputs": [
    {
     "name": "stdout",
     "output_type": "stream",
     "text": [
      "converting data to IBL format ...\n"
     ]
    },
    {
     "name": "stderr",
     "output_type": "stream",
     "text": [
      "c:\\Users\\Flora\\anaconda3\\envs\\iblenv\\lib\\site-packages\\phylib\\io\\model.py:1053: RuntimeWarning: invalid value encountered in true_divide\n",
      "  spikes_depths[ispi] = (np.sum(np.transpose(ypos * features) /\n",
      "Extracting waveforms: 100%|██████████| 385.3066/385.3066 [00:09<00:00, 42.21it/s]\n",
      "Converting to ALF: 145it [00:23,  6.19it/s]                         \n"
     ]
    },
    {
     "name": "stdout",
     "output_type": "stream",
     "text": [
      "converting data to IBL format ...\n"
     ]
    },
    {
     "name": "stderr",
     "output_type": "stream",
     "text": [
      "c:\\Users\\Flora\\anaconda3\\envs\\iblenv\\lib\\site-packages\\phylib\\io\\model.py:1053: RuntimeWarning: invalid value encountered in true_divide\n",
      "  spikes_depths[ispi] = (np.sum(np.transpose(ypos * features) /\n",
      "Extracting waveforms: 100%|██████████| 360.41386666666665/360.41386666666665 [00:09<00:00, 36.17it/s]\n",
      "Converting to ALF: 145it [00:30,  4.82it/s]                         \n"
     ]
    },
    {
     "name": "stdout",
     "output_type": "stream",
     "text": [
      "converting data to IBL format ...\n"
     ]
    },
    {
     "name": "stderr",
     "output_type": "stream",
     "text": [
      "c:\\Users\\Flora\\anaconda3\\envs\\iblenv\\lib\\site-packages\\phylib\\io\\model.py:1053: RuntimeWarning: invalid value encountered in true_divide\n",
      "  spikes_depths[ispi] = (np.sum(np.transpose(ypos * features) /\n",
      "Extracting waveforms: 100%|██████████| 407.17896666666667/407.17896666666667 [00:08<00:00, 48.33it/s]\n",
      "Converting to ALF: 145it [00:15,  9.21it/s]                         \n"
     ]
    },
    {
     "name": "stdout",
     "output_type": "stream",
     "text": [
      "converting data to IBL format ...\n"
     ]
    },
    {
     "name": "stderr",
     "output_type": "stream",
     "text": [
      "c:\\Users\\Flora\\anaconda3\\envs\\iblenv\\lib\\site-packages\\phylib\\io\\model.py:1053: RuntimeWarning: invalid value encountered in true_divide\n",
      "  spikes_depths[ispi] = (np.sum(np.transpose(ypos * features) /\n",
      "Extracting waveforms: 100%|██████████| 350.9406/350.9406 [00:08<00:00, 39.95it/s]\n",
      "Converting to ALF: 145it [00:14,  9.86it/s]                         \n"
     ]
    },
    {
     "name": "stdout",
     "output_type": "stream",
     "text": [
      "converting data to IBL format ...\n"
     ]
    },
    {
     "name": "stderr",
     "output_type": "stream",
     "text": [
      "c:\\Users\\Flora\\anaconda3\\envs\\iblenv\\lib\\site-packages\\phylib\\io\\model.py:1053: RuntimeWarning: invalid value encountered in true_divide\n",
      "  spikes_depths[ispi] = (np.sum(np.transpose(ypos * features) /\n",
      "Extracting waveforms: 100%|██████████| 347.82593333333335/347.82593333333335 [00:11<00:00, 31.23it/s]\n",
      "Converting to ALF: 145it [00:27,  5.36it/s]                         \n"
     ]
    },
    {
     "name": "stdout",
     "output_type": "stream",
     "text": [
      "converting data to IBL format ...\n"
     ]
    },
    {
     "name": "stderr",
     "output_type": "stream",
     "text": [
      "c:\\Users\\Flora\\anaconda3\\envs\\iblenv\\lib\\site-packages\\phylib\\io\\model.py:1053: RuntimeWarning: invalid value encountered in true_divide\n",
      "  spikes_depths[ispi] = (np.sum(np.transpose(ypos * features) /\n",
      "Extracting waveforms: 100%|██████████| 360.4139333333333/360.4139333333333 [00:08<00:00, 42.47it/s]\n",
      "Converting to ALF: 145it [00:15,  9.40it/s]                         \n"
     ]
    },
    {
     "name": "stdout",
     "output_type": "stream",
     "text": [
      "converting data to IBL format ...\n"
     ]
    },
    {
     "name": "stderr",
     "output_type": "stream",
     "text": [
      "c:\\Users\\Flora\\anaconda3\\envs\\iblenv\\lib\\site-packages\\phylib\\io\\model.py:1053: RuntimeWarning: invalid value encountered in true_divide\n",
      "  spikes_depths[ispi] = (np.sum(np.transpose(ypos * features) /\n",
      "Extracting waveforms: 100%|██████████| 407.179/407.179 [00:10<00:00, 39.32it/s]\n",
      "Converting to ALF: 145it [00:22,  6.37it/s]                         \n"
     ]
    },
    {
     "name": "stdout",
     "output_type": "stream",
     "text": [
      "converting data to IBL format ...\n"
     ]
    },
    {
     "name": "stderr",
     "output_type": "stream",
     "text": [
      "c:\\Users\\Flora\\anaconda3\\envs\\iblenv\\lib\\site-packages\\phylib\\io\\model.py:1053: RuntimeWarning: invalid value encountered in true_divide\n",
      "  spikes_depths[ispi] = (np.sum(np.transpose(ypos * features) /\n",
      "Extracting waveforms: 100%|██████████| 350.9408/350.9408 [00:09<00:00, 38.08it/s]\n",
      "Converting to ALF: 145it [00:19,  7.40it/s]                         \n"
     ]
    },
    {
     "name": "stdout",
     "output_type": "stream",
     "text": [
      "converting data to IBL format ...\n"
     ]
    },
    {
     "name": "stderr",
     "output_type": "stream",
     "text": [
      "c:\\Users\\Flora\\anaconda3\\envs\\iblenv\\lib\\site-packages\\phylib\\io\\model.py:1053: RuntimeWarning: invalid value encountered in true_divide\n",
      "  spikes_depths[ispi] = (np.sum(np.transpose(ypos * features) /\n",
      "Extracting waveforms: 100%|██████████| 347.82576666666665/347.82576666666665 [00:08<00:00, 39.04it/s]\n",
      "Converting to ALF: 145it [00:15,  9.16it/s]                         \n"
     ]
    }
   ],
   "source": [
    "from main_ephys import preproc_ephys\n",
    "preproc_ephys(func='ibl',subject='FT010',expDate = '2021-03-17')"
   ]
  }
 ],
 "metadata": {
  "kernelspec": {
   "display_name": "Python 3.9.12 ('iblenv')",
   "language": "python",
   "name": "python3"
  },
  "language_info": {
   "codemirror_mode": {
    "name": "ipython",
    "version": 3
   },
   "file_extension": ".py",
   "mimetype": "text/x-python",
   "name": "python",
   "nbconvert_exporter": "python",
   "pygments_lexer": "ipython3",
   "version": "3.9.12"
  },
  "orig_nbformat": 4,
  "vscode": {
   "interpreter": {
    "hash": "8f93d2e22c46842035eaf451471a9368b8ad51fc8a4ba57c37c4e69e32446ecd"
   }
  }
 },
 "nbformat": 4,
 "nbformat_minor": 2
}
