{
 "cells": [
  {
   "attachments": {},
   "cell_type": "markdown",
   "id": "616eacbe",
   "metadata": {},
   "source": [
    "### Anatomy registration to ephys \n",
    "#### This code is designed to guide you through registering an anatmap and applying those channel locations to the data We assume that by now, you have registered the brain to the atlas, traced the tracks and put them into the correct folder in histology, with the correct name format. \n",
    "\n",
    "#### now, you need to run this code in \"iblenv\". executing the first cell will allow you to call a desired anatmap and will format the data correctly for the IBL gui to use. This formatting takes substantial time. \n"
   ]
  },
  {
   "cell_type": "code",
   "execution_count": 2,
   "id": "0da624da",
   "metadata": {},
   "outputs": [
    {
     "name": "stdout",
     "output_type": "stream",
     "text": [
      "\\\\znas.cortexlab.net\\Subjects\\FT009\\2021-01-20\\ephys\\FT009_2021-01-20_RFmap2_shank0_g0\\FT009_2021-01-20_RFmap2_shank0_g0_imec0\n",
      "searching for an acute recording registration file...\n",
      "success in saving xyz_picks from track.\n",
      "\\\\znas.cortexlab.net\\Subjects\\FT009\\2021-01-20\\ephys\\FT009_2021-01-20_RFmap_shank3_g0\\FT009_2021-01-20_RFmap_shank3_g0_imec0\n",
      "searching for an acute recording registration file...\n",
      "success in saving xyz_picks from track.\n",
      "\\\\znas.cortexlab.net\\Subjects\\FT009\\2021-01-20\\ephys\\FT009_2021-01-20_RFmap_shank1_g0\\FT009_2021-01-20_RFmap_shank1_g0_imec0\n",
      "searching for an acute recording registration file...\n",
      "success in saving xyz_picks from track.\n",
      "\\\\znas.cortexlab.net\\Subjects\\FT009\\2021-01-20\\ephys\\FT009_2021-01-20_RFmap_shank2_g0\\FT009_2021-01-20_RFmap_shank2_g0_imec0\n",
      "searching for an acute recording registration file...\n",
      "success in saving xyz_picks from track.\n"
     ]
    }
   ],
   "source": [
    "# add a func to loop over SC recordings (selected somehow by Flora)\n",
    "import json,glob,sys,datetime\n",
    "import pandas as pd \n",
    "import numpy as np\n",
    "from pathlib import Path\n",
    "pinkRig_path= glob.glob(r'C:\\Users\\*\\Documents\\Github\\PinkRigs')\n",
    "pinkRig_path = Path(pinkRig_path[0])\n",
    "sys.path.insert(0, (pinkRig_path.__str__()))\n",
    "from Processing.pykilo.convert_to_ibl_format import add_anat_to_ibl_format\n",
    "from Admin.csv_queryExp import queryCSV\n",
    "from Processing.pyhist.assign_clusters_to_atlas import call_for_anatmap_recordings,save_out_cluster_location,save_to_common_anatmap\n",
    "#session_list = pd.read_csv(prPath / 'Helpers/sc_selected_recordings.csv')\n",
    "session_list = queryCSV(subject='FT009',expDate='2021-01-20',expDef='sparseNoise',checkSpikes='1')\n",
    "probe = 'probe0'\n",
    "#session_list = call_for_anatmap_recordings(subject='FT008',checkSpikes='1',probe=probe,depth_selection='auto') \n",
    "for _,r in session_list.iterrows():\n",
    "    # read corresponding ephys files \n",
    "    corresponding_ephys_json= list((Path(r.expFolder)).glob('ONE_preproc\\probe*\\_av_rawephys.path*.json'))\n",
    "    for rec_path in corresponding_ephys_json: \n",
    "            # open json to get the actual path\n",
    "            rec = open(rec_path,)\n",
    "            rec = json.load(rec)\n",
    "            rec = Path(rec)\n",
    "            print(rec.parents[2])\n",
    "            s=add_anat_to_ibl_format(rec.parents[2],recompute=False)\n"
   ]
  },
  {
   "attachments": {},
   "cell_type": "markdown",
   "id": "78b99187",
   "metadata": {},
   "source": [
    "### Good job. Now you are ready to use the gui. Print session_list with the below cell and register all your recordings to ephys!\n",
    "#### cheat to gui:\n",
    "###### conda activate iblenv\n",
    "###### cd C:\\Users\\Flora\\Documents\\Github\\int-brain-lab\\iblapps\\atlaselectrophysiology\n",
    "###### python ephys_atlas_gui.py -o True\n",
    "\n",
    "#### tip: if you don't know which ones you have done already, proceed to the next cell and come back."
   ]
  },
  {
   "cell_type": "code",
   "execution_count": 3,
   "id": "c9af77e8",
   "metadata": {},
   "outputs": [
    {
     "data": {
      "text/plain": [
       "'\\\\\\\\znas.cortexlab.net\\\\Subjects\\\\FT009\\\\2021-01-20\\\\ephys\\\\FT009_2021-01-20_RFmap_shank2_g0\\\\FT009_2021-01-20_RFmap_shank2_g0_imec0'"
      ]
     },
     "execution_count": 3,
     "metadata": {},
     "output_type": "execute_result"
    }
   ],
   "source": [
    "session_list.iloc[-1].ephysPathProbe0\n"
   ]
  },
  {
   "attachments": {},
   "cell_type": "markdown",
   "id": "3815ddae",
   "metadata": {},
   "source": [
    "### Done? Was it tedious...? Well, the hard part is over. Now just run the below code, such that we save a rough channel map "
   ]
  },
  {
   "cell_type": "code",
   "execution_count": 6,
   "id": "c5c95550",
   "metadata": {},
   "outputs": [],
   "source": [
    "last_date = np.max(session_list.expDate.values)\n",
    "for _,r in session_list.iterrows():\n",
    "    one_path = Path(r.expFolder)  / 'ONE_preproc' / probe\n",
    "    save_out_cluster_location(one_path) # for the recordings in question\n",
    "    save_to_common_anatmap(one_path,probe,r.shank,r.botrow,last_date)"
   ]
  },
  {
   "attachments": {},
   "cell_type": "markdown",
   "id": "e07d0687",
   "metadata": {},
   "source": [
    "## now we apply the contstructed anatmaps for the rest of the data "
   ]
  },
  {
   "cell_type": "code",
   "execution_count": 7,
   "id": "44d3c60a",
   "metadata": {},
   "outputs": [
    {
     "name": "stdout",
     "output_type": "stream",
     "text": [
      "384/384 clusters could not be assigned.\n",
      "384/384 clusters could not be assigned.\n"
     ]
    }
   ],
   "source": [
    "# get all recordings \n",
    "all_rec_list = queryCSV(subject=r.subject,expDate='postImplant')\n",
    "all_rec_list = all_rec_list.dropna(subset='extractSpikes')\n",
    "all_rec_list = all_rec_list[[rec.extractSpikes[int(probe[-1])*2]=='1' for _,rec in all_rec_list.iterrows()]]\n",
    "# for each recording search for nearest anatmap available \n",
    "anatmap_paths = Path(all_rec_list.iloc[0].expFolder).parents[1]\n",
    "anatmap_paths = anatmap_paths / 'histology/registered_anatmaps'\n",
    "\n",
    "\n",
    "for _,r in all_rec_list.iterrows(): \n",
    "    my_expDate = datetime.datetime.strptime(r.expDate,'%Y-%m-%d')\n",
    "    anatmap_dates = [datetime.datetime.strptime(d.name,'%Y-%m-%d') for d in list(anatmap_paths.iterdir())]\n",
    "    timediffs = [abs(d-my_expDate) for d in anatmap_dates]\n",
    "    selected_anatmap_date = anatmap_dates[np.argmin(timediffs)]\n",
    "    selected_anatmaps = list((anatmap_paths / selected_anatmap_date.strftime('%Y-%m-%d')).glob('*%s*.json' % probe))\n",
    "    one_path = Path(r.expFolder)  / 'ONE_preproc' / probe\n",
    "    save_out_cluster_location(one_path,anatmap_paths=selected_anatmaps)"
   ]
  },
  {
   "cell_type": "code",
   "execution_count": 4,
   "id": "7a305b5b",
   "metadata": {},
   "outputs": [
    {
     "data": {
      "text/plain": [
       "[WindowsPath('//zinu.cortexlab.net/Subjects/AV014/histology/registered_anatmaps/2022-06-08/channel_locations_probe1_shank0_botrow0.json'),\n",
       " WindowsPath('//zinu.cortexlab.net/Subjects/AV014/histology/registered_anatmaps/2022-06-08/channel_locations_probe1_shank0_botrow192.json'),\n",
       " WindowsPath('//zinu.cortexlab.net/Subjects/AV014/histology/registered_anatmaps/2022-06-08/channel_locations_probe1_shank1_botrow0.json'),\n",
       " WindowsPath('//zinu.cortexlab.net/Subjects/AV014/histology/registered_anatmaps/2022-06-08/channel_locations_probe1_shank1_botrow192.json'),\n",
       " WindowsPath('//zinu.cortexlab.net/Subjects/AV014/histology/registered_anatmaps/2022-06-08/channel_locations_probe1_shank2_botrow0.json'),\n",
       " WindowsPath('//zinu.cortexlab.net/Subjects/AV014/histology/registered_anatmaps/2022-06-08/channel_locations_probe1_shank2_botrow192.json'),\n",
       " WindowsPath('//zinu.cortexlab.net/Subjects/AV014/histology/registered_anatmaps/2022-06-08/channel_locations_probe1_shank3_botrow0.json'),\n",
       " WindowsPath('//zinu.cortexlab.net/Subjects/AV014/histology/registered_anatmaps/2022-06-08/channel_locations_probe1_shank3_botrow192.json')]"
      ]
     },
     "execution_count": 4,
     "metadata": {},
     "output_type": "execute_result"
    }
   ],
   "source": [
    "selected_anatmaps\n"
   ]
  },
  {
   "cell_type": "code",
   "execution_count": null,
   "id": "4432cbda",
   "metadata": {},
   "outputs": [],
   "source": []
  }
 ],
 "metadata": {
  "kernelspec": {
   "display_name": "Python 3.9.12 ('iblenv')",
   "language": "python",
   "name": "python3"
  },
  "language_info": {
   "codemirror_mode": {
    "name": "ipython",
    "version": 3
   },
   "file_extension": ".py",
   "mimetype": "text/x-python",
   "name": "python",
   "nbconvert_exporter": "python",
   "pygments_lexer": "ipython3",
   "version": "3.9.12"
  },
  "vscode": {
   "interpreter": {
    "hash": "8f93d2e22c46842035eaf451471a9368b8ad51fc8a4ba57c37c4e69e32446ecd"
   }
  }
 },
 "nbformat": 4,
 "nbformat_minor": 5
}
