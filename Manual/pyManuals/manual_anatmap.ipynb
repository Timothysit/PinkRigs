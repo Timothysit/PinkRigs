{
 "cells": [
  {
   "attachments": {},
   "cell_type": "markdown",
   "id": "616eacbe",
   "metadata": {},
   "source": [
    "### Anatomy registration to ephys \n",
    "#### This code is designed to guide you through registering an anatmap and applying those channel locations to the data We assume that by now, you have registered the brain to the atlas, traced the tracks and put them into the correct folder in histology, with the correct name format. \n",
    "\n",
    "#### now, you need to run this code in \"iblenv\". executing the first cell will allow you to call a desired anatmap and will format the data correctly for the IBL gui to use. This formatting takes substantial time. \n"
   ]
  },
  {
   "cell_type": "code",
   "execution_count": 65,
   "id": "0da624da",
   "metadata": {},
   "outputs": [
    {
     "name": "stdout",
     "output_type": "stream",
     "text": [
      "\\\\zinu.cortexlab.net\\Subjects\\FT022\\2021-07-20\\ephys\\FT022_2021-07-20_full_g0\\FT022_2021-07-20_full_g0_imec0\n",
      "success in saving xyz_picks from track.\n"
     ]
    }
   ],
   "source": [
    "# add a func to loop over SC recordings (selected somehow by Flora)\n",
    "import json,glob,sys,datetime\n",
    "import pandas as pd \n",
    "import numpy as np\n",
    "from pathlib import Path\n",
    "pinkRig_path= glob.glob(r'C:\\Users\\*\\Documents\\Github\\PinkRigs')\n",
    "pinkRig_path = Path(pinkRig_path[0])\n",
    "sys.path.insert(0, (pinkRig_path.__str__()))\n",
    "from Processing.pykilo.convert_to_ibl_format import add_anat_to_ibl_format\n",
    "from Admin.csv_queryExp import queryCSV\n",
    "from Processing.pyhist.assign_clusters_to_atlas import call_for_anatmap_recordings,save_out_cluster_location,save_to_common_anatmap\n",
    "#session_list = pd.read_csv(prPath / 'Helpers/sc_selected_recordings.csv')\n",
    "#session_list = queryCSV(subject='AV008',expDate='2022-03-09',expDef='sparseNoise')\n",
    "probe = 'probe0'\n",
    "session_list = call_for_anatmap_recordings(subject='FT022',expDate='2021-07-20',probe=probe,depth_selection='all') \n",
    "for _,r in session_list.iterrows():\n",
    "    # read corresponding ephys files \n",
    "    corresponding_ephys_json= list((Path(r.expFolder)).glob('ONE_preproc\\probe*\\_av_rawephys.path*.json'))\n",
    "    for rec_path in corresponding_ephys_json: \n",
    "            # open json to get the actual path\n",
    "            rec = open(rec_path,)\n",
    "            rec = json.load(rec)\n",
    "            rec = Path(rec)\n",
    "            print(rec.parents[2])\n",
    "            s=add_anat_to_ibl_format(rec.parents[2],recompute=False)\n"
   ]
  },
  {
   "attachments": {},
   "cell_type": "markdown",
   "id": "78b99187",
   "metadata": {},
   "source": [
    "### Good job. Now you are ready to use the gui. Print session_list with the below cell and register all your recordings to ephys!\n",
    "#### cheat to gui:\n",
    "###### conda activate iblenv\n",
    "###### cd C:\\Users\\Flora\\Documents\\Github\\int-brain-lab\\iblapps\\atlaselectrophysiology\n",
    "###### python ephys_atlas_gui.py -o True\n",
    "\n",
    "#### tip: if you don't know which ones you have done already, proceed to the next cell and come back."
   ]
  },
  {
   "cell_type": "code",
   "execution_count": 66,
   "id": "c9af77e8",
   "metadata": {},
   "outputs": [
    {
     "data": {
      "text/html": [
       "<div>\n",
       "<style scoped>\n",
       "    .dataframe tbody tr th:only-of-type {\n",
       "        vertical-align: middle;\n",
       "    }\n",
       "\n",
       "    .dataframe tbody tr th {\n",
       "        vertical-align: top;\n",
       "    }\n",
       "\n",
       "    .dataframe thead th {\n",
       "        text-align: right;\n",
       "    }\n",
       "</style>\n",
       "<table border=\"1\" class=\"dataframe\">\n",
       "  <thead>\n",
       "    <tr style=\"text-align: right;\">\n",
       "      <th></th>\n",
       "      <th>expDate</th>\n",
       "      <th>expNum</th>\n",
       "      <th>expDef</th>\n",
       "      <th>expDuration</th>\n",
       "      <th>rigName</th>\n",
       "      <th>existBlock</th>\n",
       "      <th>existTimeline</th>\n",
       "      <th>existFrontCam</th>\n",
       "      <th>existSideCam</th>\n",
       "      <th>existEyeCam</th>\n",
       "      <th>...</th>\n",
       "      <th>extractEvents</th>\n",
       "      <th>expFolder</th>\n",
       "      <th>ephysPathProbe0</th>\n",
       "      <th>ephysPathProbe1</th>\n",
       "      <th>Subject</th>\n",
       "      <th>probe0_raw</th>\n",
       "      <th>shank_range</th>\n",
       "      <th>depth_range</th>\n",
       "      <th>shank</th>\n",
       "      <th>botrow</th>\n",
       "    </tr>\n",
       "  </thead>\n",
       "  <tbody>\n",
       "    <tr>\n",
       "      <th>0</th>\n",
       "      <td>2021-07-20</td>\n",
       "      <td>2</td>\n",
       "      <td>AP_sparseNoise</td>\n",
       "      <td>628</td>\n",
       "      <td>zelda-stim3</td>\n",
       "      <td>1</td>\n",
       "      <td>1</td>\n",
       "      <td>1</td>\n",
       "      <td>1</td>\n",
       "      <td>1</td>\n",
       "      <td>...</td>\n",
       "      <td>1</td>\n",
       "      <td>\\\\zinu.cortexlab.net\\Subjects\\FT022\\2021-07-20\\2</td>\n",
       "      <td>\\\\zinu.cortexlab.net\\Subjects\\FT022\\2021-07-20...</td>\n",
       "      <td>NaN</td>\n",
       "      <td>FT022</td>\n",
       "      <td>{'channels': {'localCoordinates': [[43. 20.], ...</td>\n",
       "      <td>(11.0, 59.0)</td>\n",
       "      <td>(20.0, 3840.0)</td>\n",
       "      <td>0</td>\n",
       "      <td>1</td>\n",
       "    </tr>\n",
       "  </tbody>\n",
       "</table>\n",
       "<p>1 rows × 33 columns</p>\n",
       "</div>"
      ],
      "text/plain": [
       "      expDate expNum          expDef expDuration      rigName existBlock  \\\n",
       "0  2021-07-20      2  AP_sparseNoise         628  zelda-stim3          1   \n",
       "\n",
       "  existTimeline existFrontCam existSideCam existEyeCam  ... extractEvents  \\\n",
       "0             1             1            1           1  ...             1   \n",
       "\n",
       "                                          expFolder  \\\n",
       "0  \\\\zinu.cortexlab.net\\Subjects\\FT022\\2021-07-20\\2   \n",
       "\n",
       "                                     ephysPathProbe0 ephysPathProbe1 Subject  \\\n",
       "0  \\\\zinu.cortexlab.net\\Subjects\\FT022\\2021-07-20...             NaN   FT022   \n",
       "\n",
       "                                          probe0_raw   shank_range  \\\n",
       "0  {'channels': {'localCoordinates': [[43. 20.], ...  (11.0, 59.0)   \n",
       "\n",
       "      depth_range shank botrow  \n",
       "0  (20.0, 3840.0)     0      1  \n",
       "\n",
       "[1 rows x 33 columns]"
      ]
     },
     "execution_count": 66,
     "metadata": {},
     "output_type": "execute_result"
    }
   ],
   "source": [
    "session_list\n"
   ]
  },
  {
   "attachments": {},
   "cell_type": "markdown",
   "id": "3815ddae",
   "metadata": {},
   "source": [
    "### Done? Was it tedious...? Well, the hard part is over. Now just run the below code, such that we save a rough channel map "
   ]
  },
  {
   "cell_type": "code",
   "execution_count": 67,
   "id": "c5c95550",
   "metadata": {},
   "outputs": [],
   "source": [
    "last_date = np.max(session_list.expDate.values)\n",
    "for _,r in session_list.iterrows():\n",
    "    one_path = Path(r.expFolder)  / 'ONE_preproc' / probe\n",
    "    save_out_cluster_location(one_path) # for the recordings in question\n",
    "    save_to_common_anatmap(one_path,probe,r.shank,r.botrow,last_date)"
   ]
  },
  {
   "attachments": {},
   "cell_type": "markdown",
   "id": "e07d0687",
   "metadata": {},
   "source": [
    "## now we apply the contstructed anatmaps for the rest of the data "
   ]
  },
  {
   "cell_type": "code",
   "execution_count": 71,
   "id": "44d3c60a",
   "metadata": {},
   "outputs": [],
   "source": [
    "# get all recordings \n",
    "all_rec_list = queryCSV(subject=r.Subject,expDate='postImplant')\n",
    "all_rec_list = all_rec_list.dropna(subset='extractSpikes')\n",
    "all_rec_list = all_rec_list[[rec.extractSpikes[int(probe[-1])*2]=='1' for _,rec in all_rec_list.iterrows()]]\n",
    "# for each recording search for nearest anatmap available \n",
    "anatmap_paths = Path(all_rec_list.iloc[0].expFolder).parents[1]\n",
    "anatmap_paths = anatmap_paths / 'histology/registered_anatmaps'\n",
    "for _,r in all_rec_list.iterrows(): \n",
    "    my_expDate = datetime.datetime.strptime(r.expDate,'%Y-%m-%d')\n",
    "    anatmap_dates = [datetime.datetime.strptime(d.name,'%Y-%m-%d') for d in list(anatmap_paths.iterdir())]\n",
    "    timediffs = [abs(d-my_expDate) for d in anatmap_dates]\n",
    "    selected_anatmap_date = anatmap_dates[np.argmin(timediffs)]\n",
    "    selected_anatmaps = list((anatmap_paths / selected_anatmap_date.strftime('%Y-%m-%d')).glob('*.json'))\n",
    "    one_path = Path(r.expFolder)  / 'ONE_preproc' / probe\n",
    "    save_out_cluster_location(one_path,anatmap_paths=selected_anatmaps)"
   ]
  }
 ],
 "metadata": {
  "kernelspec": {
   "display_name": "Python 3.9.12 ('iblenv')",
   "language": "python",
   "name": "python3"
  },
  "language_info": {
   "codemirror_mode": {
    "name": "ipython",
    "version": 3
   },
   "file_extension": ".py",
   "mimetype": "text/x-python",
   "name": "python",
   "nbconvert_exporter": "python",
   "pygments_lexer": "ipython3",
   "version": "3.9.12"
  },
  "vscode": {
   "interpreter": {
    "hash": "8f93d2e22c46842035eaf451471a9368b8ad51fc8a4ba57c37c4e69e32446ecd"
   }
  }
 },
 "nbformat": 4,
 "nbformat_minor": 5
}
