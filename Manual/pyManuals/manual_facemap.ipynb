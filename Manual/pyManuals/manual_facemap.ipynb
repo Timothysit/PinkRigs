{
 "cells": [
  {
   "cell_type": "code",
   "execution_count": 3,
   "metadata": {},
   "outputs": [
    {
     "ename": "ModuleNotFoundError",
     "evalue": "No module named 'deeplabcut'",
     "output_type": "error",
     "traceback": [
      "\u001b[1;31m---------------------------------------------------------------------------\u001b[0m",
      "\u001b[1;31mModuleNotFoundError\u001b[0m                       Traceback (most recent call last)",
      "\u001b[1;32m~\\AppData\\Local\\Temp\\ipykernel_20816\\1201013777.py\u001b[0m in \u001b[0;36m<module>\u001b[1;34m\u001b[0m\n\u001b[0;32m      4\u001b[0m \u001b[0mpinkRig_path\u001b[0m \u001b[1;33m=\u001b[0m \u001b[0mPath\u001b[0m\u001b[1;33m(\u001b[0m\u001b[0mpinkRig_path\u001b[0m\u001b[1;33m[\u001b[0m\u001b[1;36m0\u001b[0m\u001b[1;33m]\u001b[0m\u001b[1;33m)\u001b[0m\u001b[1;33m\u001b[0m\u001b[1;33m\u001b[0m\u001b[0m\n\u001b[0;32m      5\u001b[0m \u001b[0msys\u001b[0m\u001b[1;33m.\u001b[0m\u001b[0mpath\u001b[0m\u001b[1;33m.\u001b[0m\u001b[0minsert\u001b[0m\u001b[1;33m(\u001b[0m\u001b[1;36m0\u001b[0m\u001b[1;33m,\u001b[0m \u001b[1;33m(\u001b[0m\u001b[0mpinkRig_path\u001b[0m\u001b[1;33m.\u001b[0m\u001b[0m__str__\u001b[0m\u001b[1;33m(\u001b[0m\u001b[1;33m)\u001b[0m\u001b[1;33m)\u001b[0m\u001b[1;33m)\u001b[0m\u001b[1;33m\u001b[0m\u001b[1;33m\u001b[0m\u001b[0m\n\u001b[1;32m----> 6\u001b[1;33m \u001b[1;32mfrom\u001b[0m \u001b[0mProcessing\u001b[0m\u001b[1;33m.\u001b[0m\u001b[0m_facemap\u001b[0m\u001b[1;33m.\u001b[0m\u001b[0mrun_facemap\u001b[0m \u001b[1;32mimport\u001b[0m \u001b[0mbatch_process_facemap\u001b[0m\u001b[1;33m\u001b[0m\u001b[1;33m\u001b[0m\u001b[0m\n\u001b[0m\u001b[0;32m      7\u001b[0m \u001b[1;32mfrom\u001b[0m \u001b[0mAdmin\u001b[0m\u001b[1;33m.\u001b[0m\u001b[0mcsv_queryExp\u001b[0m \u001b[1;32mimport\u001b[0m \u001b[0mqueryCSV\u001b[0m\u001b[1;33m\u001b[0m\u001b[1;33m\u001b[0m\u001b[0m\n\u001b[0;32m      8\u001b[0m \u001b[0msessions\u001b[0m \u001b[1;33m=\u001b[0m \u001b[0mqueryCSV\u001b[0m\u001b[1;33m(\u001b[0m\u001b[0msubject\u001b[0m \u001b[1;33m=\u001b[0m \u001b[1;34m'FT008'\u001b[0m\u001b[1;33m,\u001b[0m\u001b[0mexpDate\u001b[0m \u001b[1;33m=\u001b[0m \u001b[1;34m'2021-01-15'\u001b[0m\u001b[1;33m,\u001b[0m\u001b[0mexpNum\u001b[0m\u001b[1;33m=\u001b[0m\u001b[1;36m5\u001b[0m\u001b[1;33m)\u001b[0m\u001b[1;33m\u001b[0m\u001b[1;33m\u001b[0m\u001b[0m\n",
      "\u001b[1;32m~\\Documents\\Github\\PinkRigs\\Processing\\_facemap\\run_facemap.py\u001b[0m in \u001b[0;36m<module>\u001b[1;34m\u001b[0m\n\u001b[0;32m     37\u001b[0m \u001b[1;33m\u001b[0m\u001b[0m\n\u001b[0;32m     38\u001b[0m \u001b[1;31m# Run deeplabcut to get anchor points to draw ROI\u001b[0m\u001b[1;33m\u001b[0m\u001b[1;33m\u001b[0m\u001b[1;33m\u001b[0m\u001b[0m\n\u001b[1;32m---> 39\u001b[1;33m \u001b[1;32mimport\u001b[0m \u001b[0mdeeplabcut\u001b[0m\u001b[1;33m\u001b[0m\u001b[1;33m\u001b[0m\u001b[0m\n\u001b[0m\u001b[0;32m     40\u001b[0m \u001b[1;32mimport\u001b[0m \u001b[0mtensorflow\u001b[0m \u001b[1;32mas\u001b[0m \u001b[0mtf\u001b[0m\u001b[1;33m\u001b[0m\u001b[1;33m\u001b[0m\u001b[0m\n\u001b[0;32m     41\u001b[0m \u001b[1;33m\u001b[0m\u001b[0m\n",
      "\u001b[1;31mModuleNotFoundError\u001b[0m: No module named 'deeplabcut'"
     ]
    }
   ],
   "source": [
    "import sys,glob\n",
    "from pathlib import Path\n",
    "pinkRig_path= glob.glob(r'C:\\Users\\*\\Documents\\Github\\PinkRigs')\n",
    "pinkRig_path = Path(pinkRig_path[0])\n",
    "sys.path.insert(0, (pinkRig_path.__str__()))\n",
    "from Processing._facemap.run_facemap import batch_process_facemap\n",
    "from Admin.csv_queryExp import queryCSV\n",
    "sessions = queryCSV(subject = 'FT008',expDate = '2021-01-15',expNum=5)\n",
    "batch_process_facemap(sessions=sessions,recompute_ONE=True)"
   ]
  },
  {
   "cell_type": "code",
   "execution_count": 7,
   "metadata": {},
   "outputs": [
    {
     "name": "stdout",
     "output_type": "stream",
     "text": [
      "Backend agg is non-interactive backend. Turning interactive mode off.\n"
     ]
    }
   ],
   "source": [
    "import sys,glob\n",
    "from pathlib import Path\n",
    "pinkRig_path= glob.glob(r'C:\\Users\\*\\Documents\\Github\\PinkRigs')\n",
    "pinkRig_path = Path(pinkRig_path[0])\n",
    "sys.path.insert(0, (pinkRig_path.__str__()))\n",
    "\n",
    "from pathlib import Path\n",
    "from Processing._facemap.run_facemap import convert_facemap_output_to_ONE_format\n",
    "\n",
    "for _,exp in sessions.iterrows():\n",
    "    proc_camdat = list(Path(exp.expFolder).glob('*proc.npy'))\n",
    "    for camproc in proc_camdat: \n",
    "        convert_facemap_output_to_ONE_format(camproc.__str__())"
   ]
  }
 ],
 "metadata": {
  "kernelspec": {
   "display_name": "Python 3.9.12 ('iblenv')",
   "language": "python",
   "name": "python3"
  },
  "language_info": {
   "codemirror_mode": {
    "name": "ipython",
    "version": 3
   },
   "file_extension": ".py",
   "mimetype": "text/x-python",
   "name": "python",
   "nbconvert_exporter": "python",
   "pygments_lexer": "ipython3",
   "version": "3.7.13"
  },
  "orig_nbformat": 4,
  "vscode": {
   "interpreter": {
    "hash": "8f93d2e22c46842035eaf451471a9368b8ad51fc8a4ba57c37c4e69e32446ecd"
   }
  }
 },
 "nbformat": 4,
 "nbformat_minor": 2
}
