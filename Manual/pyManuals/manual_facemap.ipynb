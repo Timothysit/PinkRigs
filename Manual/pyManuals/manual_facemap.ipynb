{
 "cells": [
  {
   "cell_type": "code",
   "execution_count": 1,
   "metadata": {},
   "outputs": [
    {
     "name": "stdout",
     "output_type": "stream",
     "text": [
      "Running batch processing of pink rig videos...\n",
      "Facemap processed, but recomputing ONE because recompute_ONE is set to True\n",
      "Facemap processed, but recomputing ONE because recompute_ONE is set to True\n",
      "Facemap processed, but recomputing ONE because recompute_ONE is set to True\n",
      "Looks like all files are processed or being processed! Taking a break now...\n"
     ]
    }
   ],
   "source": [
    "import sys,glob\n",
    "from pathlib import Path\n",
    "pinkRig_path= glob.glob(r'C:\\Users\\*\\Documents\\Github\\PinkRigs')\n",
    "pinkRig_path = Path(pinkRig_path[0])\n",
    "sys.path.insert(0, (pinkRig_path.__str__()))\n",
    "from Processing._facemap.run_facemap import batch_process_facemap\n",
    "from Admin.csv_queryExp import queryCSV\n",
    "sessions = queryCSV(subject = 'FT022',expDate = '2021-07-20',expNum=1)\n",
    "batch_process_facemap(sessions=sessions,recompute_ONE=True)"
   ]
  },
  {
   "cell_type": "code",
   "execution_count": 7,
   "metadata": {},
   "outputs": [
    {
     "name": "stdout",
     "output_type": "stream",
     "text": [
      "Backend agg is non-interactive backend. Turning interactive mode off.\n"
     ]
    }
   ],
   "source": [
    "import sys,glob\n",
    "from pathlib import Path\n",
    "pinkRig_path= glob.glob(r'C:\\Users\\*\\Documents\\Github\\PinkRigs')\n",
    "pinkRig_path = Path(pinkRig_path[0])\n",
    "sys.path.insert(0, (pinkRig_path.__str__()))\n",
    "\n",
    "from pathlib import Path\n",
    "from Processing._facemap.run_facemap import convert_facemap_output_to_ONE_format\n",
    "\n",
    "for _,exp in sessions.iterrows():\n",
    "    proc_camdat = list(Path(exp.expFolder).glob('*proc.npy'))\n",
    "    for camproc in proc_camdat: \n",
    "        convert_facemap_output_to_ONE_format(camproc.__str__())"
   ]
  }
 ],
 "metadata": {
  "kernelspec": {
   "display_name": "Python 3.9.12 ('iblenv')",
   "language": "python",
   "name": "python3"
  },
  "language_info": {
   "codemirror_mode": {
    "name": "ipython",
    "version": 3
   },
   "file_extension": ".py",
   "mimetype": "text/x-python",
   "name": "python",
   "nbconvert_exporter": "python",
   "pygments_lexer": "ipython3",
   "version": "3.7.13"
  },
  "orig_nbformat": 4,
  "vscode": {
   "interpreter": {
    "hash": "8f93d2e22c46842035eaf451471a9368b8ad51fc8a4ba57c37c4e69e32446ecd"
   }
  }
 },
 "nbformat": 4,
 "nbformat_minor": 2
}
